{
 "cells": [
  {
   "cell_type": "markdown",
   "source": "# Essential Scientific Libraries\n\nโดย ดร. อัญชลิสา แต้ตระกูล <br>\nภาควิชาวิศวกรรมคอมพิวเตอร์ คณะวิศวกรรมศาสตร์ มหาวิทยาลัยเทคโนโลยีพระจอมเกล้าธนบุรี <br>\nE-mail: unchalisa.tae@mail.kmutt.ac.th\n\nTA #1: ธนกฤต คล้ายแก้ว (เอ้)<br>\nTA #2: ธนกฤต ผังวิวัฒน์ (พั้นช์)",
   "metadata": {
    "tags": [],
    "cell_id": "00000-756ea08d-f538-4d11-ae79-561a81b3904e",
    "deepnote_cell_type": "markdown"
   }
  },
  {
   "cell_type": "markdown",
   "source": "# Part II: Data Wrangling with Pandas",
   "metadata": {
    "cell_id": "00001-2160bdb2-df93-430c-83d4-4c055b048712",
    "deepnote_cell_type": "markdown"
   }
  },
  {
   "cell_type": "markdown",
   "source": "### Structured vs Record Arrays",
   "metadata": {
    "cell_id": "00002-6d785430-c6cb-4b0a-94b6-a4270b2d3f05",
    "deepnote_cell_type": "markdown"
   }
  },
  {
   "cell_type": "code",
   "metadata": {
    "cell_id": "00003-a7dedf58-d863-42b9-ba58-eea0512a82fe",
    "deepnote_to_be_reexecuted": false,
    "source_hash": "b7dcc9c8",
    "execution_start": 1631946403279,
    "execution_millis": 2,
    "deepnote_cell_type": "code"
   },
   "source": "import numpy as np\nimport pandas as pd",
   "execution_count": 1,
   "outputs": []
  },
  {
   "cell_type": "code",
   "metadata": {
    "cell_id": "00004-f8006c20-f26a-4b4b-918b-f798f9cffee3",
    "deepnote_to_be_reexecuted": false,
    "source_hash": "ecb4c0b1",
    "execution_start": 1631945192627,
    "execution_millis": 6,
    "output_cleared": false,
    "deepnote_cell_type": "code"
   },
   "source": "# A structured array\nmy_array = np.ones(3, dtype=([('foo',int), ('bar',float)]))\n#print my_array.foo\nprint(my_array['foo'])",
   "outputs": [
    {
     "name": "stdout",
     "text": "[1 1 1]\n",
     "output_type": "stream"
    }
   ],
   "execution_count": null
  },
  {
   "cell_type": "code",
   "metadata": {
    "cell_id": "00005-7631307e-9d26-4fa7-9a05-b16014ea0ae0",
    "deepnote_to_be_reexecuted": false,
    "source_hash": "6aa9da06",
    "execution_start": 1631945194605,
    "execution_millis": 1,
    "output_cleared": false,
    "deepnote_cell_type": "code"
   },
   "source": "my_array2 = my_array.view(np.recarray)\nprint(my_array2.bar)",
   "outputs": [
    {
     "name": "stdout",
     "text": "[1. 1. 1.]\n",
     "output_type": "stream"
    }
   ],
   "execution_count": null
  },
  {
   "cell_type": "markdown",
   "source": "## Pandas Data Structure - Series",
   "metadata": {
    "cell_id": "00006-b37f5d4a-8b8b-4bf2-83a4-36dbdb04cbf3",
    "deepnote_cell_type": "markdown"
   }
  },
  {
   "cell_type": "code",
   "metadata": {
    "cell_id": "00007-23339ad8-9bed-4aa5-b0d0-65d85c6a9914",
    "deepnote_to_be_reexecuted": false,
    "source_hash": "36aca796",
    "execution_start": 1631945198665,
    "execution_millis": 9,
    "output_cleared": false,
    "deepnote_cell_type": "code"
   },
   "source": "s = pd.Series(np.random.randn(5), index = ['a','b','c','d','e'])\nprint(s)",
   "outputs": [
    {
     "name": "stdout",
     "text": "a    0.003541\nb    0.954573\nc   -0.332365\nd   -0.498243\ne    0.139548\ndtype: float64\n",
     "output_type": "stream"
    }
   ],
   "execution_count": null
  },
  {
   "cell_type": "markdown",
   "source": "## Pandas Data Structure - DataFrame",
   "metadata": {
    "cell_id": "00008-e69037b6-e964-42d5-a835-b36b848b52d9",
    "deepnote_cell_type": "markdown"
   }
  },
  {
   "cell_type": "code",
   "metadata": {
    "cell_id": "00009-8d7ef9b1-4942-42ec-8b2e-408b6e5816a7",
    "deepnote_to_be_reexecuted": false,
    "source_hash": "413d828c",
    "execution_start": 1631945201703,
    "execution_millis": 612,
    "output_cleared": false,
    "deepnote_cell_type": "code"
   },
   "source": "d = {'one': [1., 2., 3., 4.], \n     'two': [4., 3., 2., 1.]}\ndf = pd.DataFrame(d)\n\nprint(df)",
   "outputs": [
    {
     "name": "stdout",
     "text": "   one  two\n0  1.0  4.0\n1  2.0  3.0\n2  3.0  2.0\n3  4.0  1.0\n",
     "output_type": "stream"
    }
   ],
   "execution_count": null
  },
  {
   "cell_type": "markdown",
   "source": "### Creating DataFrame \n\n#### from NumPy array",
   "metadata": {
    "cell_id": "00010-f9dd8952-82fe-4f2f-a492-b70d817a3ebe",
    "deepnote_cell_type": "markdown"
   }
  },
  {
   "cell_type": "code",
   "metadata": {
    "cell_id": "00011-b5e9a1a5-e549-4265-bd18-1e9bba1e0b49",
    "deepnote_to_be_reexecuted": false,
    "source_hash": "bc7b2324",
    "execution_start": 1631945205051,
    "execution_millis": 22,
    "output_cleared": false,
    "deepnote_cell_type": "code"
   },
   "source": "data = np.array([['','Col1','Col2'],\n                 ['Row1',1,2],\n                 ['Row2',3,4]])\ndf = pd.DataFrame(data=data[1:,1:],\n                  index=data[1:,0],\n                  columns=data[0,1:])\ndata[1:,1:]\ndata[1:,0]\ndata[0,1:]",
   "outputs": [
    {
     "output_type": "execute_result",
     "execution_count": 6,
     "data": {
      "text/plain": "array(['Col1', 'Col2'], dtype='<U4')"
     },
     "metadata": {}
    }
   ],
   "execution_count": null
  },
  {
   "cell_type": "markdown",
   "source": "#### Creating DataFrame from Dictionary",
   "metadata": {
    "cell_id": "00012-48114f00-1685-4661-a9d0-6401d60afae0",
    "deepnote_cell_type": "markdown"
   }
  },
  {
   "cell_type": "code",
   "metadata": {
    "cell_id": "00013-14d084d4-e030-43cb-a79e-dae3e6af4950",
    "deepnote_to_be_reexecuted": false,
    "source_hash": "d84ee35a",
    "execution_start": 1631945225907,
    "execution_millis": 0,
    "output_cleared": false,
    "deepnote_cell_type": "code"
   },
   "source": "my_dict = {'First': ['1','3'],\n           'Second': ['1','2'],\n           'Third': ['2','4']}\ndf = pd.DataFrame(my_dict)\nprint(df)",
   "outputs": [
    {
     "name": "stdout",
     "text": "  First Second Third\n0     1      1     2\n1     3      2     4\n",
     "output_type": "stream"
    }
   ],
   "execution_count": null
  },
  {
   "cell_type": "markdown",
   "source": "#### Creating DataFrame from files",
   "metadata": {
    "cell_id": "00014-8c8eff54-68b2-4362-8b5a-98a92bc1bd4d",
    "deepnote_cell_type": "markdown"
   }
  },
  {
   "cell_type": "code",
   "metadata": {
    "cell_id": "00015-577d57e6-5182-4da6-b5df-ccb8c543d714",
    "deepnote_to_be_reexecuted": false,
    "source_hash": "4f550935",
    "execution_start": 1631946412466,
    "execution_millis": 29,
    "output_cleared": false,
    "deepnote_cell_type": "code"
   },
   "source": "bankData = pd.read_csv(\"bank-data.csv\",sep=\";\")\nprint(bankData.shape)\nbankData.info()",
   "execution_count": 2,
   "outputs": [
    {
     "name": "stdout",
     "text": "(4521, 17)\n<class 'pandas.core.frame.DataFrame'>\nRangeIndex: 4521 entries, 0 to 4520\nData columns (total 17 columns):\n #   Column     Non-Null Count  Dtype \n---  ------     --------------  ----- \n 0   age        4521 non-null   int64 \n 1   job        4521 non-null   object\n 2   marital    4521 non-null   object\n 3   education  4521 non-null   object\n 4   default    4521 non-null   object\n 5   balance    4521 non-null   int64 \n 6   housing    4521 non-null   object\n 7   loan       4521 non-null   object\n 8   contact    4521 non-null   object\n 9   day        4521 non-null   int64 \n 10  month      4521 non-null   object\n 11  duration   4521 non-null   int64 \n 12  campaign   4521 non-null   int64 \n 13  pdays      4521 non-null   int64 \n 14  previous   4521 non-null   int64 \n 15  poutcome   4521 non-null   object\n 16  y          4521 non-null   object\ndtypes: int64(7), object(10)\nmemory usage: 600.6+ KB\n",
     "output_type": "stream"
    }
   ]
  },
  {
   "cell_type": "markdown",
   "source": "#### Writing DataFrame to files",
   "metadata": {
    "tags": [],
    "cell_id": "00015-3615ce25-63e6-41e5-a236-42024fa28999",
    "deepnote_cell_type": "markdown"
   }
  },
  {
   "cell_type": "code",
   "metadata": {
    "tags": [],
    "cell_id": "00015-00ee4883-0830-4cc8-b3a0-1f3a3733a71d",
    "deepnote_to_be_reexecuted": false,
    "source_hash": "63860adf",
    "execution_start": 1631945289853,
    "execution_millis": 6634,
    "deepnote_cell_type": "code"
   },
   "source": "bankData.to_csv('test.csv')",
   "outputs": [],
   "execution_count": null
  },
  {
   "cell_type": "markdown",
   "source": "### DataFrame dimension",
   "metadata": {
    "cell_id": "00016-f4f1684a-f0b7-4450-ad86-98239efa814d",
    "deepnote_cell_type": "markdown"
   }
  },
  {
   "cell_type": "code",
   "metadata": {
    "cell_id": "00017-709e1322-6535-4dcc-88cf-90fac90d9c0b",
    "output_cleared": false,
    "deepnote_to_be_reexecuted": false,
    "source_hash": "cd0878cf",
    "execution_start": 1631945296491,
    "execution_millis": 1503,
    "deepnote_cell_type": "code"
   },
   "source": "df = pd.DataFrame(np.array([[1, 2, 3], [4, 5, 6]]))\ndf",
   "outputs": [
    {
     "output_type": "execute_result",
     "execution_count": 10,
     "data": {
      "application/vnd.deepnote.dataframe.v2+json": {
       "row_count": 2,
       "column_count": 3,
       "columns": [
        {
         "name": 0,
         "dtype": "int64",
         "stats": {
          "unique_count": 2,
          "nan_count": 0,
          "min": "1",
          "max": "4",
          "histogram": [
           {
            "bin_start": 1,
            "bin_end": 1.3,
            "count": 1
           },
           {
            "bin_start": 1.3,
            "bin_end": 1.6,
            "count": 0
           },
           {
            "bin_start": 1.6,
            "bin_end": 1.9,
            "count": 0
           },
           {
            "bin_start": 1.9,
            "bin_end": 2.2,
            "count": 0
           },
           {
            "bin_start": 2.2,
            "bin_end": 2.5,
            "count": 0
           },
           {
            "bin_start": 2.5,
            "bin_end": 2.8,
            "count": 0
           },
           {
            "bin_start": 2.8,
            "bin_end": 3.1,
            "count": 0
           },
           {
            "bin_start": 3.1,
            "bin_end": 3.4,
            "count": 0
           },
           {
            "bin_start": 3.4,
            "bin_end": 3.6999999999999997,
            "count": 0
           },
           {
            "bin_start": 3.6999999999999997,
            "bin_end": 4,
            "count": 1
           }
          ]
         }
        },
        {
         "name": 1,
         "dtype": "int64",
         "stats": {
          "unique_count": 2,
          "nan_count": 0,
          "min": "2",
          "max": "5",
          "histogram": [
           {
            "bin_start": 2,
            "bin_end": 2.3,
            "count": 1
           },
           {
            "bin_start": 2.3,
            "bin_end": 2.6,
            "count": 0
           },
           {
            "bin_start": 2.6,
            "bin_end": 2.9,
            "count": 0
           },
           {
            "bin_start": 2.9,
            "bin_end": 3.2,
            "count": 0
           },
           {
            "bin_start": 3.2,
            "bin_end": 3.5,
            "count": 0
           },
           {
            "bin_start": 3.5,
            "bin_end": 3.8,
            "count": 0
           },
           {
            "bin_start": 3.8,
            "bin_end": 4.1,
            "count": 0
           },
           {
            "bin_start": 4.1,
            "bin_end": 4.4,
            "count": 0
           },
           {
            "bin_start": 4.4,
            "bin_end": 4.699999999999999,
            "count": 0
           },
           {
            "bin_start": 4.699999999999999,
            "bin_end": 5,
            "count": 1
           }
          ]
         }
        },
        {
         "name": 2,
         "dtype": "int64",
         "stats": {
          "unique_count": 2,
          "nan_count": 0,
          "min": "3",
          "max": "6",
          "histogram": [
           {
            "bin_start": 3,
            "bin_end": 3.3,
            "count": 1
           },
           {
            "bin_start": 3.3,
            "bin_end": 3.6,
            "count": 0
           },
           {
            "bin_start": 3.6,
            "bin_end": 3.9,
            "count": 0
           },
           {
            "bin_start": 3.9,
            "bin_end": 4.2,
            "count": 0
           },
           {
            "bin_start": 4.2,
            "bin_end": 4.5,
            "count": 0
           },
           {
            "bin_start": 4.5,
            "bin_end": 4.8,
            "count": 0
           },
           {
            "bin_start": 4.8,
            "bin_end": 5.1,
            "count": 0
           },
           {
            "bin_start": 5.1,
            "bin_end": 5.4,
            "count": 0
           },
           {
            "bin_start": 5.4,
            "bin_end": 5.699999999999999,
            "count": 0
           },
           {
            "bin_start": 5.699999999999999,
            "bin_end": 6,
            "count": 1
           }
          ]
         }
        },
        {
         "name": "_deepnote_index_column",
         "dtype": "int64"
        }
       ],
       "rows_top": [
        {
         "0": 1,
         "1": 2,
         "2": 3,
         "_deepnote_index_column": 0
        },
        {
         "0": 4,
         "1": 5,
         "2": 6,
         "_deepnote_index_column": 1
        }
       ],
       "rows_bottom": null
      },
      "text/plain": "   0  1  2\n0  1  2  3\n1  4  5  6",
      "text/html": "<div>\n<style scoped>\n    .dataframe tbody tr th:only-of-type {\n        vertical-align: middle;\n    }\n\n    .dataframe tbody tr th {\n        vertical-align: top;\n    }\n\n    .dataframe thead th {\n        text-align: right;\n    }\n</style>\n<table border=\"1\" class=\"dataframe\">\n  <thead>\n    <tr style=\"text-align: right;\">\n      <th></th>\n      <th>0</th>\n      <th>1</th>\n      <th>2</th>\n    </tr>\n  </thead>\n  <tbody>\n    <tr>\n      <th>0</th>\n      <td>1</td>\n      <td>2</td>\n      <td>3</td>\n    </tr>\n    <tr>\n      <th>1</th>\n      <td>4</td>\n      <td>5</td>\n      <td>6</td>\n    </tr>\n  </tbody>\n</table>\n</div>"
     },
     "metadata": {}
    }
   ],
   "execution_count": null
  },
  {
   "cell_type": "code",
   "metadata": {
    "cell_id": "00018-850a712f-8f61-4277-9798-c1f7b2e8f79f",
    "output_cleared": false,
    "deepnote_to_be_reexecuted": false,
    "source_hash": "dc11488c",
    "execution_start": 1631945297980,
    "execution_millis": 0,
    "deepnote_cell_type": "code"
   },
   "source": "# Use the shape property\nprint(df.shape)",
   "outputs": [
    {
     "name": "stdout",
     "text": "(2, 3)\n",
     "output_type": "stream"
    }
   ],
   "execution_count": null
  },
  {
   "cell_type": "code",
   "metadata": {
    "cell_id": "00019-1861d46d-3c50-41d7-8736-fbba4f249885",
    "output_cleared": false,
    "deepnote_to_be_reexecuted": false,
    "source_hash": "2dd964b5",
    "execution_start": 1631945350066,
    "execution_millis": 0,
    "deepnote_cell_type": "code"
   },
   "source": "# or use the len() function with the index property\nprint(len(df.index))",
   "outputs": [
    {
     "name": "stdout",
     "text": "2\n",
     "output_type": "stream"
    }
   ],
   "execution_count": null
  },
  {
   "cell_type": "code",
   "metadata": {
    "cell_id": "00020-1cd25c47-d37f-40d7-a132-a77204871379",
    "output_cleared": false,
    "deepnote_to_be_reexecuted": false,
    "source_hash": "651ad380",
    "execution_start": 1631945353379,
    "execution_millis": 6,
    "deepnote_cell_type": "code"
   },
   "source": "df.index",
   "outputs": [
    {
     "output_type": "execute_result",
     "execution_count": 13,
     "data": {
      "text/plain": "RangeIndex(start=0, stop=2, step=1)"
     },
     "metadata": {}
    }
   ],
   "execution_count": null
  },
  {
   "cell_type": "markdown",
   "source": "### Viewing DataFrame: head()",
   "metadata": {
    "cell_id": "00021-1e609e9d-e9bd-4e00-9c8e-40204a17f153",
    "deepnote_cell_type": "markdown"
   }
  },
  {
   "cell_type": "code",
   "metadata": {
    "cell_id": "00022-b0da09ad-e9a4-4265-9135-8b49279eac09",
    "output_cleared": false,
    "deepnote_to_be_reexecuted": false,
    "source_hash": "de0bc5b7",
    "execution_start": 1631945359482,
    "execution_millis": 21,
    "deepnote_cell_type": "code"
   },
   "source": "bankData.head()",
   "outputs": [
    {
     "output_type": "execute_result",
     "execution_count": 14,
     "data": {
      "application/vnd.deepnote.dataframe.v2+json": {
       "row_count": 5,
       "column_count": 17,
       "columns": [
        {
         "name": "age",
         "dtype": "int64",
         "stats": {
          "unique_count": 4,
          "nan_count": 0,
          "min": "30",
          "max": "59",
          "histogram": [
           {
            "bin_start": 30,
            "bin_end": 32.9,
            "count": 2
           },
           {
            "bin_start": 32.9,
            "bin_end": 35.8,
            "count": 2
           },
           {
            "bin_start": 35.8,
            "bin_end": 38.7,
            "count": 0
           },
           {
            "bin_start": 38.7,
            "bin_end": 41.6,
            "count": 0
           },
           {
            "bin_start": 41.6,
            "bin_end": 44.5,
            "count": 0
           },
           {
            "bin_start": 44.5,
            "bin_end": 47.4,
            "count": 0
           },
           {
            "bin_start": 47.4,
            "bin_end": 50.3,
            "count": 0
           },
           {
            "bin_start": 50.3,
            "bin_end": 53.2,
            "count": 0
           },
           {
            "bin_start": 53.2,
            "bin_end": 56.099999999999994,
            "count": 0
           },
           {
            "bin_start": 56.099999999999994,
            "bin_end": 59,
            "count": 1
           }
          ]
         }
        },
        {
         "name": "job",
         "dtype": "object",
         "stats": {
          "unique_count": 4,
          "nan_count": 0,
          "categories": [
           {
            "name": "management",
            "count": 2
           },
           {
            "name": "unemployed",
            "count": 1
           },
           {
            "name": "2 others",
            "count": 2
           }
          ]
         }
        },
        {
         "name": "marital",
         "dtype": "object",
         "stats": {
          "unique_count": 2,
          "nan_count": 0,
          "categories": [
           {
            "name": "married",
            "count": 4
           },
           {
            "name": "single",
            "count": 1
           }
          ]
         }
        },
        {
         "name": "education",
         "dtype": "object",
         "stats": {
          "unique_count": 3,
          "nan_count": 0,
          "categories": [
           {
            "name": "secondary",
            "count": 2
           },
           {
            "name": "tertiary",
            "count": 2
           },
           {
            "name": "primary",
            "count": 1
           }
          ]
         }
        },
        {
         "name": "default",
         "dtype": "object",
         "stats": {
          "unique_count": 1,
          "nan_count": 0,
          "categories": [
           {
            "name": "no",
            "count": 5
           }
          ]
         }
        },
        {
         "name": "balance",
         "dtype": "int64",
         "stats": {
          "unique_count": 5,
          "nan_count": 0,
          "min": "0",
          "max": "4789",
          "histogram": [
           {
            "bin_start": 0,
            "bin_end": 478.9,
            "count": 1
           },
           {
            "bin_start": 478.9,
            "bin_end": 957.8,
            "count": 0
           },
           {
            "bin_start": 957.8,
            "bin_end": 1436.6999999999998,
            "count": 1
           },
           {
            "bin_start": 1436.6999999999998,
            "bin_end": 1915.6,
            "count": 2
           },
           {
            "bin_start": 1915.6,
            "bin_end": 2394.5,
            "count": 0
           },
           {
            "bin_start": 2394.5,
            "bin_end": 2873.3999999999996,
            "count": 0
           },
           {
            "bin_start": 2873.3999999999996,
            "bin_end": 3352.2999999999997,
            "count": 0
           },
           {
            "bin_start": 3352.2999999999997,
            "bin_end": 3831.2,
            "count": 0
           },
           {
            "bin_start": 3831.2,
            "bin_end": 4310.099999999999,
            "count": 0
           },
           {
            "bin_start": 4310.099999999999,
            "bin_end": 4789,
            "count": 1
           }
          ]
         }
        },
        {
         "name": "housing",
         "dtype": "object",
         "stats": {
          "unique_count": 2,
          "nan_count": 0,
          "categories": [
           {
            "name": "yes",
            "count": 4
           },
           {
            "name": "no",
            "count": 1
           }
          ]
         }
        },
        {
         "name": "loan",
         "dtype": "object",
         "stats": {
          "unique_count": 2,
          "nan_count": 0,
          "categories": [
           {
            "name": "no",
            "count": 3
           },
           {
            "name": "yes",
            "count": 2
           }
          ]
         }
        },
        {
         "name": "contact",
         "dtype": "object",
         "stats": {
          "unique_count": 2,
          "nan_count": 0,
          "categories": [
           {
            "name": "cellular",
            "count": 3
           },
           {
            "name": "unknown",
            "count": 2
           }
          ]
         }
        },
        {
         "name": "day",
         "dtype": "int64",
         "stats": {
          "unique_count": 5,
          "nan_count": 0,
          "min": "3",
          "max": "19",
          "histogram": [
           {
            "bin_start": 3,
            "bin_end": 4.6,
            "count": 1
           },
           {
            "bin_start": 4.6,
            "bin_end": 6.2,
            "count": 1
           },
           {
            "bin_start": 6.2,
            "bin_end": 7.800000000000001,
            "count": 0
           },
           {
            "bin_start": 7.800000000000001,
            "bin_end": 9.4,
            "count": 0
           },
           {
            "bin_start": 9.4,
            "bin_end": 11,
            "count": 0
           },
           {
            "bin_start": 11,
            "bin_end": 12.600000000000001,
            "count": 1
           },
           {
            "bin_start": 12.600000000000001,
            "bin_end": 14.200000000000001,
            "count": 0
           },
           {
            "bin_start": 14.200000000000001,
            "bin_end": 15.8,
            "count": 0
           },
           {
            "bin_start": 15.8,
            "bin_end": 17.4,
            "count": 1
           },
           {
            "bin_start": 17.4,
            "bin_end": 19,
            "count": 1
           }
          ]
         }
        },
        {
         "name": "month",
         "dtype": "object",
         "stats": {
          "unique_count": 4,
          "nan_count": 0,
          "categories": [
           {
            "name": "may",
            "count": 2
           },
           {
            "name": "oct",
            "count": 1
           },
           {
            "name": "2 others",
            "count": 2
           }
          ]
         }
        },
        {
         "name": "duration",
         "dtype": "int64",
         "stats": {
          "unique_count": 5,
          "nan_count": 0,
          "min": "79",
          "max": "226",
          "histogram": [
           {
            "bin_start": 79,
            "bin_end": 93.7,
            "count": 1
           },
           {
            "bin_start": 93.7,
            "bin_end": 108.4,
            "count": 0
           },
           {
            "bin_start": 108.4,
            "bin_end": 123.1,
            "count": 0
           },
           {
            "bin_start": 123.1,
            "bin_end": 137.8,
            "count": 0
           },
           {
            "bin_start": 137.8,
            "bin_end": 152.5,
            "count": 0
           },
           {
            "bin_start": 152.5,
            "bin_end": 167.2,
            "count": 0
           },
           {
            "bin_start": 167.2,
            "bin_end": 181.89999999999998,
            "count": 0
           },
           {
            "bin_start": 181.89999999999998,
            "bin_end": 196.6,
            "count": 1
           },
           {
            "bin_start": 196.6,
            "bin_end": 211.29999999999998,
            "count": 1
           },
           {
            "bin_start": 211.29999999999998,
            "bin_end": 226,
            "count": 2
           }
          ]
         }
        },
        {
         "name": "campaign",
         "dtype": "int64",
         "stats": {
          "unique_count": 2,
          "nan_count": 0,
          "min": "1",
          "max": "4",
          "histogram": [
           {
            "bin_start": 1,
            "bin_end": 1.3,
            "count": 4
           },
           {
            "bin_start": 1.3,
            "bin_end": 1.6,
            "count": 0
           },
           {
            "bin_start": 1.6,
            "bin_end": 1.9,
            "count": 0
           },
           {
            "bin_start": 1.9,
            "bin_end": 2.2,
            "count": 0
           },
           {
            "bin_start": 2.2,
            "bin_end": 2.5,
            "count": 0
           },
           {
            "bin_start": 2.5,
            "bin_end": 2.8,
            "count": 0
           },
           {
            "bin_start": 2.8,
            "bin_end": 3.1,
            "count": 0
           },
           {
            "bin_start": 3.1,
            "bin_end": 3.4,
            "count": 0
           },
           {
            "bin_start": 3.4,
            "bin_end": 3.6999999999999997,
            "count": 0
           },
           {
            "bin_start": 3.6999999999999997,
            "bin_end": 4,
            "count": 1
           }
          ]
         }
        },
        {
         "name": "pdays",
         "dtype": "int64",
         "stats": {
          "unique_count": 3,
          "nan_count": 0,
          "min": "-1",
          "max": "339",
          "histogram": [
           {
            "bin_start": -1,
            "bin_end": 33,
            "count": 3
           },
           {
            "bin_start": 33,
            "bin_end": 67,
            "count": 0
           },
           {
            "bin_start": 67,
            "bin_end": 101,
            "count": 0
           },
           {
            "bin_start": 101,
            "bin_end": 135,
            "count": 0
           },
           {
            "bin_start": 135,
            "bin_end": 169,
            "count": 0
           },
           {
            "bin_start": 169,
            "bin_end": 203,
            "count": 0
           },
           {
            "bin_start": 203,
            "bin_end": 237,
            "count": 0
           },
           {
            "bin_start": 237,
            "bin_end": 271,
            "count": 0
           },
           {
            "bin_start": 271,
            "bin_end": 305,
            "count": 0
           },
           {
            "bin_start": 305,
            "bin_end": 339,
            "count": 2
           }
          ]
         }
        },
        {
         "name": "previous",
         "dtype": "int64",
         "stats": {
          "unique_count": 3,
          "nan_count": 0,
          "min": "0",
          "max": "4",
          "histogram": [
           {
            "bin_start": 0,
            "bin_end": 0.4,
            "count": 3
           },
           {
            "bin_start": 0.4,
            "bin_end": 0.8,
            "count": 0
           },
           {
            "bin_start": 0.8,
            "bin_end": 1.2000000000000002,
            "count": 1
           },
           {
            "bin_start": 1.2000000000000002,
            "bin_end": 1.6,
            "count": 0
           },
           {
            "bin_start": 1.6,
            "bin_end": 2,
            "count": 0
           },
           {
            "bin_start": 2,
            "bin_end": 2.4000000000000004,
            "count": 0
           },
           {
            "bin_start": 2.4000000000000004,
            "bin_end": 2.8000000000000003,
            "count": 0
           },
           {
            "bin_start": 2.8000000000000003,
            "bin_end": 3.2,
            "count": 0
           },
           {
            "bin_start": 3.2,
            "bin_end": 3.6,
            "count": 0
           },
           {
            "bin_start": 3.6,
            "bin_end": 4,
            "count": 1
           }
          ]
         }
        },
        {
         "name": "poutcome",
         "dtype": "object",
         "stats": {
          "unique_count": 2,
          "nan_count": 0,
          "categories": [
           {
            "name": "unknown",
            "count": 3
           },
           {
            "name": "failure",
            "count": 2
           }
          ]
         }
        },
        {
         "name": "y",
         "dtype": "object",
         "stats": {
          "unique_count": 1,
          "nan_count": 0,
          "categories": [
           {
            "name": "no",
            "count": 5
           }
          ]
         }
        },
        {
         "name": "_deepnote_index_column",
         "dtype": "int64"
        }
       ],
       "rows_top": [
        {
         "age": 30,
         "job": "unemployed",
         "marital": "married",
         "education": "primary",
         "default": "no",
         "balance": 1787,
         "housing": "no",
         "loan": "no",
         "contact": "cellular",
         "day": 19,
         "month": "oct",
         "duration": 79,
         "campaign": 1,
         "pdays": -1,
         "previous": 0,
         "poutcome": "unknown",
         "y": "no",
         "_deepnote_index_column": 0
        },
        {
         "age": 33,
         "job": "services",
         "marital": "married",
         "education": "secondary",
         "default": "no",
         "balance": 4789,
         "housing": "yes",
         "loan": "yes",
         "contact": "cellular",
         "day": 11,
         "month": "may",
         "duration": 220,
         "campaign": 1,
         "pdays": 339,
         "previous": 4,
         "poutcome": "failure",
         "y": "no",
         "_deepnote_index_column": 1
        },
        {
         "age": 35,
         "job": "management",
         "marital": "single",
         "education": "tertiary",
         "default": "no",
         "balance": 1350,
         "housing": "yes",
         "loan": "no",
         "contact": "cellular",
         "day": 16,
         "month": "apr",
         "duration": 185,
         "campaign": 1,
         "pdays": 330,
         "previous": 1,
         "poutcome": "failure",
         "y": "no",
         "_deepnote_index_column": 2
        },
        {
         "age": 30,
         "job": "management",
         "marital": "married",
         "education": "tertiary",
         "default": "no",
         "balance": 1476,
         "housing": "yes",
         "loan": "yes",
         "contact": "unknown",
         "day": 3,
         "month": "jun",
         "duration": 199,
         "campaign": 4,
         "pdays": -1,
         "previous": 0,
         "poutcome": "unknown",
         "y": "no",
         "_deepnote_index_column": 3
        },
        {
         "age": 59,
         "job": "blue-collar",
         "marital": "married",
         "education": "secondary",
         "default": "no",
         "balance": 0,
         "housing": "yes",
         "loan": "no",
         "contact": "unknown",
         "day": 5,
         "month": "may",
         "duration": 226,
         "campaign": 1,
         "pdays": -1,
         "previous": 0,
         "poutcome": "unknown",
         "y": "no",
         "_deepnote_index_column": 4
        }
       ],
       "rows_bottom": null
      },
      "text/plain": "   age          job  marital  education default  balance housing loan  \\\n0   30   unemployed  married    primary      no     1787      no   no   \n1   33     services  married  secondary      no     4789     yes  yes   \n2   35   management   single   tertiary      no     1350     yes   no   \n3   30   management  married   tertiary      no     1476     yes  yes   \n4   59  blue-collar  married  secondary      no        0     yes   no   \n\n    contact  day month  duration  campaign  pdays  previous poutcome   y  \n0  cellular   19   oct        79         1     -1         0  unknown  no  \n1  cellular   11   may       220         1    339         4  failure  no  \n2  cellular   16   apr       185         1    330         1  failure  no  \n3   unknown    3   jun       199         4     -1         0  unknown  no  \n4   unknown    5   may       226         1     -1         0  unknown  no  ",
      "text/html": "<div>\n<style scoped>\n    .dataframe tbody tr th:only-of-type {\n        vertical-align: middle;\n    }\n\n    .dataframe tbody tr th {\n        vertical-align: top;\n    }\n\n    .dataframe thead th {\n        text-align: right;\n    }\n</style>\n<table border=\"1\" class=\"dataframe\">\n  <thead>\n    <tr style=\"text-align: right;\">\n      <th></th>\n      <th>age</th>\n      <th>job</th>\n      <th>marital</th>\n      <th>education</th>\n      <th>default</th>\n      <th>balance</th>\n      <th>housing</th>\n      <th>loan</th>\n      <th>contact</th>\n      <th>day</th>\n      <th>month</th>\n      <th>duration</th>\n      <th>campaign</th>\n      <th>pdays</th>\n      <th>previous</th>\n      <th>poutcome</th>\n      <th>y</th>\n    </tr>\n  </thead>\n  <tbody>\n    <tr>\n      <th>0</th>\n      <td>30</td>\n      <td>unemployed</td>\n      <td>married</td>\n      <td>primary</td>\n      <td>no</td>\n      <td>1787</td>\n      <td>no</td>\n      <td>no</td>\n      <td>cellular</td>\n      <td>19</td>\n      <td>oct</td>\n      <td>79</td>\n      <td>1</td>\n      <td>-1</td>\n      <td>0</td>\n      <td>unknown</td>\n      <td>no</td>\n    </tr>\n    <tr>\n      <th>1</th>\n      <td>33</td>\n      <td>services</td>\n      <td>married</td>\n      <td>secondary</td>\n      <td>no</td>\n      <td>4789</td>\n      <td>yes</td>\n      <td>yes</td>\n      <td>cellular</td>\n      <td>11</td>\n      <td>may</td>\n      <td>220</td>\n      <td>1</td>\n      <td>339</td>\n      <td>4</td>\n      <td>failure</td>\n      <td>no</td>\n    </tr>\n    <tr>\n      <th>2</th>\n      <td>35</td>\n      <td>management</td>\n      <td>single</td>\n      <td>tertiary</td>\n      <td>no</td>\n      <td>1350</td>\n      <td>yes</td>\n      <td>no</td>\n      <td>cellular</td>\n      <td>16</td>\n      <td>apr</td>\n      <td>185</td>\n      <td>1</td>\n      <td>330</td>\n      <td>1</td>\n      <td>failure</td>\n      <td>no</td>\n    </tr>\n    <tr>\n      <th>3</th>\n      <td>30</td>\n      <td>management</td>\n      <td>married</td>\n      <td>tertiary</td>\n      <td>no</td>\n      <td>1476</td>\n      <td>yes</td>\n      <td>yes</td>\n      <td>unknown</td>\n      <td>3</td>\n      <td>jun</td>\n      <td>199</td>\n      <td>4</td>\n      <td>-1</td>\n      <td>0</td>\n      <td>unknown</td>\n      <td>no</td>\n    </tr>\n    <tr>\n      <th>4</th>\n      <td>59</td>\n      <td>blue-collar</td>\n      <td>married</td>\n      <td>secondary</td>\n      <td>no</td>\n      <td>0</td>\n      <td>yes</td>\n      <td>no</td>\n      <td>unknown</td>\n      <td>5</td>\n      <td>may</td>\n      <td>226</td>\n      <td>1</td>\n      <td>-1</td>\n      <td>0</td>\n      <td>unknown</td>\n      <td>no</td>\n    </tr>\n  </tbody>\n</table>\n</div>"
     },
     "metadata": {}
    }
   ],
   "execution_count": null
  },
  {
   "cell_type": "markdown",
   "source": "### Viewing DataFrame: tail()",
   "metadata": {
    "cell_id": "00023-7b934eb4-22e1-4672-ba62-3246623104c5",
    "deepnote_cell_type": "markdown"
   }
  },
  {
   "cell_type": "code",
   "metadata": {
    "cell_id": "00024-7f42f128-8b7e-41e6-82ee-1892439e8e3c",
    "deepnote_to_be_reexecuted": false,
    "source_hash": "1a6f47a5",
    "execution_start": 1631371211848,
    "execution_millis": 22,
    "output_cleared": true,
    "deepnote_cell_type": "code"
   },
   "source": "bankData.tail()",
   "execution_count": null,
   "outputs": []
  },
  {
   "cell_type": "markdown",
   "source": "### Viewing DataFrame: columns",
   "metadata": {
    "cell_id": "00025-bc01435e-132e-4cd0-88b9-93b263aae5eb",
    "deepnote_cell_type": "markdown"
   }
  },
  {
   "cell_type": "code",
   "metadata": {
    "cell_id": "00026-f542d365-69b6-410e-8a9e-d1c7498e995a",
    "deepnote_to_be_reexecuted": false,
    "source_hash": "b6398409",
    "execution_start": 1631945364386,
    "execution_millis": 6,
    "output_cleared": false,
    "deepnote_cell_type": "code"
   },
   "source": "bankData.columns",
   "outputs": [
    {
     "output_type": "execute_result",
     "execution_count": 15,
     "data": {
      "text/plain": "Index(['age', 'job', 'marital', 'education', 'default', 'balance', 'housing',\n       'loan', 'contact', 'day', 'month', 'duration', 'campaign', 'pdays',\n       'previous', 'poutcome', 'y'],\n      dtype='object')"
     },
     "metadata": {}
    }
   ],
   "execution_count": null
  },
  {
   "cell_type": "markdown",
   "source": "### Viewing DataFrame: describe()",
   "metadata": {
    "cell_id": "00027-ff2a7510-6c0f-4301-b50b-ef37860eb013",
    "deepnote_cell_type": "markdown"
   }
  },
  {
   "cell_type": "code",
   "metadata": {
    "cell_id": "00028-7e0ab8be-3edd-4a2d-9f38-964b13d73562",
    "deepnote_to_be_reexecuted": false,
    "source_hash": "60b11e57",
    "execution_start": 1631945367648,
    "execution_millis": 20573,
    "output_cleared": false,
    "deepnote_cell_type": "code"
   },
   "source": "bankData.describe()",
   "outputs": [
    {
     "output_type": "execute_result",
     "execution_count": 16,
     "data": {
      "application/vnd.deepnote.dataframe.v2+json": {
       "row_count": 8,
       "column_count": 7,
       "columns": [
        {
         "name": "age",
         "dtype": "float64",
         "stats": {
          "unique_count": 8,
          "nan_count": 0,
          "min": "10.576210958711261",
          "max": "4521.0",
          "histogram": [
           {
            "bin_start": 10.576210958711261,
            "bin_end": 461.61858986284017,
            "count": 7
           },
           {
            "bin_start": 461.61858986284017,
            "bin_end": 912.6609687669691,
            "count": 0
           },
           {
            "bin_start": 912.6609687669691,
            "bin_end": 1363.703347671098,
            "count": 0
           },
           {
            "bin_start": 1363.703347671098,
            "bin_end": 1814.7457265752269,
            "count": 0
           },
           {
            "bin_start": 1814.7457265752269,
            "bin_end": 2265.7881054793556,
            "count": 0
           },
           {
            "bin_start": 2265.7881054793556,
            "bin_end": 2716.830484383485,
            "count": 0
           },
           {
            "bin_start": 2716.830484383485,
            "bin_end": 3167.8728632876137,
            "count": 0
           },
           {
            "bin_start": 3167.8728632876137,
            "bin_end": 3618.9152421917424,
            "count": 0
           },
           {
            "bin_start": 3618.9152421917424,
            "bin_end": 4069.957621095871,
            "count": 0
           },
           {
            "bin_start": 4069.957621095871,
            "bin_end": 4521,
            "count": 1
           }
          ]
         }
        },
        {
         "name": "balance",
         "dtype": "float64",
         "stats": {
          "unique_count": 8,
          "nan_count": 0,
          "min": "-3313.0",
          "max": "71188.0",
          "histogram": [
           {
            "bin_start": -3313,
            "bin_end": 4137.1,
            "count": 6
           },
           {
            "bin_start": 4137.1,
            "bin_end": 11587.2,
            "count": 1
           },
           {
            "bin_start": 11587.2,
            "bin_end": 19037.300000000003,
            "count": 0
           },
           {
            "bin_start": 19037.300000000003,
            "bin_end": 26487.4,
            "count": 0
           },
           {
            "bin_start": 26487.4,
            "bin_end": 33937.5,
            "count": 0
           },
           {
            "bin_start": 33937.5,
            "bin_end": 41387.600000000006,
            "count": 0
           },
           {
            "bin_start": 41387.600000000006,
            "bin_end": 48837.700000000004,
            "count": 0
           },
           {
            "bin_start": 48837.700000000004,
            "bin_end": 56287.8,
            "count": 0
           },
           {
            "bin_start": 56287.8,
            "bin_end": 63737.90000000001,
            "count": 0
           },
           {
            "bin_start": 63737.90000000001,
            "bin_end": 71188,
            "count": 1
           }
          ]
         }
        },
        {
         "name": "day",
         "dtype": "float64",
         "stats": {
          "unique_count": 8,
          "nan_count": 0,
          "min": "1.0",
          "max": "4521.0",
          "histogram": [
           {
            "bin_start": 1,
            "bin_end": 453,
            "count": 7
           },
           {
            "bin_start": 453,
            "bin_end": 905,
            "count": 0
           },
           {
            "bin_start": 905,
            "bin_end": 1357,
            "count": 0
           },
           {
            "bin_start": 1357,
            "bin_end": 1809,
            "count": 0
           },
           {
            "bin_start": 1809,
            "bin_end": 2261,
            "count": 0
           },
           {
            "bin_start": 2261,
            "bin_end": 2713,
            "count": 0
           },
           {
            "bin_start": 2713,
            "bin_end": 3165,
            "count": 0
           },
           {
            "bin_start": 3165,
            "bin_end": 3617,
            "count": 0
           },
           {
            "bin_start": 3617,
            "bin_end": 4069,
            "count": 0
           },
           {
            "bin_start": 4069,
            "bin_end": 4521,
            "count": 1
           }
          ]
         }
        },
        {
         "name": "duration",
         "dtype": "float64",
         "stats": {
          "unique_count": 8,
          "nan_count": 0,
          "min": "4.0",
          "max": "4521.0",
          "histogram": [
           {
            "bin_start": 4,
            "bin_end": 455.7,
            "count": 6
           },
           {
            "bin_start": 455.7,
            "bin_end": 907.4,
            "count": 0
           },
           {
            "bin_start": 907.4,
            "bin_end": 1359.1,
            "count": 0
           },
           {
            "bin_start": 1359.1,
            "bin_end": 1810.8,
            "count": 0
           },
           {
            "bin_start": 1810.8,
            "bin_end": 2262.5,
            "count": 0
           },
           {
            "bin_start": 2262.5,
            "bin_end": 2714.2,
            "count": 0
           },
           {
            "bin_start": 2714.2,
            "bin_end": 3165.9,
            "count": 1
           },
           {
            "bin_start": 3165.9,
            "bin_end": 3617.6,
            "count": 0
           },
           {
            "bin_start": 3617.6,
            "bin_end": 4069.2999999999997,
            "count": 0
           },
           {
            "bin_start": 4069.2999999999997,
            "bin_end": 4521,
            "count": 1
           }
          ]
         }
        },
        {
         "name": "campaign",
         "dtype": "float64",
         "stats": {
          "unique_count": 7,
          "nan_count": 0,
          "min": "1.0",
          "max": "4521.0",
          "histogram": [
           {
            "bin_start": 1,
            "bin_end": 453,
            "count": 7
           },
           {
            "bin_start": 453,
            "bin_end": 905,
            "count": 0
           },
           {
            "bin_start": 905,
            "bin_end": 1357,
            "count": 0
           },
           {
            "bin_start": 1357,
            "bin_end": 1809,
            "count": 0
           },
           {
            "bin_start": 1809,
            "bin_end": 2261,
            "count": 0
           },
           {
            "bin_start": 2261,
            "bin_end": 2713,
            "count": 0
           },
           {
            "bin_start": 2713,
            "bin_end": 3165,
            "count": 0
           },
           {
            "bin_start": 3165,
            "bin_end": 3617,
            "count": 0
           },
           {
            "bin_start": 3617,
            "bin_end": 4069,
            "count": 0
           },
           {
            "bin_start": 4069,
            "bin_end": 4521,
            "count": 1
           }
          ]
         }
        },
        {
         "name": "pdays",
         "dtype": "float64",
         "stats": {
          "unique_count": 5,
          "nan_count": 0,
          "min": "-1.0",
          "max": "4521.0",
          "histogram": [
           {
            "bin_start": -1,
            "bin_end": 451.2,
            "count": 6
           },
           {
            "bin_start": 451.2,
            "bin_end": 903.4,
            "count": 1
           },
           {
            "bin_start": 903.4,
            "bin_end": 1355.6,
            "count": 0
           },
           {
            "bin_start": 1355.6,
            "bin_end": 1807.8,
            "count": 0
           },
           {
            "bin_start": 1807.8,
            "bin_end": 2260,
            "count": 0
           },
           {
            "bin_start": 2260,
            "bin_end": 2712.2,
            "count": 0
           },
           {
            "bin_start": 2712.2,
            "bin_end": 3164.4,
            "count": 0
           },
           {
            "bin_start": 3164.4,
            "bin_end": 3616.6,
            "count": 0
           },
           {
            "bin_start": 3616.6,
            "bin_end": 4068.7999999999997,
            "count": 0
           },
           {
            "bin_start": 4068.7999999999997,
            "bin_end": 4521,
            "count": 1
           }
          ]
         }
        },
        {
         "name": "previous",
         "dtype": "float64",
         "stats": {
          "unique_count": 5,
          "nan_count": 0,
          "min": "0.0",
          "max": "4521.0",
          "histogram": [
           {
            "bin_start": 0,
            "bin_end": 452.1,
            "count": 7
           },
           {
            "bin_start": 452.1,
            "bin_end": 904.2,
            "count": 0
           },
           {
            "bin_start": 904.2,
            "bin_end": 1356.3000000000002,
            "count": 0
           },
           {
            "bin_start": 1356.3000000000002,
            "bin_end": 1808.4,
            "count": 0
           },
           {
            "bin_start": 1808.4,
            "bin_end": 2260.5,
            "count": 0
           },
           {
            "bin_start": 2260.5,
            "bin_end": 2712.6000000000004,
            "count": 0
           },
           {
            "bin_start": 2712.6000000000004,
            "bin_end": 3164.7000000000003,
            "count": 0
           },
           {
            "bin_start": 3164.7000000000003,
            "bin_end": 3616.8,
            "count": 0
           },
           {
            "bin_start": 3616.8,
            "bin_end": 4068.9,
            "count": 0
           },
           {
            "bin_start": 4068.9,
            "bin_end": 4521,
            "count": 1
           }
          ]
         }
        },
        {
         "name": "_deepnote_index_column",
         "dtype": "object"
        }
       ],
       "rows_top": [
        {
         "age": 4521,
         "balance": 4521,
         "day": 4521,
         "duration": 4521,
         "campaign": 4521,
         "pdays": 4521,
         "previous": 4521,
         "_deepnote_index_column": "count"
        },
        {
         "age": 41.17009511170095,
         "balance": 1422.6578190665782,
         "day": 15.915284229152842,
         "duration": 263.96129174961294,
         "campaign": 2.793629727936297,
         "pdays": 39.766644547666445,
         "previous": 0.5425790754257908,
         "_deepnote_index_column": "mean"
        },
        {
         "age": 10.576210958711261,
         "balance": 3009.638142467341,
         "day": 8.24766732722993,
         "duration": 259.85663262468205,
         "campaign": 3.109806660188575,
         "pdays": 100.12112444301664,
         "previous": 1.693562350607123,
         "_deepnote_index_column": "std"
        },
        {
         "age": 19,
         "balance": -3313,
         "day": 1,
         "duration": 4,
         "campaign": 1,
         "pdays": -1,
         "previous": 0,
         "_deepnote_index_column": "min"
        },
        {
         "age": 33,
         "balance": 69,
         "day": 9,
         "duration": 104,
         "campaign": 1,
         "pdays": -1,
         "previous": 0,
         "_deepnote_index_column": "25%"
        },
        {
         "age": 39,
         "balance": 444,
         "day": 16,
         "duration": 185,
         "campaign": 2,
         "pdays": -1,
         "previous": 0,
         "_deepnote_index_column": "50%"
        },
        {
         "age": 49,
         "balance": 1480,
         "day": 21,
         "duration": 329,
         "campaign": 3,
         "pdays": -1,
         "previous": 0,
         "_deepnote_index_column": "75%"
        },
        {
         "age": 87,
         "balance": 71188,
         "day": 31,
         "duration": 3025,
         "campaign": 50,
         "pdays": 871,
         "previous": 25,
         "_deepnote_index_column": "max"
        }
       ],
       "rows_bottom": null
      },
      "text/plain": "               age       balance          day     duration     campaign  \\\ncount  4521.000000   4521.000000  4521.000000  4521.000000  4521.000000   \nmean     41.170095   1422.657819    15.915284   263.961292     2.793630   \nstd      10.576211   3009.638142     8.247667   259.856633     3.109807   \nmin      19.000000  -3313.000000     1.000000     4.000000     1.000000   \n25%      33.000000     69.000000     9.000000   104.000000     1.000000   \n50%      39.000000    444.000000    16.000000   185.000000     2.000000   \n75%      49.000000   1480.000000    21.000000   329.000000     3.000000   \nmax      87.000000  71188.000000    31.000000  3025.000000    50.000000   \n\n             pdays     previous  \ncount  4521.000000  4521.000000  \nmean     39.766645     0.542579  \nstd     100.121124     1.693562  \nmin      -1.000000     0.000000  \n25%      -1.000000     0.000000  \n50%      -1.000000     0.000000  \n75%      -1.000000     0.000000  \nmax     871.000000    25.000000  ",
      "text/html": "<div>\n<style scoped>\n    .dataframe tbody tr th:only-of-type {\n        vertical-align: middle;\n    }\n\n    .dataframe tbody tr th {\n        vertical-align: top;\n    }\n\n    .dataframe thead th {\n        text-align: right;\n    }\n</style>\n<table border=\"1\" class=\"dataframe\">\n  <thead>\n    <tr style=\"text-align: right;\">\n      <th></th>\n      <th>age</th>\n      <th>balance</th>\n      <th>day</th>\n      <th>duration</th>\n      <th>campaign</th>\n      <th>pdays</th>\n      <th>previous</th>\n    </tr>\n  </thead>\n  <tbody>\n    <tr>\n      <th>count</th>\n      <td>4521.000000</td>\n      <td>4521.000000</td>\n      <td>4521.000000</td>\n      <td>4521.000000</td>\n      <td>4521.000000</td>\n      <td>4521.000000</td>\n      <td>4521.000000</td>\n    </tr>\n    <tr>\n      <th>mean</th>\n      <td>41.170095</td>\n      <td>1422.657819</td>\n      <td>15.915284</td>\n      <td>263.961292</td>\n      <td>2.793630</td>\n      <td>39.766645</td>\n      <td>0.542579</td>\n    </tr>\n    <tr>\n      <th>std</th>\n      <td>10.576211</td>\n      <td>3009.638142</td>\n      <td>8.247667</td>\n      <td>259.856633</td>\n      <td>3.109807</td>\n      <td>100.121124</td>\n      <td>1.693562</td>\n    </tr>\n    <tr>\n      <th>min</th>\n      <td>19.000000</td>\n      <td>-3313.000000</td>\n      <td>1.000000</td>\n      <td>4.000000</td>\n      <td>1.000000</td>\n      <td>-1.000000</td>\n      <td>0.000000</td>\n    </tr>\n    <tr>\n      <th>25%</th>\n      <td>33.000000</td>\n      <td>69.000000</td>\n      <td>9.000000</td>\n      <td>104.000000</td>\n      <td>1.000000</td>\n      <td>-1.000000</td>\n      <td>0.000000</td>\n    </tr>\n    <tr>\n      <th>50%</th>\n      <td>39.000000</td>\n      <td>444.000000</td>\n      <td>16.000000</td>\n      <td>185.000000</td>\n      <td>2.000000</td>\n      <td>-1.000000</td>\n      <td>0.000000</td>\n    </tr>\n    <tr>\n      <th>75%</th>\n      <td>49.000000</td>\n      <td>1480.000000</td>\n      <td>21.000000</td>\n      <td>329.000000</td>\n      <td>3.000000</td>\n      <td>-1.000000</td>\n      <td>0.000000</td>\n    </tr>\n    <tr>\n      <th>max</th>\n      <td>87.000000</td>\n      <td>71188.000000</td>\n      <td>31.000000</td>\n      <td>3025.000000</td>\n      <td>50.000000</td>\n      <td>871.000000</td>\n      <td>25.000000</td>\n    </tr>\n  </tbody>\n</table>\n</div>"
     },
     "metadata": {}
    }
   ],
   "execution_count": null
  },
  {
   "cell_type": "markdown",
   "source": "### Sorting data by column name",
   "metadata": {
    "cell_id": "00029-72ebc8c1-6970-44d2-ba6a-e9577fa2f668",
    "deepnote_cell_type": "markdown"
   }
  },
  {
   "cell_type": "code",
   "metadata": {
    "cell_id": "00030-180fa363-0038-46e4-beca-b71355d04669",
    "output_cleared": false,
    "deepnote_to_be_reexecuted": false,
    "source_hash": "f1462c43",
    "execution_start": 1631945437290,
    "execution_millis": 22,
    "deepnote_cell_type": "code"
   },
   "source": "bankData.sort_values(by='age').tail()",
   "outputs": [
    {
     "output_type": "execute_result",
     "execution_count": 17,
     "data": {
      "application/vnd.deepnote.dataframe.v2+json": {
       "row_count": 5,
       "column_count": 17,
       "columns": [
        {
         "name": "age",
         "dtype": "int64",
         "stats": {
          "unique_count": 4,
          "nan_count": 0,
          "min": "83",
          "max": "87",
          "histogram": [
           {
            "bin_start": 83,
            "bin_end": 83.4,
            "count": 2
           },
           {
            "bin_start": 83.4,
            "bin_end": 83.8,
            "count": 0
           },
           {
            "bin_start": 83.8,
            "bin_end": 84.2,
            "count": 1
           },
           {
            "bin_start": 84.2,
            "bin_end": 84.6,
            "count": 0
           },
           {
            "bin_start": 84.6,
            "bin_end": 85,
            "count": 0
           },
           {
            "bin_start": 85,
            "bin_end": 85.4,
            "count": 0
           },
           {
            "bin_start": 85.4,
            "bin_end": 85.8,
            "count": 0
           },
           {
            "bin_start": 85.8,
            "bin_end": 86.2,
            "count": 1
           },
           {
            "bin_start": 86.2,
            "bin_end": 86.6,
            "count": 0
           },
           {
            "bin_start": 86.6,
            "bin_end": 87,
            "count": 1
           }
          ]
         }
        },
        {
         "name": "job",
         "dtype": "object",
         "stats": {
          "unique_count": 1,
          "nan_count": 0,
          "categories": [
           {
            "name": "retired",
            "count": 5
           }
          ]
         }
        },
        {
         "name": "marital",
         "dtype": "object",
         "stats": {
          "unique_count": 2,
          "nan_count": 0,
          "categories": [
           {
            "name": "married",
            "count": 3
           },
           {
            "name": "divorced",
            "count": 2
           }
          ]
         }
        },
        {
         "name": "education",
         "dtype": "object",
         "stats": {
          "unique_count": 2,
          "nan_count": 0,
          "categories": [
           {
            "name": "primary",
            "count": 4
           },
           {
            "name": "secondary",
            "count": 1
           }
          ]
         }
        },
        {
         "name": "default",
         "dtype": "object",
         "stats": {
          "unique_count": 1,
          "nan_count": 0,
          "categories": [
           {
            "name": "no",
            "count": 5
           }
          ]
         }
        },
        {
         "name": "balance",
         "dtype": "int64",
         "stats": {
          "unique_count": 5,
          "nan_count": 0,
          "min": "230",
          "max": "1503",
          "histogram": [
           {
            "bin_start": 230,
            "bin_end": 357.3,
            "count": 1
           },
           {
            "bin_start": 357.3,
            "bin_end": 484.6,
            "count": 1
           },
           {
            "bin_start": 484.6,
            "bin_end": 611.9,
            "count": 0
           },
           {
            "bin_start": 611.9,
            "bin_end": 739.2,
            "count": 1
           },
           {
            "bin_start": 739.2,
            "bin_end": 866.5,
            "count": 0
           },
           {
            "bin_start": 866.5,
            "bin_end": 993.8,
            "count": 0
           },
           {
            "bin_start": 993.8,
            "bin_end": 1121.1,
            "count": 1
           },
           {
            "bin_start": 1121.1,
            "bin_end": 1248.4,
            "count": 0
           },
           {
            "bin_start": 1248.4,
            "bin_end": 1375.7,
            "count": 0
           },
           {
            "bin_start": 1375.7,
            "bin_end": 1503,
            "count": 1
           }
          ]
         }
        },
        {
         "name": "housing",
         "dtype": "object",
         "stats": {
          "unique_count": 1,
          "nan_count": 0,
          "categories": [
           {
            "name": "no",
            "count": 5
           }
          ]
         }
        },
        {
         "name": "loan",
         "dtype": "object",
         "stats": {
          "unique_count": 1,
          "nan_count": 0,
          "categories": [
           {
            "name": "no",
            "count": 5
           }
          ]
         }
        },
        {
         "name": "contact",
         "dtype": "object",
         "stats": {
          "unique_count": 2,
          "nan_count": 0,
          "categories": [
           {
            "name": "telephone",
            "count": 4
           },
           {
            "name": "cellular",
            "count": 1
           }
          ]
         }
        },
        {
         "name": "day",
         "dtype": "int64",
         "stats": {
          "unique_count": 4,
          "nan_count": 0,
          "min": "5",
          "max": "30",
          "histogram": [
           {
            "bin_start": 5,
            "bin_end": 7.5,
            "count": 1
           },
           {
            "bin_start": 7.5,
            "bin_end": 10,
            "count": 0
           },
           {
            "bin_start": 10,
            "bin_end": 12.5,
            "count": 0
           },
           {
            "bin_start": 12.5,
            "bin_end": 15,
            "count": 0
           },
           {
            "bin_start": 15,
            "bin_end": 17.5,
            "count": 0
           },
           {
            "bin_start": 17.5,
            "bin_end": 20,
            "count": 2
           },
           {
            "bin_start": 20,
            "bin_end": 22.5,
            "count": 1
           },
           {
            "bin_start": 22.5,
            "bin_end": 25,
            "count": 0
           },
           {
            "bin_start": 25,
            "bin_end": 27.5,
            "count": 0
           },
           {
            "bin_start": 27.5,
            "bin_end": 30,
            "count": 1
           }
          ]
         }
        },
        {
         "name": "month",
         "dtype": "object",
         "stats": {
          "unique_count": 4,
          "nan_count": 0,
          "categories": [
           {
            "name": "mar",
            "count": 2
           },
           {
            "name": "jun",
            "count": 1
           },
           {
            "name": "2 others",
            "count": 2
           }
          ]
         }
        },
        {
         "name": "duration",
         "dtype": "int64",
         "stats": {
          "unique_count": 5,
          "nan_count": 0,
          "min": "144",
          "max": "883",
          "histogram": [
           {
            "bin_start": 144,
            "bin_end": 217.9,
            "count": 3
           },
           {
            "bin_start": 217.9,
            "bin_end": 291.8,
            "count": 0
           },
           {
            "bin_start": 291.8,
            "bin_end": 365.70000000000005,
            "count": 1
           },
           {
            "bin_start": 365.70000000000005,
            "bin_end": 439.6,
            "count": 0
           },
           {
            "bin_start": 439.6,
            "bin_end": 513.5,
            "count": 0
           },
           {
            "bin_start": 513.5,
            "bin_end": 587.4000000000001,
            "count": 0
           },
           {
            "bin_start": 587.4000000000001,
            "bin_end": 661.3000000000001,
            "count": 0
           },
           {
            "bin_start": 661.3000000000001,
            "bin_end": 735.2,
            "count": 0
           },
           {
            "bin_start": 735.2,
            "bin_end": 809.1,
            "count": 0
           },
           {
            "bin_start": 809.1,
            "bin_end": 883,
            "count": 1
           }
          ]
         }
        },
        {
         "name": "campaign",
         "dtype": "int64",
         "stats": {
          "unique_count": 2,
          "nan_count": 0,
          "min": "1",
          "max": "3",
          "histogram": [
           {
            "bin_start": 1,
            "bin_end": 1.2,
            "count": 3
           },
           {
            "bin_start": 1.2,
            "bin_end": 1.4,
            "count": 0
           },
           {
            "bin_start": 1.4,
            "bin_end": 1.6,
            "count": 0
           },
           {
            "bin_start": 1.6,
            "bin_end": 1.8,
            "count": 0
           },
           {
            "bin_start": 1.8,
            "bin_end": 2,
            "count": 0
           },
           {
            "bin_start": 2,
            "bin_end": 2.2,
            "count": 0
           },
           {
            "bin_start": 2.2,
            "bin_end": 2.4000000000000004,
            "count": 0
           },
           {
            "bin_start": 2.4000000000000004,
            "bin_end": 2.6,
            "count": 0
           },
           {
            "bin_start": 2.6,
            "bin_end": 2.8,
            "count": 0
           },
           {
            "bin_start": 2.8,
            "bin_end": 3,
            "count": 2
           }
          ]
         }
        },
        {
         "name": "pdays",
         "dtype": "int64",
         "stats": {
          "unique_count": 3,
          "nan_count": 0,
          "min": "-1",
          "max": "140",
          "histogram": [
           {
            "bin_start": -1,
            "bin_end": 13.1,
            "count": 3
           },
           {
            "bin_start": 13.1,
            "bin_end": 27.2,
            "count": 0
           },
           {
            "bin_start": 27.2,
            "bin_end": 41.3,
            "count": 0
           },
           {
            "bin_start": 41.3,
            "bin_end": 55.4,
            "count": 0
           },
           {
            "bin_start": 55.4,
            "bin_end": 69.5,
            "count": 0
           },
           {
            "bin_start": 69.5,
            "bin_end": 83.6,
            "count": 0
           },
           {
            "bin_start": 83.6,
            "bin_end": 97.7,
            "count": 0
           },
           {
            "bin_start": 97.7,
            "bin_end": 111.8,
            "count": 1
           },
           {
            "bin_start": 111.8,
            "bin_end": 125.89999999999999,
            "count": 0
           },
           {
            "bin_start": 125.89999999999999,
            "bin_end": 140,
            "count": 1
           }
          ]
         }
        },
        {
         "name": "previous",
         "dtype": "int64",
         "stats": {
          "unique_count": 2,
          "nan_count": 0,
          "min": "0",
          "max": "1",
          "histogram": [
           {
            "bin_start": 0,
            "bin_end": 0.1,
            "count": 3
           },
           {
            "bin_start": 0.1,
            "bin_end": 0.2,
            "count": 0
           },
           {
            "bin_start": 0.2,
            "bin_end": 0.30000000000000004,
            "count": 0
           },
           {
            "bin_start": 0.30000000000000004,
            "bin_end": 0.4,
            "count": 0
           },
           {
            "bin_start": 0.4,
            "bin_end": 0.5,
            "count": 0
           },
           {
            "bin_start": 0.5,
            "bin_end": 0.6000000000000001,
            "count": 0
           },
           {
            "bin_start": 0.6000000000000001,
            "bin_end": 0.7000000000000001,
            "count": 0
           },
           {
            "bin_start": 0.7000000000000001,
            "bin_end": 0.8,
            "count": 0
           },
           {
            "bin_start": 0.8,
            "bin_end": 0.9,
            "count": 0
           },
           {
            "bin_start": 0.9,
            "bin_end": 1,
            "count": 2
           }
          ]
         }
        },
        {
         "name": "poutcome",
         "dtype": "object",
         "stats": {
          "unique_count": 3,
          "nan_count": 0,
          "categories": [
           {
            "name": "unknown",
            "count": 3
           },
           {
            "name": "failure",
            "count": 1
           },
           {
            "name": "other",
            "count": 1
           }
          ]
         }
        },
        {
         "name": "y",
         "dtype": "object",
         "stats": {
          "unique_count": 2,
          "nan_count": 0,
          "categories": [
           {
            "name": "yes",
            "count": 4
           },
           {
            "name": "no",
            "count": 1
           }
          ]
         }
        },
        {
         "name": "_deepnote_index_column",
         "dtype": "int64"
        }
       ],
       "rows_top": [
        {
         "age": 83,
         "job": "retired",
         "marital": "married",
         "education": "primary",
         "default": "no",
         "balance": 425,
         "housing": "no",
         "loan": "no",
         "contact": "telephone",
         "day": 22,
         "month": "jun",
         "duration": 883,
         "campaign": 1,
         "pdays": 140,
         "previous": 1,
         "poutcome": "failure",
         "y": "yes",
         "_deepnote_index_column": 1349
        },
        {
         "age": 83,
         "job": "retired",
         "marital": "divorced",
         "education": "primary",
         "default": "no",
         "balance": 1097,
         "housing": "no",
         "loan": "no",
         "contact": "telephone",
         "day": 5,
         "month": "mar",
         "duration": 181,
         "campaign": 1,
         "pdays": -1,
         "previous": 0,
         "poutcome": "unknown",
         "y": "yes",
         "_deepnote_index_column": 4388
        },
        {
         "age": 84,
         "job": "retired",
         "marital": "divorced",
         "education": "primary",
         "default": "no",
         "balance": 639,
         "housing": "no",
         "loan": "no",
         "contact": "telephone",
         "day": 18,
         "month": "may",
         "duration": 353,
         "campaign": 3,
         "pdays": -1,
         "previous": 0,
         "poutcome": "unknown",
         "y": "yes",
         "_deepnote_index_column": 4108
        },
        {
         "age": 86,
         "job": "retired",
         "marital": "married",
         "education": "secondary",
         "default": "no",
         "balance": 1503,
         "housing": "no",
         "loan": "no",
         "contact": "telephone",
         "day": 18,
         "month": "mar",
         "duration": 165,
         "campaign": 3,
         "pdays": 101,
         "previous": 1,
         "poutcome": "other",
         "y": "no",
         "_deepnote_index_column": 1866
        },
        {
         "age": 87,
         "job": "retired",
         "marital": "married",
         "education": "primary",
         "default": "no",
         "balance": 230,
         "housing": "no",
         "loan": "no",
         "contact": "cellular",
         "day": 30,
         "month": "oct",
         "duration": 144,
         "campaign": 1,
         "pdays": -1,
         "previous": 0,
         "poutcome": "unknown",
         "y": "yes",
         "_deepnote_index_column": 3311
        }
       ],
       "rows_bottom": null
      },
      "text/plain": "      age      job   marital  education default  balance housing loan  \\\n1349   83  retired   married    primary      no      425      no   no   \n4388   83  retired  divorced    primary      no     1097      no   no   \n4108   84  retired  divorced    primary      no      639      no   no   \n1866   86  retired   married  secondary      no     1503      no   no   \n3311   87  retired   married    primary      no      230      no   no   \n\n        contact  day month  duration  campaign  pdays  previous poutcome    y  \n1349  telephone   22   jun       883         1    140         1  failure  yes  \n4388  telephone    5   mar       181         1     -1         0  unknown  yes  \n4108  telephone   18   may       353         3     -1         0  unknown  yes  \n1866  telephone   18   mar       165         3    101         1    other   no  \n3311   cellular   30   oct       144         1     -1         0  unknown  yes  ",
      "text/html": "<div>\n<style scoped>\n    .dataframe tbody tr th:only-of-type {\n        vertical-align: middle;\n    }\n\n    .dataframe tbody tr th {\n        vertical-align: top;\n    }\n\n    .dataframe thead th {\n        text-align: right;\n    }\n</style>\n<table border=\"1\" class=\"dataframe\">\n  <thead>\n    <tr style=\"text-align: right;\">\n      <th></th>\n      <th>age</th>\n      <th>job</th>\n      <th>marital</th>\n      <th>education</th>\n      <th>default</th>\n      <th>balance</th>\n      <th>housing</th>\n      <th>loan</th>\n      <th>contact</th>\n      <th>day</th>\n      <th>month</th>\n      <th>duration</th>\n      <th>campaign</th>\n      <th>pdays</th>\n      <th>previous</th>\n      <th>poutcome</th>\n      <th>y</th>\n    </tr>\n  </thead>\n  <tbody>\n    <tr>\n      <th>1349</th>\n      <td>83</td>\n      <td>retired</td>\n      <td>married</td>\n      <td>primary</td>\n      <td>no</td>\n      <td>425</td>\n      <td>no</td>\n      <td>no</td>\n      <td>telephone</td>\n      <td>22</td>\n      <td>jun</td>\n      <td>883</td>\n      <td>1</td>\n      <td>140</td>\n      <td>1</td>\n      <td>failure</td>\n      <td>yes</td>\n    </tr>\n    <tr>\n      <th>4388</th>\n      <td>83</td>\n      <td>retired</td>\n      <td>divorced</td>\n      <td>primary</td>\n      <td>no</td>\n      <td>1097</td>\n      <td>no</td>\n      <td>no</td>\n      <td>telephone</td>\n      <td>5</td>\n      <td>mar</td>\n      <td>181</td>\n      <td>1</td>\n      <td>-1</td>\n      <td>0</td>\n      <td>unknown</td>\n      <td>yes</td>\n    </tr>\n    <tr>\n      <th>4108</th>\n      <td>84</td>\n      <td>retired</td>\n      <td>divorced</td>\n      <td>primary</td>\n      <td>no</td>\n      <td>639</td>\n      <td>no</td>\n      <td>no</td>\n      <td>telephone</td>\n      <td>18</td>\n      <td>may</td>\n      <td>353</td>\n      <td>3</td>\n      <td>-1</td>\n      <td>0</td>\n      <td>unknown</td>\n      <td>yes</td>\n    </tr>\n    <tr>\n      <th>1866</th>\n      <td>86</td>\n      <td>retired</td>\n      <td>married</td>\n      <td>secondary</td>\n      <td>no</td>\n      <td>1503</td>\n      <td>no</td>\n      <td>no</td>\n      <td>telephone</td>\n      <td>18</td>\n      <td>mar</td>\n      <td>165</td>\n      <td>3</td>\n      <td>101</td>\n      <td>1</td>\n      <td>other</td>\n      <td>no</td>\n    </tr>\n    <tr>\n      <th>3311</th>\n      <td>87</td>\n      <td>retired</td>\n      <td>married</td>\n      <td>primary</td>\n      <td>no</td>\n      <td>230</td>\n      <td>no</td>\n      <td>no</td>\n      <td>cellular</td>\n      <td>30</td>\n      <td>oct</td>\n      <td>144</td>\n      <td>1</td>\n      <td>-1</td>\n      <td>0</td>\n      <td>unknown</td>\n      <td>yes</td>\n    </tr>\n  </tbody>\n</table>\n</div>"
     },
     "metadata": {}
    }
   ],
   "execution_count": null
  },
  {
   "cell_type": "markdown",
   "source": "### Select a column",
   "metadata": {
    "cell_id": "00031-4a9e9a61-e7f7-42b7-b075-d495201f2892",
    "deepnote_cell_type": "markdown"
   }
  },
  {
   "cell_type": "code",
   "metadata": {
    "cell_id": "00032-85e6e076-cc79-4b95-80b3-1051067b97de",
    "deepnote_to_be_reexecuted": false,
    "source_hash": "bfc86906",
    "execution_start": 1631945885834,
    "execution_millis": 6,
    "output_cleared": false,
    "deepnote_cell_type": "code"
   },
   "source": "bankData['job'].head()",
   "outputs": [
    {
     "output_type": "execute_result",
     "execution_count": 19,
     "data": {
      "text/plain": "0     unemployed\n1       services\n2     management\n3     management\n4    blue-collar\nName: job, dtype: object"
     },
     "metadata": {}
    }
   ],
   "execution_count": null
  },
  {
   "cell_type": "code",
   "metadata": {
    "cell_id": "00033-72d70217-ae47-4a1e-b176-426853fc4189",
    "deepnote_to_be_reexecuted": false,
    "source_hash": "d58254e0",
    "execution_start": 1631945888328,
    "execution_millis": 12,
    "output_cleared": false,
    "deepnote_cell_type": "code"
   },
   "source": "bankData.job",
   "outputs": [
    {
     "output_type": "execute_result",
     "execution_count": 20,
     "data": {
      "text/plain": "0          unemployed\n1            services\n2          management\n3          management\n4         blue-collar\n            ...      \n4516         services\n4517    self-employed\n4518       technician\n4519      blue-collar\n4520     entrepreneur\nName: job, Length: 4521, dtype: object"
     },
     "metadata": {}
    }
   ],
   "execution_count": null
  },
  {
   "cell_type": "markdown",
   "source": "### Select multiple columns",
   "metadata": {
    "cell_id": "00034-0da16421-c406-49e3-910f-63d60e959c2b",
    "deepnote_cell_type": "markdown"
   }
  },
  {
   "cell_type": "code",
   "metadata": {
    "cell_id": "00035-8b727e2f-a8d9-47c2-a803-8bf1e80dfe8e",
    "deepnote_to_be_reexecuted": false,
    "source_hash": "c24b2224",
    "execution_start": 1631945895378,
    "execution_millis": 24,
    "output_cleared": false,
    "deepnote_cell_type": "code"
   },
   "source": "bankData[['job','age']].head()",
   "outputs": [
    {
     "output_type": "execute_result",
     "execution_count": 21,
     "data": {
      "application/vnd.deepnote.dataframe.v2+json": {
       "row_count": 5,
       "column_count": 2,
       "columns": [
        {
         "name": "job",
         "dtype": "object",
         "stats": {
          "unique_count": 4,
          "nan_count": 0,
          "categories": [
           {
            "name": "management",
            "count": 2
           },
           {
            "name": "unemployed",
            "count": 1
           },
           {
            "name": "2 others",
            "count": 2
           }
          ]
         }
        },
        {
         "name": "age",
         "dtype": "int64",
         "stats": {
          "unique_count": 4,
          "nan_count": 0,
          "min": "30",
          "max": "59",
          "histogram": [
           {
            "bin_start": 30,
            "bin_end": 32.9,
            "count": 2
           },
           {
            "bin_start": 32.9,
            "bin_end": 35.8,
            "count": 2
           },
           {
            "bin_start": 35.8,
            "bin_end": 38.7,
            "count": 0
           },
           {
            "bin_start": 38.7,
            "bin_end": 41.6,
            "count": 0
           },
           {
            "bin_start": 41.6,
            "bin_end": 44.5,
            "count": 0
           },
           {
            "bin_start": 44.5,
            "bin_end": 47.4,
            "count": 0
           },
           {
            "bin_start": 47.4,
            "bin_end": 50.3,
            "count": 0
           },
           {
            "bin_start": 50.3,
            "bin_end": 53.2,
            "count": 0
           },
           {
            "bin_start": 53.2,
            "bin_end": 56.099999999999994,
            "count": 0
           },
           {
            "bin_start": 56.099999999999994,
            "bin_end": 59,
            "count": 1
           }
          ]
         }
        },
        {
         "name": "_deepnote_index_column",
         "dtype": "int64"
        }
       ],
       "rows_top": [
        {
         "job": "unemployed",
         "age": 30,
         "_deepnote_index_column": 0
        },
        {
         "job": "services",
         "age": 33,
         "_deepnote_index_column": 1
        },
        {
         "job": "management",
         "age": 35,
         "_deepnote_index_column": 2
        },
        {
         "job": "management",
         "age": 30,
         "_deepnote_index_column": 3
        },
        {
         "job": "blue-collar",
         "age": 59,
         "_deepnote_index_column": 4
        }
       ],
       "rows_bottom": null
      },
      "text/plain": "           job  age\n0   unemployed   30\n1     services   33\n2   management   35\n3   management   30\n4  blue-collar   59",
      "text/html": "<div>\n<style scoped>\n    .dataframe tbody tr th:only-of-type {\n        vertical-align: middle;\n    }\n\n    .dataframe tbody tr th {\n        vertical-align: top;\n    }\n\n    .dataframe thead th {\n        text-align: right;\n    }\n</style>\n<table border=\"1\" class=\"dataframe\">\n  <thead>\n    <tr style=\"text-align: right;\">\n      <th></th>\n      <th>job</th>\n      <th>age</th>\n    </tr>\n  </thead>\n  <tbody>\n    <tr>\n      <th>0</th>\n      <td>unemployed</td>\n      <td>30</td>\n    </tr>\n    <tr>\n      <th>1</th>\n      <td>services</td>\n      <td>33</td>\n    </tr>\n    <tr>\n      <th>2</th>\n      <td>management</td>\n      <td>35</td>\n    </tr>\n    <tr>\n      <th>3</th>\n      <td>management</td>\n      <td>30</td>\n    </tr>\n    <tr>\n      <th>4</th>\n      <td>blue-collar</td>\n      <td>59</td>\n    </tr>\n  </tbody>\n</table>\n</div>"
     },
     "metadata": {}
    }
   ],
   "execution_count": null
  },
  {
   "cell_type": "markdown",
   "source": "### More complex selection - .loc and .iloc",
   "metadata": {
    "cell_id": "00036-a43c6615-1730-424a-bf1a-285c04a05739",
    "deepnote_cell_type": "markdown"
   }
  },
  {
   "cell_type": "code",
   "metadata": {
    "cell_id": "00037-3a9f2bfd-f2ee-44c7-af78-545ed2ca4bbb",
    "deepnote_to_be_reexecuted": false,
    "source_hash": "b1dc26b6",
    "execution_start": 1631945913424,
    "execution_millis": 22,
    "output_cleared": false,
    "deepnote_cell_type": "code"
   },
   "source": "bankData.loc[0:5,['job','age','education']]",
   "outputs": [
    {
     "output_type": "execute_result",
     "execution_count": 23,
     "data": {
      "application/vnd.deepnote.dataframe.v2+json": {
       "row_count": 6,
       "column_count": 3,
       "columns": [
        {
         "name": "job",
         "dtype": "object",
         "stats": {
          "unique_count": 4,
          "nan_count": 0,
          "categories": [
           {
            "name": "management",
            "count": 3
           },
           {
            "name": "unemployed",
            "count": 1
           },
           {
            "name": "2 others",
            "count": 2
           }
          ]
         }
        },
        {
         "name": "age",
         "dtype": "int64",
         "stats": {
          "unique_count": 4,
          "nan_count": 0,
          "min": "30",
          "max": "59",
          "histogram": [
           {
            "bin_start": 30,
            "bin_end": 32.9,
            "count": 2
           },
           {
            "bin_start": 32.9,
            "bin_end": 35.8,
            "count": 3
           },
           {
            "bin_start": 35.8,
            "bin_end": 38.7,
            "count": 0
           },
           {
            "bin_start": 38.7,
            "bin_end": 41.6,
            "count": 0
           },
           {
            "bin_start": 41.6,
            "bin_end": 44.5,
            "count": 0
           },
           {
            "bin_start": 44.5,
            "bin_end": 47.4,
            "count": 0
           },
           {
            "bin_start": 47.4,
            "bin_end": 50.3,
            "count": 0
           },
           {
            "bin_start": 50.3,
            "bin_end": 53.2,
            "count": 0
           },
           {
            "bin_start": 53.2,
            "bin_end": 56.099999999999994,
            "count": 0
           },
           {
            "bin_start": 56.099999999999994,
            "bin_end": 59,
            "count": 1
           }
          ]
         }
        },
        {
         "name": "education",
         "dtype": "object",
         "stats": {
          "unique_count": 3,
          "nan_count": 0,
          "categories": [
           {
            "name": "tertiary",
            "count": 3
           },
           {
            "name": "secondary",
            "count": 2
           },
           {
            "name": "primary",
            "count": 1
           }
          ]
         }
        },
        {
         "name": "_deepnote_index_column",
         "dtype": "int64"
        }
       ],
       "rows_top": [
        {
         "job": "unemployed",
         "age": 30,
         "education": "primary",
         "_deepnote_index_column": 0
        },
        {
         "job": "services",
         "age": 33,
         "education": "secondary",
         "_deepnote_index_column": 1
        },
        {
         "job": "management",
         "age": 35,
         "education": "tertiary",
         "_deepnote_index_column": 2
        },
        {
         "job": "management",
         "age": 30,
         "education": "tertiary",
         "_deepnote_index_column": 3
        },
        {
         "job": "blue-collar",
         "age": 59,
         "education": "secondary",
         "_deepnote_index_column": 4
        },
        {
         "job": "management",
         "age": 35,
         "education": "tertiary",
         "_deepnote_index_column": 5
        }
       ],
       "rows_bottom": null
      },
      "text/plain": "           job  age  education\n0   unemployed   30    primary\n1     services   33  secondary\n2   management   35   tertiary\n3   management   30   tertiary\n4  blue-collar   59  secondary\n5   management   35   tertiary",
      "text/html": "<div>\n<style scoped>\n    .dataframe tbody tr th:only-of-type {\n        vertical-align: middle;\n    }\n\n    .dataframe tbody tr th {\n        vertical-align: top;\n    }\n\n    .dataframe thead th {\n        text-align: right;\n    }\n</style>\n<table border=\"1\" class=\"dataframe\">\n  <thead>\n    <tr style=\"text-align: right;\">\n      <th></th>\n      <th>job</th>\n      <th>age</th>\n      <th>education</th>\n    </tr>\n  </thead>\n  <tbody>\n    <tr>\n      <th>0</th>\n      <td>unemployed</td>\n      <td>30</td>\n      <td>primary</td>\n    </tr>\n    <tr>\n      <th>1</th>\n      <td>services</td>\n      <td>33</td>\n      <td>secondary</td>\n    </tr>\n    <tr>\n      <th>2</th>\n      <td>management</td>\n      <td>35</td>\n      <td>tertiary</td>\n    </tr>\n    <tr>\n      <th>3</th>\n      <td>management</td>\n      <td>30</td>\n      <td>tertiary</td>\n    </tr>\n    <tr>\n      <th>4</th>\n      <td>blue-collar</td>\n      <td>59</td>\n      <td>secondary</td>\n    </tr>\n    <tr>\n      <th>5</th>\n      <td>management</td>\n      <td>35</td>\n      <td>tertiary</td>\n    </tr>\n  </tbody>\n</table>\n</div>"
     },
     "metadata": {}
    }
   ],
   "execution_count": null
  },
  {
   "cell_type": "code",
   "metadata": {
    "cell_id": "00038-e53f66e3-6614-4bdc-a6d1-d03080f076a6",
    "deepnote_to_be_reexecuted": false,
    "source_hash": "d0574d0a",
    "execution_start": 1631945919030,
    "execution_millis": 23,
    "output_cleared": false,
    "deepnote_cell_type": "code"
   },
   "source": "bankData.iloc[:5,:3]",
   "outputs": [
    {
     "output_type": "execute_result",
     "execution_count": 24,
     "data": {
      "application/vnd.deepnote.dataframe.v2+json": {
       "row_count": 5,
       "column_count": 3,
       "columns": [
        {
         "name": "age",
         "dtype": "int64",
         "stats": {
          "unique_count": 4,
          "nan_count": 0,
          "min": "30",
          "max": "59",
          "histogram": [
           {
            "bin_start": 30,
            "bin_end": 32.9,
            "count": 2
           },
           {
            "bin_start": 32.9,
            "bin_end": 35.8,
            "count": 2
           },
           {
            "bin_start": 35.8,
            "bin_end": 38.7,
            "count": 0
           },
           {
            "bin_start": 38.7,
            "bin_end": 41.6,
            "count": 0
           },
           {
            "bin_start": 41.6,
            "bin_end": 44.5,
            "count": 0
           },
           {
            "bin_start": 44.5,
            "bin_end": 47.4,
            "count": 0
           },
           {
            "bin_start": 47.4,
            "bin_end": 50.3,
            "count": 0
           },
           {
            "bin_start": 50.3,
            "bin_end": 53.2,
            "count": 0
           },
           {
            "bin_start": 53.2,
            "bin_end": 56.099999999999994,
            "count": 0
           },
           {
            "bin_start": 56.099999999999994,
            "bin_end": 59,
            "count": 1
           }
          ]
         }
        },
        {
         "name": "job",
         "dtype": "object",
         "stats": {
          "unique_count": 4,
          "nan_count": 0,
          "categories": [
           {
            "name": "management",
            "count": 2
           },
           {
            "name": "unemployed",
            "count": 1
           },
           {
            "name": "2 others",
            "count": 2
           }
          ]
         }
        },
        {
         "name": "marital",
         "dtype": "object",
         "stats": {
          "unique_count": 2,
          "nan_count": 0,
          "categories": [
           {
            "name": "married",
            "count": 4
           },
           {
            "name": "single",
            "count": 1
           }
          ]
         }
        },
        {
         "name": "_deepnote_index_column",
         "dtype": "int64"
        }
       ],
       "rows_top": [
        {
         "age": 30,
         "job": "unemployed",
         "marital": "married",
         "_deepnote_index_column": 0
        },
        {
         "age": 33,
         "job": "services",
         "marital": "married",
         "_deepnote_index_column": 1
        },
        {
         "age": 35,
         "job": "management",
         "marital": "single",
         "_deepnote_index_column": 2
        },
        {
         "age": 30,
         "job": "management",
         "marital": "married",
         "_deepnote_index_column": 3
        },
        {
         "age": 59,
         "job": "blue-collar",
         "marital": "married",
         "_deepnote_index_column": 4
        }
       ],
       "rows_bottom": null
      },
      "text/plain": "   age          job  marital\n0   30   unemployed  married\n1   33     services  married\n2   35   management   single\n3   30   management  married\n4   59  blue-collar  married",
      "text/html": "<div>\n<style scoped>\n    .dataframe tbody tr th:only-of-type {\n        vertical-align: middle;\n    }\n\n    .dataframe tbody tr th {\n        vertical-align: top;\n    }\n\n    .dataframe thead th {\n        text-align: right;\n    }\n</style>\n<table border=\"1\" class=\"dataframe\">\n  <thead>\n    <tr style=\"text-align: right;\">\n      <th></th>\n      <th>age</th>\n      <th>job</th>\n      <th>marital</th>\n    </tr>\n  </thead>\n  <tbody>\n    <tr>\n      <th>0</th>\n      <td>30</td>\n      <td>unemployed</td>\n      <td>married</td>\n    </tr>\n    <tr>\n      <th>1</th>\n      <td>33</td>\n      <td>services</td>\n      <td>married</td>\n    </tr>\n    <tr>\n      <th>2</th>\n      <td>35</td>\n      <td>management</td>\n      <td>single</td>\n    </tr>\n    <tr>\n      <th>3</th>\n      <td>30</td>\n      <td>management</td>\n      <td>married</td>\n    </tr>\n    <tr>\n      <th>4</th>\n      <td>59</td>\n      <td>blue-collar</td>\n      <td>married</td>\n    </tr>\n  </tbody>\n</table>\n</div>"
     },
     "metadata": {}
    }
   ],
   "execution_count": null
  },
  {
   "cell_type": "markdown",
   "source": "### Indexing",
   "metadata": {
    "cell_id": "00039-9ec9b868-2113-4354-b29f-6bc8779ef06d",
    "deepnote_cell_type": "markdown"
   }
  },
  {
   "cell_type": "code",
   "metadata": {
    "cell_id": "00040-1c5117fa-cf1c-4995-a636-26b6dd7388d8",
    "deepnote_to_be_reexecuted": false,
    "source_hash": "5ba94078",
    "execution_start": 1631945930421,
    "execution_millis": 40,
    "output_cleared": false,
    "deepnote_cell_type": "code"
   },
   "source": "bankData[0:5]",
   "outputs": [
    {
     "output_type": "execute_result",
     "execution_count": 25,
     "data": {
      "application/vnd.deepnote.dataframe.v2+json": {
       "row_count": 5,
       "column_count": 17,
       "columns": [
        {
         "name": "age",
         "dtype": "int64",
         "stats": {
          "unique_count": 4,
          "nan_count": 0,
          "min": "30",
          "max": "59",
          "histogram": [
           {
            "bin_start": 30,
            "bin_end": 32.9,
            "count": 2
           },
           {
            "bin_start": 32.9,
            "bin_end": 35.8,
            "count": 2
           },
           {
            "bin_start": 35.8,
            "bin_end": 38.7,
            "count": 0
           },
           {
            "bin_start": 38.7,
            "bin_end": 41.6,
            "count": 0
           },
           {
            "bin_start": 41.6,
            "bin_end": 44.5,
            "count": 0
           },
           {
            "bin_start": 44.5,
            "bin_end": 47.4,
            "count": 0
           },
           {
            "bin_start": 47.4,
            "bin_end": 50.3,
            "count": 0
           },
           {
            "bin_start": 50.3,
            "bin_end": 53.2,
            "count": 0
           },
           {
            "bin_start": 53.2,
            "bin_end": 56.099999999999994,
            "count": 0
           },
           {
            "bin_start": 56.099999999999994,
            "bin_end": 59,
            "count": 1
           }
          ]
         }
        },
        {
         "name": "job",
         "dtype": "object",
         "stats": {
          "unique_count": 4,
          "nan_count": 0,
          "categories": [
           {
            "name": "management",
            "count": 2
           },
           {
            "name": "unemployed",
            "count": 1
           },
           {
            "name": "2 others",
            "count": 2
           }
          ]
         }
        },
        {
         "name": "marital",
         "dtype": "object",
         "stats": {
          "unique_count": 2,
          "nan_count": 0,
          "categories": [
           {
            "name": "married",
            "count": 4
           },
           {
            "name": "single",
            "count": 1
           }
          ]
         }
        },
        {
         "name": "education",
         "dtype": "object",
         "stats": {
          "unique_count": 3,
          "nan_count": 0,
          "categories": [
           {
            "name": "secondary",
            "count": 2
           },
           {
            "name": "tertiary",
            "count": 2
           },
           {
            "name": "primary",
            "count": 1
           }
          ]
         }
        },
        {
         "name": "default",
         "dtype": "object",
         "stats": {
          "unique_count": 1,
          "nan_count": 0,
          "categories": [
           {
            "name": "no",
            "count": 5
           }
          ]
         }
        },
        {
         "name": "balance",
         "dtype": "int64",
         "stats": {
          "unique_count": 5,
          "nan_count": 0,
          "min": "0",
          "max": "4789",
          "histogram": [
           {
            "bin_start": 0,
            "bin_end": 478.9,
            "count": 1
           },
           {
            "bin_start": 478.9,
            "bin_end": 957.8,
            "count": 0
           },
           {
            "bin_start": 957.8,
            "bin_end": 1436.6999999999998,
            "count": 1
           },
           {
            "bin_start": 1436.6999999999998,
            "bin_end": 1915.6,
            "count": 2
           },
           {
            "bin_start": 1915.6,
            "bin_end": 2394.5,
            "count": 0
           },
           {
            "bin_start": 2394.5,
            "bin_end": 2873.3999999999996,
            "count": 0
           },
           {
            "bin_start": 2873.3999999999996,
            "bin_end": 3352.2999999999997,
            "count": 0
           },
           {
            "bin_start": 3352.2999999999997,
            "bin_end": 3831.2,
            "count": 0
           },
           {
            "bin_start": 3831.2,
            "bin_end": 4310.099999999999,
            "count": 0
           },
           {
            "bin_start": 4310.099999999999,
            "bin_end": 4789,
            "count": 1
           }
          ]
         }
        },
        {
         "name": "housing",
         "dtype": "object",
         "stats": {
          "unique_count": 2,
          "nan_count": 0,
          "categories": [
           {
            "name": "yes",
            "count": 4
           },
           {
            "name": "no",
            "count": 1
           }
          ]
         }
        },
        {
         "name": "loan",
         "dtype": "object",
         "stats": {
          "unique_count": 2,
          "nan_count": 0,
          "categories": [
           {
            "name": "no",
            "count": 3
           },
           {
            "name": "yes",
            "count": 2
           }
          ]
         }
        },
        {
         "name": "contact",
         "dtype": "object",
         "stats": {
          "unique_count": 2,
          "nan_count": 0,
          "categories": [
           {
            "name": "cellular",
            "count": 3
           },
           {
            "name": "unknown",
            "count": 2
           }
          ]
         }
        },
        {
         "name": "day",
         "dtype": "int64",
         "stats": {
          "unique_count": 5,
          "nan_count": 0,
          "min": "3",
          "max": "19",
          "histogram": [
           {
            "bin_start": 3,
            "bin_end": 4.6,
            "count": 1
           },
           {
            "bin_start": 4.6,
            "bin_end": 6.2,
            "count": 1
           },
           {
            "bin_start": 6.2,
            "bin_end": 7.800000000000001,
            "count": 0
           },
           {
            "bin_start": 7.800000000000001,
            "bin_end": 9.4,
            "count": 0
           },
           {
            "bin_start": 9.4,
            "bin_end": 11,
            "count": 0
           },
           {
            "bin_start": 11,
            "bin_end": 12.600000000000001,
            "count": 1
           },
           {
            "bin_start": 12.600000000000001,
            "bin_end": 14.200000000000001,
            "count": 0
           },
           {
            "bin_start": 14.200000000000001,
            "bin_end": 15.8,
            "count": 0
           },
           {
            "bin_start": 15.8,
            "bin_end": 17.4,
            "count": 1
           },
           {
            "bin_start": 17.4,
            "bin_end": 19,
            "count": 1
           }
          ]
         }
        },
        {
         "name": "month",
         "dtype": "object",
         "stats": {
          "unique_count": 4,
          "nan_count": 0,
          "categories": [
           {
            "name": "may",
            "count": 2
           },
           {
            "name": "oct",
            "count": 1
           },
           {
            "name": "2 others",
            "count": 2
           }
          ]
         }
        },
        {
         "name": "duration",
         "dtype": "int64",
         "stats": {
          "unique_count": 5,
          "nan_count": 0,
          "min": "79",
          "max": "226",
          "histogram": [
           {
            "bin_start": 79,
            "bin_end": 93.7,
            "count": 1
           },
           {
            "bin_start": 93.7,
            "bin_end": 108.4,
            "count": 0
           },
           {
            "bin_start": 108.4,
            "bin_end": 123.1,
            "count": 0
           },
           {
            "bin_start": 123.1,
            "bin_end": 137.8,
            "count": 0
           },
           {
            "bin_start": 137.8,
            "bin_end": 152.5,
            "count": 0
           },
           {
            "bin_start": 152.5,
            "bin_end": 167.2,
            "count": 0
           },
           {
            "bin_start": 167.2,
            "bin_end": 181.89999999999998,
            "count": 0
           },
           {
            "bin_start": 181.89999999999998,
            "bin_end": 196.6,
            "count": 1
           },
           {
            "bin_start": 196.6,
            "bin_end": 211.29999999999998,
            "count": 1
           },
           {
            "bin_start": 211.29999999999998,
            "bin_end": 226,
            "count": 2
           }
          ]
         }
        },
        {
         "name": "campaign",
         "dtype": "int64",
         "stats": {
          "unique_count": 2,
          "nan_count": 0,
          "min": "1",
          "max": "4",
          "histogram": [
           {
            "bin_start": 1,
            "bin_end": 1.3,
            "count": 4
           },
           {
            "bin_start": 1.3,
            "bin_end": 1.6,
            "count": 0
           },
           {
            "bin_start": 1.6,
            "bin_end": 1.9,
            "count": 0
           },
           {
            "bin_start": 1.9,
            "bin_end": 2.2,
            "count": 0
           },
           {
            "bin_start": 2.2,
            "bin_end": 2.5,
            "count": 0
           },
           {
            "bin_start": 2.5,
            "bin_end": 2.8,
            "count": 0
           },
           {
            "bin_start": 2.8,
            "bin_end": 3.1,
            "count": 0
           },
           {
            "bin_start": 3.1,
            "bin_end": 3.4,
            "count": 0
           },
           {
            "bin_start": 3.4,
            "bin_end": 3.6999999999999997,
            "count": 0
           },
           {
            "bin_start": 3.6999999999999997,
            "bin_end": 4,
            "count": 1
           }
          ]
         }
        },
        {
         "name": "pdays",
         "dtype": "int64",
         "stats": {
          "unique_count": 3,
          "nan_count": 0,
          "min": "-1",
          "max": "339",
          "histogram": [
           {
            "bin_start": -1,
            "bin_end": 33,
            "count": 3
           },
           {
            "bin_start": 33,
            "bin_end": 67,
            "count": 0
           },
           {
            "bin_start": 67,
            "bin_end": 101,
            "count": 0
           },
           {
            "bin_start": 101,
            "bin_end": 135,
            "count": 0
           },
           {
            "bin_start": 135,
            "bin_end": 169,
            "count": 0
           },
           {
            "bin_start": 169,
            "bin_end": 203,
            "count": 0
           },
           {
            "bin_start": 203,
            "bin_end": 237,
            "count": 0
           },
           {
            "bin_start": 237,
            "bin_end": 271,
            "count": 0
           },
           {
            "bin_start": 271,
            "bin_end": 305,
            "count": 0
           },
           {
            "bin_start": 305,
            "bin_end": 339,
            "count": 2
           }
          ]
         }
        },
        {
         "name": "previous",
         "dtype": "int64",
         "stats": {
          "unique_count": 3,
          "nan_count": 0,
          "min": "0",
          "max": "4",
          "histogram": [
           {
            "bin_start": 0,
            "bin_end": 0.4,
            "count": 3
           },
           {
            "bin_start": 0.4,
            "bin_end": 0.8,
            "count": 0
           },
           {
            "bin_start": 0.8,
            "bin_end": 1.2000000000000002,
            "count": 1
           },
           {
            "bin_start": 1.2000000000000002,
            "bin_end": 1.6,
            "count": 0
           },
           {
            "bin_start": 1.6,
            "bin_end": 2,
            "count": 0
           },
           {
            "bin_start": 2,
            "bin_end": 2.4000000000000004,
            "count": 0
           },
           {
            "bin_start": 2.4000000000000004,
            "bin_end": 2.8000000000000003,
            "count": 0
           },
           {
            "bin_start": 2.8000000000000003,
            "bin_end": 3.2,
            "count": 0
           },
           {
            "bin_start": 3.2,
            "bin_end": 3.6,
            "count": 0
           },
           {
            "bin_start": 3.6,
            "bin_end": 4,
            "count": 1
           }
          ]
         }
        },
        {
         "name": "poutcome",
         "dtype": "object",
         "stats": {
          "unique_count": 2,
          "nan_count": 0,
          "categories": [
           {
            "name": "unknown",
            "count": 3
           },
           {
            "name": "failure",
            "count": 2
           }
          ]
         }
        },
        {
         "name": "y",
         "dtype": "object",
         "stats": {
          "unique_count": 1,
          "nan_count": 0,
          "categories": [
           {
            "name": "no",
            "count": 5
           }
          ]
         }
        },
        {
         "name": "_deepnote_index_column",
         "dtype": "int64"
        }
       ],
       "rows_top": [
        {
         "age": 30,
         "job": "unemployed",
         "marital": "married",
         "education": "primary",
         "default": "no",
         "balance": 1787,
         "housing": "no",
         "loan": "no",
         "contact": "cellular",
         "day": 19,
         "month": "oct",
         "duration": 79,
         "campaign": 1,
         "pdays": -1,
         "previous": 0,
         "poutcome": "unknown",
         "y": "no",
         "_deepnote_index_column": 0
        },
        {
         "age": 33,
         "job": "services",
         "marital": "married",
         "education": "secondary",
         "default": "no",
         "balance": 4789,
         "housing": "yes",
         "loan": "yes",
         "contact": "cellular",
         "day": 11,
         "month": "may",
         "duration": 220,
         "campaign": 1,
         "pdays": 339,
         "previous": 4,
         "poutcome": "failure",
         "y": "no",
         "_deepnote_index_column": 1
        },
        {
         "age": 35,
         "job": "management",
         "marital": "single",
         "education": "tertiary",
         "default": "no",
         "balance": 1350,
         "housing": "yes",
         "loan": "no",
         "contact": "cellular",
         "day": 16,
         "month": "apr",
         "duration": 185,
         "campaign": 1,
         "pdays": 330,
         "previous": 1,
         "poutcome": "failure",
         "y": "no",
         "_deepnote_index_column": 2
        },
        {
         "age": 30,
         "job": "management",
         "marital": "married",
         "education": "tertiary",
         "default": "no",
         "balance": 1476,
         "housing": "yes",
         "loan": "yes",
         "contact": "unknown",
         "day": 3,
         "month": "jun",
         "duration": 199,
         "campaign": 4,
         "pdays": -1,
         "previous": 0,
         "poutcome": "unknown",
         "y": "no",
         "_deepnote_index_column": 3
        },
        {
         "age": 59,
         "job": "blue-collar",
         "marital": "married",
         "education": "secondary",
         "default": "no",
         "balance": 0,
         "housing": "yes",
         "loan": "no",
         "contact": "unknown",
         "day": 5,
         "month": "may",
         "duration": 226,
         "campaign": 1,
         "pdays": -1,
         "previous": 0,
         "poutcome": "unknown",
         "y": "no",
         "_deepnote_index_column": 4
        }
       ],
       "rows_bottom": null
      },
      "text/plain": "   age          job  marital  education default  balance housing loan  \\\n0   30   unemployed  married    primary      no     1787      no   no   \n1   33     services  married  secondary      no     4789     yes  yes   \n2   35   management   single   tertiary      no     1350     yes   no   \n3   30   management  married   tertiary      no     1476     yes  yes   \n4   59  blue-collar  married  secondary      no        0     yes   no   \n\n    contact  day month  duration  campaign  pdays  previous poutcome   y  \n0  cellular   19   oct        79         1     -1         0  unknown  no  \n1  cellular   11   may       220         1    339         4  failure  no  \n2  cellular   16   apr       185         1    330         1  failure  no  \n3   unknown    3   jun       199         4     -1         0  unknown  no  \n4   unknown    5   may       226         1     -1         0  unknown  no  ",
      "text/html": "<div>\n<style scoped>\n    .dataframe tbody tr th:only-of-type {\n        vertical-align: middle;\n    }\n\n    .dataframe tbody tr th {\n        vertical-align: top;\n    }\n\n    .dataframe thead th {\n        text-align: right;\n    }\n</style>\n<table border=\"1\" class=\"dataframe\">\n  <thead>\n    <tr style=\"text-align: right;\">\n      <th></th>\n      <th>age</th>\n      <th>job</th>\n      <th>marital</th>\n      <th>education</th>\n      <th>default</th>\n      <th>balance</th>\n      <th>housing</th>\n      <th>loan</th>\n      <th>contact</th>\n      <th>day</th>\n      <th>month</th>\n      <th>duration</th>\n      <th>campaign</th>\n      <th>pdays</th>\n      <th>previous</th>\n      <th>poutcome</th>\n      <th>y</th>\n    </tr>\n  </thead>\n  <tbody>\n    <tr>\n      <th>0</th>\n      <td>30</td>\n      <td>unemployed</td>\n      <td>married</td>\n      <td>primary</td>\n      <td>no</td>\n      <td>1787</td>\n      <td>no</td>\n      <td>no</td>\n      <td>cellular</td>\n      <td>19</td>\n      <td>oct</td>\n      <td>79</td>\n      <td>1</td>\n      <td>-1</td>\n      <td>0</td>\n      <td>unknown</td>\n      <td>no</td>\n    </tr>\n    <tr>\n      <th>1</th>\n      <td>33</td>\n      <td>services</td>\n      <td>married</td>\n      <td>secondary</td>\n      <td>no</td>\n      <td>4789</td>\n      <td>yes</td>\n      <td>yes</td>\n      <td>cellular</td>\n      <td>11</td>\n      <td>may</td>\n      <td>220</td>\n      <td>1</td>\n      <td>339</td>\n      <td>4</td>\n      <td>failure</td>\n      <td>no</td>\n    </tr>\n    <tr>\n      <th>2</th>\n      <td>35</td>\n      <td>management</td>\n      <td>single</td>\n      <td>tertiary</td>\n      <td>no</td>\n      <td>1350</td>\n      <td>yes</td>\n      <td>no</td>\n      <td>cellular</td>\n      <td>16</td>\n      <td>apr</td>\n      <td>185</td>\n      <td>1</td>\n      <td>330</td>\n      <td>1</td>\n      <td>failure</td>\n      <td>no</td>\n    </tr>\n    <tr>\n      <th>3</th>\n      <td>30</td>\n      <td>management</td>\n      <td>married</td>\n      <td>tertiary</td>\n      <td>no</td>\n      <td>1476</td>\n      <td>yes</td>\n      <td>yes</td>\n      <td>unknown</td>\n      <td>3</td>\n      <td>jun</td>\n      <td>199</td>\n      <td>4</td>\n      <td>-1</td>\n      <td>0</td>\n      <td>unknown</td>\n      <td>no</td>\n    </tr>\n    <tr>\n      <th>4</th>\n      <td>59</td>\n      <td>blue-collar</td>\n      <td>married</td>\n      <td>secondary</td>\n      <td>no</td>\n      <td>0</td>\n      <td>yes</td>\n      <td>no</td>\n      <td>unknown</td>\n      <td>5</td>\n      <td>may</td>\n      <td>226</td>\n      <td>1</td>\n      <td>-1</td>\n      <td>0</td>\n      <td>unknown</td>\n      <td>no</td>\n    </tr>\n  </tbody>\n</table>\n</div>"
     },
     "metadata": {}
    }
   ],
   "execution_count": null
  },
  {
   "cell_type": "markdown",
   "source": "### Boolean indexing by isin",
   "metadata": {
    "cell_id": "00041-4f5b2d05-f275-4fe3-92ab-96d904cb3304",
    "deepnote_cell_type": "markdown"
   }
  },
  {
   "cell_type": "code",
   "metadata": {
    "collapsed": true,
    "cell_id": "00042-fb189e55-86b4-4317-979c-34e9f7164da2",
    "output_cleared": false,
    "deepnote_to_be_reexecuted": false,
    "source_hash": "70e9904",
    "execution_start": 1631945946490,
    "execution_millis": 6,
    "deepnote_cell_type": "code"
   },
   "source": "bankData.marital.isin(['single'])",
   "outputs": [
    {
     "output_type": "execute_result",
     "execution_count": 26,
     "data": {
      "text/plain": "0       False\n1       False\n2        True\n3       False\n4       False\n        ...  \n4516    False\n4517    False\n4518    False\n4519    False\n4520     True\nName: marital, Length: 4521, dtype: bool"
     },
     "metadata": {}
    }
   ],
   "execution_count": null
  },
  {
   "cell_type": "code",
   "metadata": {
    "cell_id": "00043-6741df58-8b2c-40d1-ba72-452bb546c5ee",
    "output_cleared": false,
    "deepnote_to_be_reexecuted": false,
    "source_hash": "dd3cc5ea",
    "execution_start": 1631945950146,
    "execution_millis": 42,
    "deepnote_cell_type": "code"
   },
   "source": "bankData[bankData.marital.isin(['single','married'])].head()",
   "outputs": [
    {
     "output_type": "execute_result",
     "execution_count": 27,
     "data": {
      "application/vnd.deepnote.dataframe.v2+json": {
       "row_count": 5,
       "column_count": 17,
       "columns": [
        {
         "name": "age",
         "dtype": "int64",
         "stats": {
          "unique_count": 4,
          "nan_count": 0,
          "min": "30",
          "max": "59",
          "histogram": [
           {
            "bin_start": 30,
            "bin_end": 32.9,
            "count": 2
           },
           {
            "bin_start": 32.9,
            "bin_end": 35.8,
            "count": 2
           },
           {
            "bin_start": 35.8,
            "bin_end": 38.7,
            "count": 0
           },
           {
            "bin_start": 38.7,
            "bin_end": 41.6,
            "count": 0
           },
           {
            "bin_start": 41.6,
            "bin_end": 44.5,
            "count": 0
           },
           {
            "bin_start": 44.5,
            "bin_end": 47.4,
            "count": 0
           },
           {
            "bin_start": 47.4,
            "bin_end": 50.3,
            "count": 0
           },
           {
            "bin_start": 50.3,
            "bin_end": 53.2,
            "count": 0
           },
           {
            "bin_start": 53.2,
            "bin_end": 56.099999999999994,
            "count": 0
           },
           {
            "bin_start": 56.099999999999994,
            "bin_end": 59,
            "count": 1
           }
          ]
         }
        },
        {
         "name": "job",
         "dtype": "object",
         "stats": {
          "unique_count": 4,
          "nan_count": 0,
          "categories": [
           {
            "name": "management",
            "count": 2
           },
           {
            "name": "unemployed",
            "count": 1
           },
           {
            "name": "2 others",
            "count": 2
           }
          ]
         }
        },
        {
         "name": "marital",
         "dtype": "object",
         "stats": {
          "unique_count": 2,
          "nan_count": 0,
          "categories": [
           {
            "name": "married",
            "count": 4
           },
           {
            "name": "single",
            "count": 1
           }
          ]
         }
        },
        {
         "name": "education",
         "dtype": "object",
         "stats": {
          "unique_count": 3,
          "nan_count": 0,
          "categories": [
           {
            "name": "secondary",
            "count": 2
           },
           {
            "name": "tertiary",
            "count": 2
           },
           {
            "name": "primary",
            "count": 1
           }
          ]
         }
        },
        {
         "name": "default",
         "dtype": "object",
         "stats": {
          "unique_count": 1,
          "nan_count": 0,
          "categories": [
           {
            "name": "no",
            "count": 5
           }
          ]
         }
        },
        {
         "name": "balance",
         "dtype": "int64",
         "stats": {
          "unique_count": 5,
          "nan_count": 0,
          "min": "0",
          "max": "4789",
          "histogram": [
           {
            "bin_start": 0,
            "bin_end": 478.9,
            "count": 1
           },
           {
            "bin_start": 478.9,
            "bin_end": 957.8,
            "count": 0
           },
           {
            "bin_start": 957.8,
            "bin_end": 1436.6999999999998,
            "count": 1
           },
           {
            "bin_start": 1436.6999999999998,
            "bin_end": 1915.6,
            "count": 2
           },
           {
            "bin_start": 1915.6,
            "bin_end": 2394.5,
            "count": 0
           },
           {
            "bin_start": 2394.5,
            "bin_end": 2873.3999999999996,
            "count": 0
           },
           {
            "bin_start": 2873.3999999999996,
            "bin_end": 3352.2999999999997,
            "count": 0
           },
           {
            "bin_start": 3352.2999999999997,
            "bin_end": 3831.2,
            "count": 0
           },
           {
            "bin_start": 3831.2,
            "bin_end": 4310.099999999999,
            "count": 0
           },
           {
            "bin_start": 4310.099999999999,
            "bin_end": 4789,
            "count": 1
           }
          ]
         }
        },
        {
         "name": "housing",
         "dtype": "object",
         "stats": {
          "unique_count": 2,
          "nan_count": 0,
          "categories": [
           {
            "name": "yes",
            "count": 4
           },
           {
            "name": "no",
            "count": 1
           }
          ]
         }
        },
        {
         "name": "loan",
         "dtype": "object",
         "stats": {
          "unique_count": 2,
          "nan_count": 0,
          "categories": [
           {
            "name": "no",
            "count": 3
           },
           {
            "name": "yes",
            "count": 2
           }
          ]
         }
        },
        {
         "name": "contact",
         "dtype": "object",
         "stats": {
          "unique_count": 2,
          "nan_count": 0,
          "categories": [
           {
            "name": "cellular",
            "count": 3
           },
           {
            "name": "unknown",
            "count": 2
           }
          ]
         }
        },
        {
         "name": "day",
         "dtype": "int64",
         "stats": {
          "unique_count": 5,
          "nan_count": 0,
          "min": "3",
          "max": "19",
          "histogram": [
           {
            "bin_start": 3,
            "bin_end": 4.6,
            "count": 1
           },
           {
            "bin_start": 4.6,
            "bin_end": 6.2,
            "count": 1
           },
           {
            "bin_start": 6.2,
            "bin_end": 7.800000000000001,
            "count": 0
           },
           {
            "bin_start": 7.800000000000001,
            "bin_end": 9.4,
            "count": 0
           },
           {
            "bin_start": 9.4,
            "bin_end": 11,
            "count": 0
           },
           {
            "bin_start": 11,
            "bin_end": 12.600000000000001,
            "count": 1
           },
           {
            "bin_start": 12.600000000000001,
            "bin_end": 14.200000000000001,
            "count": 0
           },
           {
            "bin_start": 14.200000000000001,
            "bin_end": 15.8,
            "count": 0
           },
           {
            "bin_start": 15.8,
            "bin_end": 17.4,
            "count": 1
           },
           {
            "bin_start": 17.4,
            "bin_end": 19,
            "count": 1
           }
          ]
         }
        },
        {
         "name": "month",
         "dtype": "object",
         "stats": {
          "unique_count": 4,
          "nan_count": 0,
          "categories": [
           {
            "name": "may",
            "count": 2
           },
           {
            "name": "oct",
            "count": 1
           },
           {
            "name": "2 others",
            "count": 2
           }
          ]
         }
        },
        {
         "name": "duration",
         "dtype": "int64",
         "stats": {
          "unique_count": 5,
          "nan_count": 0,
          "min": "79",
          "max": "226",
          "histogram": [
           {
            "bin_start": 79,
            "bin_end": 93.7,
            "count": 1
           },
           {
            "bin_start": 93.7,
            "bin_end": 108.4,
            "count": 0
           },
           {
            "bin_start": 108.4,
            "bin_end": 123.1,
            "count": 0
           },
           {
            "bin_start": 123.1,
            "bin_end": 137.8,
            "count": 0
           },
           {
            "bin_start": 137.8,
            "bin_end": 152.5,
            "count": 0
           },
           {
            "bin_start": 152.5,
            "bin_end": 167.2,
            "count": 0
           },
           {
            "bin_start": 167.2,
            "bin_end": 181.89999999999998,
            "count": 0
           },
           {
            "bin_start": 181.89999999999998,
            "bin_end": 196.6,
            "count": 1
           },
           {
            "bin_start": 196.6,
            "bin_end": 211.29999999999998,
            "count": 1
           },
           {
            "bin_start": 211.29999999999998,
            "bin_end": 226,
            "count": 2
           }
          ]
         }
        },
        {
         "name": "campaign",
         "dtype": "int64",
         "stats": {
          "unique_count": 2,
          "nan_count": 0,
          "min": "1",
          "max": "4",
          "histogram": [
           {
            "bin_start": 1,
            "bin_end": 1.3,
            "count": 4
           },
           {
            "bin_start": 1.3,
            "bin_end": 1.6,
            "count": 0
           },
           {
            "bin_start": 1.6,
            "bin_end": 1.9,
            "count": 0
           },
           {
            "bin_start": 1.9,
            "bin_end": 2.2,
            "count": 0
           },
           {
            "bin_start": 2.2,
            "bin_end": 2.5,
            "count": 0
           },
           {
            "bin_start": 2.5,
            "bin_end": 2.8,
            "count": 0
           },
           {
            "bin_start": 2.8,
            "bin_end": 3.1,
            "count": 0
           },
           {
            "bin_start": 3.1,
            "bin_end": 3.4,
            "count": 0
           },
           {
            "bin_start": 3.4,
            "bin_end": 3.6999999999999997,
            "count": 0
           },
           {
            "bin_start": 3.6999999999999997,
            "bin_end": 4,
            "count": 1
           }
          ]
         }
        },
        {
         "name": "pdays",
         "dtype": "int64",
         "stats": {
          "unique_count": 3,
          "nan_count": 0,
          "min": "-1",
          "max": "339",
          "histogram": [
           {
            "bin_start": -1,
            "bin_end": 33,
            "count": 3
           },
           {
            "bin_start": 33,
            "bin_end": 67,
            "count": 0
           },
           {
            "bin_start": 67,
            "bin_end": 101,
            "count": 0
           },
           {
            "bin_start": 101,
            "bin_end": 135,
            "count": 0
           },
           {
            "bin_start": 135,
            "bin_end": 169,
            "count": 0
           },
           {
            "bin_start": 169,
            "bin_end": 203,
            "count": 0
           },
           {
            "bin_start": 203,
            "bin_end": 237,
            "count": 0
           },
           {
            "bin_start": 237,
            "bin_end": 271,
            "count": 0
           },
           {
            "bin_start": 271,
            "bin_end": 305,
            "count": 0
           },
           {
            "bin_start": 305,
            "bin_end": 339,
            "count": 2
           }
          ]
         }
        },
        {
         "name": "previous",
         "dtype": "int64",
         "stats": {
          "unique_count": 3,
          "nan_count": 0,
          "min": "0",
          "max": "4",
          "histogram": [
           {
            "bin_start": 0,
            "bin_end": 0.4,
            "count": 3
           },
           {
            "bin_start": 0.4,
            "bin_end": 0.8,
            "count": 0
           },
           {
            "bin_start": 0.8,
            "bin_end": 1.2000000000000002,
            "count": 1
           },
           {
            "bin_start": 1.2000000000000002,
            "bin_end": 1.6,
            "count": 0
           },
           {
            "bin_start": 1.6,
            "bin_end": 2,
            "count": 0
           },
           {
            "bin_start": 2,
            "bin_end": 2.4000000000000004,
            "count": 0
           },
           {
            "bin_start": 2.4000000000000004,
            "bin_end": 2.8000000000000003,
            "count": 0
           },
           {
            "bin_start": 2.8000000000000003,
            "bin_end": 3.2,
            "count": 0
           },
           {
            "bin_start": 3.2,
            "bin_end": 3.6,
            "count": 0
           },
           {
            "bin_start": 3.6,
            "bin_end": 4,
            "count": 1
           }
          ]
         }
        },
        {
         "name": "poutcome",
         "dtype": "object",
         "stats": {
          "unique_count": 2,
          "nan_count": 0,
          "categories": [
           {
            "name": "unknown",
            "count": 3
           },
           {
            "name": "failure",
            "count": 2
           }
          ]
         }
        },
        {
         "name": "y",
         "dtype": "object",
         "stats": {
          "unique_count": 1,
          "nan_count": 0,
          "categories": [
           {
            "name": "no",
            "count": 5
           }
          ]
         }
        },
        {
         "name": "_deepnote_index_column",
         "dtype": "int64"
        }
       ],
       "rows_top": [
        {
         "age": 30,
         "job": "unemployed",
         "marital": "married",
         "education": "primary",
         "default": "no",
         "balance": 1787,
         "housing": "no",
         "loan": "no",
         "contact": "cellular",
         "day": 19,
         "month": "oct",
         "duration": 79,
         "campaign": 1,
         "pdays": -1,
         "previous": 0,
         "poutcome": "unknown",
         "y": "no",
         "_deepnote_index_column": 0
        },
        {
         "age": 33,
         "job": "services",
         "marital": "married",
         "education": "secondary",
         "default": "no",
         "balance": 4789,
         "housing": "yes",
         "loan": "yes",
         "contact": "cellular",
         "day": 11,
         "month": "may",
         "duration": 220,
         "campaign": 1,
         "pdays": 339,
         "previous": 4,
         "poutcome": "failure",
         "y": "no",
         "_deepnote_index_column": 1
        },
        {
         "age": 35,
         "job": "management",
         "marital": "single",
         "education": "tertiary",
         "default": "no",
         "balance": 1350,
         "housing": "yes",
         "loan": "no",
         "contact": "cellular",
         "day": 16,
         "month": "apr",
         "duration": 185,
         "campaign": 1,
         "pdays": 330,
         "previous": 1,
         "poutcome": "failure",
         "y": "no",
         "_deepnote_index_column": 2
        },
        {
         "age": 30,
         "job": "management",
         "marital": "married",
         "education": "tertiary",
         "default": "no",
         "balance": 1476,
         "housing": "yes",
         "loan": "yes",
         "contact": "unknown",
         "day": 3,
         "month": "jun",
         "duration": 199,
         "campaign": 4,
         "pdays": -1,
         "previous": 0,
         "poutcome": "unknown",
         "y": "no",
         "_deepnote_index_column": 3
        },
        {
         "age": 59,
         "job": "blue-collar",
         "marital": "married",
         "education": "secondary",
         "default": "no",
         "balance": 0,
         "housing": "yes",
         "loan": "no",
         "contact": "unknown",
         "day": 5,
         "month": "may",
         "duration": 226,
         "campaign": 1,
         "pdays": -1,
         "previous": 0,
         "poutcome": "unknown",
         "y": "no",
         "_deepnote_index_column": 4
        }
       ],
       "rows_bottom": null
      },
      "text/plain": "   age          job  marital  education default  balance housing loan  \\\n0   30   unemployed  married    primary      no     1787      no   no   \n1   33     services  married  secondary      no     4789     yes  yes   \n2   35   management   single   tertiary      no     1350     yes   no   \n3   30   management  married   tertiary      no     1476     yes  yes   \n4   59  blue-collar  married  secondary      no        0     yes   no   \n\n    contact  day month  duration  campaign  pdays  previous poutcome   y  \n0  cellular   19   oct        79         1     -1         0  unknown  no  \n1  cellular   11   may       220         1    339         4  failure  no  \n2  cellular   16   apr       185         1    330         1  failure  no  \n3   unknown    3   jun       199         4     -1         0  unknown  no  \n4   unknown    5   may       226         1     -1         0  unknown  no  ",
      "text/html": "<div>\n<style scoped>\n    .dataframe tbody tr th:only-of-type {\n        vertical-align: middle;\n    }\n\n    .dataframe tbody tr th {\n        vertical-align: top;\n    }\n\n    .dataframe thead th {\n        text-align: right;\n    }\n</style>\n<table border=\"1\" class=\"dataframe\">\n  <thead>\n    <tr style=\"text-align: right;\">\n      <th></th>\n      <th>age</th>\n      <th>job</th>\n      <th>marital</th>\n      <th>education</th>\n      <th>default</th>\n      <th>balance</th>\n      <th>housing</th>\n      <th>loan</th>\n      <th>contact</th>\n      <th>day</th>\n      <th>month</th>\n      <th>duration</th>\n      <th>campaign</th>\n      <th>pdays</th>\n      <th>previous</th>\n      <th>poutcome</th>\n      <th>y</th>\n    </tr>\n  </thead>\n  <tbody>\n    <tr>\n      <th>0</th>\n      <td>30</td>\n      <td>unemployed</td>\n      <td>married</td>\n      <td>primary</td>\n      <td>no</td>\n      <td>1787</td>\n      <td>no</td>\n      <td>no</td>\n      <td>cellular</td>\n      <td>19</td>\n      <td>oct</td>\n      <td>79</td>\n      <td>1</td>\n      <td>-1</td>\n      <td>0</td>\n      <td>unknown</td>\n      <td>no</td>\n    </tr>\n    <tr>\n      <th>1</th>\n      <td>33</td>\n      <td>services</td>\n      <td>married</td>\n      <td>secondary</td>\n      <td>no</td>\n      <td>4789</td>\n      <td>yes</td>\n      <td>yes</td>\n      <td>cellular</td>\n      <td>11</td>\n      <td>may</td>\n      <td>220</td>\n      <td>1</td>\n      <td>339</td>\n      <td>4</td>\n      <td>failure</td>\n      <td>no</td>\n    </tr>\n    <tr>\n      <th>2</th>\n      <td>35</td>\n      <td>management</td>\n      <td>single</td>\n      <td>tertiary</td>\n      <td>no</td>\n      <td>1350</td>\n      <td>yes</td>\n      <td>no</td>\n      <td>cellular</td>\n      <td>16</td>\n      <td>apr</td>\n      <td>185</td>\n      <td>1</td>\n      <td>330</td>\n      <td>1</td>\n      <td>failure</td>\n      <td>no</td>\n    </tr>\n    <tr>\n      <th>3</th>\n      <td>30</td>\n      <td>management</td>\n      <td>married</td>\n      <td>tertiary</td>\n      <td>no</td>\n      <td>1476</td>\n      <td>yes</td>\n      <td>yes</td>\n      <td>unknown</td>\n      <td>3</td>\n      <td>jun</td>\n      <td>199</td>\n      <td>4</td>\n      <td>-1</td>\n      <td>0</td>\n      <td>unknown</td>\n      <td>no</td>\n    </tr>\n    <tr>\n      <th>4</th>\n      <td>59</td>\n      <td>blue-collar</td>\n      <td>married</td>\n      <td>secondary</td>\n      <td>no</td>\n      <td>0</td>\n      <td>yes</td>\n      <td>no</td>\n      <td>unknown</td>\n      <td>5</td>\n      <td>may</td>\n      <td>226</td>\n      <td>1</td>\n      <td>-1</td>\n      <td>0</td>\n      <td>unknown</td>\n      <td>no</td>\n    </tr>\n  </tbody>\n</table>\n</div>"
     },
     "metadata": {}
    }
   ],
   "execution_count": null
  },
  {
   "cell_type": "markdown",
   "source": "### Boolean indexing by condition",
   "metadata": {
    "cell_id": "00044-cf988978-bdec-49eb-be15-7e5d16cc9148",
    "deepnote_cell_type": "markdown"
   }
  },
  {
   "cell_type": "code",
   "metadata": {
    "cell_id": "00045-88de86d3-3972-4e01-b0d4-3ecd3248a38f",
    "deepnote_to_be_reexecuted": false,
    "source_hash": "869d6dd8",
    "execution_start": 1631946000114,
    "execution_millis": 11744,
    "output_cleared": false,
    "deepnote_cell_type": "code"
   },
   "source": "data = bankData[bankData.age > 30]\ndata",
   "outputs": [
    {
     "output_type": "execute_result",
     "execution_count": 28,
     "data": {
      "application/vnd.deepnote.dataframe.v2+json": {
       "row_count": 3889,
       "column_count": 17,
       "columns": [
        {
         "name": "age",
         "dtype": "int64",
         "stats": {
          "unique_count": 55,
          "nan_count": 0,
          "min": "31",
          "max": "87",
          "histogram": [
           {
            "bin_start": 31,
            "bin_end": 36.6,
            "count": 1208
           },
           {
            "bin_start": 36.6,
            "bin_end": 42.2,
            "count": 868
           },
           {
            "bin_start": 42.2,
            "bin_end": 47.8,
            "count": 559
           },
           {
            "bin_start": 47.8,
            "bin_end": 53.4,
            "count": 598
           },
           {
            "bin_start": 53.4,
            "bin_end": 59,
            "count": 411
           },
           {
            "bin_start": 59,
            "bin_end": 64.6,
            "count": 156
           },
           {
            "bin_start": 64.6,
            "bin_end": 70.19999999999999,
            "count": 35
           },
           {
            "bin_start": 70.19999999999999,
            "bin_end": 75.8,
            "count": 25
           },
           {
            "bin_start": 75.8,
            "bin_end": 81.4,
            "count": 22
           },
           {
            "bin_start": 81.4,
            "bin_end": 87,
            "count": 7
           }
          ]
         }
        },
        {
         "name": "job",
         "dtype": "object",
         "stats": {
          "unique_count": 12,
          "nan_count": 0,
          "categories": [
           {
            "name": "management",
            "count": 862
           },
           {
            "name": "blue-collar",
            "count": 822
           },
           {
            "name": "10 others",
            "count": 2205
           }
          ]
         }
        },
        {
         "name": "marital",
         "dtype": "object",
         "stats": {
          "unique_count": 3,
          "nan_count": 0,
          "categories": [
           {
            "name": "married",
            "count": 2612
           },
           {
            "name": "single",
            "count": 764
           },
           {
            "name": "divorced",
            "count": 513
           }
          ]
         }
        },
        {
         "name": "education",
         "dtype": "object",
         "stats": {
          "unique_count": 4,
          "nan_count": 0,
          "categories": [
           {
            "name": "secondary",
            "count": 1929
           },
           {
            "name": "tertiary",
            "count": 1150
           },
           {
            "name": "2 others",
            "count": 810
           }
          ]
         }
        },
        {
         "name": "default",
         "dtype": "object",
         "stats": {
          "unique_count": 2,
          "nan_count": 0,
          "categories": [
           {
            "name": "no",
            "count": 3829
           },
           {
            "name": "yes",
            "count": 60
           }
          ]
         }
        },
        {
         "name": "balance",
         "dtype": "int64",
         "stats": {
          "unique_count": 2163,
          "nan_count": 0,
          "min": "-3313",
          "max": "71188",
          "histogram": [
           {
            "bin_start": -3313,
            "bin_end": 4137.1,
            "count": 3519
           },
           {
            "bin_start": 4137.1,
            "bin_end": 11587.2,
            "count": 304
           },
           {
            "bin_start": 11587.2,
            "bin_end": 19037.300000000003,
            "count": 45
           },
           {
            "bin_start": 19037.300000000003,
            "bin_end": 26487.4,
            "count": 15
           },
           {
            "bin_start": 26487.4,
            "bin_end": 33937.5,
            "count": 4
           },
           {
            "bin_start": 33937.5,
            "bin_end": 41387.600000000006,
            "count": 0
           },
           {
            "bin_start": 41387.600000000006,
            "bin_end": 48837.700000000004,
            "count": 1
           },
           {
            "bin_start": 48837.700000000004,
            "bin_end": 56287.8,
            "count": 0
           },
           {
            "bin_start": 56287.8,
            "bin_end": 63737.90000000001,
            "count": 0
           },
           {
            "bin_start": 63737.90000000001,
            "bin_end": 71188,
            "count": 1
           }
          ]
         }
        },
        {
         "name": "housing",
         "dtype": "object",
         "stats": {
          "unique_count": 2,
          "nan_count": 0,
          "categories": [
           {
            "name": "yes",
            "count": 2185
           },
           {
            "name": "no",
            "count": 1704
           }
          ]
         }
        },
        {
         "name": "loan",
         "dtype": "object",
         "stats": {
          "unique_count": 2,
          "nan_count": 0,
          "categories": [
           {
            "name": "no",
            "count": 3287
           },
           {
            "name": "yes",
            "count": 602
           }
          ]
         }
        },
        {
         "name": "contact",
         "dtype": "object",
         "stats": {
          "unique_count": 3,
          "nan_count": 0,
          "categories": [
           {
            "name": "cellular",
            "count": 2479
           },
           {
            "name": "unknown",
            "count": 1138
           },
           {
            "name": "telephone",
            "count": 272
           }
          ]
         }
        },
        {
         "name": "day",
         "dtype": "int64",
         "stats": {
          "unique_count": 31,
          "nan_count": 0,
          "min": "1",
          "max": "31",
          "histogram": [
           {
            "bin_start": 1,
            "bin_end": 4,
            "count": 202
           },
           {
            "bin_start": 4,
            "bin_end": 7,
            "count": 440
           },
           {
            "bin_start": 7,
            "bin_end": 10,
            "count": 469
           },
           {
            "bin_start": 10,
            "bin_end": 13,
            "count": 305
           },
           {
            "bin_start": 13,
            "bin_end": 16,
            "count": 470
           },
           {
            "bin_start": 16,
            "bin_end": 19,
            "count": 494
           },
           {
            "bin_start": 19,
            "bin_end": 22,
            "count": 589
           },
           {
            "bin_start": 22,
            "bin_end": 25,
            "count": 187
           },
           {
            "bin_start": 25,
            "bin_end": 28,
            "count": 256
           },
           {
            "bin_start": 28,
            "bin_end": 31,
            "count": 477
           }
          ]
         }
        },
        {
         "name": "month",
         "dtype": "object",
         "stats": {
          "unique_count": 12,
          "nan_count": 0,
          "categories": [
           {
            "name": "may",
            "count": 1152
           },
           {
            "name": "aug",
            "count": 598
           },
           {
            "name": "10 others",
            "count": 2139
           }
          ]
         }
        },
        {
         "name": "duration",
         "dtype": "int64",
         "stats": {
          "unique_count": 830,
          "nan_count": 0,
          "min": "5",
          "max": "3025",
          "histogram": [
           {
            "bin_start": 5,
            "bin_end": 307,
            "count": 2850
           },
           {
            "bin_start": 307,
            "bin_end": 609,
            "count": 686
           },
           {
            "bin_start": 609,
            "bin_end": 911,
            "count": 231
           },
           {
            "bin_start": 911,
            "bin_end": 1213,
            "count": 79
           },
           {
            "bin_start": 1213,
            "bin_end": 1515,
            "count": 26
           },
           {
            "bin_start": 1515,
            "bin_end": 1817,
            "count": 10
           },
           {
            "bin_start": 1817,
            "bin_end": 2119,
            "count": 4
           },
           {
            "bin_start": 2119,
            "bin_end": 2421,
            "count": 0
           },
           {
            "bin_start": 2421,
            "bin_end": 2723,
            "count": 1
           },
           {
            "bin_start": 2723,
            "bin_end": 3025,
            "count": 2
           }
          ]
         }
        },
        {
         "name": "campaign",
         "dtype": "int64",
         "stats": {
          "unique_count": 31,
          "nan_count": 0,
          "min": "1",
          "max": "50",
          "histogram": [
           {
            "bin_start": 1,
            "bin_end": 5.9,
            "count": 3479
           },
           {
            "bin_start": 5.9,
            "bin_end": 10.8,
            "count": 304
           },
           {
            "bin_start": 10.8,
            "bin_end": 15.700000000000001,
            "count": 67
           },
           {
            "bin_start": 15.700000000000001,
            "bin_end": 20.6,
            "count": 19
           },
           {
            "bin_start": 20.6,
            "bin_end": 25.5,
            "count": 11
           },
           {
            "bin_start": 25.5,
            "bin_end": 30.400000000000002,
            "count": 5
           },
           {
            "bin_start": 30.400000000000002,
            "bin_end": 35.300000000000004,
            "count": 2
           },
           {
            "bin_start": 35.300000000000004,
            "bin_end": 40.2,
            "count": 0
           },
           {
            "bin_start": 40.2,
            "bin_end": 45.1,
            "count": 1
           },
           {
            "bin_start": 45.1,
            "bin_end": 50,
            "count": 1
           }
          ]
         }
        },
        {
         "name": "pdays",
         "dtype": "int64",
         "stats": {
          "unique_count": 276,
          "nan_count": 0,
          "min": "-1",
          "max": "871",
          "histogram": [
           {
            "bin_start": -1,
            "bin_end": 86.2,
            "count": 3224
           },
           {
            "bin_start": 86.2,
            "bin_end": 173.4,
            "count": 217
           },
           {
            "bin_start": 173.4,
            "bin_end": 260.6,
            "count": 180
           },
           {
            "bin_start": 260.6,
            "bin_end": 347.8,
            "count": 146
           },
           {
            "bin_start": 347.8,
            "bin_end": 435,
            "count": 102
           },
           {
            "bin_start": 435,
            "bin_end": 522.2,
            "count": 12
           },
           {
            "bin_start": 522.2,
            "bin_end": 609.4,
            "count": 1
           },
           {
            "bin_start": 609.4,
            "bin_end": 696.6,
            "count": 3
           },
           {
            "bin_start": 696.6,
            "bin_end": 783.8000000000001,
            "count": 1
           },
           {
            "bin_start": 783.8000000000001,
            "bin_end": 871,
            "count": 3
           }
          ]
         }
        },
        {
         "name": "previous",
         "dtype": "int64",
         "stats": {
          "unique_count": 23,
          "nan_count": 0,
          "min": "0",
          "max": "25",
          "histogram": [
           {
            "bin_start": 0,
            "bin_end": 2.5,
            "count": 3597
           },
           {
            "bin_start": 2.5,
            "bin_end": 5,
            "count": 167
           },
           {
            "bin_start": 5,
            "bin_end": 7.5,
            "count": 80
           },
           {
            "bin_start": 7.5,
            "bin_end": 10,
            "count": 24
           },
           {
            "bin_start": 10,
            "bin_end": 12.5,
            "count": 11
           },
           {
            "bin_start": 12.5,
            "bin_end": 15,
            "count": 2
           },
           {
            "bin_start": 15,
            "bin_end": 17.5,
            "count": 2
           },
           {
            "bin_start": 17.5,
            "bin_end": 20,
            "count": 2
           },
           {
            "bin_start": 20,
            "bin_end": 22.5,
            "count": 1
           },
           {
            "bin_start": 22.5,
            "bin_end": 25,
            "count": 3
           }
          ]
         }
        },
        {
         "name": "poutcome",
         "dtype": "object",
         "stats": {
          "unique_count": 4,
          "nan_count": 0,
          "categories": [
           {
            "name": "unknown",
            "count": 3181
           },
           {
            "name": "failure",
            "count": 435
           },
           {
            "name": "2 others",
            "count": 273
           }
          ]
         }
        },
        {
         "name": "y",
         "dtype": "object",
         "stats": {
          "unique_count": 2,
          "nan_count": 0,
          "categories": [
           {
            "name": "no",
            "count": 3458
           },
           {
            "name": "yes",
            "count": 431
           }
          ]
         }
        },
        {
         "name": "_deepnote_index_column",
         "dtype": "int64"
        }
       ],
       "rows_top": [
        {
         "age": 33,
         "job": "services",
         "marital": "married",
         "education": "secondary",
         "default": "no",
         "balance": 4789,
         "housing": "yes",
         "loan": "yes",
         "contact": "cellular",
         "day": 11,
         "month": "may",
         "duration": 220,
         "campaign": 1,
         "pdays": 339,
         "previous": 4,
         "poutcome": "failure",
         "y": "no",
         "_deepnote_index_column": 1
        },
        {
         "age": 35,
         "job": "management",
         "marital": "single",
         "education": "tertiary",
         "default": "no",
         "balance": 1350,
         "housing": "yes",
         "loan": "no",
         "contact": "cellular",
         "day": 16,
         "month": "apr",
         "duration": 185,
         "campaign": 1,
         "pdays": 330,
         "previous": 1,
         "poutcome": "failure",
         "y": "no",
         "_deepnote_index_column": 2
        },
        {
         "age": 59,
         "job": "blue-collar",
         "marital": "married",
         "education": "secondary",
         "default": "no",
         "balance": 0,
         "housing": "yes",
         "loan": "no",
         "contact": "unknown",
         "day": 5,
         "month": "may",
         "duration": 226,
         "campaign": 1,
         "pdays": -1,
         "previous": 0,
         "poutcome": "unknown",
         "y": "no",
         "_deepnote_index_column": 4
        },
        {
         "age": 35,
         "job": "management",
         "marital": "single",
         "education": "tertiary",
         "default": "no",
         "balance": 747,
         "housing": "no",
         "loan": "no",
         "contact": "cellular",
         "day": 23,
         "month": "feb",
         "duration": 141,
         "campaign": 2,
         "pdays": 176,
         "previous": 3,
         "poutcome": "failure",
         "y": "no",
         "_deepnote_index_column": 5
        },
        {
         "age": 36,
         "job": "self-employed",
         "marital": "married",
         "education": "tertiary",
         "default": "no",
         "balance": 307,
         "housing": "yes",
         "loan": "no",
         "contact": "cellular",
         "day": 14,
         "month": "may",
         "duration": 341,
         "campaign": 1,
         "pdays": 330,
         "previous": 2,
         "poutcome": "other",
         "y": "no",
         "_deepnote_index_column": 6
        },
        {
         "age": 39,
         "job": "technician",
         "marital": "married",
         "education": "secondary",
         "default": "no",
         "balance": 147,
         "housing": "yes",
         "loan": "no",
         "contact": "cellular",
         "day": 6,
         "month": "may",
         "duration": 151,
         "campaign": 2,
         "pdays": -1,
         "previous": 0,
         "poutcome": "unknown",
         "y": "no",
         "_deepnote_index_column": 7
        },
        {
         "age": 41,
         "job": "entrepreneur",
         "marital": "married",
         "education": "tertiary",
         "default": "no",
         "balance": 221,
         "housing": "yes",
         "loan": "no",
         "contact": "unknown",
         "day": 14,
         "month": "may",
         "duration": 57,
         "campaign": 2,
         "pdays": -1,
         "previous": 0,
         "poutcome": "unknown",
         "y": "no",
         "_deepnote_index_column": 8
        },
        {
         "age": 43,
         "job": "services",
         "marital": "married",
         "education": "primary",
         "default": "no",
         "balance": -88,
         "housing": "yes",
         "loan": "yes",
         "contact": "cellular",
         "day": 17,
         "month": "apr",
         "duration": 313,
         "campaign": 1,
         "pdays": 147,
         "previous": 2,
         "poutcome": "failure",
         "y": "no",
         "_deepnote_index_column": 9
        },
        {
         "age": 39,
         "job": "services",
         "marital": "married",
         "education": "secondary",
         "default": "no",
         "balance": 9374,
         "housing": "yes",
         "loan": "no",
         "contact": "unknown",
         "day": 20,
         "month": "may",
         "duration": 273,
         "campaign": 1,
         "pdays": -1,
         "previous": 0,
         "poutcome": "unknown",
         "y": "no",
         "_deepnote_index_column": 10
        },
        {
         "age": 43,
         "job": "admin.",
         "marital": "married",
         "education": "secondary",
         "default": "no",
         "balance": 264,
         "housing": "yes",
         "loan": "no",
         "contact": "cellular",
         "day": 17,
         "month": "apr",
         "duration": 113,
         "campaign": 2,
         "pdays": -1,
         "previous": 0,
         "poutcome": "unknown",
         "y": "no",
         "_deepnote_index_column": 11
        },
        {
         "age": 36,
         "job": "technician",
         "marital": "married",
         "education": "tertiary",
         "default": "no",
         "balance": 1109,
         "housing": "no",
         "loan": "no",
         "contact": "cellular",
         "day": 13,
         "month": "aug",
         "duration": 328,
         "campaign": 2,
         "pdays": -1,
         "previous": 0,
         "poutcome": "unknown",
         "y": "no",
         "_deepnote_index_column": 12
        },
        {
         "age": 31,
         "job": "blue-collar",
         "marital": "married",
         "education": "secondary",
         "default": "no",
         "balance": 360,
         "housing": "yes",
         "loan": "yes",
         "contact": "cellular",
         "day": 29,
         "month": "jan",
         "duration": 89,
         "campaign": 1,
         "pdays": 241,
         "previous": 1,
         "poutcome": "failure",
         "y": "no",
         "_deepnote_index_column": 14
        },
        {
         "age": 40,
         "job": "management",
         "marital": "married",
         "education": "tertiary",
         "default": "no",
         "balance": 194,
         "housing": "no",
         "loan": "yes",
         "contact": "cellular",
         "day": 29,
         "month": "aug",
         "duration": 189,
         "campaign": 2,
         "pdays": -1,
         "previous": 0,
         "poutcome": "unknown",
         "y": "no",
         "_deepnote_index_column": 15
        },
        {
         "age": 56,
         "job": "technician",
         "marital": "married",
         "education": "secondary",
         "default": "no",
         "balance": 4073,
         "housing": "no",
         "loan": "no",
         "contact": "cellular",
         "day": 27,
         "month": "aug",
         "duration": 239,
         "campaign": 5,
         "pdays": -1,
         "previous": 0,
         "poutcome": "unknown",
         "y": "no",
         "_deepnote_index_column": 16
        },
        {
         "age": 37,
         "job": "admin.",
         "marital": "single",
         "education": "tertiary",
         "default": "no",
         "balance": 2317,
         "housing": "yes",
         "loan": "no",
         "contact": "cellular",
         "day": 20,
         "month": "apr",
         "duration": 114,
         "campaign": 1,
         "pdays": 152,
         "previous": 2,
         "poutcome": "failure",
         "y": "no",
         "_deepnote_index_column": 17
        },
        {
         "age": 31,
         "job": "services",
         "marital": "married",
         "education": "secondary",
         "default": "no",
         "balance": 132,
         "housing": "no",
         "loan": "no",
         "contact": "cellular",
         "day": 7,
         "month": "jul",
         "duration": 148,
         "campaign": 1,
         "pdays": 152,
         "previous": 1,
         "poutcome": "other",
         "y": "no",
         "_deepnote_index_column": 19
        },
        {
         "age": 38,
         "job": "management",
         "marital": "divorced",
         "education": "unknown",
         "default": "no",
         "balance": 0,
         "housing": "yes",
         "loan": "no",
         "contact": "cellular",
         "day": 18,
         "month": "nov",
         "duration": 96,
         "campaign": 2,
         "pdays": -1,
         "previous": 0,
         "poutcome": "unknown",
         "y": "no",
         "_deepnote_index_column": 20
        },
        {
         "age": 42,
         "job": "management",
         "marital": "divorced",
         "education": "tertiary",
         "default": "no",
         "balance": 16,
         "housing": "no",
         "loan": "no",
         "contact": "cellular",
         "day": 19,
         "month": "nov",
         "duration": 140,
         "campaign": 3,
         "pdays": -1,
         "previous": 0,
         "poutcome": "unknown",
         "y": "no",
         "_deepnote_index_column": 21
        },
        {
         "age": 44,
         "job": "services",
         "marital": "single",
         "education": "secondary",
         "default": "no",
         "balance": 106,
         "housing": "no",
         "loan": "no",
         "contact": "unknown",
         "day": 12,
         "month": "jun",
         "duration": 109,
         "campaign": 2,
         "pdays": -1,
         "previous": 0,
         "poutcome": "unknown",
         "y": "no",
         "_deepnote_index_column": 22
        },
        {
         "age": 44,
         "job": "entrepreneur",
         "marital": "married",
         "education": "secondary",
         "default": "no",
         "balance": 93,
         "housing": "no",
         "loan": "no",
         "contact": "cellular",
         "day": 7,
         "month": "jul",
         "duration": 125,
         "campaign": 2,
         "pdays": -1,
         "previous": 0,
         "poutcome": "unknown",
         "y": "no",
         "_deepnote_index_column": 23
        },
        {
         "age": 41,
         "job": "management",
         "marital": "married",
         "education": "tertiary",
         "default": "no",
         "balance": 5883,
         "housing": "no",
         "loan": "no",
         "contact": "cellular",
         "day": 20,
         "month": "nov",
         "duration": 182,
         "campaign": 2,
         "pdays": -1,
         "previous": 0,
         "poutcome": "unknown",
         "y": "no",
         "_deepnote_index_column": 25
        },
        {
         "age": 55,
         "job": "blue-collar",
         "marital": "married",
         "education": "primary",
         "default": "no",
         "balance": 627,
         "housing": "yes",
         "loan": "no",
         "contact": "unknown",
         "day": 5,
         "month": "may",
         "duration": 247,
         "campaign": 1,
         "pdays": -1,
         "previous": 0,
         "poutcome": "unknown",
         "y": "no",
         "_deepnote_index_column": 26
        },
        {
         "age": 67,
         "job": "retired",
         "marital": "married",
         "education": "unknown",
         "default": "no",
         "balance": 696,
         "housing": "no",
         "loan": "no",
         "contact": "telephone",
         "day": 17,
         "month": "aug",
         "duration": 119,
         "campaign": 1,
         "pdays": 105,
         "previous": 2,
         "poutcome": "failure",
         "y": "no",
         "_deepnote_index_column": 27
        },
        {
         "age": 56,
         "job": "self-employed",
         "marital": "married",
         "education": "secondary",
         "default": "no",
         "balance": 784,
         "housing": "no",
         "loan": "yes",
         "contact": "cellular",
         "day": 30,
         "month": "jul",
         "duration": 149,
         "campaign": 2,
         "pdays": -1,
         "previous": 0,
         "poutcome": "unknown",
         "y": "no",
         "_deepnote_index_column": 28
        },
        {
         "age": 53,
         "job": "admin.",
         "marital": "married",
         "education": "secondary",
         "default": "no",
         "balance": 105,
         "housing": "no",
         "loan": "yes",
         "contact": "cellular",
         "day": 21,
         "month": "aug",
         "duration": 74,
         "campaign": 2,
         "pdays": -1,
         "previous": 0,
         "poutcome": "unknown",
         "y": "no",
         "_deepnote_index_column": 29
        },
        {
         "age": 68,
         "job": "retired",
         "marital": "divorced",
         "education": "secondary",
         "default": "no",
         "balance": 4189,
         "housing": "no",
         "loan": "no",
         "contact": "telephone",
         "day": 14,
         "month": "jul",
         "duration": 897,
         "campaign": 2,
         "pdays": -1,
         "previous": 0,
         "poutcome": "unknown",
         "y": "yes",
         "_deepnote_index_column": 30
        },
        {
         "age": 31,
         "job": "technician",
         "marital": "married",
         "education": "secondary",
         "default": "no",
         "balance": 171,
         "housing": "no",
         "loan": "no",
         "contact": "cellular",
         "day": 27,
         "month": "aug",
         "duration": 81,
         "campaign": 3,
         "pdays": -1,
         "previous": 0,
         "poutcome": "unknown",
         "y": "no",
         "_deepnote_index_column": 31
        },
        {
         "age": 59,
         "job": "management",
         "marital": "married",
         "education": "secondary",
         "default": "no",
         "balance": 42,
         "housing": "no",
         "loan": "no",
         "contact": "cellular",
         "day": 21,
         "month": "nov",
         "duration": 40,
         "campaign": 1,
         "pdays": -1,
         "previous": 0,
         "poutcome": "unknown",
         "y": "no",
         "_deepnote_index_column": 32
        },
        {
         "age": 32,
         "job": "management",
         "marital": "single",
         "education": "tertiary",
         "default": "no",
         "balance": 2536,
         "housing": "yes",
         "loan": "no",
         "contact": "cellular",
         "day": 26,
         "month": "aug",
         "duration": 958,
         "campaign": 6,
         "pdays": -1,
         "previous": 0,
         "poutcome": "unknown",
         "y": "yes",
         "_deepnote_index_column": 33
        }
       ],
       "rows_bottom": [
        {
         "age": 31,
         "job": "unemployed",
         "marital": "single",
         "education": "secondary",
         "default": "no",
         "balance": 315,
         "housing": "no",
         "loan": "no",
         "contact": "cellular",
         "day": 30,
         "month": "jan",
         "duration": 130,
         "campaign": 1,
         "pdays": 2,
         "previous": 1,
         "poutcome": "other",
         "y": "no",
         "_deepnote_index_column": 4488
        },
        {
         "age": 45,
         "job": "management",
         "marital": "married",
         "education": "tertiary",
         "default": "no",
         "balance": 6945,
         "housing": "no",
         "loan": "no",
         "contact": "cellular",
         "day": 5,
         "month": "aug",
         "duration": 131,
         "campaign": 5,
         "pdays": 356,
         "previous": 3,
         "poutcome": "failure",
         "y": "no",
         "_deepnote_index_column": 4489
        },
        {
         "age": 58,
         "job": "admin.",
         "marital": "married",
         "education": "secondary",
         "default": "no",
         "balance": 3496,
         "housing": "yes",
         "loan": "no",
         "contact": "unknown",
         "day": 2,
         "month": "jun",
         "duration": 111,
         "campaign": 4,
         "pdays": -1,
         "previous": 0,
         "poutcome": "unknown",
         "y": "no",
         "_deepnote_index_column": 4490
        },
        {
         "age": 35,
         "job": "blue-collar",
         "marital": "single",
         "education": "secondary",
         "default": "no",
         "balance": 0,
         "housing": "yes",
         "loan": "no",
         "contact": "cellular",
         "day": 16,
         "month": "apr",
         "duration": 169,
         "campaign": 1,
         "pdays": -1,
         "previous": 0,
         "poutcome": "unknown",
         "y": "no",
         "_deepnote_index_column": 4491
        },
        {
         "age": 32,
         "job": "technician",
         "marital": "single",
         "education": "secondary",
         "default": "no",
         "balance": 309,
         "housing": "yes",
         "loan": "yes",
         "contact": "cellular",
         "day": 16,
         "month": "apr",
         "duration": 346,
         "campaign": 1,
         "pdays": 234,
         "previous": 3,
         "poutcome": "failure",
         "y": "no",
         "_deepnote_index_column": 4492
        },
        {
         "age": 48,
         "job": "management",
         "marital": "married",
         "education": "tertiary",
         "default": "no",
         "balance": 1175,
         "housing": "yes",
         "loan": "no",
         "contact": "telephone",
         "day": 18,
         "month": "nov",
         "duration": 1476,
         "campaign": 3,
         "pdays": -1,
         "previous": 0,
         "poutcome": "unknown",
         "y": "no",
         "_deepnote_index_column": 4495
        },
        {
         "age": 31,
         "job": "entrepreneur",
         "marital": "single",
         "education": "tertiary",
         "default": "no",
         "balance": 38,
         "housing": "no",
         "loan": "no",
         "contact": "cellular",
         "day": 20,
         "month": "nov",
         "duration": 185,
         "campaign": 2,
         "pdays": -1,
         "previous": 0,
         "poutcome": "unknown",
         "y": "no",
         "_deepnote_index_column": 4497
        },
        {
         "age": 31,
         "job": "management",
         "marital": "married",
         "education": "tertiary",
         "default": "no",
         "balance": 1183,
         "housing": "yes",
         "loan": "no",
         "contact": "unknown",
         "day": 27,
         "month": "may",
         "duration": 676,
         "campaign": 6,
         "pdays": -1,
         "previous": 0,
         "poutcome": "unknown",
         "y": "no",
         "_deepnote_index_column": 4498
        },
        {
         "age": 45,
         "job": "blue-collar",
         "marital": "divorced",
         "education": "primary",
         "default": "no",
         "balance": 942,
         "housing": "no",
         "loan": "no",
         "contact": "cellular",
         "day": 21,
         "month": "nov",
         "duration": 362,
         "campaign": 1,
         "pdays": -1,
         "previous": 0,
         "poutcome": "unknown",
         "y": "no",
         "_deepnote_index_column": 4499
        },
        {
         "age": 38,
         "job": "admin.",
         "marital": "married",
         "education": "secondary",
         "default": "no",
         "balance": 4196,
         "housing": "yes",
         "loan": "no",
         "contact": "cellular",
         "day": 12,
         "month": "may",
         "duration": 193,
         "campaign": 2,
         "pdays": -1,
         "previous": 0,
         "poutcome": "unknown",
         "y": "no",
         "_deepnote_index_column": 4500
        },
        {
         "age": 34,
         "job": "management",
         "marital": "married",
         "education": "tertiary",
         "default": "no",
         "balance": 297,
         "housing": "yes",
         "loan": "no",
         "contact": "cellular",
         "day": 26,
         "month": "aug",
         "duration": 63,
         "campaign": 4,
         "pdays": -1,
         "previous": 0,
         "poutcome": "unknown",
         "y": "no",
         "_deepnote_index_column": 4501
        },
        {
         "age": 42,
         "job": "services",
         "marital": "married",
         "education": "secondary",
         "default": "no",
         "balance": -91,
         "housing": "yes",
         "loan": "yes",
         "contact": "cellular",
         "day": 5,
         "month": "feb",
         "duration": 43,
         "campaign": 1,
         "pdays": -1,
         "previous": 0,
         "poutcome": "unknown",
         "y": "no",
         "_deepnote_index_column": 4502
        },
        {
         "age": 60,
         "job": "self-employed",
         "marital": "married",
         "education": "primary",
         "default": "no",
         "balance": 362,
         "housing": "no",
         "loan": "yes",
         "contact": "cellular",
         "day": 29,
         "month": "jul",
         "duration": 816,
         "campaign": 6,
         "pdays": -1,
         "previous": 0,
         "poutcome": "unknown",
         "y": "yes",
         "_deepnote_index_column": 4503
        },
        {
         "age": 42,
         "job": "blue-collar",
         "marital": "single",
         "education": "secondary",
         "default": "no",
         "balance": 1080,
         "housing": "yes",
         "loan": "yes",
         "contact": "cellular",
         "day": 13,
         "month": "may",
         "duration": 951,
         "campaign": 3,
         "pdays": 370,
         "previous": 4,
         "poutcome": "failure",
         "y": "yes",
         "_deepnote_index_column": 4504
        },
        {
         "age": 32,
         "job": "admin.",
         "marital": "single",
         "education": "secondary",
         "default": "no",
         "balance": 620,
         "housing": "yes",
         "loan": "no",
         "contact": "unknown",
         "day": 26,
         "month": "may",
         "duration": 1234,
         "campaign": 3,
         "pdays": -1,
         "previous": 0,
         "poutcome": "unknown",
         "y": "yes",
         "_deepnote_index_column": 4505
        },
        {
         "age": 42,
         "job": "unemployed",
         "marital": "divorced",
         "education": "tertiary",
         "default": "no",
         "balance": -166,
         "housing": "no",
         "loan": "no",
         "contact": "cellular",
         "day": 29,
         "month": "aug",
         "duration": 85,
         "campaign": 4,
         "pdays": -1,
         "previous": 0,
         "poutcome": "unknown",
         "y": "no",
         "_deepnote_index_column": 4506
        },
        {
         "age": 33,
         "job": "services",
         "marital": "married",
         "education": "secondary",
         "default": "no",
         "balance": 288,
         "housing": "yes",
         "loan": "no",
         "contact": "cellular",
         "day": 17,
         "month": "apr",
         "duration": 306,
         "campaign": 1,
         "pdays": -1,
         "previous": 0,
         "poutcome": "unknown",
         "y": "no",
         "_deepnote_index_column": 4507
        },
        {
         "age": 42,
         "job": "admin.",
         "marital": "married",
         "education": "unknown",
         "default": "no",
         "balance": 642,
         "housing": "yes",
         "loan": "yes",
         "contact": "unknown",
         "day": 16,
         "month": "may",
         "duration": 509,
         "campaign": 2,
         "pdays": -1,
         "previous": 0,
         "poutcome": "unknown",
         "y": "no",
         "_deepnote_index_column": 4508
        },
        {
         "age": 51,
         "job": "technician",
         "marital": "married",
         "education": "tertiary",
         "default": "no",
         "balance": 2506,
         "housing": "no",
         "loan": "no",
         "contact": "cellular",
         "day": 30,
         "month": "nov",
         "duration": 210,
         "campaign": 3,
         "pdays": -1,
         "previous": 0,
         "poutcome": "unknown",
         "y": "no",
         "_deepnote_index_column": 4509
        },
        {
         "age": 36,
         "job": "technician",
         "marital": "divorced",
         "education": "secondary",
         "default": "no",
         "balance": 566,
         "housing": "yes",
         "loan": "no",
         "contact": "unknown",
         "day": 20,
         "month": "may",
         "duration": 129,
         "campaign": 2,
         "pdays": -1,
         "previous": 0,
         "poutcome": "unknown",
         "y": "no",
         "_deepnote_index_column": 4510
        },
        {
         "age": 46,
         "job": "blue-collar",
         "marital": "married",
         "education": "secondary",
         "default": "no",
         "balance": 668,
         "housing": "yes",
         "loan": "no",
         "contact": "unknown",
         "day": 15,
         "month": "may",
         "duration": 1263,
         "campaign": 2,
         "pdays": -1,
         "previous": 0,
         "poutcome": "unknown",
         "y": "yes",
         "_deepnote_index_column": 4511
        },
        {
         "age": 40,
         "job": "blue-collar",
         "marital": "married",
         "education": "secondary",
         "default": "no",
         "balance": 1100,
         "housing": "yes",
         "loan": "no",
         "contact": "unknown",
         "day": 29,
         "month": "may",
         "duration": 660,
         "campaign": 2,
         "pdays": -1,
         "previous": 0,
         "poutcome": "unknown",
         "y": "no",
         "_deepnote_index_column": 4512
        },
        {
         "age": 49,
         "job": "blue-collar",
         "marital": "married",
         "education": "secondary",
         "default": "no",
         "balance": 322,
         "housing": "no",
         "loan": "no",
         "contact": "cellular",
         "day": 14,
         "month": "aug",
         "duration": 356,
         "campaign": 2,
         "pdays": -1,
         "previous": 0,
         "poutcome": "unknown",
         "y": "no",
         "_deepnote_index_column": 4513
        },
        {
         "age": 38,
         "job": "blue-collar",
         "marital": "married",
         "education": "secondary",
         "default": "no",
         "balance": 1205,
         "housing": "yes",
         "loan": "no",
         "contact": "cellular",
         "day": 20,
         "month": "apr",
         "duration": 45,
         "campaign": 4,
         "pdays": 153,
         "previous": 1,
         "poutcome": "failure",
         "y": "no",
         "_deepnote_index_column": 4514
        },
        {
         "age": 32,
         "job": "services",
         "marital": "single",
         "education": "secondary",
         "default": "no",
         "balance": 473,
         "housing": "yes",
         "loan": "no",
         "contact": "cellular",
         "day": 7,
         "month": "jul",
         "duration": 624,
         "campaign": 5,
         "pdays": -1,
         "previous": 0,
         "poutcome": "unknown",
         "y": "no",
         "_deepnote_index_column": 4515
        },
        {
         "age": 33,
         "job": "services",
         "marital": "married",
         "education": "secondary",
         "default": "no",
         "balance": -333,
         "housing": "yes",
         "loan": "no",
         "contact": "cellular",
         "day": 30,
         "month": "jul",
         "duration": 329,
         "campaign": 5,
         "pdays": -1,
         "previous": 0,
         "poutcome": "unknown",
         "y": "no",
         "_deepnote_index_column": 4516
        },
        {
         "age": 57,
         "job": "self-employed",
         "marital": "married",
         "education": "tertiary",
         "default": "yes",
         "balance": -3313,
         "housing": "yes",
         "loan": "yes",
         "contact": "unknown",
         "day": 9,
         "month": "may",
         "duration": 153,
         "campaign": 1,
         "pdays": -1,
         "previous": 0,
         "poutcome": "unknown",
         "y": "no",
         "_deepnote_index_column": 4517
        },
        {
         "age": 57,
         "job": "technician",
         "marital": "married",
         "education": "secondary",
         "default": "no",
         "balance": 295,
         "housing": "no",
         "loan": "no",
         "contact": "cellular",
         "day": 19,
         "month": "aug",
         "duration": 151,
         "campaign": 11,
         "pdays": -1,
         "previous": 0,
         "poutcome": "unknown",
         "y": "no",
         "_deepnote_index_column": 4518
        },
        {
         "age": 44,
         "job": "entrepreneur",
         "marital": "single",
         "education": "tertiary",
         "default": "no",
         "balance": 1136,
         "housing": "yes",
         "loan": "yes",
         "contact": "cellular",
         "day": 3,
         "month": "apr",
         "duration": 345,
         "campaign": 2,
         "pdays": 249,
         "previous": 7,
         "poutcome": "other",
         "y": "no",
         "_deepnote_index_column": 4520
        }
       ]
      },
      "text/plain": "      age            job  marital  education default  balance housing loan  \\\n1      33       services  married  secondary      no     4789     yes  yes   \n2      35     management   single   tertiary      no     1350     yes   no   \n4      59    blue-collar  married  secondary      no        0     yes   no   \n5      35     management   single   tertiary      no      747      no   no   \n6      36  self-employed  married   tertiary      no      307     yes   no   \n...   ...            ...      ...        ...     ...      ...     ...  ...   \n4515   32       services   single  secondary      no      473     yes   no   \n4516   33       services  married  secondary      no     -333     yes   no   \n4517   57  self-employed  married   tertiary     yes    -3313     yes  yes   \n4518   57     technician  married  secondary      no      295      no   no   \n4520   44   entrepreneur   single   tertiary      no     1136     yes  yes   \n\n       contact  day month  duration  campaign  pdays  previous poutcome   y  \n1     cellular   11   may       220         1    339         4  failure  no  \n2     cellular   16   apr       185         1    330         1  failure  no  \n4      unknown    5   may       226         1     -1         0  unknown  no  \n5     cellular   23   feb       141         2    176         3  failure  no  \n6     cellular   14   may       341         1    330         2    other  no  \n...        ...  ...   ...       ...       ...    ...       ...      ...  ..  \n4515  cellular    7   jul       624         5     -1         0  unknown  no  \n4516  cellular   30   jul       329         5     -1         0  unknown  no  \n4517   unknown    9   may       153         1     -1         0  unknown  no  \n4518  cellular   19   aug       151        11     -1         0  unknown  no  \n4520  cellular    3   apr       345         2    249         7    other  no  \n\n[3889 rows x 17 columns]",
      "text/html": "<div>\n<style scoped>\n    .dataframe tbody tr th:only-of-type {\n        vertical-align: middle;\n    }\n\n    .dataframe tbody tr th {\n        vertical-align: top;\n    }\n\n    .dataframe thead th {\n        text-align: right;\n    }\n</style>\n<table border=\"1\" class=\"dataframe\">\n  <thead>\n    <tr style=\"text-align: right;\">\n      <th></th>\n      <th>age</th>\n      <th>job</th>\n      <th>marital</th>\n      <th>education</th>\n      <th>default</th>\n      <th>balance</th>\n      <th>housing</th>\n      <th>loan</th>\n      <th>contact</th>\n      <th>day</th>\n      <th>month</th>\n      <th>duration</th>\n      <th>campaign</th>\n      <th>pdays</th>\n      <th>previous</th>\n      <th>poutcome</th>\n      <th>y</th>\n    </tr>\n  </thead>\n  <tbody>\n    <tr>\n      <th>1</th>\n      <td>33</td>\n      <td>services</td>\n      <td>married</td>\n      <td>secondary</td>\n      <td>no</td>\n      <td>4789</td>\n      <td>yes</td>\n      <td>yes</td>\n      <td>cellular</td>\n      <td>11</td>\n      <td>may</td>\n      <td>220</td>\n      <td>1</td>\n      <td>339</td>\n      <td>4</td>\n      <td>failure</td>\n      <td>no</td>\n    </tr>\n    <tr>\n      <th>2</th>\n      <td>35</td>\n      <td>management</td>\n      <td>single</td>\n      <td>tertiary</td>\n      <td>no</td>\n      <td>1350</td>\n      <td>yes</td>\n      <td>no</td>\n      <td>cellular</td>\n      <td>16</td>\n      <td>apr</td>\n      <td>185</td>\n      <td>1</td>\n      <td>330</td>\n      <td>1</td>\n      <td>failure</td>\n      <td>no</td>\n    </tr>\n    <tr>\n      <th>4</th>\n      <td>59</td>\n      <td>blue-collar</td>\n      <td>married</td>\n      <td>secondary</td>\n      <td>no</td>\n      <td>0</td>\n      <td>yes</td>\n      <td>no</td>\n      <td>unknown</td>\n      <td>5</td>\n      <td>may</td>\n      <td>226</td>\n      <td>1</td>\n      <td>-1</td>\n      <td>0</td>\n      <td>unknown</td>\n      <td>no</td>\n    </tr>\n    <tr>\n      <th>5</th>\n      <td>35</td>\n      <td>management</td>\n      <td>single</td>\n      <td>tertiary</td>\n      <td>no</td>\n      <td>747</td>\n      <td>no</td>\n      <td>no</td>\n      <td>cellular</td>\n      <td>23</td>\n      <td>feb</td>\n      <td>141</td>\n      <td>2</td>\n      <td>176</td>\n      <td>3</td>\n      <td>failure</td>\n      <td>no</td>\n    </tr>\n    <tr>\n      <th>6</th>\n      <td>36</td>\n      <td>self-employed</td>\n      <td>married</td>\n      <td>tertiary</td>\n      <td>no</td>\n      <td>307</td>\n      <td>yes</td>\n      <td>no</td>\n      <td>cellular</td>\n      <td>14</td>\n      <td>may</td>\n      <td>341</td>\n      <td>1</td>\n      <td>330</td>\n      <td>2</td>\n      <td>other</td>\n      <td>no</td>\n    </tr>\n    <tr>\n      <th>...</th>\n      <td>...</td>\n      <td>...</td>\n      <td>...</td>\n      <td>...</td>\n      <td>...</td>\n      <td>...</td>\n      <td>...</td>\n      <td>...</td>\n      <td>...</td>\n      <td>...</td>\n      <td>...</td>\n      <td>...</td>\n      <td>...</td>\n      <td>...</td>\n      <td>...</td>\n      <td>...</td>\n      <td>...</td>\n    </tr>\n    <tr>\n      <th>4515</th>\n      <td>32</td>\n      <td>services</td>\n      <td>single</td>\n      <td>secondary</td>\n      <td>no</td>\n      <td>473</td>\n      <td>yes</td>\n      <td>no</td>\n      <td>cellular</td>\n      <td>7</td>\n      <td>jul</td>\n      <td>624</td>\n      <td>5</td>\n      <td>-1</td>\n      <td>0</td>\n      <td>unknown</td>\n      <td>no</td>\n    </tr>\n    <tr>\n      <th>4516</th>\n      <td>33</td>\n      <td>services</td>\n      <td>married</td>\n      <td>secondary</td>\n      <td>no</td>\n      <td>-333</td>\n      <td>yes</td>\n      <td>no</td>\n      <td>cellular</td>\n      <td>30</td>\n      <td>jul</td>\n      <td>329</td>\n      <td>5</td>\n      <td>-1</td>\n      <td>0</td>\n      <td>unknown</td>\n      <td>no</td>\n    </tr>\n    <tr>\n      <th>4517</th>\n      <td>57</td>\n      <td>self-employed</td>\n      <td>married</td>\n      <td>tertiary</td>\n      <td>yes</td>\n      <td>-3313</td>\n      <td>yes</td>\n      <td>yes</td>\n      <td>unknown</td>\n      <td>9</td>\n      <td>may</td>\n      <td>153</td>\n      <td>1</td>\n      <td>-1</td>\n      <td>0</td>\n      <td>unknown</td>\n      <td>no</td>\n    </tr>\n    <tr>\n      <th>4518</th>\n      <td>57</td>\n      <td>technician</td>\n      <td>married</td>\n      <td>secondary</td>\n      <td>no</td>\n      <td>295</td>\n      <td>no</td>\n      <td>no</td>\n      <td>cellular</td>\n      <td>19</td>\n      <td>aug</td>\n      <td>151</td>\n      <td>11</td>\n      <td>-1</td>\n      <td>0</td>\n      <td>unknown</td>\n      <td>no</td>\n    </tr>\n    <tr>\n      <th>4520</th>\n      <td>44</td>\n      <td>entrepreneur</td>\n      <td>single</td>\n      <td>tertiary</td>\n      <td>no</td>\n      <td>1136</td>\n      <td>yes</td>\n      <td>yes</td>\n      <td>cellular</td>\n      <td>3</td>\n      <td>apr</td>\n      <td>345</td>\n      <td>2</td>\n      <td>249</td>\n      <td>7</td>\n      <td>other</td>\n      <td>no</td>\n    </tr>\n  </tbody>\n</table>\n<p>3889 rows × 17 columns</p>\n</div>"
     },
     "metadata": {}
    }
   ],
   "execution_count": null
  },
  {
   "cell_type": "code",
   "metadata": {
    "tags": [],
    "cell_id": "00045-4fd30133-ec9b-4dd3-9568-a4a5dc7afe6d",
    "deepnote_to_be_reexecuted": false,
    "source_hash": "a6e22de9",
    "execution_start": 1631946077872,
    "execution_millis": 105,
    "output_cleared": false,
    "deepnote_cell_type": "code"
   },
   "source": "data = data[data.marital.isin(['single','married']) & (data.age == 30)]\ndata",
   "outputs": [
    {
     "output_type": "execute_result",
     "execution_count": 31,
     "data": {
      "application/vnd.deepnote.dataframe.v2+json": {
       "row_count": 0,
       "column_count": 17,
       "columns": [
        {
         "name": "age",
         "dtype": "int64",
         "stats": {
          "unique_count": 0,
          "nan_count": 0,
          "min": null,
          "max": null,
          "histogram": [
           {
            "bin_start": 0,
            "bin_end": 0.1,
            "count": 0
           },
           {
            "bin_start": 0.1,
            "bin_end": 0.2,
            "count": 0
           },
           {
            "bin_start": 0.2,
            "bin_end": 0.30000000000000004,
            "count": 0
           },
           {
            "bin_start": 0.30000000000000004,
            "bin_end": 0.4,
            "count": 0
           },
           {
            "bin_start": 0.4,
            "bin_end": 0.5,
            "count": 0
           },
           {
            "bin_start": 0.5,
            "bin_end": 0.6000000000000001,
            "count": 0
           },
           {
            "bin_start": 0.6000000000000001,
            "bin_end": 0.7000000000000001,
            "count": 0
           },
           {
            "bin_start": 0.7000000000000001,
            "bin_end": 0.8,
            "count": 0
           },
           {
            "bin_start": 0.8,
            "bin_end": 0.9,
            "count": 0
           },
           {
            "bin_start": 0.9,
            "bin_end": 1,
            "count": 0
           }
          ]
         }
        },
        {
         "name": "job",
         "dtype": "object",
         "stats": {
          "unique_count": 0,
          "nan_count": 0,
          "categories": []
         }
        },
        {
         "name": "marital",
         "dtype": "object",
         "stats": {
          "unique_count": 0,
          "nan_count": 0,
          "categories": []
         }
        },
        {
         "name": "education",
         "dtype": "object",
         "stats": {
          "unique_count": 0,
          "nan_count": 0,
          "categories": []
         }
        },
        {
         "name": "default",
         "dtype": "object",
         "stats": {
          "unique_count": 0,
          "nan_count": 0,
          "categories": []
         }
        },
        {
         "name": "balance",
         "dtype": "int64",
         "stats": {
          "unique_count": 0,
          "nan_count": 0,
          "min": null,
          "max": null,
          "histogram": [
           {
            "bin_start": 0,
            "bin_end": 0.1,
            "count": 0
           },
           {
            "bin_start": 0.1,
            "bin_end": 0.2,
            "count": 0
           },
           {
            "bin_start": 0.2,
            "bin_end": 0.30000000000000004,
            "count": 0
           },
           {
            "bin_start": 0.30000000000000004,
            "bin_end": 0.4,
            "count": 0
           },
           {
            "bin_start": 0.4,
            "bin_end": 0.5,
            "count": 0
           },
           {
            "bin_start": 0.5,
            "bin_end": 0.6000000000000001,
            "count": 0
           },
           {
            "bin_start": 0.6000000000000001,
            "bin_end": 0.7000000000000001,
            "count": 0
           },
           {
            "bin_start": 0.7000000000000001,
            "bin_end": 0.8,
            "count": 0
           },
           {
            "bin_start": 0.8,
            "bin_end": 0.9,
            "count": 0
           },
           {
            "bin_start": 0.9,
            "bin_end": 1,
            "count": 0
           }
          ]
         }
        },
        {
         "name": "housing",
         "dtype": "object",
         "stats": {
          "unique_count": 0,
          "nan_count": 0,
          "categories": []
         }
        },
        {
         "name": "loan",
         "dtype": "object",
         "stats": {
          "unique_count": 0,
          "nan_count": 0,
          "categories": []
         }
        },
        {
         "name": "contact",
         "dtype": "object",
         "stats": {
          "unique_count": 0,
          "nan_count": 0,
          "categories": []
         }
        },
        {
         "name": "day",
         "dtype": "int64",
         "stats": {
          "unique_count": 0,
          "nan_count": 0,
          "min": null,
          "max": null,
          "histogram": [
           {
            "bin_start": 0,
            "bin_end": 0.1,
            "count": 0
           },
           {
            "bin_start": 0.1,
            "bin_end": 0.2,
            "count": 0
           },
           {
            "bin_start": 0.2,
            "bin_end": 0.30000000000000004,
            "count": 0
           },
           {
            "bin_start": 0.30000000000000004,
            "bin_end": 0.4,
            "count": 0
           },
           {
            "bin_start": 0.4,
            "bin_end": 0.5,
            "count": 0
           },
           {
            "bin_start": 0.5,
            "bin_end": 0.6000000000000001,
            "count": 0
           },
           {
            "bin_start": 0.6000000000000001,
            "bin_end": 0.7000000000000001,
            "count": 0
           },
           {
            "bin_start": 0.7000000000000001,
            "bin_end": 0.8,
            "count": 0
           },
           {
            "bin_start": 0.8,
            "bin_end": 0.9,
            "count": 0
           },
           {
            "bin_start": 0.9,
            "bin_end": 1,
            "count": 0
           }
          ]
         }
        },
        {
         "name": "month",
         "dtype": "object",
         "stats": {
          "unique_count": 0,
          "nan_count": 0,
          "categories": []
         }
        },
        {
         "name": "duration",
         "dtype": "int64",
         "stats": {
          "unique_count": 0,
          "nan_count": 0,
          "min": null,
          "max": null,
          "histogram": [
           {
            "bin_start": 0,
            "bin_end": 0.1,
            "count": 0
           },
           {
            "bin_start": 0.1,
            "bin_end": 0.2,
            "count": 0
           },
           {
            "bin_start": 0.2,
            "bin_end": 0.30000000000000004,
            "count": 0
           },
           {
            "bin_start": 0.30000000000000004,
            "bin_end": 0.4,
            "count": 0
           },
           {
            "bin_start": 0.4,
            "bin_end": 0.5,
            "count": 0
           },
           {
            "bin_start": 0.5,
            "bin_end": 0.6000000000000001,
            "count": 0
           },
           {
            "bin_start": 0.6000000000000001,
            "bin_end": 0.7000000000000001,
            "count": 0
           },
           {
            "bin_start": 0.7000000000000001,
            "bin_end": 0.8,
            "count": 0
           },
           {
            "bin_start": 0.8,
            "bin_end": 0.9,
            "count": 0
           },
           {
            "bin_start": 0.9,
            "bin_end": 1,
            "count": 0
           }
          ]
         }
        },
        {
         "name": "campaign",
         "dtype": "int64",
         "stats": {
          "unique_count": 0,
          "nan_count": 0,
          "min": null,
          "max": null,
          "histogram": [
           {
            "bin_start": 0,
            "bin_end": 0.1,
            "count": 0
           },
           {
            "bin_start": 0.1,
            "bin_end": 0.2,
            "count": 0
           },
           {
            "bin_start": 0.2,
            "bin_end": 0.30000000000000004,
            "count": 0
           },
           {
            "bin_start": 0.30000000000000004,
            "bin_end": 0.4,
            "count": 0
           },
           {
            "bin_start": 0.4,
            "bin_end": 0.5,
            "count": 0
           },
           {
            "bin_start": 0.5,
            "bin_end": 0.6000000000000001,
            "count": 0
           },
           {
            "bin_start": 0.6000000000000001,
            "bin_end": 0.7000000000000001,
            "count": 0
           },
           {
            "bin_start": 0.7000000000000001,
            "bin_end": 0.8,
            "count": 0
           },
           {
            "bin_start": 0.8,
            "bin_end": 0.9,
            "count": 0
           },
           {
            "bin_start": 0.9,
            "bin_end": 1,
            "count": 0
           }
          ]
         }
        },
        {
         "name": "pdays",
         "dtype": "int64",
         "stats": {
          "unique_count": 0,
          "nan_count": 0,
          "min": null,
          "max": null,
          "histogram": [
           {
            "bin_start": 0,
            "bin_end": 0.1,
            "count": 0
           },
           {
            "bin_start": 0.1,
            "bin_end": 0.2,
            "count": 0
           },
           {
            "bin_start": 0.2,
            "bin_end": 0.30000000000000004,
            "count": 0
           },
           {
            "bin_start": 0.30000000000000004,
            "bin_end": 0.4,
            "count": 0
           },
           {
            "bin_start": 0.4,
            "bin_end": 0.5,
            "count": 0
           },
           {
            "bin_start": 0.5,
            "bin_end": 0.6000000000000001,
            "count": 0
           },
           {
            "bin_start": 0.6000000000000001,
            "bin_end": 0.7000000000000001,
            "count": 0
           },
           {
            "bin_start": 0.7000000000000001,
            "bin_end": 0.8,
            "count": 0
           },
           {
            "bin_start": 0.8,
            "bin_end": 0.9,
            "count": 0
           },
           {
            "bin_start": 0.9,
            "bin_end": 1,
            "count": 0
           }
          ]
         }
        },
        {
         "name": "previous",
         "dtype": "int64",
         "stats": {
          "unique_count": 0,
          "nan_count": 0,
          "min": null,
          "max": null,
          "histogram": [
           {
            "bin_start": 0,
            "bin_end": 0.1,
            "count": 0
           },
           {
            "bin_start": 0.1,
            "bin_end": 0.2,
            "count": 0
           },
           {
            "bin_start": 0.2,
            "bin_end": 0.30000000000000004,
            "count": 0
           },
           {
            "bin_start": 0.30000000000000004,
            "bin_end": 0.4,
            "count": 0
           },
           {
            "bin_start": 0.4,
            "bin_end": 0.5,
            "count": 0
           },
           {
            "bin_start": 0.5,
            "bin_end": 0.6000000000000001,
            "count": 0
           },
           {
            "bin_start": 0.6000000000000001,
            "bin_end": 0.7000000000000001,
            "count": 0
           },
           {
            "bin_start": 0.7000000000000001,
            "bin_end": 0.8,
            "count": 0
           },
           {
            "bin_start": 0.8,
            "bin_end": 0.9,
            "count": 0
           },
           {
            "bin_start": 0.9,
            "bin_end": 1,
            "count": 0
           }
          ]
         }
        },
        {
         "name": "poutcome",
         "dtype": "object",
         "stats": {
          "unique_count": 0,
          "nan_count": 0,
          "categories": []
         }
        },
        {
         "name": "y",
         "dtype": "object",
         "stats": {
          "unique_count": 0,
          "nan_count": 0,
          "categories": []
         }
        },
        {
         "name": "_deepnote_index_column",
         "dtype": "int64"
        }
       ],
       "rows_top": [],
       "rows_bottom": null
      },
      "text/plain": "Empty DataFrame\nColumns: [age, job, marital, education, default, balance, housing, loan, contact, day, month, duration, campaign, pdays, previous, poutcome, y]\nIndex: []",
      "text/html": "<div>\n<style scoped>\n    .dataframe tbody tr th:only-of-type {\n        vertical-align: middle;\n    }\n\n    .dataframe tbody tr th {\n        vertical-align: top;\n    }\n\n    .dataframe thead th {\n        text-align: right;\n    }\n</style>\n<table border=\"1\" class=\"dataframe\">\n  <thead>\n    <tr style=\"text-align: right;\">\n      <th></th>\n      <th>age</th>\n      <th>job</th>\n      <th>marital</th>\n      <th>education</th>\n      <th>default</th>\n      <th>balance</th>\n      <th>housing</th>\n      <th>loan</th>\n      <th>contact</th>\n      <th>day</th>\n      <th>month</th>\n      <th>duration</th>\n      <th>campaign</th>\n      <th>pdays</th>\n      <th>previous</th>\n      <th>poutcome</th>\n      <th>y</th>\n    </tr>\n  </thead>\n  <tbody>\n  </tbody>\n</table>\n</div>"
     },
     "metadata": {}
    }
   ],
   "execution_count": null
  },
  {
   "cell_type": "markdown",
   "source": "### Add column",
   "metadata": {
    "cell_id": "00046-ecddcfe1-4ee2-497b-afa8-686e1a54a6b2",
    "deepnote_cell_type": "markdown"
   }
  },
  {
   "cell_type": "code",
   "metadata": {
    "cell_id": "00047-2942cdf0-9e8f-4e8b-ae7b-dd8a3b3823f9",
    "deepnote_to_be_reexecuted": false,
    "source_hash": "9db81b9d",
    "execution_start": 1631946427929,
    "execution_millis": 79,
    "output_cleared": false,
    "deepnote_cell_type": "code"
   },
   "source": "oneColumn = np.ones(len(bankData))\nprint(oneColumn)\nbankData['one'] = oneColumn\nbankData.head()",
   "execution_count": 3,
   "outputs": [
    {
     "name": "stdout",
     "text": "[1. 1. 1. ... 1. 1. 1.]\n",
     "output_type": "stream"
    },
    {
     "output_type": "execute_result",
     "execution_count": 3,
     "data": {
      "application/vnd.deepnote.dataframe.v2+json": {
       "row_count": 5,
       "column_count": 18,
       "columns": [
        {
         "name": "age",
         "dtype": "int64",
         "stats": {
          "unique_count": 4,
          "nan_count": 0,
          "min": "30",
          "max": "59",
          "histogram": [
           {
            "bin_start": 30,
            "bin_end": 32.9,
            "count": 2
           },
           {
            "bin_start": 32.9,
            "bin_end": 35.8,
            "count": 2
           },
           {
            "bin_start": 35.8,
            "bin_end": 38.7,
            "count": 0
           },
           {
            "bin_start": 38.7,
            "bin_end": 41.6,
            "count": 0
           },
           {
            "bin_start": 41.6,
            "bin_end": 44.5,
            "count": 0
           },
           {
            "bin_start": 44.5,
            "bin_end": 47.4,
            "count": 0
           },
           {
            "bin_start": 47.4,
            "bin_end": 50.3,
            "count": 0
           },
           {
            "bin_start": 50.3,
            "bin_end": 53.2,
            "count": 0
           },
           {
            "bin_start": 53.2,
            "bin_end": 56.099999999999994,
            "count": 0
           },
           {
            "bin_start": 56.099999999999994,
            "bin_end": 59,
            "count": 1
           }
          ]
         }
        },
        {
         "name": "job",
         "dtype": "object",
         "stats": {
          "unique_count": 4,
          "nan_count": 0,
          "categories": [
           {
            "name": "management",
            "count": 2
           },
           {
            "name": "unemployed",
            "count": 1
           },
           {
            "name": "2 others",
            "count": 2
           }
          ]
         }
        },
        {
         "name": "marital",
         "dtype": "object",
         "stats": {
          "unique_count": 2,
          "nan_count": 0,
          "categories": [
           {
            "name": "married",
            "count": 4
           },
           {
            "name": "single",
            "count": 1
           }
          ]
         }
        },
        {
         "name": "education",
         "dtype": "object",
         "stats": {
          "unique_count": 3,
          "nan_count": 0,
          "categories": [
           {
            "name": "secondary",
            "count": 2
           },
           {
            "name": "tertiary",
            "count": 2
           },
           {
            "name": "primary",
            "count": 1
           }
          ]
         }
        },
        {
         "name": "default",
         "dtype": "object",
         "stats": {
          "unique_count": 1,
          "nan_count": 0,
          "categories": [
           {
            "name": "no",
            "count": 5
           }
          ]
         }
        },
        {
         "name": "balance",
         "dtype": "int64",
         "stats": {
          "unique_count": 5,
          "nan_count": 0,
          "min": "0",
          "max": "4789",
          "histogram": [
           {
            "bin_start": 0,
            "bin_end": 478.9,
            "count": 1
           },
           {
            "bin_start": 478.9,
            "bin_end": 957.8,
            "count": 0
           },
           {
            "bin_start": 957.8,
            "bin_end": 1436.6999999999998,
            "count": 1
           },
           {
            "bin_start": 1436.6999999999998,
            "bin_end": 1915.6,
            "count": 2
           },
           {
            "bin_start": 1915.6,
            "bin_end": 2394.5,
            "count": 0
           },
           {
            "bin_start": 2394.5,
            "bin_end": 2873.3999999999996,
            "count": 0
           },
           {
            "bin_start": 2873.3999999999996,
            "bin_end": 3352.2999999999997,
            "count": 0
           },
           {
            "bin_start": 3352.2999999999997,
            "bin_end": 3831.2,
            "count": 0
           },
           {
            "bin_start": 3831.2,
            "bin_end": 4310.099999999999,
            "count": 0
           },
           {
            "bin_start": 4310.099999999999,
            "bin_end": 4789,
            "count": 1
           }
          ]
         }
        },
        {
         "name": "housing",
         "dtype": "object",
         "stats": {
          "unique_count": 2,
          "nan_count": 0,
          "categories": [
           {
            "name": "yes",
            "count": 4
           },
           {
            "name": "no",
            "count": 1
           }
          ]
         }
        },
        {
         "name": "loan",
         "dtype": "object",
         "stats": {
          "unique_count": 2,
          "nan_count": 0,
          "categories": [
           {
            "name": "no",
            "count": 3
           },
           {
            "name": "yes",
            "count": 2
           }
          ]
         }
        },
        {
         "name": "contact",
         "dtype": "object",
         "stats": {
          "unique_count": 2,
          "nan_count": 0,
          "categories": [
           {
            "name": "cellular",
            "count": 3
           },
           {
            "name": "unknown",
            "count": 2
           }
          ]
         }
        },
        {
         "name": "day",
         "dtype": "int64",
         "stats": {
          "unique_count": 5,
          "nan_count": 0,
          "min": "3",
          "max": "19",
          "histogram": [
           {
            "bin_start": 3,
            "bin_end": 4.6,
            "count": 1
           },
           {
            "bin_start": 4.6,
            "bin_end": 6.2,
            "count": 1
           },
           {
            "bin_start": 6.2,
            "bin_end": 7.800000000000001,
            "count": 0
           },
           {
            "bin_start": 7.800000000000001,
            "bin_end": 9.4,
            "count": 0
           },
           {
            "bin_start": 9.4,
            "bin_end": 11,
            "count": 0
           },
           {
            "bin_start": 11,
            "bin_end": 12.600000000000001,
            "count": 1
           },
           {
            "bin_start": 12.600000000000001,
            "bin_end": 14.200000000000001,
            "count": 0
           },
           {
            "bin_start": 14.200000000000001,
            "bin_end": 15.8,
            "count": 0
           },
           {
            "bin_start": 15.8,
            "bin_end": 17.4,
            "count": 1
           },
           {
            "bin_start": 17.4,
            "bin_end": 19,
            "count": 1
           }
          ]
         }
        },
        {
         "name": "month",
         "dtype": "object",
         "stats": {
          "unique_count": 4,
          "nan_count": 0,
          "categories": [
           {
            "name": "may",
            "count": 2
           },
           {
            "name": "oct",
            "count": 1
           },
           {
            "name": "2 others",
            "count": 2
           }
          ]
         }
        },
        {
         "name": "duration",
         "dtype": "int64",
         "stats": {
          "unique_count": 5,
          "nan_count": 0,
          "min": "79",
          "max": "226",
          "histogram": [
           {
            "bin_start": 79,
            "bin_end": 93.7,
            "count": 1
           },
           {
            "bin_start": 93.7,
            "bin_end": 108.4,
            "count": 0
           },
           {
            "bin_start": 108.4,
            "bin_end": 123.1,
            "count": 0
           },
           {
            "bin_start": 123.1,
            "bin_end": 137.8,
            "count": 0
           },
           {
            "bin_start": 137.8,
            "bin_end": 152.5,
            "count": 0
           },
           {
            "bin_start": 152.5,
            "bin_end": 167.2,
            "count": 0
           },
           {
            "bin_start": 167.2,
            "bin_end": 181.89999999999998,
            "count": 0
           },
           {
            "bin_start": 181.89999999999998,
            "bin_end": 196.6,
            "count": 1
           },
           {
            "bin_start": 196.6,
            "bin_end": 211.29999999999998,
            "count": 1
           },
           {
            "bin_start": 211.29999999999998,
            "bin_end": 226,
            "count": 2
           }
          ]
         }
        },
        {
         "name": "campaign",
         "dtype": "int64",
         "stats": {
          "unique_count": 2,
          "nan_count": 0,
          "min": "1",
          "max": "4",
          "histogram": [
           {
            "bin_start": 1,
            "bin_end": 1.3,
            "count": 4
           },
           {
            "bin_start": 1.3,
            "bin_end": 1.6,
            "count": 0
           },
           {
            "bin_start": 1.6,
            "bin_end": 1.9,
            "count": 0
           },
           {
            "bin_start": 1.9,
            "bin_end": 2.2,
            "count": 0
           },
           {
            "bin_start": 2.2,
            "bin_end": 2.5,
            "count": 0
           },
           {
            "bin_start": 2.5,
            "bin_end": 2.8,
            "count": 0
           },
           {
            "bin_start": 2.8,
            "bin_end": 3.1,
            "count": 0
           },
           {
            "bin_start": 3.1,
            "bin_end": 3.4,
            "count": 0
           },
           {
            "bin_start": 3.4,
            "bin_end": 3.6999999999999997,
            "count": 0
           },
           {
            "bin_start": 3.6999999999999997,
            "bin_end": 4,
            "count": 1
           }
          ]
         }
        },
        {
         "name": "pdays",
         "dtype": "int64",
         "stats": {
          "unique_count": 3,
          "nan_count": 0,
          "min": "-1",
          "max": "339",
          "histogram": [
           {
            "bin_start": -1,
            "bin_end": 33,
            "count": 3
           },
           {
            "bin_start": 33,
            "bin_end": 67,
            "count": 0
           },
           {
            "bin_start": 67,
            "bin_end": 101,
            "count": 0
           },
           {
            "bin_start": 101,
            "bin_end": 135,
            "count": 0
           },
           {
            "bin_start": 135,
            "bin_end": 169,
            "count": 0
           },
           {
            "bin_start": 169,
            "bin_end": 203,
            "count": 0
           },
           {
            "bin_start": 203,
            "bin_end": 237,
            "count": 0
           },
           {
            "bin_start": 237,
            "bin_end": 271,
            "count": 0
           },
           {
            "bin_start": 271,
            "bin_end": 305,
            "count": 0
           },
           {
            "bin_start": 305,
            "bin_end": 339,
            "count": 2
           }
          ]
         }
        },
        {
         "name": "previous",
         "dtype": "int64",
         "stats": {
          "unique_count": 3,
          "nan_count": 0,
          "min": "0",
          "max": "4",
          "histogram": [
           {
            "bin_start": 0,
            "bin_end": 0.4,
            "count": 3
           },
           {
            "bin_start": 0.4,
            "bin_end": 0.8,
            "count": 0
           },
           {
            "bin_start": 0.8,
            "bin_end": 1.2000000000000002,
            "count": 1
           },
           {
            "bin_start": 1.2000000000000002,
            "bin_end": 1.6,
            "count": 0
           },
           {
            "bin_start": 1.6,
            "bin_end": 2,
            "count": 0
           },
           {
            "bin_start": 2,
            "bin_end": 2.4000000000000004,
            "count": 0
           },
           {
            "bin_start": 2.4000000000000004,
            "bin_end": 2.8000000000000003,
            "count": 0
           },
           {
            "bin_start": 2.8000000000000003,
            "bin_end": 3.2,
            "count": 0
           },
           {
            "bin_start": 3.2,
            "bin_end": 3.6,
            "count": 0
           },
           {
            "bin_start": 3.6,
            "bin_end": 4,
            "count": 1
           }
          ]
         }
        },
        {
         "name": "poutcome",
         "dtype": "object",
         "stats": {
          "unique_count": 2,
          "nan_count": 0,
          "categories": [
           {
            "name": "unknown",
            "count": 3
           },
           {
            "name": "failure",
            "count": 2
           }
          ]
         }
        },
        {
         "name": "y",
         "dtype": "object",
         "stats": {
          "unique_count": 1,
          "nan_count": 0,
          "categories": [
           {
            "name": "no",
            "count": 5
           }
          ]
         }
        },
        {
         "name": "one",
         "dtype": "float64",
         "stats": {
          "unique_count": 1,
          "nan_count": 0,
          "min": "1.0",
          "max": "1.0",
          "histogram": [
           {
            "bin_start": 0.5,
            "bin_end": 0.6,
            "count": 0
           },
           {
            "bin_start": 0.6,
            "bin_end": 0.7,
            "count": 0
           },
           {
            "bin_start": 0.7,
            "bin_end": 0.8,
            "count": 0
           },
           {
            "bin_start": 0.8,
            "bin_end": 0.9,
            "count": 0
           },
           {
            "bin_start": 0.9,
            "bin_end": 1,
            "count": 0
           },
           {
            "bin_start": 1,
            "bin_end": 1.1,
            "count": 5
           },
           {
            "bin_start": 1.1,
            "bin_end": 1.2000000000000002,
            "count": 0
           },
           {
            "bin_start": 1.2000000000000002,
            "bin_end": 1.3,
            "count": 0
           },
           {
            "bin_start": 1.3,
            "bin_end": 1.4,
            "count": 0
           },
           {
            "bin_start": 1.4,
            "bin_end": 1.5,
            "count": 0
           }
          ]
         }
        },
        {
         "name": "_deepnote_index_column",
         "dtype": "int64"
        }
       ],
       "rows_top": [
        {
         "age": 30,
         "job": "unemployed",
         "marital": "married",
         "education": "primary",
         "default": "no",
         "balance": 1787,
         "housing": "no",
         "loan": "no",
         "contact": "cellular",
         "day": 19,
         "month": "oct",
         "duration": 79,
         "campaign": 1,
         "pdays": -1,
         "previous": 0,
         "poutcome": "unknown",
         "y": "no",
         "one": 1,
         "_deepnote_index_column": 0
        },
        {
         "age": 33,
         "job": "services",
         "marital": "married",
         "education": "secondary",
         "default": "no",
         "balance": 4789,
         "housing": "yes",
         "loan": "yes",
         "contact": "cellular",
         "day": 11,
         "month": "may",
         "duration": 220,
         "campaign": 1,
         "pdays": 339,
         "previous": 4,
         "poutcome": "failure",
         "y": "no",
         "one": 1,
         "_deepnote_index_column": 1
        },
        {
         "age": 35,
         "job": "management",
         "marital": "single",
         "education": "tertiary",
         "default": "no",
         "balance": 1350,
         "housing": "yes",
         "loan": "no",
         "contact": "cellular",
         "day": 16,
         "month": "apr",
         "duration": 185,
         "campaign": 1,
         "pdays": 330,
         "previous": 1,
         "poutcome": "failure",
         "y": "no",
         "one": 1,
         "_deepnote_index_column": 2
        },
        {
         "age": 30,
         "job": "management",
         "marital": "married",
         "education": "tertiary",
         "default": "no",
         "balance": 1476,
         "housing": "yes",
         "loan": "yes",
         "contact": "unknown",
         "day": 3,
         "month": "jun",
         "duration": 199,
         "campaign": 4,
         "pdays": -1,
         "previous": 0,
         "poutcome": "unknown",
         "y": "no",
         "one": 1,
         "_deepnote_index_column": 3
        },
        {
         "age": 59,
         "job": "blue-collar",
         "marital": "married",
         "education": "secondary",
         "default": "no",
         "balance": 0,
         "housing": "yes",
         "loan": "no",
         "contact": "unknown",
         "day": 5,
         "month": "may",
         "duration": 226,
         "campaign": 1,
         "pdays": -1,
         "previous": 0,
         "poutcome": "unknown",
         "y": "no",
         "one": 1,
         "_deepnote_index_column": 4
        }
       ],
       "rows_bottom": null
      },
      "text/plain": "   age          job  marital  education default  balance housing loan  \\\n0   30   unemployed  married    primary      no     1787      no   no   \n1   33     services  married  secondary      no     4789     yes  yes   \n2   35   management   single   tertiary      no     1350     yes   no   \n3   30   management  married   tertiary      no     1476     yes  yes   \n4   59  blue-collar  married  secondary      no        0     yes   no   \n\n    contact  day month  duration  campaign  pdays  previous poutcome   y  one  \n0  cellular   19   oct        79         1     -1         0  unknown  no  1.0  \n1  cellular   11   may       220         1    339         4  failure  no  1.0  \n2  cellular   16   apr       185         1    330         1  failure  no  1.0  \n3   unknown    3   jun       199         4     -1         0  unknown  no  1.0  \n4   unknown    5   may       226         1     -1         0  unknown  no  1.0  ",
      "text/html": "<div>\n<style scoped>\n    .dataframe tbody tr th:only-of-type {\n        vertical-align: middle;\n    }\n\n    .dataframe tbody tr th {\n        vertical-align: top;\n    }\n\n    .dataframe thead th {\n        text-align: right;\n    }\n</style>\n<table border=\"1\" class=\"dataframe\">\n  <thead>\n    <tr style=\"text-align: right;\">\n      <th></th>\n      <th>age</th>\n      <th>job</th>\n      <th>marital</th>\n      <th>education</th>\n      <th>default</th>\n      <th>balance</th>\n      <th>housing</th>\n      <th>loan</th>\n      <th>contact</th>\n      <th>day</th>\n      <th>month</th>\n      <th>duration</th>\n      <th>campaign</th>\n      <th>pdays</th>\n      <th>previous</th>\n      <th>poutcome</th>\n      <th>y</th>\n      <th>one</th>\n    </tr>\n  </thead>\n  <tbody>\n    <tr>\n      <th>0</th>\n      <td>30</td>\n      <td>unemployed</td>\n      <td>married</td>\n      <td>primary</td>\n      <td>no</td>\n      <td>1787</td>\n      <td>no</td>\n      <td>no</td>\n      <td>cellular</td>\n      <td>19</td>\n      <td>oct</td>\n      <td>79</td>\n      <td>1</td>\n      <td>-1</td>\n      <td>0</td>\n      <td>unknown</td>\n      <td>no</td>\n      <td>1.0</td>\n    </tr>\n    <tr>\n      <th>1</th>\n      <td>33</td>\n      <td>services</td>\n      <td>married</td>\n      <td>secondary</td>\n      <td>no</td>\n      <td>4789</td>\n      <td>yes</td>\n      <td>yes</td>\n      <td>cellular</td>\n      <td>11</td>\n      <td>may</td>\n      <td>220</td>\n      <td>1</td>\n      <td>339</td>\n      <td>4</td>\n      <td>failure</td>\n      <td>no</td>\n      <td>1.0</td>\n    </tr>\n    <tr>\n      <th>2</th>\n      <td>35</td>\n      <td>management</td>\n      <td>single</td>\n      <td>tertiary</td>\n      <td>no</td>\n      <td>1350</td>\n      <td>yes</td>\n      <td>no</td>\n      <td>cellular</td>\n      <td>16</td>\n      <td>apr</td>\n      <td>185</td>\n      <td>1</td>\n      <td>330</td>\n      <td>1</td>\n      <td>failure</td>\n      <td>no</td>\n      <td>1.0</td>\n    </tr>\n    <tr>\n      <th>3</th>\n      <td>30</td>\n      <td>management</td>\n      <td>married</td>\n      <td>tertiary</td>\n      <td>no</td>\n      <td>1476</td>\n      <td>yes</td>\n      <td>yes</td>\n      <td>unknown</td>\n      <td>3</td>\n      <td>jun</td>\n      <td>199</td>\n      <td>4</td>\n      <td>-1</td>\n      <td>0</td>\n      <td>unknown</td>\n      <td>no</td>\n      <td>1.0</td>\n    </tr>\n    <tr>\n      <th>4</th>\n      <td>59</td>\n      <td>blue-collar</td>\n      <td>married</td>\n      <td>secondary</td>\n      <td>no</td>\n      <td>0</td>\n      <td>yes</td>\n      <td>no</td>\n      <td>unknown</td>\n      <td>5</td>\n      <td>may</td>\n      <td>226</td>\n      <td>1</td>\n      <td>-1</td>\n      <td>0</td>\n      <td>unknown</td>\n      <td>no</td>\n      <td>1.0</td>\n    </tr>\n  </tbody>\n</table>\n</div>"
     },
     "metadata": {}
    }
   ]
  },
  {
   "cell_type": "markdown",
   "source": "### Delete column",
   "metadata": {
    "cell_id": "00048-05266cfb-016c-42cc-98c5-1f566f2a4b79",
    "deepnote_cell_type": "markdown"
   }
  },
  {
   "cell_type": "code",
   "metadata": {
    "cell_id": "00049-13744821-00b7-4142-aa5e-034b0a0d305f",
    "deepnote_to_be_reexecuted": false,
    "source_hash": "6d0a5926",
    "execution_start": 1631946439450,
    "execution_millis": 46,
    "output_cleared": false,
    "deepnote_cell_type": "code"
   },
   "source": "del bankData['one']\nbankData.head()",
   "execution_count": 4,
   "outputs": [
    {
     "output_type": "execute_result",
     "execution_count": 4,
     "data": {
      "application/vnd.deepnote.dataframe.v2+json": {
       "row_count": 5,
       "column_count": 17,
       "columns": [
        {
         "name": "age",
         "dtype": "int64",
         "stats": {
          "unique_count": 4,
          "nan_count": 0,
          "min": "30",
          "max": "59",
          "histogram": [
           {
            "bin_start": 30,
            "bin_end": 32.9,
            "count": 2
           },
           {
            "bin_start": 32.9,
            "bin_end": 35.8,
            "count": 2
           },
           {
            "bin_start": 35.8,
            "bin_end": 38.7,
            "count": 0
           },
           {
            "bin_start": 38.7,
            "bin_end": 41.6,
            "count": 0
           },
           {
            "bin_start": 41.6,
            "bin_end": 44.5,
            "count": 0
           },
           {
            "bin_start": 44.5,
            "bin_end": 47.4,
            "count": 0
           },
           {
            "bin_start": 47.4,
            "bin_end": 50.3,
            "count": 0
           },
           {
            "bin_start": 50.3,
            "bin_end": 53.2,
            "count": 0
           },
           {
            "bin_start": 53.2,
            "bin_end": 56.099999999999994,
            "count": 0
           },
           {
            "bin_start": 56.099999999999994,
            "bin_end": 59,
            "count": 1
           }
          ]
         }
        },
        {
         "name": "job",
         "dtype": "object",
         "stats": {
          "unique_count": 4,
          "nan_count": 0,
          "categories": [
           {
            "name": "management",
            "count": 2
           },
           {
            "name": "unemployed",
            "count": 1
           },
           {
            "name": "2 others",
            "count": 2
           }
          ]
         }
        },
        {
         "name": "marital",
         "dtype": "object",
         "stats": {
          "unique_count": 2,
          "nan_count": 0,
          "categories": [
           {
            "name": "married",
            "count": 4
           },
           {
            "name": "single",
            "count": 1
           }
          ]
         }
        },
        {
         "name": "education",
         "dtype": "object",
         "stats": {
          "unique_count": 3,
          "nan_count": 0,
          "categories": [
           {
            "name": "secondary",
            "count": 2
           },
           {
            "name": "tertiary",
            "count": 2
           },
           {
            "name": "primary",
            "count": 1
           }
          ]
         }
        },
        {
         "name": "default",
         "dtype": "object",
         "stats": {
          "unique_count": 1,
          "nan_count": 0,
          "categories": [
           {
            "name": "no",
            "count": 5
           }
          ]
         }
        },
        {
         "name": "balance",
         "dtype": "int64",
         "stats": {
          "unique_count": 5,
          "nan_count": 0,
          "min": "0",
          "max": "4789",
          "histogram": [
           {
            "bin_start": 0,
            "bin_end": 478.9,
            "count": 1
           },
           {
            "bin_start": 478.9,
            "bin_end": 957.8,
            "count": 0
           },
           {
            "bin_start": 957.8,
            "bin_end": 1436.6999999999998,
            "count": 1
           },
           {
            "bin_start": 1436.6999999999998,
            "bin_end": 1915.6,
            "count": 2
           },
           {
            "bin_start": 1915.6,
            "bin_end": 2394.5,
            "count": 0
           },
           {
            "bin_start": 2394.5,
            "bin_end": 2873.3999999999996,
            "count": 0
           },
           {
            "bin_start": 2873.3999999999996,
            "bin_end": 3352.2999999999997,
            "count": 0
           },
           {
            "bin_start": 3352.2999999999997,
            "bin_end": 3831.2,
            "count": 0
           },
           {
            "bin_start": 3831.2,
            "bin_end": 4310.099999999999,
            "count": 0
           },
           {
            "bin_start": 4310.099999999999,
            "bin_end": 4789,
            "count": 1
           }
          ]
         }
        },
        {
         "name": "housing",
         "dtype": "object",
         "stats": {
          "unique_count": 2,
          "nan_count": 0,
          "categories": [
           {
            "name": "yes",
            "count": 4
           },
           {
            "name": "no",
            "count": 1
           }
          ]
         }
        },
        {
         "name": "loan",
         "dtype": "object",
         "stats": {
          "unique_count": 2,
          "nan_count": 0,
          "categories": [
           {
            "name": "no",
            "count": 3
           },
           {
            "name": "yes",
            "count": 2
           }
          ]
         }
        },
        {
         "name": "contact",
         "dtype": "object",
         "stats": {
          "unique_count": 2,
          "nan_count": 0,
          "categories": [
           {
            "name": "cellular",
            "count": 3
           },
           {
            "name": "unknown",
            "count": 2
           }
          ]
         }
        },
        {
         "name": "day",
         "dtype": "int64",
         "stats": {
          "unique_count": 5,
          "nan_count": 0,
          "min": "3",
          "max": "19",
          "histogram": [
           {
            "bin_start": 3,
            "bin_end": 4.6,
            "count": 1
           },
           {
            "bin_start": 4.6,
            "bin_end": 6.2,
            "count": 1
           },
           {
            "bin_start": 6.2,
            "bin_end": 7.800000000000001,
            "count": 0
           },
           {
            "bin_start": 7.800000000000001,
            "bin_end": 9.4,
            "count": 0
           },
           {
            "bin_start": 9.4,
            "bin_end": 11,
            "count": 0
           },
           {
            "bin_start": 11,
            "bin_end": 12.600000000000001,
            "count": 1
           },
           {
            "bin_start": 12.600000000000001,
            "bin_end": 14.200000000000001,
            "count": 0
           },
           {
            "bin_start": 14.200000000000001,
            "bin_end": 15.8,
            "count": 0
           },
           {
            "bin_start": 15.8,
            "bin_end": 17.4,
            "count": 1
           },
           {
            "bin_start": 17.4,
            "bin_end": 19,
            "count": 1
           }
          ]
         }
        },
        {
         "name": "month",
         "dtype": "object",
         "stats": {
          "unique_count": 4,
          "nan_count": 0,
          "categories": [
           {
            "name": "may",
            "count": 2
           },
           {
            "name": "oct",
            "count": 1
           },
           {
            "name": "2 others",
            "count": 2
           }
          ]
         }
        },
        {
         "name": "duration",
         "dtype": "int64",
         "stats": {
          "unique_count": 5,
          "nan_count": 0,
          "min": "79",
          "max": "226",
          "histogram": [
           {
            "bin_start": 79,
            "bin_end": 93.7,
            "count": 1
           },
           {
            "bin_start": 93.7,
            "bin_end": 108.4,
            "count": 0
           },
           {
            "bin_start": 108.4,
            "bin_end": 123.1,
            "count": 0
           },
           {
            "bin_start": 123.1,
            "bin_end": 137.8,
            "count": 0
           },
           {
            "bin_start": 137.8,
            "bin_end": 152.5,
            "count": 0
           },
           {
            "bin_start": 152.5,
            "bin_end": 167.2,
            "count": 0
           },
           {
            "bin_start": 167.2,
            "bin_end": 181.89999999999998,
            "count": 0
           },
           {
            "bin_start": 181.89999999999998,
            "bin_end": 196.6,
            "count": 1
           },
           {
            "bin_start": 196.6,
            "bin_end": 211.29999999999998,
            "count": 1
           },
           {
            "bin_start": 211.29999999999998,
            "bin_end": 226,
            "count": 2
           }
          ]
         }
        },
        {
         "name": "campaign",
         "dtype": "int64",
         "stats": {
          "unique_count": 2,
          "nan_count": 0,
          "min": "1",
          "max": "4",
          "histogram": [
           {
            "bin_start": 1,
            "bin_end": 1.3,
            "count": 4
           },
           {
            "bin_start": 1.3,
            "bin_end": 1.6,
            "count": 0
           },
           {
            "bin_start": 1.6,
            "bin_end": 1.9,
            "count": 0
           },
           {
            "bin_start": 1.9,
            "bin_end": 2.2,
            "count": 0
           },
           {
            "bin_start": 2.2,
            "bin_end": 2.5,
            "count": 0
           },
           {
            "bin_start": 2.5,
            "bin_end": 2.8,
            "count": 0
           },
           {
            "bin_start": 2.8,
            "bin_end": 3.1,
            "count": 0
           },
           {
            "bin_start": 3.1,
            "bin_end": 3.4,
            "count": 0
           },
           {
            "bin_start": 3.4,
            "bin_end": 3.6999999999999997,
            "count": 0
           },
           {
            "bin_start": 3.6999999999999997,
            "bin_end": 4,
            "count": 1
           }
          ]
         }
        },
        {
         "name": "pdays",
         "dtype": "int64",
         "stats": {
          "unique_count": 3,
          "nan_count": 0,
          "min": "-1",
          "max": "339",
          "histogram": [
           {
            "bin_start": -1,
            "bin_end": 33,
            "count": 3
           },
           {
            "bin_start": 33,
            "bin_end": 67,
            "count": 0
           },
           {
            "bin_start": 67,
            "bin_end": 101,
            "count": 0
           },
           {
            "bin_start": 101,
            "bin_end": 135,
            "count": 0
           },
           {
            "bin_start": 135,
            "bin_end": 169,
            "count": 0
           },
           {
            "bin_start": 169,
            "bin_end": 203,
            "count": 0
           },
           {
            "bin_start": 203,
            "bin_end": 237,
            "count": 0
           },
           {
            "bin_start": 237,
            "bin_end": 271,
            "count": 0
           },
           {
            "bin_start": 271,
            "bin_end": 305,
            "count": 0
           },
           {
            "bin_start": 305,
            "bin_end": 339,
            "count": 2
           }
          ]
         }
        },
        {
         "name": "previous",
         "dtype": "int64",
         "stats": {
          "unique_count": 3,
          "nan_count": 0,
          "min": "0",
          "max": "4",
          "histogram": [
           {
            "bin_start": 0,
            "bin_end": 0.4,
            "count": 3
           },
           {
            "bin_start": 0.4,
            "bin_end": 0.8,
            "count": 0
           },
           {
            "bin_start": 0.8,
            "bin_end": 1.2000000000000002,
            "count": 1
           },
           {
            "bin_start": 1.2000000000000002,
            "bin_end": 1.6,
            "count": 0
           },
           {
            "bin_start": 1.6,
            "bin_end": 2,
            "count": 0
           },
           {
            "bin_start": 2,
            "bin_end": 2.4000000000000004,
            "count": 0
           },
           {
            "bin_start": 2.4000000000000004,
            "bin_end": 2.8000000000000003,
            "count": 0
           },
           {
            "bin_start": 2.8000000000000003,
            "bin_end": 3.2,
            "count": 0
           },
           {
            "bin_start": 3.2,
            "bin_end": 3.6,
            "count": 0
           },
           {
            "bin_start": 3.6,
            "bin_end": 4,
            "count": 1
           }
          ]
         }
        },
        {
         "name": "poutcome",
         "dtype": "object",
         "stats": {
          "unique_count": 2,
          "nan_count": 0,
          "categories": [
           {
            "name": "unknown",
            "count": 3
           },
           {
            "name": "failure",
            "count": 2
           }
          ]
         }
        },
        {
         "name": "y",
         "dtype": "object",
         "stats": {
          "unique_count": 1,
          "nan_count": 0,
          "categories": [
           {
            "name": "no",
            "count": 5
           }
          ]
         }
        },
        {
         "name": "_deepnote_index_column",
         "dtype": "int64"
        }
       ],
       "rows_top": [
        {
         "age": 30,
         "job": "unemployed",
         "marital": "married",
         "education": "primary",
         "default": "no",
         "balance": 1787,
         "housing": "no",
         "loan": "no",
         "contact": "cellular",
         "day": 19,
         "month": "oct",
         "duration": 79,
         "campaign": 1,
         "pdays": -1,
         "previous": 0,
         "poutcome": "unknown",
         "y": "no",
         "_deepnote_index_column": 0
        },
        {
         "age": 33,
         "job": "services",
         "marital": "married",
         "education": "secondary",
         "default": "no",
         "balance": 4789,
         "housing": "yes",
         "loan": "yes",
         "contact": "cellular",
         "day": 11,
         "month": "may",
         "duration": 220,
         "campaign": 1,
         "pdays": 339,
         "previous": 4,
         "poutcome": "failure",
         "y": "no",
         "_deepnote_index_column": 1
        },
        {
         "age": 35,
         "job": "management",
         "marital": "single",
         "education": "tertiary",
         "default": "no",
         "balance": 1350,
         "housing": "yes",
         "loan": "no",
         "contact": "cellular",
         "day": 16,
         "month": "apr",
         "duration": 185,
         "campaign": 1,
         "pdays": 330,
         "previous": 1,
         "poutcome": "failure",
         "y": "no",
         "_deepnote_index_column": 2
        },
        {
         "age": 30,
         "job": "management",
         "marital": "married",
         "education": "tertiary",
         "default": "no",
         "balance": 1476,
         "housing": "yes",
         "loan": "yes",
         "contact": "unknown",
         "day": 3,
         "month": "jun",
         "duration": 199,
         "campaign": 4,
         "pdays": -1,
         "previous": 0,
         "poutcome": "unknown",
         "y": "no",
         "_deepnote_index_column": 3
        },
        {
         "age": 59,
         "job": "blue-collar",
         "marital": "married",
         "education": "secondary",
         "default": "no",
         "balance": 0,
         "housing": "yes",
         "loan": "no",
         "contact": "unknown",
         "day": 5,
         "month": "may",
         "duration": 226,
         "campaign": 1,
         "pdays": -1,
         "previous": 0,
         "poutcome": "unknown",
         "y": "no",
         "_deepnote_index_column": 4
        }
       ],
       "rows_bottom": null
      },
      "text/plain": "   age          job  marital  education default  balance housing loan  \\\n0   30   unemployed  married    primary      no     1787      no   no   \n1   33     services  married  secondary      no     4789     yes  yes   \n2   35   management   single   tertiary      no     1350     yes   no   \n3   30   management  married   tertiary      no     1476     yes  yes   \n4   59  blue-collar  married  secondary      no        0     yes   no   \n\n    contact  day month  duration  campaign  pdays  previous poutcome   y  \n0  cellular   19   oct        79         1     -1         0  unknown  no  \n1  cellular   11   may       220         1    339         4  failure  no  \n2  cellular   16   apr       185         1    330         1  failure  no  \n3   unknown    3   jun       199         4     -1         0  unknown  no  \n4   unknown    5   may       226         1     -1         0  unknown  no  ",
      "text/html": "<div>\n<style scoped>\n    .dataframe tbody tr th:only-of-type {\n        vertical-align: middle;\n    }\n\n    .dataframe tbody tr th {\n        vertical-align: top;\n    }\n\n    .dataframe thead th {\n        text-align: right;\n    }\n</style>\n<table border=\"1\" class=\"dataframe\">\n  <thead>\n    <tr style=\"text-align: right;\">\n      <th></th>\n      <th>age</th>\n      <th>job</th>\n      <th>marital</th>\n      <th>education</th>\n      <th>default</th>\n      <th>balance</th>\n      <th>housing</th>\n      <th>loan</th>\n      <th>contact</th>\n      <th>day</th>\n      <th>month</th>\n      <th>duration</th>\n      <th>campaign</th>\n      <th>pdays</th>\n      <th>previous</th>\n      <th>poutcome</th>\n      <th>y</th>\n    </tr>\n  </thead>\n  <tbody>\n    <tr>\n      <th>0</th>\n      <td>30</td>\n      <td>unemployed</td>\n      <td>married</td>\n      <td>primary</td>\n      <td>no</td>\n      <td>1787</td>\n      <td>no</td>\n      <td>no</td>\n      <td>cellular</td>\n      <td>19</td>\n      <td>oct</td>\n      <td>79</td>\n      <td>1</td>\n      <td>-1</td>\n      <td>0</td>\n      <td>unknown</td>\n      <td>no</td>\n    </tr>\n    <tr>\n      <th>1</th>\n      <td>33</td>\n      <td>services</td>\n      <td>married</td>\n      <td>secondary</td>\n      <td>no</td>\n      <td>4789</td>\n      <td>yes</td>\n      <td>yes</td>\n      <td>cellular</td>\n      <td>11</td>\n      <td>may</td>\n      <td>220</td>\n      <td>1</td>\n      <td>339</td>\n      <td>4</td>\n      <td>failure</td>\n      <td>no</td>\n    </tr>\n    <tr>\n      <th>2</th>\n      <td>35</td>\n      <td>management</td>\n      <td>single</td>\n      <td>tertiary</td>\n      <td>no</td>\n      <td>1350</td>\n      <td>yes</td>\n      <td>no</td>\n      <td>cellular</td>\n      <td>16</td>\n      <td>apr</td>\n      <td>185</td>\n      <td>1</td>\n      <td>330</td>\n      <td>1</td>\n      <td>failure</td>\n      <td>no</td>\n    </tr>\n    <tr>\n      <th>3</th>\n      <td>30</td>\n      <td>management</td>\n      <td>married</td>\n      <td>tertiary</td>\n      <td>no</td>\n      <td>1476</td>\n      <td>yes</td>\n      <td>yes</td>\n      <td>unknown</td>\n      <td>3</td>\n      <td>jun</td>\n      <td>199</td>\n      <td>4</td>\n      <td>-1</td>\n      <td>0</td>\n      <td>unknown</td>\n      <td>no</td>\n    </tr>\n    <tr>\n      <th>4</th>\n      <td>59</td>\n      <td>blue-collar</td>\n      <td>married</td>\n      <td>secondary</td>\n      <td>no</td>\n      <td>0</td>\n      <td>yes</td>\n      <td>no</td>\n      <td>unknown</td>\n      <td>5</td>\n      <td>may</td>\n      <td>226</td>\n      <td>1</td>\n      <td>-1</td>\n      <td>0</td>\n      <td>unknown</td>\n      <td>no</td>\n    </tr>\n  </tbody>\n</table>\n</div>"
     },
     "metadata": {}
    }
   ]
  },
  {
   "cell_type": "markdown",
   "source": "### Missing data",
   "metadata": {
    "cell_id": "00050-b164fa7b-2789-4a75-bb6d-72cd1dc26377",
    "deepnote_cell_type": "markdown"
   }
  },
  {
   "cell_type": "code",
   "metadata": {
    "collapsed": true,
    "cell_id": "00051-72d21fb1-c62c-4436-877e-8f7a5f0b36d2",
    "output_cleared": false,
    "deepnote_to_be_reexecuted": false,
    "source_hash": "1a5d703d",
    "execution_start": 1631946444017,
    "execution_millis": 692,
    "deepnote_cell_type": "code"
   },
   "source": "# Read flight data\nflightData = pd.read_csv('flights.csv',index_col=0)\n#del cases['Unnamed: 0']\nflightData.head()",
   "execution_count": 5,
   "outputs": [
    {
     "output_type": "execute_result",
     "execution_count": 5,
     "data": {
      "application/vnd.deepnote.dataframe.v2+json": {
       "row_count": 5,
       "column_count": 19,
       "columns": [
        {
         "name": "year",
         "dtype": "int64",
         "stats": {
          "unique_count": 1,
          "nan_count": 0,
          "min": "2013",
          "max": "2013",
          "histogram": [
           {
            "bin_start": 2012.5,
            "bin_end": 2012.6,
            "count": 0
           },
           {
            "bin_start": 2012.6,
            "bin_end": 2012.7,
            "count": 0
           },
           {
            "bin_start": 2012.7,
            "bin_end": 2012.8,
            "count": 0
           },
           {
            "bin_start": 2012.8,
            "bin_end": 2012.9,
            "count": 0
           },
           {
            "bin_start": 2012.9,
            "bin_end": 2013,
            "count": 0
           },
           {
            "bin_start": 2013,
            "bin_end": 2013.1,
            "count": 5
           },
           {
            "bin_start": 2013.1,
            "bin_end": 2013.2,
            "count": 0
           },
           {
            "bin_start": 2013.2,
            "bin_end": 2013.3,
            "count": 0
           },
           {
            "bin_start": 2013.3,
            "bin_end": 2013.4,
            "count": 0
           },
           {
            "bin_start": 2013.4,
            "bin_end": 2013.5,
            "count": 0
           }
          ]
         }
        },
        {
         "name": "month",
         "dtype": "int64",
         "stats": {
          "unique_count": 1,
          "nan_count": 0,
          "min": "1",
          "max": "1",
          "histogram": [
           {
            "bin_start": 0.5,
            "bin_end": 0.6,
            "count": 0
           },
           {
            "bin_start": 0.6,
            "bin_end": 0.7,
            "count": 0
           },
           {
            "bin_start": 0.7,
            "bin_end": 0.8,
            "count": 0
           },
           {
            "bin_start": 0.8,
            "bin_end": 0.9,
            "count": 0
           },
           {
            "bin_start": 0.9,
            "bin_end": 1,
            "count": 0
           },
           {
            "bin_start": 1,
            "bin_end": 1.1,
            "count": 5
           },
           {
            "bin_start": 1.1,
            "bin_end": 1.2000000000000002,
            "count": 0
           },
           {
            "bin_start": 1.2000000000000002,
            "bin_end": 1.3,
            "count": 0
           },
           {
            "bin_start": 1.3,
            "bin_end": 1.4,
            "count": 0
           },
           {
            "bin_start": 1.4,
            "bin_end": 1.5,
            "count": 0
           }
          ]
         }
        },
        {
         "name": "day",
         "dtype": "int64",
         "stats": {
          "unique_count": 1,
          "nan_count": 0,
          "min": "1",
          "max": "1",
          "histogram": [
           {
            "bin_start": 0.5,
            "bin_end": 0.6,
            "count": 0
           },
           {
            "bin_start": 0.6,
            "bin_end": 0.7,
            "count": 0
           },
           {
            "bin_start": 0.7,
            "bin_end": 0.8,
            "count": 0
           },
           {
            "bin_start": 0.8,
            "bin_end": 0.9,
            "count": 0
           },
           {
            "bin_start": 0.9,
            "bin_end": 1,
            "count": 0
           },
           {
            "bin_start": 1,
            "bin_end": 1.1,
            "count": 5
           },
           {
            "bin_start": 1.1,
            "bin_end": 1.2000000000000002,
            "count": 0
           },
           {
            "bin_start": 1.2000000000000002,
            "bin_end": 1.3,
            "count": 0
           },
           {
            "bin_start": 1.3,
            "bin_end": 1.4,
            "count": 0
           },
           {
            "bin_start": 1.4,
            "bin_end": 1.5,
            "count": 0
           }
          ]
         }
        },
        {
         "name": "dep_time",
         "dtype": "int64",
         "stats": {
          "unique_count": 5,
          "nan_count": 0,
          "min": "517",
          "max": "554",
          "histogram": [
           {
            "bin_start": 517,
            "bin_end": 520.7,
            "count": 1
           },
           {
            "bin_start": 520.7,
            "bin_end": 524.4,
            "count": 0
           },
           {
            "bin_start": 524.4,
            "bin_end": 528.1,
            "count": 0
           },
           {
            "bin_start": 528.1,
            "bin_end": 531.8,
            "count": 0
           },
           {
            "bin_start": 531.8,
            "bin_end": 535.5,
            "count": 1
           },
           {
            "bin_start": 535.5,
            "bin_end": 539.2,
            "count": 0
           },
           {
            "bin_start": 539.2,
            "bin_end": 542.9,
            "count": 1
           },
           {
            "bin_start": 542.9,
            "bin_end": 546.6,
            "count": 1
           },
           {
            "bin_start": 546.6,
            "bin_end": 550.3,
            "count": 0
           },
           {
            "bin_start": 550.3,
            "bin_end": 554,
            "count": 1
           }
          ]
         }
        },
        {
         "name": "sched_dep_time",
         "dtype": "int64",
         "stats": {
          "unique_count": 5,
          "nan_count": 0,
          "min": "515",
          "max": "600",
          "histogram": [
           {
            "bin_start": 515,
            "bin_end": 523.5,
            "count": 1
           },
           {
            "bin_start": 523.5,
            "bin_end": 532,
            "count": 1
           },
           {
            "bin_start": 532,
            "bin_end": 540.5,
            "count": 1
           },
           {
            "bin_start": 540.5,
            "bin_end": 549,
            "count": 1
           },
           {
            "bin_start": 549,
            "bin_end": 557.5,
            "count": 0
           },
           {
            "bin_start": 557.5,
            "bin_end": 566,
            "count": 0
           },
           {
            "bin_start": 566,
            "bin_end": 574.5,
            "count": 0
           },
           {
            "bin_start": 574.5,
            "bin_end": 583,
            "count": 0
           },
           {
            "bin_start": 583,
            "bin_end": 591.5,
            "count": 0
           },
           {
            "bin_start": 591.5,
            "bin_end": 600,
            "count": 1
           }
          ]
         }
        },
        {
         "name": "dep_delay",
         "dtype": "float64",
         "stats": {
          "unique_count": 3,
          "nan_count": 2,
          "min": "-6.0",
          "max": "4.0",
          "histogram": [
           {
            "bin_start": -6,
            "bin_end": -5,
            "count": 1
           },
           {
            "bin_start": -5,
            "bin_end": -4,
            "count": 0
           },
           {
            "bin_start": -4,
            "bin_end": -3,
            "count": 0
           },
           {
            "bin_start": -3,
            "bin_end": -2,
            "count": 0
           },
           {
            "bin_start": -2,
            "bin_end": -1,
            "count": 0
           },
           {
            "bin_start": -1,
            "bin_end": 0,
            "count": 1
           },
           {
            "bin_start": 0,
            "bin_end": 1,
            "count": 0
           },
           {
            "bin_start": 1,
            "bin_end": 2,
            "count": 0
           },
           {
            "bin_start": 2,
            "bin_end": 3,
            "count": 0
           },
           {
            "bin_start": 3,
            "bin_end": 4,
            "count": 1
           }
          ]
         }
        },
        {
         "name": "arr_time",
         "dtype": "int64",
         "stats": {
          "unique_count": 5,
          "nan_count": 0,
          "min": "812",
          "max": "1004",
          "histogram": [
           {
            "bin_start": 812,
            "bin_end": 831.2,
            "count": 2
           },
           {
            "bin_start": 831.2,
            "bin_end": 850.4,
            "count": 1
           },
           {
            "bin_start": 850.4,
            "bin_end": 869.6,
            "count": 0
           },
           {
            "bin_start": 869.6,
            "bin_end": 888.8,
            "count": 0
           },
           {
            "bin_start": 888.8,
            "bin_end": 908,
            "count": 0
           },
           {
            "bin_start": 908,
            "bin_end": 927.2,
            "count": 1
           },
           {
            "bin_start": 927.2,
            "bin_end": 946.4,
            "count": 0
           },
           {
            "bin_start": 946.4,
            "bin_end": 965.6,
            "count": 0
           },
           {
            "bin_start": 965.6,
            "bin_end": 984.8,
            "count": 0
           },
           {
            "bin_start": 984.8,
            "bin_end": 1004,
            "count": 1
           }
          ]
         }
        },
        {
         "name": "sched_arr_time",
         "dtype": "int64",
         "stats": {
          "unique_count": 5,
          "nan_count": 0,
          "min": "819",
          "max": "1022",
          "histogram": [
           {
            "bin_start": 819,
            "bin_end": 839.3,
            "count": 3
           },
           {
            "bin_start": 839.3,
            "bin_end": 859.6,
            "count": 1
           },
           {
            "bin_start": 859.6,
            "bin_end": 879.9,
            "count": 0
           },
           {
            "bin_start": 879.9,
            "bin_end": 900.2,
            "count": 0
           },
           {
            "bin_start": 900.2,
            "bin_end": 920.5,
            "count": 0
           },
           {
            "bin_start": 920.5,
            "bin_end": 940.8,
            "count": 0
           },
           {
            "bin_start": 940.8,
            "bin_end": 961.1,
            "count": 0
           },
           {
            "bin_start": 961.1,
            "bin_end": 981.4,
            "count": 0
           },
           {
            "bin_start": 981.4,
            "bin_end": 1001.7,
            "count": 0
           },
           {
            "bin_start": 1001.7,
            "bin_end": 1022,
            "count": 1
           }
          ]
         }
        },
        {
         "name": "arr_delay",
         "dtype": "int64",
         "stats": {
          "unique_count": 5,
          "nan_count": 0,
          "min": "-25",
          "max": "33",
          "histogram": [
           {
            "bin_start": -25,
            "bin_end": -19.2,
            "count": 1
           },
           {
            "bin_start": -19.2,
            "bin_end": -13.4,
            "count": 1
           },
           {
            "bin_start": -13.4,
            "bin_end": -7.600000000000001,
            "count": 0
           },
           {
            "bin_start": -7.600000000000001,
            "bin_end": -1.8000000000000007,
            "count": 0
           },
           {
            "bin_start": -1.8000000000000007,
            "bin_end": 4,
            "count": 0
           },
           {
            "bin_start": 4,
            "bin_end": 9.799999999999997,
            "count": 0
           },
           {
            "bin_start": 9.799999999999997,
            "bin_end": 15.600000000000001,
            "count": 1
           },
           {
            "bin_start": 15.600000000000001,
            "bin_end": 21.4,
            "count": 1
           },
           {
            "bin_start": 21.4,
            "bin_end": 27.199999999999996,
            "count": 0
           },
           {
            "bin_start": 27.199999999999996,
            "bin_end": 33,
            "count": 1
           }
          ]
         }
        },
        {
         "name": "carrier",
         "dtype": "object",
         "stats": {
          "unique_count": 4,
          "nan_count": 0,
          "categories": [
           {
            "name": "UA",
            "count": 2
           },
           {
            "name": "AA",
            "count": 1
           },
           {
            "name": "2 others",
            "count": 2
           }
          ]
         }
        },
        {
         "name": "flight",
         "dtype": "int64",
         "stats": {
          "unique_count": 5,
          "nan_count": 0,
          "min": "461",
          "max": "1714",
          "histogram": [
           {
            "bin_start": 461,
            "bin_end": 586.3,
            "count": 1
           },
           {
            "bin_start": 586.3,
            "bin_end": 711.6,
            "count": 0
           },
           {
            "bin_start": 711.6,
            "bin_end": 836.9,
            "count": 1
           },
           {
            "bin_start": 836.9,
            "bin_end": 962.2,
            "count": 0
           },
           {
            "bin_start": 962.2,
            "bin_end": 1087.5,
            "count": 0
           },
           {
            "bin_start": 1087.5,
            "bin_end": 1212.8,
            "count": 1
           },
           {
            "bin_start": 1212.8,
            "bin_end": 1338.1,
            "count": 0
           },
           {
            "bin_start": 1338.1,
            "bin_end": 1463.4,
            "count": 0
           },
           {
            "bin_start": 1463.4,
            "bin_end": 1588.7,
            "count": 1
           },
           {
            "bin_start": 1588.7,
            "bin_end": 1714,
            "count": 1
           }
          ]
         }
        },
        {
         "name": "tailnum",
         "dtype": "object",
         "stats": {
          "unique_count": 5,
          "nan_count": 0,
          "categories": [
           {
            "name": "N14228",
            "count": 1
           },
           {
            "name": "N24211",
            "count": 1
           },
           {
            "name": "3 others",
            "count": 3
           }
          ]
         }
        },
        {
         "name": "origin",
         "dtype": "object",
         "stats": {
          "unique_count": 3,
          "nan_count": 0,
          "categories": [
           {
            "name": "LGA",
            "count": 2
           },
           {
            "name": "JFK",
            "count": 2
           },
           {
            "name": "EWR",
            "count": 1
           }
          ]
         }
        },
        {
         "name": "dest",
         "dtype": "object",
         "stats": {
          "unique_count": 4,
          "nan_count": 0,
          "categories": [
           {
            "name": "IAH",
            "count": 2
           },
           {
            "name": "MIA",
            "count": 1
           },
           {
            "name": "2 others",
            "count": 2
           }
          ]
         }
        },
        {
         "name": "air_time",
         "dtype": "int64",
         "stats": {
          "unique_count": 4,
          "nan_count": 0,
          "min": "116",
          "max": "227",
          "histogram": [
           {
            "bin_start": 116,
            "bin_end": 127.1,
            "count": 1
           },
           {
            "bin_start": 127.1,
            "bin_end": 138.2,
            "count": 0
           },
           {
            "bin_start": 138.2,
            "bin_end": 149.3,
            "count": 0
           },
           {
            "bin_start": 149.3,
            "bin_end": 160.4,
            "count": 1
           },
           {
            "bin_start": 160.4,
            "bin_end": 171.5,
            "count": 0
           },
           {
            "bin_start": 171.5,
            "bin_end": 182.6,
            "count": 0
           },
           {
            "bin_start": 182.6,
            "bin_end": 193.7,
            "count": 1
           },
           {
            "bin_start": 193.7,
            "bin_end": 204.8,
            "count": 0
           },
           {
            "bin_start": 204.8,
            "bin_end": 215.89999999999998,
            "count": 0
           },
           {
            "bin_start": 215.89999999999998,
            "bin_end": 227,
            "count": 2
           }
          ]
         }
        },
        {
         "name": "distance",
         "dtype": "int64",
         "stats": {
          "unique_count": 5,
          "nan_count": 0,
          "min": "762",
          "max": "1576",
          "histogram": [
           {
            "bin_start": 762,
            "bin_end": 843.4,
            "count": 1
           },
           {
            "bin_start": 843.4,
            "bin_end": 924.8,
            "count": 0
           },
           {
            "bin_start": 924.8,
            "bin_end": 1006.2,
            "count": 0
           },
           {
            "bin_start": 1006.2,
            "bin_end": 1087.6,
            "count": 0
           },
           {
            "bin_start": 1087.6,
            "bin_end": 1169,
            "count": 1
           },
           {
            "bin_start": 1169,
            "bin_end": 1250.4,
            "count": 0
           },
           {
            "bin_start": 1250.4,
            "bin_end": 1331.8000000000002,
            "count": 0
           },
           {
            "bin_start": 1331.8000000000002,
            "bin_end": 1413.2,
            "count": 1
           },
           {
            "bin_start": 1413.2,
            "bin_end": 1494.6,
            "count": 1
           },
           {
            "bin_start": 1494.6,
            "bin_end": 1576,
            "count": 1
           }
          ]
         }
        },
        {
         "name": "hour",
         "dtype": "int64",
         "stats": {
          "unique_count": 2,
          "nan_count": 0,
          "min": "5",
          "max": "6",
          "histogram": [
           {
            "bin_start": 5,
            "bin_end": 5.1,
            "count": 4
           },
           {
            "bin_start": 5.1,
            "bin_end": 5.2,
            "count": 0
           },
           {
            "bin_start": 5.2,
            "bin_end": 5.3,
            "count": 0
           },
           {
            "bin_start": 5.3,
            "bin_end": 5.4,
            "count": 0
           },
           {
            "bin_start": 5.4,
            "bin_end": 5.5,
            "count": 0
           },
           {
            "bin_start": 5.5,
            "bin_end": 5.6,
            "count": 0
           },
           {
            "bin_start": 5.6,
            "bin_end": 5.7,
            "count": 0
           },
           {
            "bin_start": 5.7,
            "bin_end": 5.8,
            "count": 0
           },
           {
            "bin_start": 5.8,
            "bin_end": 5.9,
            "count": 0
           },
           {
            "bin_start": 5.9,
            "bin_end": 6,
            "count": 1
           }
          ]
         }
        },
        {
         "name": "minute",
         "dtype": "int64",
         "stats": {
          "unique_count": 5,
          "nan_count": 0,
          "min": "0",
          "max": "45",
          "histogram": [
           {
            "bin_start": 0,
            "bin_end": 4.5,
            "count": 1
           },
           {
            "bin_start": 4.5,
            "bin_end": 9,
            "count": 0
           },
           {
            "bin_start": 9,
            "bin_end": 13.5,
            "count": 0
           },
           {
            "bin_start": 13.5,
            "bin_end": 18,
            "count": 1
           },
           {
            "bin_start": 18,
            "bin_end": 22.5,
            "count": 0
           },
           {
            "bin_start": 22.5,
            "bin_end": 27,
            "count": 0
           },
           {
            "bin_start": 27,
            "bin_end": 31.5,
            "count": 1
           },
           {
            "bin_start": 31.5,
            "bin_end": 36,
            "count": 0
           },
           {
            "bin_start": 36,
            "bin_end": 40.5,
            "count": 1
           },
           {
            "bin_start": 40.5,
            "bin_end": 45,
            "count": 1
           }
          ]
         }
        },
        {
         "name": "time_hour",
         "dtype": "object",
         "stats": {
          "unique_count": 2,
          "nan_count": 0,
          "categories": [
           {
            "name": "2013-01-01T05:00:00Z",
            "count": 4
           },
           {
            "name": "2013-01-01T06:00:00Z",
            "count": 1
           }
          ]
         }
        },
        {
         "name": "_deepnote_index_column",
         "dtype": "int64"
        }
       ],
       "rows_top": [
        {
         "year": 2013,
         "month": 1,
         "day": 1,
         "dep_time": 517,
         "sched_dep_time": 515,
         "dep_delay": "nan",
         "arr_time": 830,
         "sched_arr_time": 819,
         "arr_delay": 11,
         "carrier": "UA",
         "flight": 1545,
         "tailnum": "N14228",
         "origin": "EWR",
         "dest": "IAH",
         "air_time": 227,
         "distance": 1400,
         "hour": 5,
         "minute": 15,
         "time_hour": "2013-01-01T05:00:00Z",
         "_deepnote_index_column": 0
        },
        {
         "year": 2013,
         "month": 1,
         "day": 1,
         "dep_time": 533,
         "sched_dep_time": 529,
         "dep_delay": 4,
         "arr_time": 850,
         "sched_arr_time": 830,
         "arr_delay": 20,
         "carrier": "UA",
         "flight": 1714,
         "tailnum": "N24211",
         "origin": "LGA",
         "dest": "IAH",
         "air_time": 227,
         "distance": 1416,
         "hour": 5,
         "minute": 29,
         "time_hour": "2013-01-01T05:00:00Z",
         "_deepnote_index_column": 1
        },
        {
         "year": 2013,
         "month": 1,
         "day": 1,
         "dep_time": 542,
         "sched_dep_time": 540,
         "dep_delay": "nan",
         "arr_time": 923,
         "sched_arr_time": 850,
         "arr_delay": 33,
         "carrier": "AA",
         "flight": 1141,
         "tailnum": "N619AA",
         "origin": "JFK",
         "dest": "MIA",
         "air_time": 160,
         "distance": 1089,
         "hour": 5,
         "minute": 40,
         "time_hour": "2013-01-01T05:00:00Z",
         "_deepnote_index_column": 2
        },
        {
         "year": 2013,
         "month": 1,
         "day": 1,
         "dep_time": 544,
         "sched_dep_time": 545,
         "dep_delay": -1,
         "arr_time": 1004,
         "sched_arr_time": 1022,
         "arr_delay": -18,
         "carrier": "B6",
         "flight": 725,
         "tailnum": "N804JB",
         "origin": "JFK",
         "dest": "BQN",
         "air_time": 183,
         "distance": 1576,
         "hour": 5,
         "minute": 45,
         "time_hour": "2013-01-01T05:00:00Z",
         "_deepnote_index_column": 3
        },
        {
         "year": 2013,
         "month": 1,
         "day": 1,
         "dep_time": 554,
         "sched_dep_time": 600,
         "dep_delay": -6,
         "arr_time": 812,
         "sched_arr_time": 837,
         "arr_delay": -25,
         "carrier": "DL",
         "flight": 461,
         "tailnum": "N668DN",
         "origin": "LGA",
         "dest": "ATL",
         "air_time": 116,
         "distance": 762,
         "hour": 6,
         "minute": 0,
         "time_hour": "2013-01-01T06:00:00Z",
         "_deepnote_index_column": 4
        }
       ],
       "rows_bottom": null
      },
      "text/plain": "   year  month  day  dep_time  sched_dep_time  dep_delay  arr_time  \\\n0  2013      1    1       517             515        NaN       830   \n1  2013      1    1       533             529        4.0       850   \n2  2013      1    1       542             540        NaN       923   \n3  2013      1    1       544             545       -1.0      1004   \n4  2013      1    1       554             600       -6.0       812   \n\n   sched_arr_time  arr_delay carrier  flight tailnum origin dest  air_time  \\\n0             819         11      UA    1545  N14228    EWR  IAH       227   \n1             830         20      UA    1714  N24211    LGA  IAH       227   \n2             850         33      AA    1141  N619AA    JFK  MIA       160   \n3            1022        -18      B6     725  N804JB    JFK  BQN       183   \n4             837        -25      DL     461  N668DN    LGA  ATL       116   \n\n   distance  hour  minute             time_hour  \n0      1400     5      15  2013-01-01T05:00:00Z  \n1      1416     5      29  2013-01-01T05:00:00Z  \n2      1089     5      40  2013-01-01T05:00:00Z  \n3      1576     5      45  2013-01-01T05:00:00Z  \n4       762     6       0  2013-01-01T06:00:00Z  ",
      "text/html": "<div>\n<style scoped>\n    .dataframe tbody tr th:only-of-type {\n        vertical-align: middle;\n    }\n\n    .dataframe tbody tr th {\n        vertical-align: top;\n    }\n\n    .dataframe thead th {\n        text-align: right;\n    }\n</style>\n<table border=\"1\" class=\"dataframe\">\n  <thead>\n    <tr style=\"text-align: right;\">\n      <th></th>\n      <th>year</th>\n      <th>month</th>\n      <th>day</th>\n      <th>dep_time</th>\n      <th>sched_dep_time</th>\n      <th>dep_delay</th>\n      <th>arr_time</th>\n      <th>sched_arr_time</th>\n      <th>arr_delay</th>\n      <th>carrier</th>\n      <th>flight</th>\n      <th>tailnum</th>\n      <th>origin</th>\n      <th>dest</th>\n      <th>air_time</th>\n      <th>distance</th>\n      <th>hour</th>\n      <th>minute</th>\n      <th>time_hour</th>\n    </tr>\n  </thead>\n  <tbody>\n    <tr>\n      <th>0</th>\n      <td>2013</td>\n      <td>1</td>\n      <td>1</td>\n      <td>517</td>\n      <td>515</td>\n      <td>NaN</td>\n      <td>830</td>\n      <td>819</td>\n      <td>11</td>\n      <td>UA</td>\n      <td>1545</td>\n      <td>N14228</td>\n      <td>EWR</td>\n      <td>IAH</td>\n      <td>227</td>\n      <td>1400</td>\n      <td>5</td>\n      <td>15</td>\n      <td>2013-01-01T05:00:00Z</td>\n    </tr>\n    <tr>\n      <th>1</th>\n      <td>2013</td>\n      <td>1</td>\n      <td>1</td>\n      <td>533</td>\n      <td>529</td>\n      <td>4.0</td>\n      <td>850</td>\n      <td>830</td>\n      <td>20</td>\n      <td>UA</td>\n      <td>1714</td>\n      <td>N24211</td>\n      <td>LGA</td>\n      <td>IAH</td>\n      <td>227</td>\n      <td>1416</td>\n      <td>5</td>\n      <td>29</td>\n      <td>2013-01-01T05:00:00Z</td>\n    </tr>\n    <tr>\n      <th>2</th>\n      <td>2013</td>\n      <td>1</td>\n      <td>1</td>\n      <td>542</td>\n      <td>540</td>\n      <td>NaN</td>\n      <td>923</td>\n      <td>850</td>\n      <td>33</td>\n      <td>AA</td>\n      <td>1141</td>\n      <td>N619AA</td>\n      <td>JFK</td>\n      <td>MIA</td>\n      <td>160</td>\n      <td>1089</td>\n      <td>5</td>\n      <td>40</td>\n      <td>2013-01-01T05:00:00Z</td>\n    </tr>\n    <tr>\n      <th>3</th>\n      <td>2013</td>\n      <td>1</td>\n      <td>1</td>\n      <td>544</td>\n      <td>545</td>\n      <td>-1.0</td>\n      <td>1004</td>\n      <td>1022</td>\n      <td>-18</td>\n      <td>B6</td>\n      <td>725</td>\n      <td>N804JB</td>\n      <td>JFK</td>\n      <td>BQN</td>\n      <td>183</td>\n      <td>1576</td>\n      <td>5</td>\n      <td>45</td>\n      <td>2013-01-01T05:00:00Z</td>\n    </tr>\n    <tr>\n      <th>4</th>\n      <td>2013</td>\n      <td>1</td>\n      <td>1</td>\n      <td>554</td>\n      <td>600</td>\n      <td>-6.0</td>\n      <td>812</td>\n      <td>837</td>\n      <td>-25</td>\n      <td>DL</td>\n      <td>461</td>\n      <td>N668DN</td>\n      <td>LGA</td>\n      <td>ATL</td>\n      <td>116</td>\n      <td>762</td>\n      <td>6</td>\n      <td>0</td>\n      <td>2013-01-01T06:00:00Z</td>\n    </tr>\n  </tbody>\n</table>\n</div>"
     },
     "metadata": {}
    }
   ]
  },
  {
   "cell_type": "code",
   "metadata": {
    "scrolled": true,
    "cell_id": "00052-29442617-7dea-4d9e-92b8-41de0eb3435f",
    "output_cleared": false,
    "deepnote_to_be_reexecuted": false,
    "source_hash": "e49b783b",
    "execution_start": 1631946490588,
    "execution_millis": 264,
    "deepnote_cell_type": "code"
   },
   "source": "flightData.info()\n#flightData.describe()",
   "execution_count": 7,
   "outputs": [
    {
     "name": "stdout",
     "text": "<class 'pandas.core.frame.DataFrame'>\nInt64Index: 327346 entries, 0 to 327345\nData columns (total 19 columns):\n #   Column          Non-Null Count   Dtype  \n---  ------          --------------   -----  \n 0   year            327346 non-null  int64  \n 1   month           327346 non-null  int64  \n 2   day             327346 non-null  int64  \n 3   dep_time        327346 non-null  int64  \n 4   sched_dep_time  327346 non-null  int64  \n 5   dep_delay       321132 non-null  float64\n 6   arr_time        327346 non-null  int64  \n 7   sched_arr_time  327346 non-null  int64  \n 8   arr_delay       327346 non-null  int64  \n 9   carrier         327346 non-null  object \n 10  flight          327346 non-null  int64  \n 11  tailnum         327346 non-null  object \n 12  origin          327346 non-null  object \n 13  dest            327346 non-null  object \n 14  air_time        327346 non-null  int64  \n 15  distance        327346 non-null  int64  \n 16  hour            327346 non-null  int64  \n 17  minute          327346 non-null  int64  \n 18  time_hour       327346 non-null  object \ndtypes: float64(1), int64(13), object(5)\nmemory usage: 49.9+ MB\n",
     "output_type": "stream"
    },
    {
     "output_type": "execute_result",
     "execution_count": 7,
     "data": {
      "application/vnd.deepnote.dataframe.v2+json": {
       "row_count": 8,
       "column_count": 14,
       "columns": [
        {
         "name": "year",
         "dtype": "float64",
         "stats": {
          "unique_count": 3,
          "nan_count": 0,
          "min": "0.0",
          "max": "327346.0",
          "histogram": [
           {
            "bin_start": 0,
            "bin_end": 32734.6,
            "count": 7
           },
           {
            "bin_start": 32734.6,
            "bin_end": 65469.2,
            "count": 0
           },
           {
            "bin_start": 65469.2,
            "bin_end": 98203.79999999999,
            "count": 0
           },
           {
            "bin_start": 98203.79999999999,
            "bin_end": 130938.4,
            "count": 0
           },
           {
            "bin_start": 130938.4,
            "bin_end": 163673,
            "count": 0
           },
           {
            "bin_start": 163673,
            "bin_end": 196407.59999999998,
            "count": 0
           },
           {
            "bin_start": 196407.59999999998,
            "bin_end": 229142.19999999998,
            "count": 0
           },
           {
            "bin_start": 229142.19999999998,
            "bin_end": 261876.8,
            "count": 0
           },
           {
            "bin_start": 261876.8,
            "bin_end": 294611.39999999997,
            "count": 0
           },
           {
            "bin_start": 294611.39999999997,
            "bin_end": 327346,
            "count": 1
           }
          ]
         }
        },
        {
         "name": "month",
         "dtype": "float64",
         "stats": {
          "unique_count": 8,
          "nan_count": 0,
          "min": "1.0",
          "max": "327346.0",
          "histogram": [
           {
            "bin_start": 1,
            "bin_end": 32735.5,
            "count": 7
           },
           {
            "bin_start": 32735.5,
            "bin_end": 65470,
            "count": 0
           },
           {
            "bin_start": 65470,
            "bin_end": 98204.5,
            "count": 0
           },
           {
            "bin_start": 98204.5,
            "bin_end": 130939,
            "count": 0
           },
           {
            "bin_start": 130939,
            "bin_end": 163673.5,
            "count": 0
           },
           {
            "bin_start": 163673.5,
            "bin_end": 196408,
            "count": 0
           },
           {
            "bin_start": 196408,
            "bin_end": 229142.5,
            "count": 0
           },
           {
            "bin_start": 229142.5,
            "bin_end": 261877,
            "count": 0
           },
           {
            "bin_start": 261877,
            "bin_end": 294611.5,
            "count": 0
           },
           {
            "bin_start": 294611.5,
            "bin_end": 327346,
            "count": 1
           }
          ]
         }
        },
        {
         "name": "day",
         "dtype": "float64",
         "stats": {
          "unique_count": 8,
          "nan_count": 0,
          "min": "1.0",
          "max": "327346.0",
          "histogram": [
           {
            "bin_start": 1,
            "bin_end": 32735.5,
            "count": 7
           },
           {
            "bin_start": 32735.5,
            "bin_end": 65470,
            "count": 0
           },
           {
            "bin_start": 65470,
            "bin_end": 98204.5,
            "count": 0
           },
           {
            "bin_start": 98204.5,
            "bin_end": 130939,
            "count": 0
           },
           {
            "bin_start": 130939,
            "bin_end": 163673.5,
            "count": 0
           },
           {
            "bin_start": 163673.5,
            "bin_end": 196408,
            "count": 0
           },
           {
            "bin_start": 196408,
            "bin_end": 229142.5,
            "count": 0
           },
           {
            "bin_start": 229142.5,
            "bin_end": 261877,
            "count": 0
           },
           {
            "bin_start": 261877,
            "bin_end": 294611.5,
            "count": 0
           },
           {
            "bin_start": 294611.5,
            "bin_end": 327346,
            "count": 1
           }
          ]
         }
        },
        {
         "name": "dep_time",
         "dtype": "float64",
         "stats": {
          "unique_count": 8,
          "nan_count": 0,
          "min": "1.0",
          "max": "327346.0",
          "histogram": [
           {
            "bin_start": 1,
            "bin_end": 32735.5,
            "count": 7
           },
           {
            "bin_start": 32735.5,
            "bin_end": 65470,
            "count": 0
           },
           {
            "bin_start": 65470,
            "bin_end": 98204.5,
            "count": 0
           },
           {
            "bin_start": 98204.5,
            "bin_end": 130939,
            "count": 0
           },
           {
            "bin_start": 130939,
            "bin_end": 163673.5,
            "count": 0
           },
           {
            "bin_start": 163673.5,
            "bin_end": 196408,
            "count": 0
           },
           {
            "bin_start": 196408,
            "bin_end": 229142.5,
            "count": 0
           },
           {
            "bin_start": 229142.5,
            "bin_end": 261877,
            "count": 0
           },
           {
            "bin_start": 261877,
            "bin_end": 294611.5,
            "count": 0
           },
           {
            "bin_start": 294611.5,
            "bin_end": 327346,
            "count": 1
           }
          ]
         }
        },
        {
         "name": "sched_dep_time",
         "dtype": "float64",
         "stats": {
          "unique_count": 8,
          "nan_count": 0,
          "min": "467.41315643961923",
          "max": "327346.0",
          "histogram": [
           {
            "bin_start": 467.41315643961923,
            "bin_end": 33155.271840795656,
            "count": 7
           },
           {
            "bin_start": 33155.271840795656,
            "bin_end": 65843.1305251517,
            "count": 0
           },
           {
            "bin_start": 65843.1305251517,
            "bin_end": 98530.98920950775,
            "count": 0
           },
           {
            "bin_start": 98530.98920950775,
            "bin_end": 131218.84789386377,
            "count": 0
           },
           {
            "bin_start": 131218.84789386377,
            "bin_end": 163906.7065782198,
            "count": 0
           },
           {
            "bin_start": 163906.7065782198,
            "bin_end": 196594.56526257587,
            "count": 0
           },
           {
            "bin_start": 196594.56526257587,
            "bin_end": 229282.4239469319,
            "count": 0
           },
           {
            "bin_start": 229282.4239469319,
            "bin_end": 261970.28263128793,
            "count": 0
           },
           {
            "bin_start": 261970.28263128793,
            "bin_end": 294658.14131564397,
            "count": 0
           },
           {
            "bin_start": 294658.14131564397,
            "bin_end": 327346,
            "count": 1
           }
          ]
         }
        },
        {
         "name": "dep_delay",
         "dtype": "float64",
         "stats": {
          "unique_count": 8,
          "nan_count": 0,
          "min": "-43.0",
          "max": "321132.0",
          "histogram": [
           {
            "bin_start": -43,
            "bin_end": 32074.5,
            "count": 7
           },
           {
            "bin_start": 32074.5,
            "bin_end": 64192,
            "count": 0
           },
           {
            "bin_start": 64192,
            "bin_end": 96309.5,
            "count": 0
           },
           {
            "bin_start": 96309.5,
            "bin_end": 128427,
            "count": 0
           },
           {
            "bin_start": 128427,
            "bin_end": 160544.5,
            "count": 0
           },
           {
            "bin_start": 160544.5,
            "bin_end": 192662,
            "count": 0
           },
           {
            "bin_start": 192662,
            "bin_end": 224779.5,
            "count": 0
           },
           {
            "bin_start": 224779.5,
            "bin_end": 256897,
            "count": 0
           },
           {
            "bin_start": 256897,
            "bin_end": 289014.5,
            "count": 0
           },
           {
            "bin_start": 289014.5,
            "bin_end": 321132,
            "count": 1
           }
          ]
         }
        },
        {
         "name": "arr_time",
         "dtype": "float64",
         "stats": {
          "unique_count": 8,
          "nan_count": 0,
          "min": "1.0",
          "max": "327346.0",
          "histogram": [
           {
            "bin_start": 1,
            "bin_end": 32735.5,
            "count": 7
           },
           {
            "bin_start": 32735.5,
            "bin_end": 65470,
            "count": 0
           },
           {
            "bin_start": 65470,
            "bin_end": 98204.5,
            "count": 0
           },
           {
            "bin_start": 98204.5,
            "bin_end": 130939,
            "count": 0
           },
           {
            "bin_start": 130939,
            "bin_end": 163673.5,
            "count": 0
           },
           {
            "bin_start": 163673.5,
            "bin_end": 196408,
            "count": 0
           },
           {
            "bin_start": 196408,
            "bin_end": 229142.5,
            "count": 0
           },
           {
            "bin_start": 229142.5,
            "bin_end": 261877,
            "count": 0
           },
           {
            "bin_start": 261877,
            "bin_end": 294611.5,
            "count": 0
           },
           {
            "bin_start": 294611.5,
            "bin_end": 327346,
            "count": 1
           }
          ]
         }
        },
        {
         "name": "sched_arr_time",
         "dtype": "float64",
         "stats": {
          "unique_count": 8,
          "nan_count": 0,
          "min": "1.0",
          "max": "327346.0",
          "histogram": [
           {
            "bin_start": 1,
            "bin_end": 32735.5,
            "count": 7
           },
           {
            "bin_start": 32735.5,
            "bin_end": 65470,
            "count": 0
           },
           {
            "bin_start": 65470,
            "bin_end": 98204.5,
            "count": 0
           },
           {
            "bin_start": 98204.5,
            "bin_end": 130939,
            "count": 0
           },
           {
            "bin_start": 130939,
            "bin_end": 163673.5,
            "count": 0
           },
           {
            "bin_start": 163673.5,
            "bin_end": 196408,
            "count": 0
           },
           {
            "bin_start": 196408,
            "bin_end": 229142.5,
            "count": 0
           },
           {
            "bin_start": 229142.5,
            "bin_end": 261877,
            "count": 0
           },
           {
            "bin_start": 261877,
            "bin_end": 294611.5,
            "count": 0
           },
           {
            "bin_start": 294611.5,
            "bin_end": 327346,
            "count": 1
           }
          ]
         }
        },
        {
         "name": "arr_delay",
         "dtype": "float64",
         "stats": {
          "unique_count": 8,
          "nan_count": 0,
          "min": "-86.0",
          "max": "327346.0",
          "histogram": [
           {
            "bin_start": -86,
            "bin_end": 32657.2,
            "count": 7
           },
           {
            "bin_start": 32657.2,
            "bin_end": 65400.4,
            "count": 0
           },
           {
            "bin_start": 65400.4,
            "bin_end": 98143.6,
            "count": 0
           },
           {
            "bin_start": 98143.6,
            "bin_end": 130886.8,
            "count": 0
           },
           {
            "bin_start": 130886.8,
            "bin_end": 163630,
            "count": 0
           },
           {
            "bin_start": 163630,
            "bin_end": 196373.2,
            "count": 0
           },
           {
            "bin_start": 196373.2,
            "bin_end": 229116.4,
            "count": 0
           },
           {
            "bin_start": 229116.4,
            "bin_end": 261859.6,
            "count": 0
           },
           {
            "bin_start": 261859.6,
            "bin_end": 294602.8,
            "count": 0
           },
           {
            "bin_start": 294602.8,
            "bin_end": 327346,
            "count": 1
           }
          ]
         }
        },
        {
         "name": "flight",
         "dtype": "float64",
         "stats": {
          "unique_count": 8,
          "nan_count": 0,
          "min": "1.0",
          "max": "327346.0",
          "histogram": [
           {
            "bin_start": 1,
            "bin_end": 32735.5,
            "count": 7
           },
           {
            "bin_start": 32735.5,
            "bin_end": 65470,
            "count": 0
           },
           {
            "bin_start": 65470,
            "bin_end": 98204.5,
            "count": 0
           },
           {
            "bin_start": 98204.5,
            "bin_end": 130939,
            "count": 0
           },
           {
            "bin_start": 130939,
            "bin_end": 163673.5,
            "count": 0
           },
           {
            "bin_start": 163673.5,
            "bin_end": 196408,
            "count": 0
           },
           {
            "bin_start": 196408,
            "bin_end": 229142.5,
            "count": 0
           },
           {
            "bin_start": 229142.5,
            "bin_end": 261877,
            "count": 0
           },
           {
            "bin_start": 261877,
            "bin_end": 294611.5,
            "count": 0
           },
           {
            "bin_start": 294611.5,
            "bin_end": 327346,
            "count": 1
           }
          ]
         }
        },
        {
         "name": "air_time",
         "dtype": "float64",
         "stats": {
          "unique_count": 8,
          "nan_count": 0,
          "min": "20.0",
          "max": "327346.0",
          "histogram": [
           {
            "bin_start": 20,
            "bin_end": 32752.6,
            "count": 7
           },
           {
            "bin_start": 32752.6,
            "bin_end": 65485.2,
            "count": 0
           },
           {
            "bin_start": 65485.2,
            "bin_end": 98217.79999999999,
            "count": 0
           },
           {
            "bin_start": 98217.79999999999,
            "bin_end": 130950.4,
            "count": 0
           },
           {
            "bin_start": 130950.4,
            "bin_end": 163683,
            "count": 0
           },
           {
            "bin_start": 163683,
            "bin_end": 196415.59999999998,
            "count": 0
           },
           {
            "bin_start": 196415.59999999998,
            "bin_end": 229148.19999999998,
            "count": 0
           },
           {
            "bin_start": 229148.19999999998,
            "bin_end": 261880.8,
            "count": 0
           },
           {
            "bin_start": 261880.8,
            "bin_end": 294613.39999999997,
            "count": 0
           },
           {
            "bin_start": 294613.39999999997,
            "bin_end": 327346,
            "count": 1
           }
          ]
         }
        },
        {
         "name": "distance",
         "dtype": "float64",
         "stats": {
          "unique_count": 8,
          "nan_count": 0,
          "min": "80.0",
          "max": "327346.0",
          "histogram": [
           {
            "bin_start": 80,
            "bin_end": 32806.6,
            "count": 7
           },
           {
            "bin_start": 32806.6,
            "bin_end": 65533.2,
            "count": 0
           },
           {
            "bin_start": 65533.2,
            "bin_end": 98259.79999999999,
            "count": 0
           },
           {
            "bin_start": 98259.79999999999,
            "bin_end": 130986.4,
            "count": 0
           },
           {
            "bin_start": 130986.4,
            "bin_end": 163713,
            "count": 0
           },
           {
            "bin_start": 163713,
            "bin_end": 196439.59999999998,
            "count": 0
           },
           {
            "bin_start": 196439.59999999998,
            "bin_end": 229166.19999999998,
            "count": 0
           },
           {
            "bin_start": 229166.19999999998,
            "bin_end": 261892.8,
            "count": 0
           },
           {
            "bin_start": 261892.8,
            "bin_end": 294619.39999999997,
            "count": 0
           },
           {
            "bin_start": 294619.39999999997,
            "bin_end": 327346,
            "count": 1
           }
          ]
         }
        },
        {
         "name": "hour",
         "dtype": "float64",
         "stats": {
          "unique_count": 8,
          "nan_count": 0,
          "min": "4.662062914138845",
          "max": "327346.0",
          "histogram": [
           {
            "bin_start": 4.662062914138845,
            "bin_end": 32738.795856622728,
            "count": 7
           },
           {
            "bin_start": 32738.795856622728,
            "bin_end": 65472.929650331316,
            "count": 0
           },
           {
            "bin_start": 65472.929650331316,
            "bin_end": 98207.0634440399,
            "count": 0
           },
           {
            "bin_start": 98207.0634440399,
            "bin_end": 130941.19723774849,
            "count": 0
           },
           {
            "bin_start": 130941.19723774849,
            "bin_end": 163675.33103145708,
            "count": 0
           },
           {
            "bin_start": 163675.33103145708,
            "bin_end": 196409.46482516566,
            "count": 0
           },
           {
            "bin_start": 196409.46482516566,
            "bin_end": 229143.59861887427,
            "count": 0
           },
           {
            "bin_start": 229143.59861887427,
            "bin_end": 261877.73241258285,
            "count": 0
           },
           {
            "bin_start": 261877.73241258285,
            "bin_end": 294611.8662062914,
            "count": 0
           },
           {
            "bin_start": 294611.8662062914,
            "bin_end": 327346,
            "count": 1
           }
          ]
         }
        },
        {
         "name": "minute",
         "dtype": "float64",
         "stats": {
          "unique_count": 8,
          "nan_count": 0,
          "min": "0.0",
          "max": "327346.0",
          "histogram": [
           {
            "bin_start": 0,
            "bin_end": 32734.6,
            "count": 7
           },
           {
            "bin_start": 32734.6,
            "bin_end": 65469.2,
            "count": 0
           },
           {
            "bin_start": 65469.2,
            "bin_end": 98203.79999999999,
            "count": 0
           },
           {
            "bin_start": 98203.79999999999,
            "bin_end": 130938.4,
            "count": 0
           },
           {
            "bin_start": 130938.4,
            "bin_end": 163673,
            "count": 0
           },
           {
            "bin_start": 163673,
            "bin_end": 196407.59999999998,
            "count": 0
           },
           {
            "bin_start": 196407.59999999998,
            "bin_end": 229142.19999999998,
            "count": 0
           },
           {
            "bin_start": 229142.19999999998,
            "bin_end": 261876.8,
            "count": 0
           },
           {
            "bin_start": 261876.8,
            "bin_end": 294611.39999999997,
            "count": 0
           },
           {
            "bin_start": 294611.39999999997,
            "bin_end": 327346,
            "count": 1
           }
          ]
         }
        },
        {
         "name": "_deepnote_index_column",
         "dtype": "object"
        }
       ],
       "rows_top": [
        {
         "year": 327346,
         "month": 327346,
         "day": 327346,
         "dep_time": 327346,
         "sched_dep_time": 327346,
         "dep_delay": 321132,
         "arr_time": 327346,
         "sched_arr_time": 327346,
         "arr_delay": 327346,
         "flight": 327346,
         "air_time": 327346,
         "distance": 327346,
         "hour": 327346,
         "minute": 327346,
         "_deepnote_index_column": "count"
        },
        {
         "year": 2013,
         "month": 6.564802991330274,
         "day": 15.740824693138148,
         "dep_time": 1348.7898828762227,
         "sched_dep_time": 1340.3350980308298,
         "dep_delay": 12.759401118543154,
         "arr_time": 1501.9082377667667,
         "sched_arr_time": 1532.7884257024677,
         "arr_delay": 6.89537675731489,
         "flight": 1943.104501047821,
         "air_time": 150.68646019807787,
         "distance": 1048.3713135336923,
         "hour": 13.141009818357334,
         "minute": 26.23411619509632,
         "_deepnote_index_column": "mean"
        },
        {
         "year": 0,
         "month": 3.413444380988742,
         "day": 8.777376040837181,
         "dep_time": 488.31997920665924,
         "sched_dep_time": 467.41315643961923,
         "dep_delay": 40.42430086017586,
         "arr_time": 532.8887310854581,
         "sched_arr_time": 497.9791244654013,
         "arr_delay": 44.63329169019399,
         "flight": 1621.5236837198065,
         "air_time": 93.6883046590099,
         "distance": 735.908523135149,
         "hour": 4.662062914138845,
         "minute": 19.29591773981244,
         "_deepnote_index_column": "std"
        },
        {
         "year": 2013,
         "month": 1,
         "day": 1,
         "dep_time": 1,
         "sched_dep_time": 500,
         "dep_delay": -43,
         "arr_time": 1,
         "sched_arr_time": 1,
         "arr_delay": -86,
         "flight": 1,
         "air_time": 20,
         "distance": 80,
         "hour": 5,
         "minute": 0,
         "_deepnote_index_column": "min"
        },
        {
         "year": 2013,
         "month": 4,
         "day": 8,
         "dep_time": 907,
         "sched_dep_time": 905,
         "dep_delay": -5,
         "arr_time": 1104,
         "sched_arr_time": 1122,
         "arr_delay": -17,
         "flight": 544,
         "air_time": 82,
         "distance": 509,
         "hour": 9,
         "minute": 8,
         "_deepnote_index_column": "25%"
        },
        {
         "year": 2013,
         "month": 7,
         "day": 16,
         "dep_time": 1400,
         "sched_dep_time": 1355,
         "dep_delay": -2,
         "arr_time": 1535,
         "sched_arr_time": 1554,
         "arr_delay": -5,
         "flight": 1467,
         "air_time": 129,
         "distance": 888,
         "hour": 13,
         "minute": 29,
         "_deepnote_index_column": "50%"
        },
        {
         "year": 2013,
         "month": 10,
         "day": 23,
         "dep_time": 1744,
         "sched_dep_time": 1729,
         "dep_delay": 11,
         "arr_time": 1940,
         "sched_arr_time": 1944,
         "arr_delay": 14,
         "flight": 3412,
         "air_time": 192,
         "distance": 1389,
         "hour": 17,
         "minute": 44,
         "_deepnote_index_column": "75%"
        },
        {
         "year": 2013,
         "month": 12,
         "day": 31,
         "dep_time": 2400,
         "sched_dep_time": 2359,
         "dep_delay": 1301,
         "arr_time": 2400,
         "sched_arr_time": 2359,
         "arr_delay": 1272,
         "flight": 8500,
         "air_time": 695,
         "distance": 4983,
         "hour": 23,
         "minute": 59,
         "_deepnote_index_column": "max"
        }
       ],
       "rows_bottom": null
      },
      "text/plain": "           year          month            day       dep_time  sched_dep_time  \\\ncount  327346.0  327346.000000  327346.000000  327346.000000   327346.000000   \nmean     2013.0       6.564803      15.740825    1348.789883     1340.335098   \nstd         0.0       3.413444       8.777376     488.319979      467.413156   \nmin      2013.0       1.000000       1.000000       1.000000      500.000000   \n25%      2013.0       4.000000       8.000000     907.000000      905.000000   \n50%      2013.0       7.000000      16.000000    1400.000000     1355.000000   \n75%      2013.0      10.000000      23.000000    1744.000000     1729.000000   \nmax      2013.0      12.000000      31.000000    2400.000000     2359.000000   \n\n           dep_delay       arr_time  sched_arr_time      arr_delay  \\\ncount  321132.000000  327346.000000   327346.000000  327346.000000   \nmean       12.759401    1501.908238     1532.788426       6.895377   \nstd        40.424301     532.888731      497.979124      44.633292   \nmin       -43.000000       1.000000        1.000000     -86.000000   \n25%        -5.000000    1104.000000     1122.000000     -17.000000   \n50%        -2.000000    1535.000000     1554.000000      -5.000000   \n75%        11.000000    1940.000000     1944.000000      14.000000   \nmax      1301.000000    2400.000000     2359.000000    1272.000000   \n\n              flight       air_time       distance           hour  \\\ncount  327346.000000  327346.000000  327346.000000  327346.000000   \nmean     1943.104501     150.686460    1048.371314      13.141010   \nstd      1621.523684      93.688305     735.908523       4.662063   \nmin         1.000000      20.000000      80.000000       5.000000   \n25%       544.000000      82.000000     509.000000       9.000000   \n50%      1467.000000     129.000000     888.000000      13.000000   \n75%      3412.000000     192.000000    1389.000000      17.000000   \nmax      8500.000000     695.000000    4983.000000      23.000000   \n\n              minute  \ncount  327346.000000  \nmean       26.234116  \nstd        19.295918  \nmin         0.000000  \n25%         8.000000  \n50%        29.000000  \n75%        44.000000  \nmax        59.000000  ",
      "text/html": "<div>\n<style scoped>\n    .dataframe tbody tr th:only-of-type {\n        vertical-align: middle;\n    }\n\n    .dataframe tbody tr th {\n        vertical-align: top;\n    }\n\n    .dataframe thead th {\n        text-align: right;\n    }\n</style>\n<table border=\"1\" class=\"dataframe\">\n  <thead>\n    <tr style=\"text-align: right;\">\n      <th></th>\n      <th>year</th>\n      <th>month</th>\n      <th>day</th>\n      <th>dep_time</th>\n      <th>sched_dep_time</th>\n      <th>dep_delay</th>\n      <th>arr_time</th>\n      <th>sched_arr_time</th>\n      <th>arr_delay</th>\n      <th>flight</th>\n      <th>air_time</th>\n      <th>distance</th>\n      <th>hour</th>\n      <th>minute</th>\n    </tr>\n  </thead>\n  <tbody>\n    <tr>\n      <th>count</th>\n      <td>327346.0</td>\n      <td>327346.000000</td>\n      <td>327346.000000</td>\n      <td>327346.000000</td>\n      <td>327346.000000</td>\n      <td>321132.000000</td>\n      <td>327346.000000</td>\n      <td>327346.000000</td>\n      <td>327346.000000</td>\n      <td>327346.000000</td>\n      <td>327346.000000</td>\n      <td>327346.000000</td>\n      <td>327346.000000</td>\n      <td>327346.000000</td>\n    </tr>\n    <tr>\n      <th>mean</th>\n      <td>2013.0</td>\n      <td>6.564803</td>\n      <td>15.740825</td>\n      <td>1348.789883</td>\n      <td>1340.335098</td>\n      <td>12.759401</td>\n      <td>1501.908238</td>\n      <td>1532.788426</td>\n      <td>6.895377</td>\n      <td>1943.104501</td>\n      <td>150.686460</td>\n      <td>1048.371314</td>\n      <td>13.141010</td>\n      <td>26.234116</td>\n    </tr>\n    <tr>\n      <th>std</th>\n      <td>0.0</td>\n      <td>3.413444</td>\n      <td>8.777376</td>\n      <td>488.319979</td>\n      <td>467.413156</td>\n      <td>40.424301</td>\n      <td>532.888731</td>\n      <td>497.979124</td>\n      <td>44.633292</td>\n      <td>1621.523684</td>\n      <td>93.688305</td>\n      <td>735.908523</td>\n      <td>4.662063</td>\n      <td>19.295918</td>\n    </tr>\n    <tr>\n      <th>min</th>\n      <td>2013.0</td>\n      <td>1.000000</td>\n      <td>1.000000</td>\n      <td>1.000000</td>\n      <td>500.000000</td>\n      <td>-43.000000</td>\n      <td>1.000000</td>\n      <td>1.000000</td>\n      <td>-86.000000</td>\n      <td>1.000000</td>\n      <td>20.000000</td>\n      <td>80.000000</td>\n      <td>5.000000</td>\n      <td>0.000000</td>\n    </tr>\n    <tr>\n      <th>25%</th>\n      <td>2013.0</td>\n      <td>4.000000</td>\n      <td>8.000000</td>\n      <td>907.000000</td>\n      <td>905.000000</td>\n      <td>-5.000000</td>\n      <td>1104.000000</td>\n      <td>1122.000000</td>\n      <td>-17.000000</td>\n      <td>544.000000</td>\n      <td>82.000000</td>\n      <td>509.000000</td>\n      <td>9.000000</td>\n      <td>8.000000</td>\n    </tr>\n    <tr>\n      <th>50%</th>\n      <td>2013.0</td>\n      <td>7.000000</td>\n      <td>16.000000</td>\n      <td>1400.000000</td>\n      <td>1355.000000</td>\n      <td>-2.000000</td>\n      <td>1535.000000</td>\n      <td>1554.000000</td>\n      <td>-5.000000</td>\n      <td>1467.000000</td>\n      <td>129.000000</td>\n      <td>888.000000</td>\n      <td>13.000000</td>\n      <td>29.000000</td>\n    </tr>\n    <tr>\n      <th>75%</th>\n      <td>2013.0</td>\n      <td>10.000000</td>\n      <td>23.000000</td>\n      <td>1744.000000</td>\n      <td>1729.000000</td>\n      <td>11.000000</td>\n      <td>1940.000000</td>\n      <td>1944.000000</td>\n      <td>14.000000</td>\n      <td>3412.000000</td>\n      <td>192.000000</td>\n      <td>1389.000000</td>\n      <td>17.000000</td>\n      <td>44.000000</td>\n    </tr>\n    <tr>\n      <th>max</th>\n      <td>2013.0</td>\n      <td>12.000000</td>\n      <td>31.000000</td>\n      <td>2400.000000</td>\n      <td>2359.000000</td>\n      <td>1301.000000</td>\n      <td>2400.000000</td>\n      <td>2359.000000</td>\n      <td>1272.000000</td>\n      <td>8500.000000</td>\n      <td>695.000000</td>\n      <td>4983.000000</td>\n      <td>23.000000</td>\n      <td>59.000000</td>\n    </tr>\n  </tbody>\n</table>\n</div>"
     },
     "metadata": {}
    }
   ]
  },
  {
   "cell_type": "code",
   "source": "flightData.dep_delay.isnull()",
   "metadata": {
    "tags": [],
    "cell_id": "00056-537a5db4-7a9c-4994-91c2-41e1c581f371",
    "deepnote_to_be_reexecuted": false,
    "source_hash": "c3c3f441",
    "execution_start": 1631946514598,
    "execution_millis": 6,
    "deepnote_cell_type": "code"
   },
   "outputs": [
    {
     "output_type": "execute_result",
     "execution_count": 8,
     "data": {
      "text/plain": "0          True\n1         False\n2          True\n3         False\n4         False\n          ...  \n327341    False\n327342    False\n327343    False\n327344    False\n327345    False\nName: dep_delay, Length: 327346, dtype: bool"
     },
     "metadata": {}
    }
   ],
   "execution_count": 8
  },
  {
   "cell_type": "code",
   "metadata": {
    "cell_id": "00053-9592d7e9-4233-4052-8f33-48914dba55bb",
    "output_cleared": false,
    "deepnote_to_be_reexecuted": false,
    "source_hash": "c8e0dd74",
    "execution_start": 1631946520934,
    "execution_millis": 116,
    "deepnote_cell_type": "code"
   },
   "source": "# Show rows with missing data\nflightData[flightData.dep_delay.isnull()]",
   "execution_count": 9,
   "outputs": [
    {
     "output_type": "execute_result",
     "execution_count": 9,
     "data": {
      "application/vnd.deepnote.dataframe.v2+json": {
       "row_count": 6214,
       "column_count": 19,
       "columns": [
        {
         "name": "year",
         "dtype": "int64",
         "stats": {
          "unique_count": 1,
          "nan_count": 0,
          "min": "2013",
          "max": "2013",
          "histogram": [
           {
            "bin_start": 2012.5,
            "bin_end": 2012.6,
            "count": 0
           },
           {
            "bin_start": 2012.6,
            "bin_end": 2012.7,
            "count": 0
           },
           {
            "bin_start": 2012.7,
            "bin_end": 2012.8,
            "count": 0
           },
           {
            "bin_start": 2012.8,
            "bin_end": 2012.9,
            "count": 0
           },
           {
            "bin_start": 2012.9,
            "bin_end": 2013,
            "count": 0
           },
           {
            "bin_start": 2013,
            "bin_end": 2013.1,
            "count": 6214
           },
           {
            "bin_start": 2013.1,
            "bin_end": 2013.2,
            "count": 0
           },
           {
            "bin_start": 2013.2,
            "bin_end": 2013.3,
            "count": 0
           },
           {
            "bin_start": 2013.3,
            "bin_end": 2013.4,
            "count": 0
           },
           {
            "bin_start": 2013.4,
            "bin_end": 2013.5,
            "count": 0
           }
          ]
         }
        },
        {
         "name": "month",
         "dtype": "int64",
         "stats": {
          "unique_count": 12,
          "nan_count": 0,
          "min": "1",
          "max": "12",
          "histogram": [
           {
            "bin_start": 1,
            "bin_end": 2.1,
            "count": 1036
           },
           {
            "bin_start": 2.1,
            "bin_end": 3.2,
            "count": 505
           },
           {
            "bin_start": 3.2,
            "bin_end": 4.300000000000001,
            "count": 453
           },
           {
            "bin_start": 4.300000000000001,
            "bin_end": 5.4,
            "count": 493
           },
           {
            "bin_start": 5.4,
            "bin_end": 6.5,
            "count": 521
           },
           {
            "bin_start": 6.5,
            "bin_end": 7.6000000000000005,
            "count": 586
           },
           {
            "bin_start": 7.6000000000000005,
            "bin_end": 8.700000000000001,
            "count": 596
           },
           {
            "bin_start": 8.700000000000001,
            "bin_end": 9.8,
            "count": 462
           },
           {
            "bin_start": 9.8,
            "bin_end": 10.9,
            "count": 477
           },
           {
            "bin_start": 10.9,
            "bin_end": 12,
            "count": 1085
           }
          ]
         }
        },
        {
         "name": "day",
         "dtype": "int64",
         "stats": {
          "unique_count": 31,
          "nan_count": 0,
          "min": "1",
          "max": "31",
          "histogram": [
           {
            "bin_start": 1,
            "bin_end": 4,
            "count": 610
           },
           {
            "bin_start": 4,
            "bin_end": 7,
            "count": 564
           },
           {
            "bin_start": 7,
            "bin_end": 10,
            "count": 558
           },
           {
            "bin_start": 10,
            "bin_end": 13,
            "count": 627
           },
           {
            "bin_start": 13,
            "bin_end": 16,
            "count": 662
           },
           {
            "bin_start": 16,
            "bin_end": 19,
            "count": 674
           },
           {
            "bin_start": 19,
            "bin_end": 22,
            "count": 657
           },
           {
            "bin_start": 22,
            "bin_end": 25,
            "count": 594
           },
           {
            "bin_start": 25,
            "bin_end": 28,
            "count": 617
           },
           {
            "bin_start": 28,
            "bin_end": 31,
            "count": 651
           }
          ]
         }
        },
        {
         "name": "dep_time",
         "dtype": "int64",
         "stats": {
          "unique_count": 733,
          "nan_count": 0,
          "min": "1",
          "max": "2400",
          "histogram": [
           {
            "bin_start": 1,
            "bin_end": 240.9,
            "count": 12
           },
           {
            "bin_start": 240.9,
            "bin_end": 480.8,
            "count": 0
           },
           {
            "bin_start": 480.8,
            "bin_end": 720.7,
            "count": 642
           },
           {
            "bin_start": 720.7,
            "bin_end": 960.6,
            "count": 1083
           },
           {
            "bin_start": 960.6,
            "bin_end": 1200.5,
            "count": 598
           },
           {
            "bin_start": 1200.5,
            "bin_end": 1440.4,
            "count": 930
           },
           {
            "bin_start": 1440.4,
            "bin_end": 1680.3,
            "count": 1206
           },
           {
            "bin_start": 1680.3,
            "bin_end": 1920.2,
            "count": 1079
           },
           {
            "bin_start": 1920.2,
            "bin_end": 2160.1,
            "count": 621
           },
           {
            "bin_start": 2160.1,
            "bin_end": 2400,
            "count": 43
           }
          ]
         }
        },
        {
         "name": "sched_dep_time",
         "dtype": "int64",
         "stats": {
          "unique_count": 733,
          "nan_count": 0,
          "min": "500",
          "max": "2359",
          "histogram": [
           {
            "bin_start": 500,
            "bin_end": 685.9,
            "count": 508
           },
           {
            "bin_start": 685.9,
            "bin_end": 871.8,
            "count": 864
           },
           {
            "bin_start": 871.8,
            "bin_end": 1057.7,
            "count": 689
           },
           {
            "bin_start": 1057.7,
            "bin_end": 1243.6,
            "count": 477
           },
           {
            "bin_start": 1243.6,
            "bin_end": 1429.5,
            "count": 653
           },
           {
            "bin_start": 1429.5,
            "bin_end": 1615.4,
            "count": 1002
           },
           {
            "bin_start": 1615.4,
            "bin_end": 1801.3,
            "count": 883
           },
           {
            "bin_start": 1801.3,
            "bin_end": 1987.2,
            "count": 685
           },
           {
            "bin_start": 1987.2,
            "bin_end": 2173.1000000000004,
            "count": 405
           },
           {
            "bin_start": 2173.1000000000004,
            "bin_end": 2359,
            "count": 48
           }
          ]
         }
        },
        {
         "name": "dep_delay",
         "dtype": "float64",
         "stats": {
          "unique_count": 0,
          "nan_count": 6214,
          "min": null,
          "max": null,
          "histogram": [
           {
            "bin_start": 0,
            "bin_end": 0.1,
            "count": 0
           },
           {
            "bin_start": 0.1,
            "bin_end": 0.2,
            "count": 0
           },
           {
            "bin_start": 0.2,
            "bin_end": 0.30000000000000004,
            "count": 0
           },
           {
            "bin_start": 0.30000000000000004,
            "bin_end": 0.4,
            "count": 0
           },
           {
            "bin_start": 0.4,
            "bin_end": 0.5,
            "count": 0
           },
           {
            "bin_start": 0.5,
            "bin_end": 0.6000000000000001,
            "count": 0
           },
           {
            "bin_start": 0.6000000000000001,
            "bin_end": 0.7000000000000001,
            "count": 0
           },
           {
            "bin_start": 0.7000000000000001,
            "bin_end": 0.8,
            "count": 0
           },
           {
            "bin_start": 0.8,
            "bin_end": 0.9,
            "count": 0
           },
           {
            "bin_start": 0.9,
            "bin_end": 1,
            "count": 0
           }
          ]
         }
        },
        {
         "name": "arr_time",
         "dtype": "int64",
         "stats": {
          "unique_count": 1087,
          "nan_count": 0,
          "min": "1",
          "max": "2400",
          "histogram": [
           {
            "bin_start": 1,
            "bin_end": 240.9,
            "count": 107
           },
           {
            "bin_start": 240.9,
            "bin_end": 480.8,
            "count": 16
           },
           {
            "bin_start": 480.8,
            "bin_end": 720.7,
            "count": 39
           },
           {
            "bin_start": 720.7,
            "bin_end": 960.6,
            "count": 699
           },
           {
            "bin_start": 960.6,
            "bin_end": 1200.5,
            "count": 794
           },
           {
            "bin_start": 1200.5,
            "bin_end": 1440.4,
            "count": 948
           },
           {
            "bin_start": 1440.4,
            "bin_end": 1680.3,
            "count": 822
           },
           {
            "bin_start": 1680.3,
            "bin_end": 1920.2,
            "count": 1139
           },
           {
            "bin_start": 1920.2,
            "bin_end": 2160.1,
            "count": 1137
           },
           {
            "bin_start": 2160.1,
            "bin_end": 2400,
            "count": 513
           }
          ]
         }
        },
        {
         "name": "sched_arr_time",
         "dtype": "int64",
         "stats": {
          "unique_count": 1023,
          "nan_count": 0,
          "min": "1",
          "max": "2359",
          "histogram": [
           {
            "bin_start": 1,
            "bin_end": 236.8,
            "count": 92
           },
           {
            "bin_start": 236.8,
            "bin_end": 472.6,
            "count": 16
           },
           {
            "bin_start": 472.6,
            "bin_end": 708.4000000000001,
            "count": 12
           },
           {
            "bin_start": 708.4000000000001,
            "bin_end": 944.2,
            "count": 604
           },
           {
            "bin_start": 944.2,
            "bin_end": 1180,
            "count": 880
           },
           {
            "bin_start": 1180,
            "bin_end": 1415.8000000000002,
            "count": 827
           },
           {
            "bin_start": 1415.8000000000002,
            "bin_end": 1651.6000000000001,
            "count": 901
           },
           {
            "bin_start": 1651.6000000000001,
            "bin_end": 1887.4,
            "count": 1006
           },
           {
            "bin_start": 1887.4,
            "bin_end": 2123.2000000000003,
            "count": 1089
           },
           {
            "bin_start": 2123.2000000000003,
            "bin_end": 2359,
            "count": 787
           }
          ]
         }
        },
        {
         "name": "arr_delay",
         "dtype": "int64",
         "stats": {
          "unique_count": 143,
          "nan_count": 0,
          "min": "-60",
          "max": "119",
          "histogram": [
           {
            "bin_start": -60,
            "bin_end": -42.1,
            "count": 51
           },
           {
            "bin_start": -42.1,
            "bin_end": -24.200000000000003,
            "count": 538
           },
           {
            "bin_start": -24.200000000000003,
            "bin_end": -6.300000000000004,
            "count": 2329
           },
           {
            "bin_start": -6.300000000000004,
            "bin_end": 11.599999999999994,
            "count": 2311
           },
           {
            "bin_start": 11.599999999999994,
            "bin_end": 29.5,
            "count": 729
           },
           {
            "bin_start": 29.5,
            "bin_end": 47.39999999999999,
            "count": 166
           },
           {
            "bin_start": 47.39999999999999,
            "bin_end": 65.29999999999998,
            "count": 56
           },
           {
            "bin_start": 65.29999999999998,
            "bin_end": 83.19999999999999,
            "count": 20
           },
           {
            "bin_start": 83.19999999999999,
            "bin_end": 101.1,
            "count": 8
           },
           {
            "bin_start": 101.1,
            "bin_end": 119,
            "count": 6
           }
          ]
         }
        },
        {
         "name": "carrier",
         "dtype": "object",
         "stats": {
          "unique_count": 15,
          "nan_count": 0,
          "categories": [
           {
            "name": "UA",
            "count": 1850
           },
           {
            "name": "B6",
            "count": 880
           },
           {
            "name": "13 others",
            "count": 3484
           }
          ]
         }
        },
        {
         "name": "flight",
         "dtype": "int64",
         "stats": {
          "unique_count": 1914,
          "nan_count": 0,
          "min": "1",
          "max": "6181",
          "histogram": [
           {
            "bin_start": 1,
            "bin_end": 619,
            "count": 1906
           },
           {
            "bin_start": 619,
            "bin_end": 1237,
            "count": 1349
           },
           {
            "bin_start": 1237,
            "bin_end": 1855,
            "count": 1270
           },
           {
            "bin_start": 1855,
            "bin_end": 2473,
            "count": 442
           },
           {
            "bin_start": 2473,
            "bin_end": 3091,
            "count": 100
           },
           {
            "bin_start": 3091,
            "bin_end": 3709,
            "count": 295
           },
           {
            "bin_start": 3709,
            "bin_end": 4327,
            "count": 347
           },
           {
            "bin_start": 4327,
            "bin_end": 4945,
            "count": 348
           },
           {
            "bin_start": 4945,
            "bin_end": 5563,
            "count": 82
           },
           {
            "bin_start": 5563,
            "bin_end": 6181,
            "count": 75
           }
          ]
         }
        },
        {
         "name": "tailnum",
         "dtype": "object",
         "stats": {
          "unique_count": 2425,
          "nan_count": 0,
          "categories": [
           {
            "name": "N592JB",
            "count": 13
           },
           {
            "name": "N39728",
            "count": 12
           },
           {
            "name": "2423 others",
            "count": 6189
           }
          ]
         }
        },
        {
         "name": "origin",
         "dtype": "object",
         "stats": {
          "unique_count": 3,
          "nan_count": 0,
          "categories": [
           {
            "name": "EWR",
            "count": 2649
           },
           {
            "name": "JFK",
            "count": 2090
           },
           {
            "name": "LGA",
            "count": 1475
           }
          ]
         }
        },
        {
         "name": "dest",
         "dtype": "object",
         "stats": {
          "unique_count": 96,
          "nan_count": 0,
          "categories": [
           {
            "name": "LAX",
            "count": 466
           },
           {
            "name": "SFO",
            "count": 344
           },
           {
            "name": "94 others",
            "count": 5404
           }
          ]
         }
        },
        {
         "name": "air_time",
         "dtype": "int64",
         "stats": {
          "unique_count": 386,
          "nan_count": 0,
          "min": "24",
          "max": "695",
          "histogram": [
           {
            "bin_start": 24,
            "bin_end": 91.1,
            "count": 1230
           },
           {
            "bin_start": 91.1,
            "bin_end": 158.2,
            "count": 2283
           },
           {
            "bin_start": 158.2,
            "bin_end": 225.29999999999998,
            "count": 1030
           },
           {
            "bin_start": 225.29999999999998,
            "bin_end": 292.4,
            "count": 333
           },
           {
            "bin_start": 292.4,
            "bin_end": 359.5,
            "count": 1201
           },
           {
            "bin_start": 359.5,
            "bin_end": 426.59999999999997,
            "count": 112
           },
           {
            "bin_start": 426.59999999999997,
            "bin_end": 493.69999999999993,
            "count": 0
           },
           {
            "bin_start": 493.69999999999993,
            "bin_end": 560.8,
            "count": 0
           },
           {
            "bin_start": 560.8,
            "bin_end": 627.9,
            "count": 19
           },
           {
            "bin_start": 627.9,
            "bin_end": 695,
            "count": 6
           }
          ]
         }
        },
        {
         "name": "distance",
         "dtype": "int64",
         "stats": {
          "unique_count": 191,
          "nan_count": 0,
          "min": "80",
          "max": "4983",
          "histogram": [
           {
            "bin_start": 80,
            "bin_end": 570.3,
            "count": 1310
           },
           {
            "bin_start": 570.3,
            "bin_end": 1060.6,
            "count": 1860
           },
           {
            "bin_start": 1060.6,
            "bin_end": 1550.9,
            "count": 1140
           },
           {
            "bin_start": 1550.9,
            "bin_end": 2041.2,
            "count": 470
           },
           {
            "bin_start": 2041.2,
            "bin_end": 2531.5,
            "count": 1054
           },
           {
            "bin_start": 2531.5,
            "bin_end": 3021.8,
            "count": 354
           },
           {
            "bin_start": 3021.8,
            "bin_end": 3512.1,
            "count": 1
           },
           {
            "bin_start": 3512.1,
            "bin_end": 4002.4,
            "count": 0
           },
           {
            "bin_start": 4002.4,
            "bin_end": 4492.7,
            "count": 0
           },
           {
            "bin_start": 4492.7,
            "bin_end": 4983,
            "count": 25
           }
          ]
         }
        },
        {
         "name": "hour",
         "dtype": "int64"
        },
        {
         "name": "minute",
         "dtype": "int64"
        },
        {
         "name": "time_hour",
         "dtype": "object"
        },
        {
         "name": "_deepnote_index_column",
         "dtype": "int64"
        }
       ],
       "rows_top": [
        {
         "year": 2013,
         "month": 1,
         "day": 1,
         "dep_time": 517,
         "sched_dep_time": 515,
         "dep_delay": "nan",
         "arr_time": 830,
         "sched_arr_time": 819,
         "arr_delay": 11,
         "carrier": "UA",
         "flight": 1545,
         "tailnum": "N14228",
         "origin": "EWR",
         "dest": "IAH",
         "air_time": 227,
         "distance": 1400,
         "hour": 5,
         "minute": 15,
         "time_hour": "2013-01-01T05:00:00Z",
         "_deepnote_index_column": 0
        },
        {
         "year": 2013,
         "month": 1,
         "day": 1,
         "dep_time": 542,
         "sched_dep_time": 540,
         "dep_delay": "nan",
         "arr_time": 923,
         "sched_arr_time": 850,
         "arr_delay": 33,
         "carrier": "AA",
         "flight": 1141,
         "tailnum": "N619AA",
         "origin": "JFK",
         "dest": "MIA",
         "air_time": 160,
         "distance": 1089,
         "hour": 5,
         "minute": 40,
         "time_hour": "2013-01-01T05:00:00Z",
         "_deepnote_index_column": 2
        },
        {
         "year": 2013,
         "month": 1,
         "day": 1,
         "dep_time": 702,
         "sched_dep_time": 700,
         "dep_delay": "nan",
         "arr_time": 1058,
         "sched_arr_time": 1014,
         "arr_delay": 44,
         "carrier": "B6",
         "flight": 671,
         "tailnum": "N779JB",
         "origin": "JFK",
         "dest": "LAX",
         "air_time": 381,
         "distance": 2475,
         "hour": 7,
         "minute": 0,
         "time_hour": "2013-01-01T07:00:00Z",
         "_deepnote_index_column": 69
        },
        {
         "year": 2013,
         "month": 1,
         "day": 1,
         "dep_time": 715,
         "sched_dep_time": 713,
         "dep_delay": "nan",
         "arr_time": 911,
         "sched_arr_time": 850,
         "arr_delay": 21,
         "carrier": "UA",
         "flight": 544,
         "tailnum": "N841UA",
         "origin": "EWR",
         "dest": "ORD",
         "air_time": 156,
         "distance": 719,
         "hour": 7,
         "minute": 13,
         "time_hour": "2013-01-01T07:00:00Z",
         "_deepnote_index_column": 73
        },
        {
         "year": 2013,
         "month": 1,
         "day": 1,
         "dep_time": 752,
         "sched_dep_time": 750,
         "dep_delay": "nan",
         "arr_time": 1025,
         "sched_arr_time": 1029,
         "arr_delay": -4,
         "carrier": "UA",
         "flight": 477,
         "tailnum": "N511UA",
         "origin": "LGA",
         "dest": "DEN",
         "air_time": 249,
         "distance": 1620,
         "hour": 7,
         "minute": 50,
         "time_hour": "2013-01-01T07:00:00Z",
         "_deepnote_index_column": 98
        },
        {
         "year": 2013,
         "month": 1,
         "day": 1,
         "dep_time": 917,
         "sched_dep_time": 915,
         "dep_delay": "nan",
         "arr_time": 1206,
         "sched_arr_time": 1211,
         "arr_delay": -5,
         "carrier": "B6",
         "flight": 41,
         "tailnum": "N568JB",
         "origin": "JFK",
         "dest": "MCO",
         "air_time": 145,
         "distance": 944,
         "hour": 9,
         "minute": 15,
         "time_hour": "2013-01-01T09:00:00Z",
         "_deepnote_index_column": 185
        },
        {
         "year": 2013,
         "month": 1,
         "day": 1,
         "dep_time": 932,
         "sched_dep_time": 930,
         "dep_delay": "nan",
         "arr_time": 1219,
         "sched_arr_time": 1225,
         "arr_delay": -6,
         "carrier": "VX",
         "flight": 251,
         "tailnum": "N641VA",
         "origin": "JFK",
         "dest": "LAS",
         "air_time": 324,
         "distance": 2248,
         "hour": 9,
         "minute": 30,
         "time_hour": "2013-01-01T09:00:00Z",
         "_deepnote_index_column": 200
        },
        {
         "year": 2013,
         "month": 1,
         "day": 1,
         "dep_time": 1028,
         "sched_dep_time": 1026,
         "dep_delay": "nan",
         "arr_time": 1350,
         "sched_arr_time": 1339,
         "arr_delay": 11,
         "carrier": "UA",
         "flight": 1004,
         "tailnum": "N76508",
         "origin": "LGA",
         "dest": "IAH",
         "air_time": 237,
         "distance": 1416,
         "hour": 10,
         "minute": 26,
         "time_hour": "2013-01-01T10:00:00Z",
         "_deepnote_index_column": 236
        },
        {
         "year": 2013,
         "month": 1,
         "day": 1,
         "dep_time": 1042,
         "sched_dep_time": 1040,
         "dep_delay": "nan",
         "arr_time": 1325,
         "sched_arr_time": 1326,
         "arr_delay": -1,
         "carrier": "B6",
         "flight": 31,
         "tailnum": "N529JB",
         "origin": "JFK",
         "dest": "MCO",
         "air_time": 142,
         "distance": 944,
         "hour": 10,
         "minute": 40,
         "time_hour": "2013-01-01T10:00:00Z",
         "_deepnote_index_column": 245
        },
        {
         "year": 2013,
         "month": 1,
         "day": 1,
         "dep_time": 1231,
         "sched_dep_time": 1229,
         "dep_delay": "nan",
         "arr_time": 1523,
         "sched_arr_time": 1529,
         "arr_delay": -6,
         "carrier": "UA",
         "flight": 428,
         "tailnum": "N402UA",
         "origin": "EWR",
         "dest": "FLL",
         "air_time": 156,
         "distance": 1065,
         "hour": 12,
         "minute": 29,
         "time_hour": "2013-01-01T12:00:00Z",
         "_deepnote_index_column": 325
        },
        {
         "year": 2013,
         "month": 1,
         "day": 1,
         "dep_time": 1302,
         "sched_dep_time": 1300,
         "dep_delay": "nan",
         "arr_time": 1553,
         "sched_arr_time": 1601,
         "arr_delay": -8,
         "carrier": "UA",
         "flight": 1435,
         "tailnum": "N78511",
         "origin": "EWR",
         "dest": "MIA",
         "air_time": 158,
         "distance": 1085,
         "hour": 13,
         "minute": 0,
         "time_hour": "2013-01-01T13:00:00Z",
         "_deepnote_index_column": 352
        },
        {
         "year": 2013,
         "month": 1,
         "day": 1,
         "dep_time": 1316,
         "sched_dep_time": 1314,
         "dep_delay": "nan",
         "arr_time": 1412,
         "sched_arr_time": 1415,
         "arr_delay": -3,
         "carrier": "EV",
         "flight": 4340,
         "tailnum": "N11551",
         "origin": "EWR",
         "dest": "BWI",
         "air_time": 38,
         "distance": 169,
         "hour": 13,
         "minute": 14,
         "time_hour": "2013-01-01T13:00:00Z",
         "_deepnote_index_column": 361
        },
        {
         "year": 2013,
         "month": 1,
         "day": 1,
         "dep_time": 1356,
         "sched_dep_time": 1354,
         "dep_delay": "nan",
         "arr_time": 1537,
         "sched_arr_time": 1526,
         "arr_delay": 11,
         "carrier": "UA",
         "flight": 617,
         "tailnum": "N840UA",
         "origin": "LGA",
         "dest": "ORD",
         "air_time": 146,
         "distance": 733,
         "hour": 13,
         "minute": 54,
         "time_hour": "2013-01-01T13:00:00Z",
         "_deepnote_index_column": 392
        },
        {
         "year": 2013,
         "month": 1,
         "day": 1,
         "dep_time": 1431,
         "sched_dep_time": 1429,
         "dep_delay": "nan",
         "arr_time": 1727,
         "sched_arr_time": 1722,
         "arr_delay": 5,
         "carrier": "B6",
         "flight": 1161,
         "tailnum": "N562JB",
         "origin": "LGA",
         "dest": "PBI",
         "air_time": 151,
         "distance": 1035,
         "hour": 14,
         "minute": 29,
         "time_hour": "2013-01-01T14:00:00Z",
         "_deepnote_index_column": 414
        },
        {
         "year": 2013,
         "month": 1,
         "day": 1,
         "dep_time": 1502,
         "sched_dep_time": 1500,
         "dep_delay": "nan",
         "arr_time": 1802,
         "sched_arr_time": 1806,
         "arr_delay": -4,
         "carrier": "UA",
         "flight": 456,
         "tailnum": "N406UA",
         "origin": "EWR",
         "dest": "FLL",
         "air_time": 156,
         "distance": 1065,
         "hour": 15,
         "minute": 0,
         "time_hour": "2013-01-01T15:00:00Z",
         "_deepnote_index_column": 446
        },
        {
         "year": 2013,
         "month": 1,
         "day": 1,
         "dep_time": 1518,
         "sched_dep_time": 1516,
         "dep_delay": "nan",
         "arr_time": 1837,
         "sched_arr_time": 1832,
         "arr_delay": 5,
         "carrier": "UA",
         "flight": 1699,
         "tailnum": "N53442",
         "origin": "EWR",
         "dest": "SFO",
         "air_time": 348,
         "distance": 2565,
         "hour": 15,
         "minute": 16,
         "time_hour": "2013-01-01T15:00:00Z",
         "_deepnote_index_column": 461
        },
        {
         "year": 2013,
         "month": 1,
         "day": 1,
         "dep_time": 1539,
         "sched_dep_time": 1537,
         "dep_delay": "nan",
         "arr_time": 1854,
         "sched_arr_time": 1819,
         "arr_delay": 35,
         "carrier": "UA",
         "flight": 1222,
         "tailnum": "N14250",
         "origin": "EWR",
         "dest": "LAS",
         "air_time": 342,
         "distance": 2227,
         "hour": 15,
         "minute": 37,
         "time_hour": "2013-01-01T15:00:00Z",
         "_deepnote_index_column": 488
        },
        {
         "year": 2013,
         "month": 1,
         "day": 1,
         "dep_time": 1547,
         "sched_dep_time": 1545,
         "dep_delay": "nan",
         "arr_time": 1823,
         "sched_arr_time": 1815,
         "arr_delay": 8,
         "carrier": "DL",
         "flight": 1942,
         "tailnum": "N994DL",
         "origin": "EWR",
         "dest": "ATL",
         "air_time": 129,
         "distance": 746,
         "hour": 15,
         "minute": 45,
         "time_hour": "2013-01-01T15:00:00Z",
         "_deepnote_index_column": 494
        },
        {
         "year": 2013,
         "month": 1,
         "day": 1,
         "dep_time": 1702,
         "sched_dep_time": 1700,
         "dep_delay": "nan",
         "arr_time": 2044,
         "sched_arr_time": 2028,
         "arr_delay": 16,
         "carrier": "UA",
         "flight": 1259,
         "tailnum": "N16632",
         "origin": "LGA",
         "dest": "IAH",
         "air_time": 234,
         "distance": 1416,
         "hour": 17,
         "minute": 0,
         "time_hour": "2013-01-01T17:00:00Z",
         "_deepnote_index_column": 577
        },
        {
         "year": 2013,
         "month": 1,
         "day": 1,
         "dep_time": 1707,
         "sched_dep_time": 1705,
         "dep_delay": "nan",
         "arr_time": 1928,
         "sched_arr_time": 1940,
         "arr_delay": -12,
         "carrier": "DL",
         "flight": 2121,
         "tailnum": "N3730B",
         "origin": "EWR",
         "dest": "ATL",
         "air_time": 121,
         "distance": 746,
         "hour": 17,
         "minute": 5,
         "time_hour": "2013-01-01T17:00:00Z",
         "_deepnote_index_column": 580
        },
        {
         "year": 2013,
         "month": 1,
         "day": 1,
         "dep_time": 1727,
         "sched_dep_time": 1725,
         "dep_delay": "nan",
         "arr_time": 2043,
         "sched_arr_time": 2040,
         "arr_delay": 3,
         "carrier": "AA",
         "flight": 145,
         "tailnum": "N377AA",
         "origin": "JFK",
         "dest": "SAN",
         "air_time": 357,
         "distance": 2446,
         "hour": 17,
         "minute": 25,
         "time_hour": "2013-01-01T17:00:00Z",
         "_deepnote_index_column": 601
        },
        {
         "year": 2013,
         "month": 1,
         "day": 1,
         "dep_time": 2017,
         "sched_dep_time": 2015,
         "dep_delay": "nan",
         "arr_time": 2318,
         "sched_arr_time": 2321,
         "arr_delay": -3,
         "carrier": "B6",
         "flight": 47,
         "tailnum": "N593JB",
         "origin": "JFK",
         "dest": "FLL",
         "air_time": 149,
         "distance": 1069,
         "hour": 20,
         "minute": 15,
         "time_hour": "2013-01-01T20:00:00Z",
         "_deepnote_index_column": 750
        },
        {
         "year": 2013,
         "month": 1,
         "day": 1,
         "dep_time": 2157,
         "sched_dep_time": 2155,
         "dep_delay": "nan",
         "arr_time": 43,
         "sched_arr_time": 41,
         "arr_delay": 2,
         "carrier": "B6",
         "flight": 43,
         "tailnum": "N537JB",
         "origin": "JFK",
         "dest": "MCO",
         "air_time": 140,
         "distance": 944,
         "hour": 21,
         "minute": 55,
         "time_hour": "2013-01-01T21:00:00Z",
         "_deepnote_index_column": 806
        },
        {
         "year": 2013,
         "month": 1,
         "day": 2,
         "dep_time": 602,
         "sched_dep_time": 600,
         "dep_delay": "nan",
         "arr_time": 646,
         "sched_arr_time": 659,
         "arr_delay": -13,
         "carrier": "US",
         "flight": 1833,
         "tailnum": "N951UW",
         "origin": "LGA",
         "dest": "PHL",
         "air_time": 28,
         "distance": 96,
         "hour": 6,
         "minute": 0,
         "time_hour": "2013-01-02T06:00:00Z",
         "_deepnote_index_column": 858
        },
        {
         "year": 2013,
         "month": 1,
         "day": 2,
         "dep_time": 617,
         "sched_dep_time": 615,
         "dep_delay": "nan",
         "arr_time": 837,
         "sched_arr_time": 817,
         "arr_delay": 20,
         "carrier": "US",
         "flight": 1567,
         "tailnum": "N745VJ",
         "origin": "JFK",
         "dest": "CLT",
         "air_time": 106,
         "distance": 541,
         "hour": 6,
         "minute": 15,
         "time_hour": "2013-01-02T06:00:00Z",
         "_deepnote_index_column": 872
        },
        {
         "year": 2013,
         "month": 1,
         "day": 2,
         "dep_time": 632,
         "sched_dep_time": 630,
         "dep_delay": "nan",
         "arr_time": 941,
         "sched_arr_time": 940,
         "arr_delay": 1,
         "carrier": "UA",
         "flight": 387,
         "tailnum": "N521UA",
         "origin": "EWR",
         "dest": "LAX",
         "air_time": 325,
         "distance": 2454,
         "hour": 6,
         "minute": 30,
         "time_hour": "2013-01-02T06:00:00Z",
         "_deepnote_index_column": 889
        }
       ],
       "rows_bottom": [
        {
         "year": 2013,
         "month": 9,
         "day": 29,
         "dep_time": 902,
         "sched_dep_time": 900,
         "dep_delay": "nan",
         "arr_time": 1032,
         "sched_arr_time": 1025,
         "arr_delay": 7,
         "carrier": "UA",
         "flight": 1030,
         "tailnum": "N57852",
         "origin": "EWR",
         "dest": "ORD",
         "air_time": 102,
         "distance": 719,
         "hour": 9,
         "minute": 0,
         "time_hour": "2013-09-29T09:00:00Z",
         "_deepnote_index_column": 325629
        },
        {
         "year": 2013,
         "month": 9,
         "day": 29,
         "dep_time": 952,
         "sched_dep_time": 950,
         "dep_delay": "nan",
         "arr_time": 1231,
         "sched_arr_time": 1310,
         "arr_delay": -39,
         "carrier": "AA",
         "flight": 1160,
         "tailnum": "N3EEAA",
         "origin": "LGA",
         "dest": "MIA",
         "air_time": 131,
         "distance": 1096,
         "hour": 9,
         "minute": 50,
         "time_hour": "2013-09-29T09:00:00Z",
         "_deepnote_index_column": 325672
        },
        {
         "year": 2013,
         "month": 9,
         "day": 29,
         "dep_time": 1001,
         "sched_dep_time": 959,
         "dep_delay": "nan",
         "arr_time": 1122,
         "sched_arr_time": 1115,
         "arr_delay": 7,
         "carrier": "EV",
         "flight": 5711,
         "tailnum": "N829AS",
         "origin": "JFK",
         "dest": "IAD",
         "air_time": 51,
         "distance": 228,
         "hour": 9,
         "minute": 59,
         "time_hour": "2013-09-29T09:00:00Z",
         "_deepnote_index_column": 325681
        },
        {
         "year": 2013,
         "month": 9,
         "day": 29,
         "dep_time": 1255,
         "sched_dep_time": 1253,
         "dep_delay": "nan",
         "arr_time": 1443,
         "sched_arr_time": 1517,
         "arr_delay": -34,
         "carrier": "UA",
         "flight": 1178,
         "tailnum": "N16701",
         "origin": "EWR",
         "dest": "MSY",
         "air_time": 151,
         "distance": 1167,
         "hour": 12,
         "minute": 53,
         "time_hour": "2013-09-29T12:00:00Z",
         "_deepnote_index_column": 325809
        },
        {
         "year": 2013,
         "month": 9,
         "day": 29,
         "dep_time": 1410,
         "sched_dep_time": 1408,
         "dep_delay": "nan",
         "arr_time": 1521,
         "sched_arr_time": 1528,
         "arr_delay": -7,
         "carrier": "EV",
         "flight": 5712,
         "tailnum": "N828AS",
         "origin": "JFK",
         "dest": "IAD",
         "air_time": 44,
         "distance": 228,
         "hour": 14,
         "minute": 8,
         "time_hour": "2013-09-29T14:00:00Z",
         "_deepnote_index_column": 325879
        },
        {
         "year": 2013,
         "month": 9,
         "day": 29,
         "dep_time": 1457,
         "sched_dep_time": 1455,
         "dep_delay": "nan",
         "arr_time": 1711,
         "sched_arr_time": 1727,
         "arr_delay": -16,
         "carrier": "9E",
         "flight": 3316,
         "tailnum": "N925XJ",
         "origin": "JFK",
         "dest": "IND",
         "air_time": 94,
         "distance": 665,
         "hour": 14,
         "minute": 55,
         "time_hour": "2013-09-29T14:00:00Z",
         "_deepnote_index_column": 325931
        },
        {
         "year": 2013,
         "month": 9,
         "day": 29,
         "dep_time": 1532,
         "sched_dep_time": 1530,
         "dep_delay": "nan",
         "arr_time": 1824,
         "sched_arr_time": 1843,
         "arr_delay": -19,
         "carrier": "DL",
         "flight": 1163,
         "tailnum": "N193DN",
         "origin": "JFK",
         "dest": "LAX",
         "air_time": 305,
         "distance": 2475,
         "hour": 15,
         "minute": 30,
         "time_hour": "2013-09-29T15:00:00Z",
         "_deepnote_index_column": 325972
        },
        {
         "year": 2013,
         "month": 9,
         "day": 29,
         "dep_time": 1532,
         "sched_dep_time": 1530,
         "dep_delay": "nan",
         "arr_time": 1639,
         "sched_arr_time": 1645,
         "arr_delay": -6,
         "carrier": "WN",
         "flight": 292,
         "tailnum": "N739GB",
         "origin": "EWR",
         "dest": "MDW",
         "air_time": 100,
         "distance": 711,
         "hour": 15,
         "minute": 30,
         "time_hour": "2013-09-29T15:00:00Z",
         "_deepnote_index_column": 325973
        },
        {
         "year": 2013,
         "month": 9,
         "day": 29,
         "dep_time": 1631,
         "sched_dep_time": 1629,
         "dep_delay": "nan",
         "arr_time": 1923,
         "sched_arr_time": 1919,
         "arr_delay": 4,
         "carrier": "UA",
         "flight": 1695,
         "tailnum": "N41135",
         "origin": "EWR",
         "dest": "IAH",
         "air_time": 212,
         "distance": 1400,
         "hour": 16,
         "minute": 29,
         "time_hour": "2013-09-29T16:00:00Z",
         "_deepnote_index_column": 326036
        },
        {
         "year": 2013,
         "month": 9,
         "day": 29,
         "dep_time": 1708,
         "sched_dep_time": 1706,
         "dep_delay": "nan",
         "arr_time": 1935,
         "sched_arr_time": 2000,
         "arr_delay": -25,
         "carrier": "UA",
         "flight": 376,
         "tailnum": "N563UA",
         "origin": "EWR",
         "dest": "LAX",
         "air_time": 302,
         "distance": 2454,
         "hour": 17,
         "minute": 6,
         "time_hour": "2013-09-29T17:00:00Z",
         "_deepnote_index_column": 326079
        },
        {
         "year": 2013,
         "month": 9,
         "day": 29,
         "dep_time": 1743,
         "sched_dep_time": 1741,
         "dep_delay": "nan",
         "arr_time": 1937,
         "sched_arr_time": 1944,
         "arr_delay": -7,
         "carrier": "EV",
         "flight": 4380,
         "tailnum": "N16178",
         "origin": "EWR",
         "dest": "MSP",
         "air_time": 141,
         "distance": 1008,
         "hour": 17,
         "minute": 41,
         "time_hour": "2013-09-29T17:00:00Z",
         "_deepnote_index_column": 326118
        },
        {
         "year": 2013,
         "month": 9,
         "day": 29,
         "dep_time": 1801,
         "sched_dep_time": 1759,
         "dep_delay": "nan",
         "arr_time": 2040,
         "sched_arr_time": 2052,
         "arr_delay": -12,
         "carrier": "B6",
         "flight": 299,
         "tailnum": "N508JB",
         "origin": "LGA",
         "dest": "MCO",
         "air_time": 126,
         "distance": 950,
         "hour": 17,
         "minute": 59,
         "time_hour": "2013-09-29T17:00:00Z",
         "_deepnote_index_column": 326139
        },
        {
         "year": 2013,
         "month": 9,
         "day": 29,
         "dep_time": 1827,
         "sched_dep_time": 1825,
         "dep_delay": "nan",
         "arr_time": 2044,
         "sched_arr_time": 2121,
         "arr_delay": -37,
         "carrier": "DL",
         "flight": 1576,
         "tailnum": "N3765",
         "origin": "JFK",
         "dest": "SAN",
         "air_time": 290,
         "distance": 2446,
         "hour": 18,
         "minute": 25,
         "time_hour": "2013-09-29T18:00:00Z",
         "_deepnote_index_column": 326169
        },
        {
         "year": 2013,
         "month": 9,
         "day": 29,
         "dep_time": 1902,
         "sched_dep_time": 1900,
         "dep_delay": "nan",
         "arr_time": 2120,
         "sched_arr_time": 2132,
         "arr_delay": -12,
         "carrier": "DL",
         "flight": 947,
         "tailnum": "N921DL",
         "origin": "LGA",
         "dest": "ATL",
         "air_time": 104,
         "distance": 762,
         "hour": 19,
         "minute": 0,
         "time_hour": "2013-09-29T19:00:00Z",
         "_deepnote_index_column": 326209
        },
        {
         "year": 2013,
         "month": 9,
         "day": 29,
         "dep_time": 2017,
         "sched_dep_time": 2015,
         "dep_delay": "nan",
         "arr_time": 2114,
         "sched_arr_time": 2125,
         "arr_delay": -11,
         "carrier": "B6",
         "flight": 418,
         "tailnum": "N358JB",
         "origin": "JFK",
         "dest": "BOS",
         "air_time": 33,
         "distance": 187,
         "hour": 20,
         "minute": 15,
         "time_hour": "2013-09-29T20:00:00Z",
         "_deepnote_index_column": 326277
        },
        {
         "year": 2013,
         "month": 9,
         "day": 30,
         "dep_time": 742,
         "sched_dep_time": 740,
         "dep_delay": "nan",
         "arr_time": 852,
         "sched_arr_time": 900,
         "arr_delay": -8,
         "carrier": "MQ",
         "flight": 3709,
         "tailnum": "N537MQ",
         "origin": "EWR",
         "dest": "ORD",
         "air_time": 97,
         "distance": 719,
         "hour": 7,
         "minute": 40,
         "time_hour": "2013-09-30T07:00:00Z",
         "_deepnote_index_column": 326490
        },
        {
         "year": 2013,
         "month": 9,
         "day": 30,
         "dep_time": 842,
         "sched_dep_time": 840,
         "dep_delay": "nan",
         "arr_time": 1012,
         "sched_arr_time": 1023,
         "arr_delay": -11,
         "carrier": "EV",
         "flight": 4941,
         "tailnum": "N708EV",
         "origin": "LGA",
         "dest": "ORF",
         "air_time": 47,
         "distance": 296,
         "hour": 8,
         "minute": 40,
         "time_hour": "2013-09-30T08:00:00Z",
         "_deepnote_index_column": 326581
        },
        {
         "year": 2013,
         "month": 9,
         "day": 30,
         "dep_time": 952,
         "sched_dep_time": 950,
         "dep_delay": "nan",
         "arr_time": 1203,
         "sched_arr_time": 1220,
         "arr_delay": -17,
         "carrier": "VX",
         "flight": 251,
         "tailnum": "N846VA",
         "origin": "JFK",
         "dest": "LAS",
         "air_time": 287,
         "distance": 2248,
         "hour": 9,
         "minute": 50,
         "time_hour": "2013-09-30T09:00:00Z",
         "_deepnote_index_column": 326651
        },
        {
         "year": 2013,
         "month": 9,
         "day": 30,
         "dep_time": 1002,
         "sched_dep_time": 1000,
         "dep_delay": "nan",
         "arr_time": 1149,
         "sched_arr_time": 1120,
         "arr_delay": 29,
         "carrier": "US",
         "flight": 2175,
         "tailnum": "N748UW",
         "origin": "LGA",
         "dest": "DCA",
         "air_time": 44,
         "distance": 214,
         "hour": 10,
         "minute": 0,
         "time_hour": "2013-09-30T10:00:00Z",
         "_deepnote_index_column": 326660
        },
        {
         "year": 2013,
         "month": 9,
         "day": 30,
         "dep_time": 1146,
         "sched_dep_time": 1144,
         "dep_delay": "nan",
         "arr_time": 1425,
         "sched_arr_time": 1429,
         "arr_delay": -4,
         "carrier": "UA",
         "flight": 1519,
         "tailnum": "N17105",
         "origin": "EWR",
         "dest": "MCO",
         "air_time": 130,
         "distance": 937,
         "hour": 11,
         "minute": 44,
         "time_hour": "2013-09-30T11:00:00Z",
         "_deepnote_index_column": 326741
        },
        {
         "year": 2013,
         "month": 9,
         "day": 30,
         "dep_time": 1337,
         "sched_dep_time": 1335,
         "dep_delay": "nan",
         "arr_time": 1444,
         "sched_arr_time": 1500,
         "arr_delay": -16,
         "carrier": "WN",
         "flight": 1,
         "tailnum": "N7704B",
         "origin": "LGA",
         "dest": "MDW",
         "air_time": 103,
         "distance": 725,
         "hour": 13,
         "minute": 35,
         "time_hour": "2013-09-30T13:00:00Z",
         "_deepnote_index_column": 326840
        },
        {
         "year": 2013,
         "month": 9,
         "day": 30,
         "dep_time": 1357,
         "sched_dep_time": 1355,
         "dep_delay": "nan",
         "arr_time": 1547,
         "sched_arr_time": 1615,
         "arr_delay": -28,
         "carrier": "WN",
         "flight": 246,
         "tailnum": "N430WN",
         "origin": "EWR",
         "dest": "PHX",
         "air_time": 267,
         "distance": 2133,
         "hour": 13,
         "minute": 55,
         "time_hour": "2013-09-30T13:00:00Z",
         "_deepnote_index_column": 326863
        },
        {
         "year": 2013,
         "month": 9,
         "day": 30,
         "dep_time": 1610,
         "sched_dep_time": 1608,
         "dep_delay": "nan",
         "arr_time": 1729,
         "sched_arr_time": 1752,
         "arr_delay": -23,
         "carrier": "B6",
         "flight": 1105,
         "tailnum": "N306JB",
         "origin": "JFK",
         "dest": "ORD",
         "air_time": 111,
         "distance": 740,
         "hour": 16,
         "minute": 8,
         "time_hour": "2013-09-30T16:00:00Z",
         "_deepnote_index_column": 327005
        },
        {
         "year": 2013,
         "month": 9,
         "day": 30,
         "dep_time": 1621,
         "sched_dep_time": 1619,
         "dep_delay": "nan",
         "arr_time": 1856,
         "sched_arr_time": 1919,
         "arr_delay": -23,
         "carrier": "B6",
         "flight": 283,
         "tailnum": "N632JB",
         "origin": "JFK",
         "dest": "MCO",
         "air_time": 129,
         "distance": 944,
         "hour": 16,
         "minute": 19,
         "time_hour": "2013-09-30T16:00:00Z",
         "_deepnote_index_column": 327020
        },
        {
         "year": 2013,
         "month": 9,
         "day": 30,
         "dep_time": 1702,
         "sched_dep_time": 1700,
         "dep_delay": "nan",
         "arr_time": 1940,
         "sched_arr_time": 1921,
         "arr_delay": 19,
         "carrier": "DL",
         "flight": 2042,
         "tailnum": "N346NB",
         "origin": "EWR",
         "dest": "ATL",
         "air_time": 99,
         "distance": 746,
         "hour": 17,
         "minute": 0,
         "time_hour": "2013-09-30T17:00:00Z",
         "_deepnote_index_column": 327065
        },
        {
         "year": 2013,
         "month": 9,
         "day": 30,
         "dep_time": 1731,
         "sched_dep_time": 1729,
         "dep_delay": "nan",
         "arr_time": 2008,
         "sched_arr_time": 2030,
         "arr_delay": -22,
         "carrier": "UA",
         "flight": 1692,
         "tailnum": "N36472",
         "origin": "EWR",
         "dest": "SAN",
         "air_time": 302,
         "distance": 2425,
         "hour": 17,
         "minute": 29,
         "time_hour": "2013-09-30T17:00:00Z",
         "_deepnote_index_column": 327102
        }
       ]
      },
      "text/plain": "        year  month  day  dep_time  sched_dep_time  dep_delay  arr_time  \\\n0       2013      1    1       517             515        NaN       830   \n2       2013      1    1       542             540        NaN       923   \n69      2013      1    1       702             700        NaN      1058   \n73      2013      1    1       715             713        NaN       911   \n98      2013      1    1       752             750        NaN      1025   \n...      ...    ...  ...       ...             ...        ...       ...   \n326863  2013      9   30      1357            1355        NaN      1547   \n327005  2013      9   30      1610            1608        NaN      1729   \n327020  2013      9   30      1621            1619        NaN      1856   \n327065  2013      9   30      1702            1700        NaN      1940   \n327102  2013      9   30      1731            1729        NaN      2008   \n\n        sched_arr_time  arr_delay carrier  flight tailnum origin dest  \\\n0                  819         11      UA    1545  N14228    EWR  IAH   \n2                  850         33      AA    1141  N619AA    JFK  MIA   \n69                1014         44      B6     671  N779JB    JFK  LAX   \n73                 850         21      UA     544  N841UA    EWR  ORD   \n98                1029         -4      UA     477  N511UA    LGA  DEN   \n...                ...        ...     ...     ...     ...    ...  ...   \n326863            1615        -28      WN     246  N430WN    EWR  PHX   \n327005            1752        -23      B6    1105  N306JB    JFK  ORD   \n327020            1919        -23      B6     283  N632JB    JFK  MCO   \n327065            1921         19      DL    2042  N346NB    EWR  ATL   \n327102            2030        -22      UA    1692  N36472    EWR  SAN   \n\n        air_time  distance  hour  minute             time_hour  \n0            227      1400     5      15  2013-01-01T05:00:00Z  \n2            160      1089     5      40  2013-01-01T05:00:00Z  \n69           381      2475     7       0  2013-01-01T07:00:00Z  \n73           156       719     7      13  2013-01-01T07:00:00Z  \n98           249      1620     7      50  2013-01-01T07:00:00Z  \n...          ...       ...   ...     ...                   ...  \n326863       267      2133    13      55  2013-09-30T13:00:00Z  \n327005       111       740    16       8  2013-09-30T16:00:00Z  \n327020       129       944    16      19  2013-09-30T16:00:00Z  \n327065        99       746    17       0  2013-09-30T17:00:00Z  \n327102       302      2425    17      29  2013-09-30T17:00:00Z  \n\n[6214 rows x 19 columns]",
      "text/html": "<div>\n<style scoped>\n    .dataframe tbody tr th:only-of-type {\n        vertical-align: middle;\n    }\n\n    .dataframe tbody tr th {\n        vertical-align: top;\n    }\n\n    .dataframe thead th {\n        text-align: right;\n    }\n</style>\n<table border=\"1\" class=\"dataframe\">\n  <thead>\n    <tr style=\"text-align: right;\">\n      <th></th>\n      <th>year</th>\n      <th>month</th>\n      <th>day</th>\n      <th>dep_time</th>\n      <th>sched_dep_time</th>\n      <th>dep_delay</th>\n      <th>arr_time</th>\n      <th>sched_arr_time</th>\n      <th>arr_delay</th>\n      <th>carrier</th>\n      <th>flight</th>\n      <th>tailnum</th>\n      <th>origin</th>\n      <th>dest</th>\n      <th>air_time</th>\n      <th>distance</th>\n      <th>hour</th>\n      <th>minute</th>\n      <th>time_hour</th>\n    </tr>\n  </thead>\n  <tbody>\n    <tr>\n      <th>0</th>\n      <td>2013</td>\n      <td>1</td>\n      <td>1</td>\n      <td>517</td>\n      <td>515</td>\n      <td>NaN</td>\n      <td>830</td>\n      <td>819</td>\n      <td>11</td>\n      <td>UA</td>\n      <td>1545</td>\n      <td>N14228</td>\n      <td>EWR</td>\n      <td>IAH</td>\n      <td>227</td>\n      <td>1400</td>\n      <td>5</td>\n      <td>15</td>\n      <td>2013-01-01T05:00:00Z</td>\n    </tr>\n    <tr>\n      <th>2</th>\n      <td>2013</td>\n      <td>1</td>\n      <td>1</td>\n      <td>542</td>\n      <td>540</td>\n      <td>NaN</td>\n      <td>923</td>\n      <td>850</td>\n      <td>33</td>\n      <td>AA</td>\n      <td>1141</td>\n      <td>N619AA</td>\n      <td>JFK</td>\n      <td>MIA</td>\n      <td>160</td>\n      <td>1089</td>\n      <td>5</td>\n      <td>40</td>\n      <td>2013-01-01T05:00:00Z</td>\n    </tr>\n    <tr>\n      <th>69</th>\n      <td>2013</td>\n      <td>1</td>\n      <td>1</td>\n      <td>702</td>\n      <td>700</td>\n      <td>NaN</td>\n      <td>1058</td>\n      <td>1014</td>\n      <td>44</td>\n      <td>B6</td>\n      <td>671</td>\n      <td>N779JB</td>\n      <td>JFK</td>\n      <td>LAX</td>\n      <td>381</td>\n      <td>2475</td>\n      <td>7</td>\n      <td>0</td>\n      <td>2013-01-01T07:00:00Z</td>\n    </tr>\n    <tr>\n      <th>73</th>\n      <td>2013</td>\n      <td>1</td>\n      <td>1</td>\n      <td>715</td>\n      <td>713</td>\n      <td>NaN</td>\n      <td>911</td>\n      <td>850</td>\n      <td>21</td>\n      <td>UA</td>\n      <td>544</td>\n      <td>N841UA</td>\n      <td>EWR</td>\n      <td>ORD</td>\n      <td>156</td>\n      <td>719</td>\n      <td>7</td>\n      <td>13</td>\n      <td>2013-01-01T07:00:00Z</td>\n    </tr>\n    <tr>\n      <th>98</th>\n      <td>2013</td>\n      <td>1</td>\n      <td>1</td>\n      <td>752</td>\n      <td>750</td>\n      <td>NaN</td>\n      <td>1025</td>\n      <td>1029</td>\n      <td>-4</td>\n      <td>UA</td>\n      <td>477</td>\n      <td>N511UA</td>\n      <td>LGA</td>\n      <td>DEN</td>\n      <td>249</td>\n      <td>1620</td>\n      <td>7</td>\n      <td>50</td>\n      <td>2013-01-01T07:00:00Z</td>\n    </tr>\n    <tr>\n      <th>...</th>\n      <td>...</td>\n      <td>...</td>\n      <td>...</td>\n      <td>...</td>\n      <td>...</td>\n      <td>...</td>\n      <td>...</td>\n      <td>...</td>\n      <td>...</td>\n      <td>...</td>\n      <td>...</td>\n      <td>...</td>\n      <td>...</td>\n      <td>...</td>\n      <td>...</td>\n      <td>...</td>\n      <td>...</td>\n      <td>...</td>\n      <td>...</td>\n    </tr>\n    <tr>\n      <th>326863</th>\n      <td>2013</td>\n      <td>9</td>\n      <td>30</td>\n      <td>1357</td>\n      <td>1355</td>\n      <td>NaN</td>\n      <td>1547</td>\n      <td>1615</td>\n      <td>-28</td>\n      <td>WN</td>\n      <td>246</td>\n      <td>N430WN</td>\n      <td>EWR</td>\n      <td>PHX</td>\n      <td>267</td>\n      <td>2133</td>\n      <td>13</td>\n      <td>55</td>\n      <td>2013-09-30T13:00:00Z</td>\n    </tr>\n    <tr>\n      <th>327005</th>\n      <td>2013</td>\n      <td>9</td>\n      <td>30</td>\n      <td>1610</td>\n      <td>1608</td>\n      <td>NaN</td>\n      <td>1729</td>\n      <td>1752</td>\n      <td>-23</td>\n      <td>B6</td>\n      <td>1105</td>\n      <td>N306JB</td>\n      <td>JFK</td>\n      <td>ORD</td>\n      <td>111</td>\n      <td>740</td>\n      <td>16</td>\n      <td>8</td>\n      <td>2013-09-30T16:00:00Z</td>\n    </tr>\n    <tr>\n      <th>327020</th>\n      <td>2013</td>\n      <td>9</td>\n      <td>30</td>\n      <td>1621</td>\n      <td>1619</td>\n      <td>NaN</td>\n      <td>1856</td>\n      <td>1919</td>\n      <td>-23</td>\n      <td>B6</td>\n      <td>283</td>\n      <td>N632JB</td>\n      <td>JFK</td>\n      <td>MCO</td>\n      <td>129</td>\n      <td>944</td>\n      <td>16</td>\n      <td>19</td>\n      <td>2013-09-30T16:00:00Z</td>\n    </tr>\n    <tr>\n      <th>327065</th>\n      <td>2013</td>\n      <td>9</td>\n      <td>30</td>\n      <td>1702</td>\n      <td>1700</td>\n      <td>NaN</td>\n      <td>1940</td>\n      <td>1921</td>\n      <td>19</td>\n      <td>DL</td>\n      <td>2042</td>\n      <td>N346NB</td>\n      <td>EWR</td>\n      <td>ATL</td>\n      <td>99</td>\n      <td>746</td>\n      <td>17</td>\n      <td>0</td>\n      <td>2013-09-30T17:00:00Z</td>\n    </tr>\n    <tr>\n      <th>327102</th>\n      <td>2013</td>\n      <td>9</td>\n      <td>30</td>\n      <td>1731</td>\n      <td>1729</td>\n      <td>NaN</td>\n      <td>2008</td>\n      <td>2030</td>\n      <td>-22</td>\n      <td>UA</td>\n      <td>1692</td>\n      <td>N36472</td>\n      <td>EWR</td>\n      <td>SAN</td>\n      <td>302</td>\n      <td>2425</td>\n      <td>17</td>\n      <td>29</td>\n      <td>2013-09-30T17:00:00Z</td>\n    </tr>\n  </tbody>\n</table>\n<p>6214 rows × 19 columns</p>\n</div>"
     },
     "metadata": {}
    }
   ]
  },
  {
   "cell_type": "code",
   "metadata": {
    "cell_id": "00054-6b1b4dbf-b180-4fdf-989b-faae539a4232",
    "output_cleared": false,
    "deepnote_to_be_reexecuted": false,
    "source_hash": "9c649064",
    "execution_start": 1631946553766,
    "execution_millis": 5,
    "deepnote_cell_type": "code"
   },
   "source": "index_nan = flightData.dep_delay.index[flightData.dep_delay.isnull()]\nprint(index_nan)",
   "execution_count": 10,
   "outputs": [
    {
     "name": "stdout",
     "text": "Int64Index([     0,      2,     69,     73,     98,    185,    200,    236,\n               245,    325,\n            ...\n            326581, 326651, 326660, 326741, 326840, 326863, 327005, 327020,\n            327065, 327102],\n           dtype='int64', length=6214)\n",
     "output_type": "stream"
    }
   ]
  },
  {
   "cell_type": "markdown",
   "source": "### Remove missing data rows",
   "metadata": {
    "cell_id": "00055-e110a00f-3bc8-47b1-a831-ac479c39d0db",
    "deepnote_cell_type": "markdown"
   }
  },
  {
   "cell_type": "code",
   "metadata": {
    "cell_id": "00056-fbc1da72-fc4d-4948-90cb-e09737873b7a",
    "deepnote_to_be_reexecuted": false,
    "source_hash": "e5816d33",
    "execution_start": 1631946921379,
    "execution_millis": 7,
    "output_cleared": false,
    "deepnote_cell_type": "code"
   },
   "source": "flightData.shape",
   "execution_count": 13,
   "outputs": [
    {
     "output_type": "execute_result",
     "execution_count": 13,
     "data": {
      "text/plain": "(327346, 19)"
     },
     "metadata": {}
    }
   ]
  },
  {
   "cell_type": "code",
   "metadata": {
    "cell_id": "00057-a08cc730-91ac-47e5-b5af-243f67abdaf8",
    "deepnote_to_be_reexecuted": false,
    "source_hash": "5f4799f0",
    "execution_start": 1631946889126,
    "execution_millis": 21864,
    "output_cleared": false,
    "deepnote_cell_type": "code"
   },
   "source": "flightData.dropna(how='any').shape",
   "execution_count": 12,
   "outputs": [
    {
     "output_type": "execute_result",
     "execution_count": 12,
     "data": {
      "text/plain": "(321132, 19)"
     },
     "metadata": {}
    }
   ]
  },
  {
   "cell_type": "code",
   "metadata": {
    "tags": [],
    "cell_id": "00058-fae0ca49-f181-4266-9550-3147b03380df",
    "deepnote_to_be_reexecuted": false,
    "source_hash": "b44741ad",
    "execution_start": 1631372406041,
    "execution_millis": 144,
    "output_cleared": true,
    "deepnote_cell_type": "code"
   },
   "source": "flightData.dropna(how='any').head()",
   "execution_count": null,
   "outputs": []
  },
  {
   "cell_type": "code",
   "metadata": {
    "cell_id": "00058-b00c52c6-3232-4e09-a6c7-1647890473bd",
    "deepnote_to_be_reexecuted": false,
    "source_hash": "bc0ec605",
    "execution_start": 1631946934161,
    "execution_millis": 148,
    "output_cleared": false,
    "deepnote_cell_type": "code"
   },
   "source": "flightData_dropNA = flightData.dropna(how='any')\nflightData_dropNA.head()",
   "execution_count": 14,
   "outputs": [
    {
     "output_type": "execute_result",
     "execution_count": 14,
     "data": {
      "application/vnd.deepnote.dataframe.v2+json": {
       "row_count": 5,
       "column_count": 19,
       "columns": [
        {
         "name": "year",
         "dtype": "int64",
         "stats": {
          "unique_count": 1,
          "nan_count": 0,
          "min": "2013",
          "max": "2013",
          "histogram": [
           {
            "bin_start": 2012.5,
            "bin_end": 2012.6,
            "count": 0
           },
           {
            "bin_start": 2012.6,
            "bin_end": 2012.7,
            "count": 0
           },
           {
            "bin_start": 2012.7,
            "bin_end": 2012.8,
            "count": 0
           },
           {
            "bin_start": 2012.8,
            "bin_end": 2012.9,
            "count": 0
           },
           {
            "bin_start": 2012.9,
            "bin_end": 2013,
            "count": 0
           },
           {
            "bin_start": 2013,
            "bin_end": 2013.1,
            "count": 5
           },
           {
            "bin_start": 2013.1,
            "bin_end": 2013.2,
            "count": 0
           },
           {
            "bin_start": 2013.2,
            "bin_end": 2013.3,
            "count": 0
           },
           {
            "bin_start": 2013.3,
            "bin_end": 2013.4,
            "count": 0
           },
           {
            "bin_start": 2013.4,
            "bin_end": 2013.5,
            "count": 0
           }
          ]
         }
        },
        {
         "name": "month",
         "dtype": "int64",
         "stats": {
          "unique_count": 1,
          "nan_count": 0,
          "min": "1",
          "max": "1",
          "histogram": [
           {
            "bin_start": 0.5,
            "bin_end": 0.6,
            "count": 0
           },
           {
            "bin_start": 0.6,
            "bin_end": 0.7,
            "count": 0
           },
           {
            "bin_start": 0.7,
            "bin_end": 0.8,
            "count": 0
           },
           {
            "bin_start": 0.8,
            "bin_end": 0.9,
            "count": 0
           },
           {
            "bin_start": 0.9,
            "bin_end": 1,
            "count": 0
           },
           {
            "bin_start": 1,
            "bin_end": 1.1,
            "count": 5
           },
           {
            "bin_start": 1.1,
            "bin_end": 1.2000000000000002,
            "count": 0
           },
           {
            "bin_start": 1.2000000000000002,
            "bin_end": 1.3,
            "count": 0
           },
           {
            "bin_start": 1.3,
            "bin_end": 1.4,
            "count": 0
           },
           {
            "bin_start": 1.4,
            "bin_end": 1.5,
            "count": 0
           }
          ]
         }
        },
        {
         "name": "day",
         "dtype": "int64",
         "stats": {
          "unique_count": 1,
          "nan_count": 0,
          "min": "1",
          "max": "1",
          "histogram": [
           {
            "bin_start": 0.5,
            "bin_end": 0.6,
            "count": 0
           },
           {
            "bin_start": 0.6,
            "bin_end": 0.7,
            "count": 0
           },
           {
            "bin_start": 0.7,
            "bin_end": 0.8,
            "count": 0
           },
           {
            "bin_start": 0.8,
            "bin_end": 0.9,
            "count": 0
           },
           {
            "bin_start": 0.9,
            "bin_end": 1,
            "count": 0
           },
           {
            "bin_start": 1,
            "bin_end": 1.1,
            "count": 5
           },
           {
            "bin_start": 1.1,
            "bin_end": 1.2000000000000002,
            "count": 0
           },
           {
            "bin_start": 1.2000000000000002,
            "bin_end": 1.3,
            "count": 0
           },
           {
            "bin_start": 1.3,
            "bin_end": 1.4,
            "count": 0
           },
           {
            "bin_start": 1.4,
            "bin_end": 1.5,
            "count": 0
           }
          ]
         }
        },
        {
         "name": "dep_time",
         "dtype": "int64",
         "stats": {
          "unique_count": 4,
          "nan_count": 0,
          "min": "533",
          "max": "555",
          "histogram": [
           {
            "bin_start": 533,
            "bin_end": 535.2,
            "count": 1
           },
           {
            "bin_start": 535.2,
            "bin_end": 537.4,
            "count": 0
           },
           {
            "bin_start": 537.4,
            "bin_end": 539.6,
            "count": 0
           },
           {
            "bin_start": 539.6,
            "bin_end": 541.8,
            "count": 0
           },
           {
            "bin_start": 541.8,
            "bin_end": 544,
            "count": 0
           },
           {
            "bin_start": 544,
            "bin_end": 546.2,
            "count": 1
           },
           {
            "bin_start": 546.2,
            "bin_end": 548.4,
            "count": 0
           },
           {
            "bin_start": 548.4,
            "bin_end": 550.6,
            "count": 0
           },
           {
            "bin_start": 550.6,
            "bin_end": 552.8,
            "count": 0
           },
           {
            "bin_start": 552.8,
            "bin_end": 555,
            "count": 3
           }
          ]
         }
        },
        {
         "name": "sched_dep_time",
         "dtype": "int64",
         "stats": {
          "unique_count": 4,
          "nan_count": 0,
          "min": "529",
          "max": "600",
          "histogram": [
           {
            "bin_start": 529,
            "bin_end": 536.1,
            "count": 1
           },
           {
            "bin_start": 536.1,
            "bin_end": 543.2,
            "count": 0
           },
           {
            "bin_start": 543.2,
            "bin_end": 550.3,
            "count": 1
           },
           {
            "bin_start": 550.3,
            "bin_end": 557.4,
            "count": 0
           },
           {
            "bin_start": 557.4,
            "bin_end": 564.5,
            "count": 1
           },
           {
            "bin_start": 564.5,
            "bin_end": 571.6,
            "count": 0
           },
           {
            "bin_start": 571.6,
            "bin_end": 578.7,
            "count": 0
           },
           {
            "bin_start": 578.7,
            "bin_end": 585.8,
            "count": 0
           },
           {
            "bin_start": 585.8,
            "bin_end": 592.9,
            "count": 0
           },
           {
            "bin_start": 592.9,
            "bin_end": 600,
            "count": 2
           }
          ]
         }
        },
        {
         "name": "dep_delay",
         "dtype": "float64",
         "stats": {
          "unique_count": 5,
          "nan_count": 0,
          "min": "-6.0",
          "max": "4.0",
          "histogram": [
           {
            "bin_start": -6,
            "bin_end": -5,
            "count": 1
           },
           {
            "bin_start": -5,
            "bin_end": -4,
            "count": 1
           },
           {
            "bin_start": -4,
            "bin_end": -3,
            "count": 1
           },
           {
            "bin_start": -3,
            "bin_end": -2,
            "count": 0
           },
           {
            "bin_start": -2,
            "bin_end": -1,
            "count": 0
           },
           {
            "bin_start": -1,
            "bin_end": 0,
            "count": 1
           },
           {
            "bin_start": 0,
            "bin_end": 1,
            "count": 0
           },
           {
            "bin_start": 1,
            "bin_end": 2,
            "count": 0
           },
           {
            "bin_start": 2,
            "bin_end": 3,
            "count": 0
           },
           {
            "bin_start": 3,
            "bin_end": 4,
            "count": 1
           }
          ]
         }
        },
        {
         "name": "arr_time",
         "dtype": "int64",
         "stats": {
          "unique_count": 5,
          "nan_count": 0,
          "min": "740",
          "max": "1004",
          "histogram": [
           {
            "bin_start": 740,
            "bin_end": 766.4,
            "count": 1
           },
           {
            "bin_start": 766.4,
            "bin_end": 792.8,
            "count": 0
           },
           {
            "bin_start": 792.8,
            "bin_end": 819.2,
            "count": 1
           },
           {
            "bin_start": 819.2,
            "bin_end": 845.6,
            "count": 0
           },
           {
            "bin_start": 845.6,
            "bin_end": 872,
            "count": 1
           },
           {
            "bin_start": 872,
            "bin_end": 898.4,
            "count": 0
           },
           {
            "bin_start": 898.4,
            "bin_end": 924.8,
            "count": 1
           },
           {
            "bin_start": 924.8,
            "bin_end": 951.2,
            "count": 0
           },
           {
            "bin_start": 951.2,
            "bin_end": 977.6,
            "count": 0
           },
           {
            "bin_start": 977.6,
            "bin_end": 1004,
            "count": 1
           }
          ]
         }
        },
        {
         "name": "sched_arr_time",
         "dtype": "int64",
         "stats": {
          "unique_count": 5,
          "nan_count": 0,
          "min": "728",
          "max": "1022",
          "histogram": [
           {
            "bin_start": 728,
            "bin_end": 757.4,
            "count": 1
           },
           {
            "bin_start": 757.4,
            "bin_end": 786.8,
            "count": 0
           },
           {
            "bin_start": 786.8,
            "bin_end": 816.2,
            "count": 0
           },
           {
            "bin_start": 816.2,
            "bin_end": 845.6,
            "count": 2
           },
           {
            "bin_start": 845.6,
            "bin_end": 875,
            "count": 1
           },
           {
            "bin_start": 875,
            "bin_end": 904.4,
            "count": 0
           },
           {
            "bin_start": 904.4,
            "bin_end": 933.8,
            "count": 0
           },
           {
            "bin_start": 933.8,
            "bin_end": 963.2,
            "count": 0
           },
           {
            "bin_start": 963.2,
            "bin_end": 992.5999999999999,
            "count": 0
           },
           {
            "bin_start": 992.5999999999999,
            "bin_end": 1022,
            "count": 1
           }
          ]
         }
        },
        {
         "name": "arr_delay",
         "dtype": "int64",
         "stats": {
          "unique_count": 5,
          "nan_count": 0,
          "min": "-25",
          "max": "20",
          "histogram": [
           {
            "bin_start": -25,
            "bin_end": -20.5,
            "count": 1
           },
           {
            "bin_start": -20.5,
            "bin_end": -16,
            "count": 1
           },
           {
            "bin_start": -16,
            "bin_end": -11.5,
            "count": 0
           },
           {
            "bin_start": -11.5,
            "bin_end": -7,
            "count": 0
           },
           {
            "bin_start": -7,
            "bin_end": -2.5,
            "count": 0
           },
           {
            "bin_start": -2.5,
            "bin_end": 2,
            "count": 0
           },
           {
            "bin_start": 2,
            "bin_end": 6.5,
            "count": 0
           },
           {
            "bin_start": 6.5,
            "bin_end": 11,
            "count": 0
           },
           {
            "bin_start": 11,
            "bin_end": 15.5,
            "count": 1
           },
           {
            "bin_start": 15.5,
            "bin_end": 20,
            "count": 2
           }
          ]
         }
        },
        {
         "name": "carrier",
         "dtype": "object",
         "stats": {
          "unique_count": 3,
          "nan_count": 0,
          "categories": [
           {
            "name": "UA",
            "count": 2
           },
           {
            "name": "B6",
            "count": 2
           },
           {
            "name": "DL",
            "count": 1
           }
          ]
         }
        },
        {
         "name": "flight",
         "dtype": "int64",
         "stats": {
          "unique_count": 5,
          "nan_count": 0,
          "min": "461",
          "max": "1714",
          "histogram": [
           {
            "bin_start": 461,
            "bin_end": 586.3,
            "count": 2
           },
           {
            "bin_start": 586.3,
            "bin_end": 711.6,
            "count": 0
           },
           {
            "bin_start": 711.6,
            "bin_end": 836.9,
            "count": 1
           },
           {
            "bin_start": 836.9,
            "bin_end": 962.2,
            "count": 0
           },
           {
            "bin_start": 962.2,
            "bin_end": 1087.5,
            "count": 0
           },
           {
            "bin_start": 1087.5,
            "bin_end": 1212.8,
            "count": 0
           },
           {
            "bin_start": 1212.8,
            "bin_end": 1338.1,
            "count": 0
           },
           {
            "bin_start": 1338.1,
            "bin_end": 1463.4,
            "count": 0
           },
           {
            "bin_start": 1463.4,
            "bin_end": 1588.7,
            "count": 0
           },
           {
            "bin_start": 1588.7,
            "bin_end": 1714,
            "count": 2
           }
          ]
         }
        },
        {
         "name": "tailnum",
         "dtype": "object",
         "stats": {
          "unique_count": 5,
          "nan_count": 0,
          "categories": [
           {
            "name": "N24211",
            "count": 1
           },
           {
            "name": "N804JB",
            "count": 1
           },
           {
            "name": "3 others",
            "count": 3
           }
          ]
         }
        },
        {
         "name": "origin",
         "dtype": "object",
         "stats": {
          "unique_count": 3,
          "nan_count": 0,
          "categories": [
           {
            "name": "LGA",
            "count": 2
           },
           {
            "name": "EWR",
            "count": 2
           },
           {
            "name": "JFK",
            "count": 1
           }
          ]
         }
        },
        {
         "name": "dest",
         "dtype": "object",
         "stats": {
          "unique_count": 5,
          "nan_count": 0,
          "categories": [
           {
            "name": "IAH",
            "count": 1
           },
           {
            "name": "BQN",
            "count": 1
           },
           {
            "name": "3 others",
            "count": 3
           }
          ]
         }
        },
        {
         "name": "air_time",
         "dtype": "int64",
         "stats": {
          "unique_count": 5,
          "nan_count": 0,
          "min": "116",
          "max": "227",
          "histogram": [
           {
            "bin_start": 116,
            "bin_end": 127.1,
            "count": 1
           },
           {
            "bin_start": 127.1,
            "bin_end": 138.2,
            "count": 0
           },
           {
            "bin_start": 138.2,
            "bin_end": 149.3,
            "count": 0
           },
           {
            "bin_start": 149.3,
            "bin_end": 160.4,
            "count": 2
           },
           {
            "bin_start": 160.4,
            "bin_end": 171.5,
            "count": 0
           },
           {
            "bin_start": 171.5,
            "bin_end": 182.6,
            "count": 0
           },
           {
            "bin_start": 182.6,
            "bin_end": 193.7,
            "count": 1
           },
           {
            "bin_start": 193.7,
            "bin_end": 204.8,
            "count": 0
           },
           {
            "bin_start": 204.8,
            "bin_end": 215.89999999999998,
            "count": 0
           },
           {
            "bin_start": 215.89999999999998,
            "bin_end": 227,
            "count": 1
           }
          ]
         }
        },
        {
         "name": "distance",
         "dtype": "int64",
         "stats": {
          "unique_count": 5,
          "nan_count": 0,
          "min": "719",
          "max": "1576",
          "histogram": [
           {
            "bin_start": 719,
            "bin_end": 804.7,
            "count": 2
           },
           {
            "bin_start": 804.7,
            "bin_end": 890.4,
            "count": 0
           },
           {
            "bin_start": 890.4,
            "bin_end": 976.1,
            "count": 0
           },
           {
            "bin_start": 976.1,
            "bin_end": 1061.8,
            "count": 0
           },
           {
            "bin_start": 1061.8,
            "bin_end": 1147.5,
            "count": 1
           },
           {
            "bin_start": 1147.5,
            "bin_end": 1233.2,
            "count": 0
           },
           {
            "bin_start": 1233.2,
            "bin_end": 1318.9,
            "count": 0
           },
           {
            "bin_start": 1318.9,
            "bin_end": 1404.6,
            "count": 0
           },
           {
            "bin_start": 1404.6,
            "bin_end": 1490.3000000000002,
            "count": 1
           },
           {
            "bin_start": 1490.3000000000002,
            "bin_end": 1576,
            "count": 1
           }
          ]
         }
        },
        {
         "name": "hour",
         "dtype": "int64",
         "stats": {
          "unique_count": 2,
          "nan_count": 0,
          "min": "5",
          "max": "6",
          "histogram": [
           {
            "bin_start": 5,
            "bin_end": 5.1,
            "count": 3
           },
           {
            "bin_start": 5.1,
            "bin_end": 5.2,
            "count": 0
           },
           {
            "bin_start": 5.2,
            "bin_end": 5.3,
            "count": 0
           },
           {
            "bin_start": 5.3,
            "bin_end": 5.4,
            "count": 0
           },
           {
            "bin_start": 5.4,
            "bin_end": 5.5,
            "count": 0
           },
           {
            "bin_start": 5.5,
            "bin_end": 5.6,
            "count": 0
           },
           {
            "bin_start": 5.6,
            "bin_end": 5.7,
            "count": 0
           },
           {
            "bin_start": 5.7,
            "bin_end": 5.8,
            "count": 0
           },
           {
            "bin_start": 5.8,
            "bin_end": 5.9,
            "count": 0
           },
           {
            "bin_start": 5.9,
            "bin_end": 6,
            "count": 2
           }
          ]
         }
        },
        {
         "name": "minute",
         "dtype": "int64",
         "stats": {
          "unique_count": 4,
          "nan_count": 0,
          "min": "0",
          "max": "58",
          "histogram": [
           {
            "bin_start": 0,
            "bin_end": 5.8,
            "count": 2
           },
           {
            "bin_start": 5.8,
            "bin_end": 11.6,
            "count": 0
           },
           {
            "bin_start": 11.6,
            "bin_end": 17.4,
            "count": 0
           },
           {
            "bin_start": 17.4,
            "bin_end": 23.2,
            "count": 0
           },
           {
            "bin_start": 23.2,
            "bin_end": 29,
            "count": 0
           },
           {
            "bin_start": 29,
            "bin_end": 34.8,
            "count": 1
           },
           {
            "bin_start": 34.8,
            "bin_end": 40.6,
            "count": 0
           },
           {
            "bin_start": 40.6,
            "bin_end": 46.4,
            "count": 1
           },
           {
            "bin_start": 46.4,
            "bin_end": 52.199999999999996,
            "count": 0
           },
           {
            "bin_start": 52.199999999999996,
            "bin_end": 58,
            "count": 1
           }
          ]
         }
        },
        {
         "name": "time_hour",
         "dtype": "object",
         "stats": {
          "unique_count": 2,
          "nan_count": 0,
          "categories": [
           {
            "name": "2013-01-01T05:00:00Z",
            "count": 3
           },
           {
            "name": "2013-01-01T06:00:00Z",
            "count": 2
           }
          ]
         }
        },
        {
         "name": "_deepnote_index_column",
         "dtype": "int64"
        }
       ],
       "rows_top": [
        {
         "year": 2013,
         "month": 1,
         "day": 1,
         "dep_time": 533,
         "sched_dep_time": 529,
         "dep_delay": 4,
         "arr_time": 850,
         "sched_arr_time": 830,
         "arr_delay": 20,
         "carrier": "UA",
         "flight": 1714,
         "tailnum": "N24211",
         "origin": "LGA",
         "dest": "IAH",
         "air_time": 227,
         "distance": 1416,
         "hour": 5,
         "minute": 29,
         "time_hour": "2013-01-01T05:00:00Z",
         "_deepnote_index_column": 1
        },
        {
         "year": 2013,
         "month": 1,
         "day": 1,
         "dep_time": 544,
         "sched_dep_time": 545,
         "dep_delay": -1,
         "arr_time": 1004,
         "sched_arr_time": 1022,
         "arr_delay": -18,
         "carrier": "B6",
         "flight": 725,
         "tailnum": "N804JB",
         "origin": "JFK",
         "dest": "BQN",
         "air_time": 183,
         "distance": 1576,
         "hour": 5,
         "minute": 45,
         "time_hour": "2013-01-01T05:00:00Z",
         "_deepnote_index_column": 3
        },
        {
         "year": 2013,
         "month": 1,
         "day": 1,
         "dep_time": 554,
         "sched_dep_time": 600,
         "dep_delay": -6,
         "arr_time": 812,
         "sched_arr_time": 837,
         "arr_delay": -25,
         "carrier": "DL",
         "flight": 461,
         "tailnum": "N668DN",
         "origin": "LGA",
         "dest": "ATL",
         "air_time": 116,
         "distance": 762,
         "hour": 6,
         "minute": 0,
         "time_hour": "2013-01-01T06:00:00Z",
         "_deepnote_index_column": 4
        },
        {
         "year": 2013,
         "month": 1,
         "day": 1,
         "dep_time": 554,
         "sched_dep_time": 558,
         "dep_delay": -4,
         "arr_time": 740,
         "sched_arr_time": 728,
         "arr_delay": 12,
         "carrier": "UA",
         "flight": 1696,
         "tailnum": "N39463",
         "origin": "EWR",
         "dest": "ORD",
         "air_time": 150,
         "distance": 719,
         "hour": 5,
         "minute": 58,
         "time_hour": "2013-01-01T05:00:00Z",
         "_deepnote_index_column": 5
        },
        {
         "year": 2013,
         "month": 1,
         "day": 1,
         "dep_time": 555,
         "sched_dep_time": 600,
         "dep_delay": -5,
         "arr_time": 913,
         "sched_arr_time": 854,
         "arr_delay": 19,
         "carrier": "B6",
         "flight": 507,
         "tailnum": "N516JB",
         "origin": "EWR",
         "dest": "FLL",
         "air_time": 158,
         "distance": 1065,
         "hour": 6,
         "minute": 0,
         "time_hour": "2013-01-01T06:00:00Z",
         "_deepnote_index_column": 6
        }
       ],
       "rows_bottom": null
      },
      "text/plain": "   year  month  day  dep_time  sched_dep_time  dep_delay  arr_time  \\\n1  2013      1    1       533             529        4.0       850   \n3  2013      1    1       544             545       -1.0      1004   \n4  2013      1    1       554             600       -6.0       812   \n5  2013      1    1       554             558       -4.0       740   \n6  2013      1    1       555             600       -5.0       913   \n\n   sched_arr_time  arr_delay carrier  flight tailnum origin dest  air_time  \\\n1             830         20      UA    1714  N24211    LGA  IAH       227   \n3            1022        -18      B6     725  N804JB    JFK  BQN       183   \n4             837        -25      DL     461  N668DN    LGA  ATL       116   \n5             728         12      UA    1696  N39463    EWR  ORD       150   \n6             854         19      B6     507  N516JB    EWR  FLL       158   \n\n   distance  hour  minute             time_hour  \n1      1416     5      29  2013-01-01T05:00:00Z  \n3      1576     5      45  2013-01-01T05:00:00Z  \n4       762     6       0  2013-01-01T06:00:00Z  \n5       719     5      58  2013-01-01T05:00:00Z  \n6      1065     6       0  2013-01-01T06:00:00Z  ",
      "text/html": "<div>\n<style scoped>\n    .dataframe tbody tr th:only-of-type {\n        vertical-align: middle;\n    }\n\n    .dataframe tbody tr th {\n        vertical-align: top;\n    }\n\n    .dataframe thead th {\n        text-align: right;\n    }\n</style>\n<table border=\"1\" class=\"dataframe\">\n  <thead>\n    <tr style=\"text-align: right;\">\n      <th></th>\n      <th>year</th>\n      <th>month</th>\n      <th>day</th>\n      <th>dep_time</th>\n      <th>sched_dep_time</th>\n      <th>dep_delay</th>\n      <th>arr_time</th>\n      <th>sched_arr_time</th>\n      <th>arr_delay</th>\n      <th>carrier</th>\n      <th>flight</th>\n      <th>tailnum</th>\n      <th>origin</th>\n      <th>dest</th>\n      <th>air_time</th>\n      <th>distance</th>\n      <th>hour</th>\n      <th>minute</th>\n      <th>time_hour</th>\n    </tr>\n  </thead>\n  <tbody>\n    <tr>\n      <th>1</th>\n      <td>2013</td>\n      <td>1</td>\n      <td>1</td>\n      <td>533</td>\n      <td>529</td>\n      <td>4.0</td>\n      <td>850</td>\n      <td>830</td>\n      <td>20</td>\n      <td>UA</td>\n      <td>1714</td>\n      <td>N24211</td>\n      <td>LGA</td>\n      <td>IAH</td>\n      <td>227</td>\n      <td>1416</td>\n      <td>5</td>\n      <td>29</td>\n      <td>2013-01-01T05:00:00Z</td>\n    </tr>\n    <tr>\n      <th>3</th>\n      <td>2013</td>\n      <td>1</td>\n      <td>1</td>\n      <td>544</td>\n      <td>545</td>\n      <td>-1.0</td>\n      <td>1004</td>\n      <td>1022</td>\n      <td>-18</td>\n      <td>B6</td>\n      <td>725</td>\n      <td>N804JB</td>\n      <td>JFK</td>\n      <td>BQN</td>\n      <td>183</td>\n      <td>1576</td>\n      <td>5</td>\n      <td>45</td>\n      <td>2013-01-01T05:00:00Z</td>\n    </tr>\n    <tr>\n      <th>4</th>\n      <td>2013</td>\n      <td>1</td>\n      <td>1</td>\n      <td>554</td>\n      <td>600</td>\n      <td>-6.0</td>\n      <td>812</td>\n      <td>837</td>\n      <td>-25</td>\n      <td>DL</td>\n      <td>461</td>\n      <td>N668DN</td>\n      <td>LGA</td>\n      <td>ATL</td>\n      <td>116</td>\n      <td>762</td>\n      <td>6</td>\n      <td>0</td>\n      <td>2013-01-01T06:00:00Z</td>\n    </tr>\n    <tr>\n      <th>5</th>\n      <td>2013</td>\n      <td>1</td>\n      <td>1</td>\n      <td>554</td>\n      <td>558</td>\n      <td>-4.0</td>\n      <td>740</td>\n      <td>728</td>\n      <td>12</td>\n      <td>UA</td>\n      <td>1696</td>\n      <td>N39463</td>\n      <td>EWR</td>\n      <td>ORD</td>\n      <td>150</td>\n      <td>719</td>\n      <td>5</td>\n      <td>58</td>\n      <td>2013-01-01T05:00:00Z</td>\n    </tr>\n    <tr>\n      <th>6</th>\n      <td>2013</td>\n      <td>1</td>\n      <td>1</td>\n      <td>555</td>\n      <td>600</td>\n      <td>-5.0</td>\n      <td>913</td>\n      <td>854</td>\n      <td>19</td>\n      <td>B6</td>\n      <td>507</td>\n      <td>N516JB</td>\n      <td>EWR</td>\n      <td>FLL</td>\n      <td>158</td>\n      <td>1065</td>\n      <td>6</td>\n      <td>0</td>\n      <td>2013-01-01T06:00:00Z</td>\n    </tr>\n  </tbody>\n</table>\n</div>"
     },
     "metadata": {}
    }
   ]
  },
  {
   "cell_type": "markdown",
   "source": "### Filling missing data",
   "metadata": {
    "cell_id": "00059-fae430bf-058b-435e-a2c7-92140e5d9650",
    "deepnote_cell_type": "markdown"
   }
  },
  {
   "cell_type": "code",
   "metadata": {
    "cell_id": "00060-d201a2c4-3bc4-43fb-a24e-66d599a8f32f",
    "deepnote_to_be_reexecuted": false,
    "source_hash": "d3d40600",
    "execution_start": 1631947585728,
    "execution_millis": 7,
    "output_cleared": false,
    "deepnote_cell_type": "code"
   },
   "source": "x = np.mean(flightData.dep_delay)\nprint(\"%1.1f\"%x)",
   "execution_count": 17,
   "outputs": [
    {
     "name": "stdout",
     "text": "12.8\n",
     "output_type": "stream"
    }
   ]
  },
  {
   "cell_type": "code",
   "metadata": {
    "cell_id": "00061-acc8e4f8-8053-4e75-9891-8146f5ba078c",
    "deepnote_to_be_reexecuted": false,
    "source_hash": "61b700c2",
    "execution_start": 1631947587672,
    "execution_millis": 88,
    "output_cleared": false,
    "deepnote_cell_type": "code"
   },
   "source": "#Show index of the missing data\n#index_nan = flightData.dep_delay.index[flightData.dep_delay.isnull()]\nflightData.fillna(value={'dep_delay':x}).loc[index_nan].head()",
   "execution_count": 18,
   "outputs": [
    {
     "output_type": "execute_result",
     "execution_count": 18,
     "data": {
      "application/vnd.deepnote.dataframe.v2+json": {
       "row_count": 5,
       "column_count": 19,
       "columns": [
        {
         "name": "year",
         "dtype": "int64",
         "stats": {
          "unique_count": 1,
          "nan_count": 0,
          "min": "2013",
          "max": "2013",
          "histogram": [
           {
            "bin_start": 2012.5,
            "bin_end": 2012.6,
            "count": 0
           },
           {
            "bin_start": 2012.6,
            "bin_end": 2012.7,
            "count": 0
           },
           {
            "bin_start": 2012.7,
            "bin_end": 2012.8,
            "count": 0
           },
           {
            "bin_start": 2012.8,
            "bin_end": 2012.9,
            "count": 0
           },
           {
            "bin_start": 2012.9,
            "bin_end": 2013,
            "count": 0
           },
           {
            "bin_start": 2013,
            "bin_end": 2013.1,
            "count": 5
           },
           {
            "bin_start": 2013.1,
            "bin_end": 2013.2,
            "count": 0
           },
           {
            "bin_start": 2013.2,
            "bin_end": 2013.3,
            "count": 0
           },
           {
            "bin_start": 2013.3,
            "bin_end": 2013.4,
            "count": 0
           },
           {
            "bin_start": 2013.4,
            "bin_end": 2013.5,
            "count": 0
           }
          ]
         }
        },
        {
         "name": "month",
         "dtype": "int64",
         "stats": {
          "unique_count": 1,
          "nan_count": 0,
          "min": "1",
          "max": "1",
          "histogram": [
           {
            "bin_start": 0.5,
            "bin_end": 0.6,
            "count": 0
           },
           {
            "bin_start": 0.6,
            "bin_end": 0.7,
            "count": 0
           },
           {
            "bin_start": 0.7,
            "bin_end": 0.8,
            "count": 0
           },
           {
            "bin_start": 0.8,
            "bin_end": 0.9,
            "count": 0
           },
           {
            "bin_start": 0.9,
            "bin_end": 1,
            "count": 0
           },
           {
            "bin_start": 1,
            "bin_end": 1.1,
            "count": 5
           },
           {
            "bin_start": 1.1,
            "bin_end": 1.2000000000000002,
            "count": 0
           },
           {
            "bin_start": 1.2000000000000002,
            "bin_end": 1.3,
            "count": 0
           },
           {
            "bin_start": 1.3,
            "bin_end": 1.4,
            "count": 0
           },
           {
            "bin_start": 1.4,
            "bin_end": 1.5,
            "count": 0
           }
          ]
         }
        },
        {
         "name": "day",
         "dtype": "int64",
         "stats": {
          "unique_count": 1,
          "nan_count": 0,
          "min": "1",
          "max": "1",
          "histogram": [
           {
            "bin_start": 0.5,
            "bin_end": 0.6,
            "count": 0
           },
           {
            "bin_start": 0.6,
            "bin_end": 0.7,
            "count": 0
           },
           {
            "bin_start": 0.7,
            "bin_end": 0.8,
            "count": 0
           },
           {
            "bin_start": 0.8,
            "bin_end": 0.9,
            "count": 0
           },
           {
            "bin_start": 0.9,
            "bin_end": 1,
            "count": 0
           },
           {
            "bin_start": 1,
            "bin_end": 1.1,
            "count": 5
           },
           {
            "bin_start": 1.1,
            "bin_end": 1.2000000000000002,
            "count": 0
           },
           {
            "bin_start": 1.2000000000000002,
            "bin_end": 1.3,
            "count": 0
           },
           {
            "bin_start": 1.3,
            "bin_end": 1.4,
            "count": 0
           },
           {
            "bin_start": 1.4,
            "bin_end": 1.5,
            "count": 0
           }
          ]
         }
        },
        {
         "name": "dep_time",
         "dtype": "int64",
         "stats": {
          "unique_count": 5,
          "nan_count": 0,
          "min": "517",
          "max": "752",
          "histogram": [
           {
            "bin_start": 517,
            "bin_end": 540.5,
            "count": 1
           },
           {
            "bin_start": 540.5,
            "bin_end": 564,
            "count": 1
           },
           {
            "bin_start": 564,
            "bin_end": 587.5,
            "count": 0
           },
           {
            "bin_start": 587.5,
            "bin_end": 611,
            "count": 0
           },
           {
            "bin_start": 611,
            "bin_end": 634.5,
            "count": 0
           },
           {
            "bin_start": 634.5,
            "bin_end": 658,
            "count": 0
           },
           {
            "bin_start": 658,
            "bin_end": 681.5,
            "count": 0
           },
           {
            "bin_start": 681.5,
            "bin_end": 705,
            "count": 1
           },
           {
            "bin_start": 705,
            "bin_end": 728.5,
            "count": 1
           },
           {
            "bin_start": 728.5,
            "bin_end": 752,
            "count": 1
           }
          ]
         }
        },
        {
         "name": "sched_dep_time",
         "dtype": "int64",
         "stats": {
          "unique_count": 5,
          "nan_count": 0,
          "min": "515",
          "max": "750",
          "histogram": [
           {
            "bin_start": 515,
            "bin_end": 538.5,
            "count": 1
           },
           {
            "bin_start": 538.5,
            "bin_end": 562,
            "count": 1
           },
           {
            "bin_start": 562,
            "bin_end": 585.5,
            "count": 0
           },
           {
            "bin_start": 585.5,
            "bin_end": 609,
            "count": 0
           },
           {
            "bin_start": 609,
            "bin_end": 632.5,
            "count": 0
           },
           {
            "bin_start": 632.5,
            "bin_end": 656,
            "count": 0
           },
           {
            "bin_start": 656,
            "bin_end": 679.5,
            "count": 0
           },
           {
            "bin_start": 679.5,
            "bin_end": 703,
            "count": 1
           },
           {
            "bin_start": 703,
            "bin_end": 726.5,
            "count": 1
           },
           {
            "bin_start": 726.5,
            "bin_end": 750,
            "count": 1
           }
          ]
         }
        },
        {
         "name": "dep_delay",
         "dtype": "float64",
         "stats": {
          "unique_count": 1,
          "nan_count": 0,
          "min": "12.759401118543154",
          "max": "12.759401118543154",
          "histogram": [
           {
            "bin_start": 12.259401118543154,
            "bin_end": 12.359401118543154,
            "count": 0
           },
           {
            "bin_start": 12.359401118543154,
            "bin_end": 12.459401118543154,
            "count": 0
           },
           {
            "bin_start": 12.459401118543154,
            "bin_end": 12.559401118543155,
            "count": 0
           },
           {
            "bin_start": 12.559401118543155,
            "bin_end": 12.659401118543155,
            "count": 0
           },
           {
            "bin_start": 12.659401118543155,
            "bin_end": 12.759401118543154,
            "count": 0
           },
           {
            "bin_start": 12.759401118543154,
            "bin_end": 12.859401118543154,
            "count": 5
           },
           {
            "bin_start": 12.859401118543154,
            "bin_end": 12.959401118543154,
            "count": 0
           },
           {
            "bin_start": 12.959401118543154,
            "bin_end": 13.059401118543155,
            "count": 0
           },
           {
            "bin_start": 13.059401118543155,
            "bin_end": 13.159401118543155,
            "count": 0
           },
           {
            "bin_start": 13.159401118543155,
            "bin_end": 13.259401118543154,
            "count": 0
           }
          ]
         }
        },
        {
         "name": "arr_time",
         "dtype": "int64",
         "stats": {
          "unique_count": 5,
          "nan_count": 0,
          "min": "830",
          "max": "1058",
          "histogram": [
           {
            "bin_start": 830,
            "bin_end": 852.8,
            "count": 1
           },
           {
            "bin_start": 852.8,
            "bin_end": 875.6,
            "count": 0
           },
           {
            "bin_start": 875.6,
            "bin_end": 898.4,
            "count": 0
           },
           {
            "bin_start": 898.4,
            "bin_end": 921.2,
            "count": 1
           },
           {
            "bin_start": 921.2,
            "bin_end": 944,
            "count": 1
           },
           {
            "bin_start": 944,
            "bin_end": 966.8,
            "count": 0
           },
           {
            "bin_start": 966.8,
            "bin_end": 989.6,
            "count": 0
           },
           {
            "bin_start": 989.6,
            "bin_end": 1012.4,
            "count": 0
           },
           {
            "bin_start": 1012.4,
            "bin_end": 1035.2,
            "count": 1
           },
           {
            "bin_start": 1035.2,
            "bin_end": 1058,
            "count": 1
           }
          ]
         }
        },
        {
         "name": "sched_arr_time",
         "dtype": "int64",
         "stats": {
          "unique_count": 4,
          "nan_count": 0,
          "min": "819",
          "max": "1029",
          "histogram": [
           {
            "bin_start": 819,
            "bin_end": 840,
            "count": 1
           },
           {
            "bin_start": 840,
            "bin_end": 861,
            "count": 2
           },
           {
            "bin_start": 861,
            "bin_end": 882,
            "count": 0
           },
           {
            "bin_start": 882,
            "bin_end": 903,
            "count": 0
           },
           {
            "bin_start": 903,
            "bin_end": 924,
            "count": 0
           },
           {
            "bin_start": 924,
            "bin_end": 945,
            "count": 0
           },
           {
            "bin_start": 945,
            "bin_end": 966,
            "count": 0
           },
           {
            "bin_start": 966,
            "bin_end": 987,
            "count": 0
           },
           {
            "bin_start": 987,
            "bin_end": 1008,
            "count": 0
           },
           {
            "bin_start": 1008,
            "bin_end": 1029,
            "count": 2
           }
          ]
         }
        },
        {
         "name": "arr_delay",
         "dtype": "int64",
         "stats": {
          "unique_count": 5,
          "nan_count": 0,
          "min": "-4",
          "max": "44",
          "histogram": [
           {
            "bin_start": -4,
            "bin_end": 0.7999999999999998,
            "count": 1
           },
           {
            "bin_start": 0.7999999999999998,
            "bin_end": 5.6,
            "count": 0
           },
           {
            "bin_start": 5.6,
            "bin_end": 10.399999999999999,
            "count": 0
           },
           {
            "bin_start": 10.399999999999999,
            "bin_end": 15.2,
            "count": 1
           },
           {
            "bin_start": 15.2,
            "bin_end": 20,
            "count": 0
           },
           {
            "bin_start": 20,
            "bin_end": 24.799999999999997,
            "count": 1
           },
           {
            "bin_start": 24.799999999999997,
            "bin_end": 29.6,
            "count": 0
           },
           {
            "bin_start": 29.6,
            "bin_end": 34.4,
            "count": 1
           },
           {
            "bin_start": 34.4,
            "bin_end": 39.199999999999996,
            "count": 0
           },
           {
            "bin_start": 39.199999999999996,
            "bin_end": 44,
            "count": 1
           }
          ]
         }
        },
        {
         "name": "carrier",
         "dtype": "object",
         "stats": {
          "unique_count": 3,
          "nan_count": 0,
          "categories": [
           {
            "name": "UA",
            "count": 3
           },
           {
            "name": "AA",
            "count": 1
           },
           {
            "name": "B6",
            "count": 1
           }
          ]
         }
        },
        {
         "name": "flight",
         "dtype": "int64",
         "stats": {
          "unique_count": 5,
          "nan_count": 0,
          "min": "477",
          "max": "1545",
          "histogram": [
           {
            "bin_start": 477,
            "bin_end": 583.8,
            "count": 2
           },
           {
            "bin_start": 583.8,
            "bin_end": 690.6,
            "count": 1
           },
           {
            "bin_start": 690.6,
            "bin_end": 797.4,
            "count": 0
           },
           {
            "bin_start": 797.4,
            "bin_end": 904.2,
            "count": 0
           },
           {
            "bin_start": 904.2,
            "bin_end": 1011,
            "count": 0
           },
           {
            "bin_start": 1011,
            "bin_end": 1117.8,
            "count": 0
           },
           {
            "bin_start": 1117.8,
            "bin_end": 1224.6,
            "count": 1
           },
           {
            "bin_start": 1224.6,
            "bin_end": 1331.4,
            "count": 0
           },
           {
            "bin_start": 1331.4,
            "bin_end": 1438.1999999999998,
            "count": 0
           },
           {
            "bin_start": 1438.1999999999998,
            "bin_end": 1545,
            "count": 1
           }
          ]
         }
        },
        {
         "name": "tailnum",
         "dtype": "object",
         "stats": {
          "unique_count": 5,
          "nan_count": 0,
          "categories": [
           {
            "name": "N14228",
            "count": 1
           },
           {
            "name": "N619AA",
            "count": 1
           },
           {
            "name": "3 others",
            "count": 3
           }
          ]
         }
        },
        {
         "name": "origin",
         "dtype": "object",
         "stats": {
          "unique_count": 3,
          "nan_count": 0,
          "categories": [
           {
            "name": "EWR",
            "count": 2
           },
           {
            "name": "JFK",
            "count": 2
           },
           {
            "name": "LGA",
            "count": 1
           }
          ]
         }
        },
        {
         "name": "dest",
         "dtype": "object",
         "stats": {
          "unique_count": 5,
          "nan_count": 0,
          "categories": [
           {
            "name": "IAH",
            "count": 1
           },
           {
            "name": "MIA",
            "count": 1
           },
           {
            "name": "3 others",
            "count": 3
           }
          ]
         }
        },
        {
         "name": "air_time",
         "dtype": "int64",
         "stats": {
          "unique_count": 5,
          "nan_count": 0,
          "min": "156",
          "max": "381",
          "histogram": [
           {
            "bin_start": 156,
            "bin_end": 178.5,
            "count": 2
           },
           {
            "bin_start": 178.5,
            "bin_end": 201,
            "count": 0
           },
           {
            "bin_start": 201,
            "bin_end": 223.5,
            "count": 0
           },
           {
            "bin_start": 223.5,
            "bin_end": 246,
            "count": 1
           },
           {
            "bin_start": 246,
            "bin_end": 268.5,
            "count": 1
           },
           {
            "bin_start": 268.5,
            "bin_end": 291,
            "count": 0
           },
           {
            "bin_start": 291,
            "bin_end": 313.5,
            "count": 0
           },
           {
            "bin_start": 313.5,
            "bin_end": 336,
            "count": 0
           },
           {
            "bin_start": 336,
            "bin_end": 358.5,
            "count": 0
           },
           {
            "bin_start": 358.5,
            "bin_end": 381,
            "count": 1
           }
          ]
         }
        },
        {
         "name": "distance",
         "dtype": "int64",
         "stats": {
          "unique_count": 5,
          "nan_count": 0,
          "min": "719",
          "max": "2475",
          "histogram": [
           {
            "bin_start": 719,
            "bin_end": 894.6,
            "count": 1
           },
           {
            "bin_start": 894.6,
            "bin_end": 1070.2,
            "count": 0
           },
           {
            "bin_start": 1070.2,
            "bin_end": 1245.8,
            "count": 1
           },
           {
            "bin_start": 1245.8,
            "bin_end": 1421.4,
            "count": 1
           },
           {
            "bin_start": 1421.4,
            "bin_end": 1597,
            "count": 0
           },
           {
            "bin_start": 1597,
            "bin_end": 1772.6,
            "count": 1
           },
           {
            "bin_start": 1772.6,
            "bin_end": 1948.2,
            "count": 0
           },
           {
            "bin_start": 1948.2,
            "bin_end": 2123.8,
            "count": 0
           },
           {
            "bin_start": 2123.8,
            "bin_end": 2299.3999999999996,
            "count": 0
           },
           {
            "bin_start": 2299.3999999999996,
            "bin_end": 2475,
            "count": 1
           }
          ]
         }
        },
        {
         "name": "hour",
         "dtype": "int64",
         "stats": {
          "unique_count": 2,
          "nan_count": 0,
          "min": "5",
          "max": "7",
          "histogram": [
           {
            "bin_start": 5,
            "bin_end": 5.2,
            "count": 2
           },
           {
            "bin_start": 5.2,
            "bin_end": 5.4,
            "count": 0
           },
           {
            "bin_start": 5.4,
            "bin_end": 5.6,
            "count": 0
           },
           {
            "bin_start": 5.6,
            "bin_end": 5.8,
            "count": 0
           },
           {
            "bin_start": 5.8,
            "bin_end": 6,
            "count": 0
           },
           {
            "bin_start": 6,
            "bin_end": 6.2,
            "count": 0
           },
           {
            "bin_start": 6.2,
            "bin_end": 6.4,
            "count": 0
           },
           {
            "bin_start": 6.4,
            "bin_end": 6.6,
            "count": 0
           },
           {
            "bin_start": 6.6,
            "bin_end": 6.8,
            "count": 0
           },
           {
            "bin_start": 6.8,
            "bin_end": 7,
            "count": 3
           }
          ]
         }
        },
        {
         "name": "minute",
         "dtype": "int64",
         "stats": {
          "unique_count": 5,
          "nan_count": 0,
          "min": "0",
          "max": "50",
          "histogram": [
           {
            "bin_start": 0,
            "bin_end": 5,
            "count": 1
           },
           {
            "bin_start": 5,
            "bin_end": 10,
            "count": 0
           },
           {
            "bin_start": 10,
            "bin_end": 15,
            "count": 1
           },
           {
            "bin_start": 15,
            "bin_end": 20,
            "count": 1
           },
           {
            "bin_start": 20,
            "bin_end": 25,
            "count": 0
           },
           {
            "bin_start": 25,
            "bin_end": 30,
            "count": 0
           },
           {
            "bin_start": 30,
            "bin_end": 35,
            "count": 0
           },
           {
            "bin_start": 35,
            "bin_end": 40,
            "count": 0
           },
           {
            "bin_start": 40,
            "bin_end": 45,
            "count": 1
           },
           {
            "bin_start": 45,
            "bin_end": 50,
            "count": 1
           }
          ]
         }
        },
        {
         "name": "time_hour",
         "dtype": "object",
         "stats": {
          "unique_count": 2,
          "nan_count": 0,
          "categories": [
           {
            "name": "2013-01-01T07:00:00Z",
            "count": 3
           },
           {
            "name": "2013-01-01T05:00:00Z",
            "count": 2
           }
          ]
         }
        },
        {
         "name": "_deepnote_index_column",
         "dtype": "int64"
        }
       ],
       "rows_top": [
        {
         "year": 2013,
         "month": 1,
         "day": 1,
         "dep_time": 517,
         "sched_dep_time": 515,
         "dep_delay": 12.759401118543154,
         "arr_time": 830,
         "sched_arr_time": 819,
         "arr_delay": 11,
         "carrier": "UA",
         "flight": 1545,
         "tailnum": "N14228",
         "origin": "EWR",
         "dest": "IAH",
         "air_time": 227,
         "distance": 1400,
         "hour": 5,
         "minute": 15,
         "time_hour": "2013-01-01T05:00:00Z",
         "_deepnote_index_column": 0
        },
        {
         "year": 2013,
         "month": 1,
         "day": 1,
         "dep_time": 542,
         "sched_dep_time": 540,
         "dep_delay": 12.759401118543154,
         "arr_time": 923,
         "sched_arr_time": 850,
         "arr_delay": 33,
         "carrier": "AA",
         "flight": 1141,
         "tailnum": "N619AA",
         "origin": "JFK",
         "dest": "MIA",
         "air_time": 160,
         "distance": 1089,
         "hour": 5,
         "minute": 40,
         "time_hour": "2013-01-01T05:00:00Z",
         "_deepnote_index_column": 2
        },
        {
         "year": 2013,
         "month": 1,
         "day": 1,
         "dep_time": 702,
         "sched_dep_time": 700,
         "dep_delay": 12.759401118543154,
         "arr_time": 1058,
         "sched_arr_time": 1014,
         "arr_delay": 44,
         "carrier": "B6",
         "flight": 671,
         "tailnum": "N779JB",
         "origin": "JFK",
         "dest": "LAX",
         "air_time": 381,
         "distance": 2475,
         "hour": 7,
         "minute": 0,
         "time_hour": "2013-01-01T07:00:00Z",
         "_deepnote_index_column": 69
        },
        {
         "year": 2013,
         "month": 1,
         "day": 1,
         "dep_time": 715,
         "sched_dep_time": 713,
         "dep_delay": 12.759401118543154,
         "arr_time": 911,
         "sched_arr_time": 850,
         "arr_delay": 21,
         "carrier": "UA",
         "flight": 544,
         "tailnum": "N841UA",
         "origin": "EWR",
         "dest": "ORD",
         "air_time": 156,
         "distance": 719,
         "hour": 7,
         "minute": 13,
         "time_hour": "2013-01-01T07:00:00Z",
         "_deepnote_index_column": 73
        },
        {
         "year": 2013,
         "month": 1,
         "day": 1,
         "dep_time": 752,
         "sched_dep_time": 750,
         "dep_delay": 12.759401118543154,
         "arr_time": 1025,
         "sched_arr_time": 1029,
         "arr_delay": -4,
         "carrier": "UA",
         "flight": 477,
         "tailnum": "N511UA",
         "origin": "LGA",
         "dest": "DEN",
         "air_time": 249,
         "distance": 1620,
         "hour": 7,
         "minute": 50,
         "time_hour": "2013-01-01T07:00:00Z",
         "_deepnote_index_column": 98
        }
       ],
       "rows_bottom": null
      },
      "text/plain": "    year  month  day  dep_time  sched_dep_time  dep_delay  arr_time  \\\n0   2013      1    1       517             515  12.759401       830   \n2   2013      1    1       542             540  12.759401       923   \n69  2013      1    1       702             700  12.759401      1058   \n73  2013      1    1       715             713  12.759401       911   \n98  2013      1    1       752             750  12.759401      1025   \n\n    sched_arr_time  arr_delay carrier  flight tailnum origin dest  air_time  \\\n0              819         11      UA    1545  N14228    EWR  IAH       227   \n2              850         33      AA    1141  N619AA    JFK  MIA       160   \n69            1014         44      B6     671  N779JB    JFK  LAX       381   \n73             850         21      UA     544  N841UA    EWR  ORD       156   \n98            1029         -4      UA     477  N511UA    LGA  DEN       249   \n\n    distance  hour  minute             time_hour  \n0       1400     5      15  2013-01-01T05:00:00Z  \n2       1089     5      40  2013-01-01T05:00:00Z  \n69      2475     7       0  2013-01-01T07:00:00Z  \n73       719     7      13  2013-01-01T07:00:00Z  \n98      1620     7      50  2013-01-01T07:00:00Z  ",
      "text/html": "<div>\n<style scoped>\n    .dataframe tbody tr th:only-of-type {\n        vertical-align: middle;\n    }\n\n    .dataframe tbody tr th {\n        vertical-align: top;\n    }\n\n    .dataframe thead th {\n        text-align: right;\n    }\n</style>\n<table border=\"1\" class=\"dataframe\">\n  <thead>\n    <tr style=\"text-align: right;\">\n      <th></th>\n      <th>year</th>\n      <th>month</th>\n      <th>day</th>\n      <th>dep_time</th>\n      <th>sched_dep_time</th>\n      <th>dep_delay</th>\n      <th>arr_time</th>\n      <th>sched_arr_time</th>\n      <th>arr_delay</th>\n      <th>carrier</th>\n      <th>flight</th>\n      <th>tailnum</th>\n      <th>origin</th>\n      <th>dest</th>\n      <th>air_time</th>\n      <th>distance</th>\n      <th>hour</th>\n      <th>minute</th>\n      <th>time_hour</th>\n    </tr>\n  </thead>\n  <tbody>\n    <tr>\n      <th>0</th>\n      <td>2013</td>\n      <td>1</td>\n      <td>1</td>\n      <td>517</td>\n      <td>515</td>\n      <td>12.759401</td>\n      <td>830</td>\n      <td>819</td>\n      <td>11</td>\n      <td>UA</td>\n      <td>1545</td>\n      <td>N14228</td>\n      <td>EWR</td>\n      <td>IAH</td>\n      <td>227</td>\n      <td>1400</td>\n      <td>5</td>\n      <td>15</td>\n      <td>2013-01-01T05:00:00Z</td>\n    </tr>\n    <tr>\n      <th>2</th>\n      <td>2013</td>\n      <td>1</td>\n      <td>1</td>\n      <td>542</td>\n      <td>540</td>\n      <td>12.759401</td>\n      <td>923</td>\n      <td>850</td>\n      <td>33</td>\n      <td>AA</td>\n      <td>1141</td>\n      <td>N619AA</td>\n      <td>JFK</td>\n      <td>MIA</td>\n      <td>160</td>\n      <td>1089</td>\n      <td>5</td>\n      <td>40</td>\n      <td>2013-01-01T05:00:00Z</td>\n    </tr>\n    <tr>\n      <th>69</th>\n      <td>2013</td>\n      <td>1</td>\n      <td>1</td>\n      <td>702</td>\n      <td>700</td>\n      <td>12.759401</td>\n      <td>1058</td>\n      <td>1014</td>\n      <td>44</td>\n      <td>B6</td>\n      <td>671</td>\n      <td>N779JB</td>\n      <td>JFK</td>\n      <td>LAX</td>\n      <td>381</td>\n      <td>2475</td>\n      <td>7</td>\n      <td>0</td>\n      <td>2013-01-01T07:00:00Z</td>\n    </tr>\n    <tr>\n      <th>73</th>\n      <td>2013</td>\n      <td>1</td>\n      <td>1</td>\n      <td>715</td>\n      <td>713</td>\n      <td>12.759401</td>\n      <td>911</td>\n      <td>850</td>\n      <td>21</td>\n      <td>UA</td>\n      <td>544</td>\n      <td>N841UA</td>\n      <td>EWR</td>\n      <td>ORD</td>\n      <td>156</td>\n      <td>719</td>\n      <td>7</td>\n      <td>13</td>\n      <td>2013-01-01T07:00:00Z</td>\n    </tr>\n    <tr>\n      <th>98</th>\n      <td>2013</td>\n      <td>1</td>\n      <td>1</td>\n      <td>752</td>\n      <td>750</td>\n      <td>12.759401</td>\n      <td>1025</td>\n      <td>1029</td>\n      <td>-4</td>\n      <td>UA</td>\n      <td>477</td>\n      <td>N511UA</td>\n      <td>LGA</td>\n      <td>DEN</td>\n      <td>249</td>\n      <td>1620</td>\n      <td>7</td>\n      <td>50</td>\n      <td>2013-01-01T07:00:00Z</td>\n    </tr>\n  </tbody>\n</table>\n</div>"
     },
     "metadata": {}
    }
   ]
  },
  {
   "cell_type": "code",
   "metadata": {
    "tags": [],
    "cell_id": "00063-3d9339f8-b565-4812-b9b5-4e2ae1e008be",
    "deepnote_to_be_reexecuted": false,
    "source_hash": "eb6b259f",
    "execution_start": 1631947589953,
    "execution_millis": 131,
    "output_cleared": false,
    "deepnote_cell_type": "code"
   },
   "source": "flightData_fillNA = flightData.fillna(value={'dep_delay':x})\nflightData_fillNA",
   "execution_count": 19,
   "outputs": [
    {
     "output_type": "execute_result",
     "execution_count": 19,
     "data": {
      "application/vnd.deepnote.dataframe.v2+json": {
       "row_count": 327346,
       "column_count": 19,
       "columns": [
        {
         "name": "year",
         "dtype": "int64"
        },
        {
         "name": "month",
         "dtype": "int64"
        },
        {
         "name": "day",
         "dtype": "int64"
        },
        {
         "name": "dep_time",
         "dtype": "int64"
        },
        {
         "name": "sched_dep_time",
         "dtype": "int64"
        },
        {
         "name": "dep_delay",
         "dtype": "float64"
        },
        {
         "name": "arr_time",
         "dtype": "int64"
        },
        {
         "name": "sched_arr_time",
         "dtype": "int64"
        },
        {
         "name": "arr_delay",
         "dtype": "int64"
        },
        {
         "name": "carrier",
         "dtype": "object"
        },
        {
         "name": "flight",
         "dtype": "int64"
        },
        {
         "name": "tailnum",
         "dtype": "object"
        },
        {
         "name": "origin",
         "dtype": "object"
        },
        {
         "name": "dest",
         "dtype": "object"
        },
        {
         "name": "air_time",
         "dtype": "int64"
        },
        {
         "name": "distance",
         "dtype": "int64"
        },
        {
         "name": "hour",
         "dtype": "int64"
        },
        {
         "name": "minute",
         "dtype": "int64"
        },
        {
         "name": "time_hour",
         "dtype": "object"
        },
        {
         "name": "_deepnote_index_column",
         "dtype": "int64"
        }
       ],
       "rows_top": [
        {
         "year": 2013,
         "month": 1,
         "day": 1,
         "dep_time": 517,
         "sched_dep_time": 515,
         "dep_delay": 12.759401118543154,
         "arr_time": 830,
         "sched_arr_time": 819,
         "arr_delay": 11,
         "carrier": "UA",
         "flight": 1545,
         "tailnum": "N14228",
         "origin": "EWR",
         "dest": "IAH",
         "air_time": 227,
         "distance": 1400,
         "hour": 5,
         "minute": 15,
         "time_hour": "2013-01-01T05:00:00Z",
         "_deepnote_index_column": 0
        },
        {
         "year": 2013,
         "month": 1,
         "day": 1,
         "dep_time": 533,
         "sched_dep_time": 529,
         "dep_delay": 4,
         "arr_time": 850,
         "sched_arr_time": 830,
         "arr_delay": 20,
         "carrier": "UA",
         "flight": 1714,
         "tailnum": "N24211",
         "origin": "LGA",
         "dest": "IAH",
         "air_time": 227,
         "distance": 1416,
         "hour": 5,
         "minute": 29,
         "time_hour": "2013-01-01T05:00:00Z",
         "_deepnote_index_column": 1
        },
        {
         "year": 2013,
         "month": 1,
         "day": 1,
         "dep_time": 542,
         "sched_dep_time": 540,
         "dep_delay": 12.759401118543154,
         "arr_time": 923,
         "sched_arr_time": 850,
         "arr_delay": 33,
         "carrier": "AA",
         "flight": 1141,
         "tailnum": "N619AA",
         "origin": "JFK",
         "dest": "MIA",
         "air_time": 160,
         "distance": 1089,
         "hour": 5,
         "minute": 40,
         "time_hour": "2013-01-01T05:00:00Z",
         "_deepnote_index_column": 2
        },
        {
         "year": 2013,
         "month": 1,
         "day": 1,
         "dep_time": 544,
         "sched_dep_time": 545,
         "dep_delay": -1,
         "arr_time": 1004,
         "sched_arr_time": 1022,
         "arr_delay": -18,
         "carrier": "B6",
         "flight": 725,
         "tailnum": "N804JB",
         "origin": "JFK",
         "dest": "BQN",
         "air_time": 183,
         "distance": 1576,
         "hour": 5,
         "minute": 45,
         "time_hour": "2013-01-01T05:00:00Z",
         "_deepnote_index_column": 3
        },
        {
         "year": 2013,
         "month": 1,
         "day": 1,
         "dep_time": 554,
         "sched_dep_time": 600,
         "dep_delay": -6,
         "arr_time": 812,
         "sched_arr_time": 837,
         "arr_delay": -25,
         "carrier": "DL",
         "flight": 461,
         "tailnum": "N668DN",
         "origin": "LGA",
         "dest": "ATL",
         "air_time": 116,
         "distance": 762,
         "hour": 6,
         "minute": 0,
         "time_hour": "2013-01-01T06:00:00Z",
         "_deepnote_index_column": 4
        },
        {
         "year": 2013,
         "month": 1,
         "day": 1,
         "dep_time": 554,
         "sched_dep_time": 558,
         "dep_delay": -4,
         "arr_time": 740,
         "sched_arr_time": 728,
         "arr_delay": 12,
         "carrier": "UA",
         "flight": 1696,
         "tailnum": "N39463",
         "origin": "EWR",
         "dest": "ORD",
         "air_time": 150,
         "distance": 719,
         "hour": 5,
         "minute": 58,
         "time_hour": "2013-01-01T05:00:00Z",
         "_deepnote_index_column": 5
        },
        {
         "year": 2013,
         "month": 1,
         "day": 1,
         "dep_time": 555,
         "sched_dep_time": 600,
         "dep_delay": -5,
         "arr_time": 913,
         "sched_arr_time": 854,
         "arr_delay": 19,
         "carrier": "B6",
         "flight": 507,
         "tailnum": "N516JB",
         "origin": "EWR",
         "dest": "FLL",
         "air_time": 158,
         "distance": 1065,
         "hour": 6,
         "minute": 0,
         "time_hour": "2013-01-01T06:00:00Z",
         "_deepnote_index_column": 6
        },
        {
         "year": 2013,
         "month": 1,
         "day": 1,
         "dep_time": 557,
         "sched_dep_time": 600,
         "dep_delay": -3,
         "arr_time": 709,
         "sched_arr_time": 723,
         "arr_delay": -14,
         "carrier": "EV",
         "flight": 5708,
         "tailnum": "N829AS",
         "origin": "LGA",
         "dest": "IAD",
         "air_time": 53,
         "distance": 229,
         "hour": 6,
         "minute": 0,
         "time_hour": "2013-01-01T06:00:00Z",
         "_deepnote_index_column": 7
        },
        {
         "year": 2013,
         "month": 1,
         "day": 1,
         "dep_time": 557,
         "sched_dep_time": 600,
         "dep_delay": -3,
         "arr_time": 838,
         "sched_arr_time": 846,
         "arr_delay": -8,
         "carrier": "B6",
         "flight": 79,
         "tailnum": "N593JB",
         "origin": "JFK",
         "dest": "MCO",
         "air_time": 140,
         "distance": 944,
         "hour": 6,
         "minute": 0,
         "time_hour": "2013-01-01T06:00:00Z",
         "_deepnote_index_column": 8
        },
        {
         "year": 2013,
         "month": 1,
         "day": 1,
         "dep_time": 558,
         "sched_dep_time": 600,
         "dep_delay": -2,
         "arr_time": 753,
         "sched_arr_time": 745,
         "arr_delay": 8,
         "carrier": "AA",
         "flight": 301,
         "tailnum": "N3ALAA",
         "origin": "LGA",
         "dest": "ORD",
         "air_time": 138,
         "distance": 733,
         "hour": 6,
         "minute": 0,
         "time_hour": "2013-01-01T06:00:00Z",
         "_deepnote_index_column": 9
        },
        {
         "year": 2013,
         "month": 1,
         "day": 1,
         "dep_time": 558,
         "sched_dep_time": 600,
         "dep_delay": -2,
         "arr_time": 849,
         "sched_arr_time": 851,
         "arr_delay": -2,
         "carrier": "B6",
         "flight": 49,
         "tailnum": "N793JB",
         "origin": "JFK",
         "dest": "PBI",
         "air_time": 149,
         "distance": 1028,
         "hour": 6,
         "minute": 0,
         "time_hour": "2013-01-01T06:00:00Z",
         "_deepnote_index_column": 10
        },
        {
         "year": 2013,
         "month": 1,
         "day": 1,
         "dep_time": 558,
         "sched_dep_time": 600,
         "dep_delay": -2,
         "arr_time": 853,
         "sched_arr_time": 856,
         "arr_delay": -3,
         "carrier": "B6",
         "flight": 71,
         "tailnum": "N657JB",
         "origin": "JFK",
         "dest": "TPA",
         "air_time": 158,
         "distance": 1005,
         "hour": 6,
         "minute": 0,
         "time_hour": "2013-01-01T06:00:00Z",
         "_deepnote_index_column": 11
        },
        {
         "year": 2013,
         "month": 1,
         "day": 1,
         "dep_time": 558,
         "sched_dep_time": 600,
         "dep_delay": -2,
         "arr_time": 924,
         "sched_arr_time": 917,
         "arr_delay": 7,
         "carrier": "UA",
         "flight": 194,
         "tailnum": "N29129",
         "origin": "JFK",
         "dest": "LAX",
         "air_time": 345,
         "distance": 2475,
         "hour": 6,
         "minute": 0,
         "time_hour": "2013-01-01T06:00:00Z",
         "_deepnote_index_column": 12
        },
        {
         "year": 2013,
         "month": 1,
         "day": 1,
         "dep_time": 558,
         "sched_dep_time": 600,
         "dep_delay": -2,
         "arr_time": 923,
         "sched_arr_time": 937,
         "arr_delay": -14,
         "carrier": "UA",
         "flight": 1124,
         "tailnum": "N53441",
         "origin": "EWR",
         "dest": "SFO",
         "air_time": 361,
         "distance": 2565,
         "hour": 6,
         "minute": 0,
         "time_hour": "2013-01-01T06:00:00Z",
         "_deepnote_index_column": 13
        },
        {
         "year": 2013,
         "month": 1,
         "day": 1,
         "dep_time": 559,
         "sched_dep_time": 600,
         "dep_delay": -1,
         "arr_time": 941,
         "sched_arr_time": 910,
         "arr_delay": 31,
         "carrier": "AA",
         "flight": 707,
         "tailnum": "N3DUAA",
         "origin": "LGA",
         "dest": "DFW",
         "air_time": 257,
         "distance": 1389,
         "hour": 6,
         "minute": 0,
         "time_hour": "2013-01-01T06:00:00Z",
         "_deepnote_index_column": 14
        },
        {
         "year": 2013,
         "month": 1,
         "day": 1,
         "dep_time": 559,
         "sched_dep_time": 559,
         "dep_delay": 0,
         "arr_time": 702,
         "sched_arr_time": 706,
         "arr_delay": -4,
         "carrier": "B6",
         "flight": 1806,
         "tailnum": "N708JB",
         "origin": "JFK",
         "dest": "BOS",
         "air_time": 44,
         "distance": 187,
         "hour": 5,
         "minute": 59,
         "time_hour": "2013-01-01T05:00:00Z",
         "_deepnote_index_column": 15
        },
        {
         "year": 2013,
         "month": 1,
         "day": 1,
         "dep_time": 559,
         "sched_dep_time": 600,
         "dep_delay": -1,
         "arr_time": 854,
         "sched_arr_time": 902,
         "arr_delay": -8,
         "carrier": "UA",
         "flight": 1187,
         "tailnum": "N76515",
         "origin": "EWR",
         "dest": "LAS",
         "air_time": 337,
         "distance": 2227,
         "hour": 6,
         "minute": 0,
         "time_hour": "2013-01-01T06:00:00Z",
         "_deepnote_index_column": 16
        },
        {
         "year": 2013,
         "month": 1,
         "day": 1,
         "dep_time": 600,
         "sched_dep_time": 600,
         "dep_delay": 0,
         "arr_time": 851,
         "sched_arr_time": 858,
         "arr_delay": -7,
         "carrier": "B6",
         "flight": 371,
         "tailnum": "N595JB",
         "origin": "LGA",
         "dest": "FLL",
         "air_time": 152,
         "distance": 1076,
         "hour": 6,
         "minute": 0,
         "time_hour": "2013-01-01T06:00:00Z",
         "_deepnote_index_column": 17
        },
        {
         "year": 2013,
         "month": 1,
         "day": 1,
         "dep_time": 600,
         "sched_dep_time": 600,
         "dep_delay": 0,
         "arr_time": 837,
         "sched_arr_time": 825,
         "arr_delay": 12,
         "carrier": "MQ",
         "flight": 4650,
         "tailnum": "N542MQ",
         "origin": "LGA",
         "dest": "ATL",
         "air_time": 134,
         "distance": 762,
         "hour": 6,
         "minute": 0,
         "time_hour": "2013-01-01T06:00:00Z",
         "_deepnote_index_column": 18
        },
        {
         "year": 2013,
         "month": 1,
         "day": 1,
         "dep_time": 601,
         "sched_dep_time": 600,
         "dep_delay": 1,
         "arr_time": 844,
         "sched_arr_time": 850,
         "arr_delay": -6,
         "carrier": "B6",
         "flight": 343,
         "tailnum": "N644JB",
         "origin": "EWR",
         "dest": "PBI",
         "air_time": 147,
         "distance": 1023,
         "hour": 6,
         "minute": 0,
         "time_hour": "2013-01-01T06:00:00Z",
         "_deepnote_index_column": 19
        },
        {
         "year": 2013,
         "month": 1,
         "day": 1,
         "dep_time": 602,
         "sched_dep_time": 610,
         "dep_delay": -8,
         "arr_time": 812,
         "sched_arr_time": 820,
         "arr_delay": -8,
         "carrier": "DL",
         "flight": 1919,
         "tailnum": "N971DL",
         "origin": "LGA",
         "dest": "MSP",
         "air_time": 170,
         "distance": 1020,
         "hour": 6,
         "minute": 10,
         "time_hour": "2013-01-01T06:00:00Z",
         "_deepnote_index_column": 20
        },
        {
         "year": 2013,
         "month": 1,
         "day": 1,
         "dep_time": 602,
         "sched_dep_time": 605,
         "dep_delay": -3,
         "arr_time": 821,
         "sched_arr_time": 805,
         "arr_delay": 16,
         "carrier": "MQ",
         "flight": 4401,
         "tailnum": "N730MQ",
         "origin": "LGA",
         "dest": "DTW",
         "air_time": 105,
         "distance": 502,
         "hour": 6,
         "minute": 5,
         "time_hour": "2013-01-01T06:00:00Z",
         "_deepnote_index_column": 21
        },
        {
         "year": 2013,
         "month": 1,
         "day": 1,
         "dep_time": 606,
         "sched_dep_time": 610,
         "dep_delay": -4,
         "arr_time": 858,
         "sched_arr_time": 910,
         "arr_delay": -12,
         "carrier": "AA",
         "flight": 1895,
         "tailnum": "N633AA",
         "origin": "EWR",
         "dest": "MIA",
         "air_time": 152,
         "distance": 1085,
         "hour": 6,
         "minute": 10,
         "time_hour": "2013-01-01T06:00:00Z",
         "_deepnote_index_column": 22
        },
        {
         "year": 2013,
         "month": 1,
         "day": 1,
         "dep_time": 606,
         "sched_dep_time": 610,
         "dep_delay": -4,
         "arr_time": 837,
         "sched_arr_time": 845,
         "arr_delay": -8,
         "carrier": "DL",
         "flight": 1743,
         "tailnum": "N3739P",
         "origin": "JFK",
         "dest": "ATL",
         "air_time": 128,
         "distance": 760,
         "hour": 6,
         "minute": 10,
         "time_hour": "2013-01-01T06:00:00Z",
         "_deepnote_index_column": 23
        },
        {
         "year": 2013,
         "month": 1,
         "day": 1,
         "dep_time": 607,
         "sched_dep_time": 607,
         "dep_delay": 0,
         "arr_time": 858,
         "sched_arr_time": 915,
         "arr_delay": -17,
         "carrier": "UA",
         "flight": 1077,
         "tailnum": "N53442",
         "origin": "EWR",
         "dest": "MIA",
         "air_time": 157,
         "distance": 1085,
         "hour": 6,
         "minute": 7,
         "time_hour": "2013-01-01T06:00:00Z",
         "_deepnote_index_column": 24
        },
        {
         "year": 2013,
         "month": 1,
         "day": 1,
         "dep_time": 608,
         "sched_dep_time": 600,
         "dep_delay": 8,
         "arr_time": 807,
         "sched_arr_time": 735,
         "arr_delay": 32,
         "carrier": "MQ",
         "flight": 3768,
         "tailnum": "N9EAMQ",
         "origin": "EWR",
         "dest": "ORD",
         "air_time": 139,
         "distance": 719,
         "hour": 6,
         "minute": 0,
         "time_hour": "2013-01-01T06:00:00Z",
         "_deepnote_index_column": 25
        }
       ],
       "rows_bottom": [
        {
         "year": 2013,
         "month": 9,
         "day": 30,
         "dep_time": 2121,
         "sched_dep_time": 2100,
         "dep_delay": 21,
         "arr_time": 2349,
         "sched_arr_time": 14,
         "arr_delay": -25,
         "carrier": "DL",
         "flight": 2363,
         "tailnum": "N193DN",
         "origin": "JFK",
         "dest": "LAX",
         "air_time": 296,
         "distance": 2475,
         "hour": 21,
         "minute": 0,
         "time_hour": "2013-09-30T21:00:00Z",
         "_deepnote_index_column": 327320
        },
        {
         "year": 2013,
         "month": 9,
         "day": 30,
         "dep_time": 2122,
         "sched_dep_time": 2127,
         "dep_delay": -5,
         "arr_time": 2226,
         "sched_arr_time": 2237,
         "arr_delay": -11,
         "carrier": "EV",
         "flight": 4372,
         "tailnum": "N14902",
         "origin": "EWR",
         "dest": "DCA",
         "air_time": 35,
         "distance": 199,
         "hour": 21,
         "minute": 27,
         "time_hour": "2013-09-30T21:00:00Z",
         "_deepnote_index_column": 327321
        },
        {
         "year": 2013,
         "month": 9,
         "day": 30,
         "dep_time": 2123,
         "sched_dep_time": 2125,
         "dep_delay": -2,
         "arr_time": 2223,
         "sched_arr_time": 2247,
         "arr_delay": -24,
         "carrier": "EV",
         "flight": 5489,
         "tailnum": "N712EV",
         "origin": "LGA",
         "dest": "CHO",
         "air_time": 45,
         "distance": 305,
         "hour": 21,
         "minute": 25,
         "time_hour": "2013-09-30T21:00:00Z",
         "_deepnote_index_column": 327322
        },
        {
         "year": 2013,
         "month": 9,
         "day": 30,
         "dep_time": 2127,
         "sched_dep_time": 2129,
         "dep_delay": -2,
         "arr_time": 2314,
         "sched_arr_time": 2323,
         "arr_delay": -9,
         "carrier": "EV",
         "flight": 3833,
         "tailnum": "N16546",
         "origin": "EWR",
         "dest": "CLT",
         "air_time": 72,
         "distance": 529,
         "hour": 21,
         "minute": 29,
         "time_hour": "2013-09-30T21:00:00Z",
         "_deepnote_index_column": 327323
        },
        {
         "year": 2013,
         "month": 9,
         "day": 30,
         "dep_time": 2128,
         "sched_dep_time": 2130,
         "dep_delay": -2,
         "arr_time": 2328,
         "sched_arr_time": 2359,
         "arr_delay": -31,
         "carrier": "B6",
         "flight": 97,
         "tailnum": "N807JB",
         "origin": "JFK",
         "dest": "DEN",
         "air_time": 213,
         "distance": 1626,
         "hour": 21,
         "minute": 30,
         "time_hour": "2013-09-30T21:00:00Z",
         "_deepnote_index_column": 327324
        },
        {
         "year": 2013,
         "month": 9,
         "day": 30,
         "dep_time": 2129,
         "sched_dep_time": 2059,
         "dep_delay": 30,
         "arr_time": 2230,
         "sched_arr_time": 2232,
         "arr_delay": -2,
         "carrier": "EV",
         "flight": 5048,
         "tailnum": "N751EV",
         "origin": "LGA",
         "dest": "RIC",
         "air_time": 45,
         "distance": 292,
         "hour": 20,
         "minute": 59,
         "time_hour": "2013-09-30T20:00:00Z",
         "_deepnote_index_column": 327325
        },
        {
         "year": 2013,
         "month": 9,
         "day": 30,
         "dep_time": 2131,
         "sched_dep_time": 2140,
         "dep_delay": -9,
         "arr_time": 2225,
         "sched_arr_time": 2255,
         "arr_delay": -30,
         "carrier": "MQ",
         "flight": 3621,
         "tailnum": "N807MQ",
         "origin": "JFK",
         "dest": "DCA",
         "air_time": 36,
         "distance": 213,
         "hour": 21,
         "minute": 40,
         "time_hour": "2013-09-30T21:00:00Z",
         "_deepnote_index_column": 327326
        },
        {
         "year": 2013,
         "month": 9,
         "day": 30,
         "dep_time": 2140,
         "sched_dep_time": 2140,
         "dep_delay": 0,
         "arr_time": 10,
         "sched_arr_time": 40,
         "arr_delay": -30,
         "carrier": "AA",
         "flight": 185,
         "tailnum": "N335AA",
         "origin": "JFK",
         "dest": "LAX",
         "air_time": 298,
         "distance": 2475,
         "hour": 21,
         "minute": 40,
         "time_hour": "2013-09-30T21:00:00Z",
         "_deepnote_index_column": 327327
        },
        {
         "year": 2013,
         "month": 9,
         "day": 30,
         "dep_time": 2142,
         "sched_dep_time": 2129,
         "dep_delay": 13,
         "arr_time": 2250,
         "sched_arr_time": 2239,
         "arr_delay": 11,
         "carrier": "EV",
         "flight": 4509,
         "tailnum": "N12957",
         "origin": "EWR",
         "dest": "PWM",
         "air_time": 47,
         "distance": 284,
         "hour": 21,
         "minute": 29,
         "time_hour": "2013-09-30T21:00:00Z",
         "_deepnote_index_column": 327328
        },
        {
         "year": 2013,
         "month": 9,
         "day": 30,
         "dep_time": 2145,
         "sched_dep_time": 2145,
         "dep_delay": 0,
         "arr_time": 115,
         "sched_arr_time": 140,
         "arr_delay": -25,
         "carrier": "B6",
         "flight": 1103,
         "tailnum": "N633JB",
         "origin": "JFK",
         "dest": "SJU",
         "air_time": 192,
         "distance": 1598,
         "hour": 21,
         "minute": 45,
         "time_hour": "2013-09-30T21:00:00Z",
         "_deepnote_index_column": 327329
        },
        {
         "year": 2013,
         "month": 9,
         "day": 30,
         "dep_time": 2147,
         "sched_dep_time": 2137,
         "dep_delay": 10,
         "arr_time": 30,
         "sched_arr_time": 27,
         "arr_delay": 3,
         "carrier": "B6",
         "flight": 1371,
         "tailnum": "N627JB",
         "origin": "LGA",
         "dest": "FLL",
         "air_time": 139,
         "distance": 1076,
         "hour": 21,
         "minute": 37,
         "time_hour": "2013-09-30T21:00:00Z",
         "_deepnote_index_column": 327330
        },
        {
         "year": 2013,
         "month": 9,
         "day": 30,
         "dep_time": 2149,
         "sched_dep_time": 2156,
         "dep_delay": -7,
         "arr_time": 2245,
         "sched_arr_time": 2308,
         "arr_delay": -23,
         "carrier": "UA",
         "flight": 523,
         "tailnum": "N813UA",
         "origin": "EWR",
         "dest": "BOS",
         "air_time": 37,
         "distance": 200,
         "hour": 21,
         "minute": 56,
         "time_hour": "2013-09-30T21:00:00Z",
         "_deepnote_index_column": 327331
        },
        {
         "year": 2013,
         "month": 9,
         "day": 30,
         "dep_time": 2150,
         "sched_dep_time": 2159,
         "dep_delay": -9,
         "arr_time": 2250,
         "sched_arr_time": 2306,
         "arr_delay": -16,
         "carrier": "EV",
         "flight": 3842,
         "tailnum": "N10575",
         "origin": "EWR",
         "dest": "MHT",
         "air_time": 39,
         "distance": 209,
         "hour": 21,
         "minute": 59,
         "time_hour": "2013-09-30T21:00:00Z",
         "_deepnote_index_column": 327332
        },
        {
         "year": 2013,
         "month": 9,
         "day": 30,
         "dep_time": 2159,
         "sched_dep_time": 1845,
         "dep_delay": 194,
         "arr_time": 2344,
         "sched_arr_time": 2030,
         "arr_delay": 194,
         "carrier": "9E",
         "flight": 3320,
         "tailnum": "N906XJ",
         "origin": "JFK",
         "dest": "BUF",
         "air_time": 50,
         "distance": 301,
         "hour": 18,
         "minute": 45,
         "time_hour": "2013-09-30T18:00:00Z",
         "_deepnote_index_column": 327333
        },
        {
         "year": 2013,
         "month": 9,
         "day": 30,
         "dep_time": 2203,
         "sched_dep_time": 2205,
         "dep_delay": -2,
         "arr_time": 2339,
         "sched_arr_time": 2331,
         "arr_delay": 8,
         "carrier": "EV",
         "flight": 5311,
         "tailnum": "N722EV",
         "origin": "LGA",
         "dest": "BGR",
         "air_time": 61,
         "distance": 378,
         "hour": 22,
         "minute": 5,
         "time_hour": "2013-09-30T22:00:00Z",
         "_deepnote_index_column": 327334
        },
        {
         "year": 2013,
         "month": 9,
         "day": 30,
         "dep_time": 2207,
         "sched_dep_time": 2140,
         "dep_delay": 27,
         "arr_time": 2257,
         "sched_arr_time": 2250,
         "arr_delay": 7,
         "carrier": "MQ",
         "flight": 3660,
         "tailnum": "N532MQ",
         "origin": "LGA",
         "dest": "BNA",
         "air_time": 97,
         "distance": 764,
         "hour": 21,
         "minute": 40,
         "time_hour": "2013-09-30T21:00:00Z",
         "_deepnote_index_column": 327335
        },
        {
         "year": 2013,
         "month": 9,
         "day": 30,
         "dep_time": 2211,
         "sched_dep_time": 2059,
         "dep_delay": 72,
         "arr_time": 2339,
         "sched_arr_time": 2242,
         "arr_delay": 57,
         "carrier": "EV",
         "flight": 4672,
         "tailnum": "N12145",
         "origin": "EWR",
         "dest": "STL",
         "air_time": 120,
         "distance": 872,
         "hour": 20,
         "minute": 59,
         "time_hour": "2013-09-30T20:00:00Z",
         "_deepnote_index_column": 327336
        },
        {
         "year": 2013,
         "month": 9,
         "day": 30,
         "dep_time": 2231,
         "sched_dep_time": 2245,
         "dep_delay": -14,
         "arr_time": 2335,
         "sched_arr_time": 2356,
         "arr_delay": -21,
         "carrier": "B6",
         "flight": 108,
         "tailnum": "N193JB",
         "origin": "JFK",
         "dest": "PWM",
         "air_time": 48,
         "distance": 273,
         "hour": 22,
         "minute": 45,
         "time_hour": "2013-09-30T22:00:00Z",
         "_deepnote_index_column": 327337
        },
        {
         "year": 2013,
         "month": 9,
         "day": 30,
         "dep_time": 2233,
         "sched_dep_time": 2113,
         "dep_delay": 80,
         "arr_time": 112,
         "sched_arr_time": 30,
         "arr_delay": 42,
         "carrier": "UA",
         "flight": 471,
         "tailnum": "N578UA",
         "origin": "EWR",
         "dest": "SFO",
         "air_time": 318,
         "distance": 2565,
         "hour": 21,
         "minute": 13,
         "time_hour": "2013-09-30T21:00:00Z",
         "_deepnote_index_column": 327338
        },
        {
         "year": 2013,
         "month": 9,
         "day": 30,
         "dep_time": 2235,
         "sched_dep_time": 2001,
         "dep_delay": 154,
         "arr_time": 59,
         "sched_arr_time": 2249,
         "arr_delay": 130,
         "carrier": "B6",
         "flight": 1083,
         "tailnum": "N804JB",
         "origin": "JFK",
         "dest": "MCO",
         "air_time": 123,
         "distance": 944,
         "hour": 20,
         "minute": 1,
         "time_hour": "2013-09-30T20:00:00Z",
         "_deepnote_index_column": 327339
        },
        {
         "year": 2013,
         "month": 9,
         "day": 30,
         "dep_time": 2237,
         "sched_dep_time": 2245,
         "dep_delay": -8,
         "arr_time": 2345,
         "sched_arr_time": 2353,
         "arr_delay": -8,
         "carrier": "B6",
         "flight": 234,
         "tailnum": "N318JB",
         "origin": "JFK",
         "dest": "BTV",
         "air_time": 43,
         "distance": 266,
         "hour": 22,
         "minute": 45,
         "time_hour": "2013-09-30T22:00:00Z",
         "_deepnote_index_column": 327340
        },
        {
         "year": 2013,
         "month": 9,
         "day": 30,
         "dep_time": 2240,
         "sched_dep_time": 2245,
         "dep_delay": -5,
         "arr_time": 2334,
         "sched_arr_time": 2351,
         "arr_delay": -17,
         "carrier": "B6",
         "flight": 1816,
         "tailnum": "N354JB",
         "origin": "JFK",
         "dest": "SYR",
         "air_time": 41,
         "distance": 209,
         "hour": 22,
         "minute": 45,
         "time_hour": "2013-09-30T22:00:00Z",
         "_deepnote_index_column": 327341
        },
        {
         "year": 2013,
         "month": 9,
         "day": 30,
         "dep_time": 2240,
         "sched_dep_time": 2250,
         "dep_delay": -10,
         "arr_time": 2347,
         "sched_arr_time": 7,
         "arr_delay": -20,
         "carrier": "B6",
         "flight": 2002,
         "tailnum": "N281JB",
         "origin": "JFK",
         "dest": "BUF",
         "air_time": 52,
         "distance": 301,
         "hour": 22,
         "minute": 50,
         "time_hour": "2013-09-30T22:00:00Z",
         "_deepnote_index_column": 327342
        },
        {
         "year": 2013,
         "month": 9,
         "day": 30,
         "dep_time": 2241,
         "sched_dep_time": 2246,
         "dep_delay": -5,
         "arr_time": 2345,
         "sched_arr_time": 1,
         "arr_delay": -16,
         "carrier": "B6",
         "flight": 486,
         "tailnum": "N346JB",
         "origin": "JFK",
         "dest": "ROC",
         "air_time": 47,
         "distance": 264,
         "hour": 22,
         "minute": 46,
         "time_hour": "2013-09-30T22:00:00Z",
         "_deepnote_index_column": 327343
        },
        {
         "year": 2013,
         "month": 9,
         "day": 30,
         "dep_time": 2307,
         "sched_dep_time": 2255,
         "dep_delay": 12,
         "arr_time": 2359,
         "sched_arr_time": 2358,
         "arr_delay": 1,
         "carrier": "B6",
         "flight": 718,
         "tailnum": "N565JB",
         "origin": "JFK",
         "dest": "BOS",
         "air_time": 33,
         "distance": 187,
         "hour": 22,
         "minute": 55,
         "time_hour": "2013-09-30T22:00:00Z",
         "_deepnote_index_column": 327344
        },
        {
         "year": 2013,
         "month": 9,
         "day": 30,
         "dep_time": 2349,
         "sched_dep_time": 2359,
         "dep_delay": -10,
         "arr_time": 325,
         "sched_arr_time": 350,
         "arr_delay": -25,
         "carrier": "B6",
         "flight": 745,
         "tailnum": "N516JB",
         "origin": "JFK",
         "dest": "PSE",
         "air_time": 196,
         "distance": 1617,
         "hour": 23,
         "minute": 59,
         "time_hour": "2013-09-30T23:00:00Z",
         "_deepnote_index_column": 327345
        }
       ]
      },
      "text/plain": "        year  month  day  dep_time  sched_dep_time  dep_delay  arr_time  \\\n0       2013      1    1       517             515  12.759401       830   \n1       2013      1    1       533             529   4.000000       850   \n2       2013      1    1       542             540  12.759401       923   \n3       2013      1    1       544             545  -1.000000      1004   \n4       2013      1    1       554             600  -6.000000       812   \n...      ...    ...  ...       ...             ...        ...       ...   \n327341  2013      9   30      2240            2245  -5.000000      2334   \n327342  2013      9   30      2240            2250 -10.000000      2347   \n327343  2013      9   30      2241            2246  -5.000000      2345   \n327344  2013      9   30      2307            2255  12.000000      2359   \n327345  2013      9   30      2349            2359 -10.000000       325   \n\n        sched_arr_time  arr_delay carrier  flight tailnum origin dest  \\\n0                  819         11      UA    1545  N14228    EWR  IAH   \n1                  830         20      UA    1714  N24211    LGA  IAH   \n2                  850         33      AA    1141  N619AA    JFK  MIA   \n3                 1022        -18      B6     725  N804JB    JFK  BQN   \n4                  837        -25      DL     461  N668DN    LGA  ATL   \n...                ...        ...     ...     ...     ...    ...  ...   \n327341            2351        -17      B6    1816  N354JB    JFK  SYR   \n327342               7        -20      B6    2002  N281JB    JFK  BUF   \n327343               1        -16      B6     486  N346JB    JFK  ROC   \n327344            2358          1      B6     718  N565JB    JFK  BOS   \n327345             350        -25      B6     745  N516JB    JFK  PSE   \n\n        air_time  distance  hour  minute             time_hour  \n0            227      1400     5      15  2013-01-01T05:00:00Z  \n1            227      1416     5      29  2013-01-01T05:00:00Z  \n2            160      1089     5      40  2013-01-01T05:00:00Z  \n3            183      1576     5      45  2013-01-01T05:00:00Z  \n4            116       762     6       0  2013-01-01T06:00:00Z  \n...          ...       ...   ...     ...                   ...  \n327341        41       209    22      45  2013-09-30T22:00:00Z  \n327342        52       301    22      50  2013-09-30T22:00:00Z  \n327343        47       264    22      46  2013-09-30T22:00:00Z  \n327344        33       187    22      55  2013-09-30T22:00:00Z  \n327345       196      1617    23      59  2013-09-30T23:00:00Z  \n\n[327346 rows x 19 columns]",
      "text/html": "<div>\n<style scoped>\n    .dataframe tbody tr th:only-of-type {\n        vertical-align: middle;\n    }\n\n    .dataframe tbody tr th {\n        vertical-align: top;\n    }\n\n    .dataframe thead th {\n        text-align: right;\n    }\n</style>\n<table border=\"1\" class=\"dataframe\">\n  <thead>\n    <tr style=\"text-align: right;\">\n      <th></th>\n      <th>year</th>\n      <th>month</th>\n      <th>day</th>\n      <th>dep_time</th>\n      <th>sched_dep_time</th>\n      <th>dep_delay</th>\n      <th>arr_time</th>\n      <th>sched_arr_time</th>\n      <th>arr_delay</th>\n      <th>carrier</th>\n      <th>flight</th>\n      <th>tailnum</th>\n      <th>origin</th>\n      <th>dest</th>\n      <th>air_time</th>\n      <th>distance</th>\n      <th>hour</th>\n      <th>minute</th>\n      <th>time_hour</th>\n    </tr>\n  </thead>\n  <tbody>\n    <tr>\n      <th>0</th>\n      <td>2013</td>\n      <td>1</td>\n      <td>1</td>\n      <td>517</td>\n      <td>515</td>\n      <td>12.759401</td>\n      <td>830</td>\n      <td>819</td>\n      <td>11</td>\n      <td>UA</td>\n      <td>1545</td>\n      <td>N14228</td>\n      <td>EWR</td>\n      <td>IAH</td>\n      <td>227</td>\n      <td>1400</td>\n      <td>5</td>\n      <td>15</td>\n      <td>2013-01-01T05:00:00Z</td>\n    </tr>\n    <tr>\n      <th>1</th>\n      <td>2013</td>\n      <td>1</td>\n      <td>1</td>\n      <td>533</td>\n      <td>529</td>\n      <td>4.000000</td>\n      <td>850</td>\n      <td>830</td>\n      <td>20</td>\n      <td>UA</td>\n      <td>1714</td>\n      <td>N24211</td>\n      <td>LGA</td>\n      <td>IAH</td>\n      <td>227</td>\n      <td>1416</td>\n      <td>5</td>\n      <td>29</td>\n      <td>2013-01-01T05:00:00Z</td>\n    </tr>\n    <tr>\n      <th>2</th>\n      <td>2013</td>\n      <td>1</td>\n      <td>1</td>\n      <td>542</td>\n      <td>540</td>\n      <td>12.759401</td>\n      <td>923</td>\n      <td>850</td>\n      <td>33</td>\n      <td>AA</td>\n      <td>1141</td>\n      <td>N619AA</td>\n      <td>JFK</td>\n      <td>MIA</td>\n      <td>160</td>\n      <td>1089</td>\n      <td>5</td>\n      <td>40</td>\n      <td>2013-01-01T05:00:00Z</td>\n    </tr>\n    <tr>\n      <th>3</th>\n      <td>2013</td>\n      <td>1</td>\n      <td>1</td>\n      <td>544</td>\n      <td>545</td>\n      <td>-1.000000</td>\n      <td>1004</td>\n      <td>1022</td>\n      <td>-18</td>\n      <td>B6</td>\n      <td>725</td>\n      <td>N804JB</td>\n      <td>JFK</td>\n      <td>BQN</td>\n      <td>183</td>\n      <td>1576</td>\n      <td>5</td>\n      <td>45</td>\n      <td>2013-01-01T05:00:00Z</td>\n    </tr>\n    <tr>\n      <th>4</th>\n      <td>2013</td>\n      <td>1</td>\n      <td>1</td>\n      <td>554</td>\n      <td>600</td>\n      <td>-6.000000</td>\n      <td>812</td>\n      <td>837</td>\n      <td>-25</td>\n      <td>DL</td>\n      <td>461</td>\n      <td>N668DN</td>\n      <td>LGA</td>\n      <td>ATL</td>\n      <td>116</td>\n      <td>762</td>\n      <td>6</td>\n      <td>0</td>\n      <td>2013-01-01T06:00:00Z</td>\n    </tr>\n    <tr>\n      <th>...</th>\n      <td>...</td>\n      <td>...</td>\n      <td>...</td>\n      <td>...</td>\n      <td>...</td>\n      <td>...</td>\n      <td>...</td>\n      <td>...</td>\n      <td>...</td>\n      <td>...</td>\n      <td>...</td>\n      <td>...</td>\n      <td>...</td>\n      <td>...</td>\n      <td>...</td>\n      <td>...</td>\n      <td>...</td>\n      <td>...</td>\n      <td>...</td>\n    </tr>\n    <tr>\n      <th>327341</th>\n      <td>2013</td>\n      <td>9</td>\n      <td>30</td>\n      <td>2240</td>\n      <td>2245</td>\n      <td>-5.000000</td>\n      <td>2334</td>\n      <td>2351</td>\n      <td>-17</td>\n      <td>B6</td>\n      <td>1816</td>\n      <td>N354JB</td>\n      <td>JFK</td>\n      <td>SYR</td>\n      <td>41</td>\n      <td>209</td>\n      <td>22</td>\n      <td>45</td>\n      <td>2013-09-30T22:00:00Z</td>\n    </tr>\n    <tr>\n      <th>327342</th>\n      <td>2013</td>\n      <td>9</td>\n      <td>30</td>\n      <td>2240</td>\n      <td>2250</td>\n      <td>-10.000000</td>\n      <td>2347</td>\n      <td>7</td>\n      <td>-20</td>\n      <td>B6</td>\n      <td>2002</td>\n      <td>N281JB</td>\n      <td>JFK</td>\n      <td>BUF</td>\n      <td>52</td>\n      <td>301</td>\n      <td>22</td>\n      <td>50</td>\n      <td>2013-09-30T22:00:00Z</td>\n    </tr>\n    <tr>\n      <th>327343</th>\n      <td>2013</td>\n      <td>9</td>\n      <td>30</td>\n      <td>2241</td>\n      <td>2246</td>\n      <td>-5.000000</td>\n      <td>2345</td>\n      <td>1</td>\n      <td>-16</td>\n      <td>B6</td>\n      <td>486</td>\n      <td>N346JB</td>\n      <td>JFK</td>\n      <td>ROC</td>\n      <td>47</td>\n      <td>264</td>\n      <td>22</td>\n      <td>46</td>\n      <td>2013-09-30T22:00:00Z</td>\n    </tr>\n    <tr>\n      <th>327344</th>\n      <td>2013</td>\n      <td>9</td>\n      <td>30</td>\n      <td>2307</td>\n      <td>2255</td>\n      <td>12.000000</td>\n      <td>2359</td>\n      <td>2358</td>\n      <td>1</td>\n      <td>B6</td>\n      <td>718</td>\n      <td>N565JB</td>\n      <td>JFK</td>\n      <td>BOS</td>\n      <td>33</td>\n      <td>187</td>\n      <td>22</td>\n      <td>55</td>\n      <td>2013-09-30T22:00:00Z</td>\n    </tr>\n    <tr>\n      <th>327345</th>\n      <td>2013</td>\n      <td>9</td>\n      <td>30</td>\n      <td>2349</td>\n      <td>2359</td>\n      <td>-10.000000</td>\n      <td>325</td>\n      <td>350</td>\n      <td>-25</td>\n      <td>B6</td>\n      <td>745</td>\n      <td>N516JB</td>\n      <td>JFK</td>\n      <td>PSE</td>\n      <td>196</td>\n      <td>1617</td>\n      <td>23</td>\n      <td>59</td>\n      <td>2013-09-30T23:00:00Z</td>\n    </tr>\n  </tbody>\n</table>\n<p>327346 rows × 19 columns</p>\n</div>"
     },
     "metadata": {}
    }
   ]
  },
  {
   "cell_type": "markdown",
   "source": "### Statistical operations",
   "metadata": {
    "cell_id": "00062-fa807cf4-a3d2-42e4-8721-92fbc1e34fb7",
    "deepnote_cell_type": "markdown"
   }
  },
  {
   "cell_type": "code",
   "metadata": {
    "cell_id": "00063-2aba14f6-d9ae-472e-a2ff-3a5c261efbdf",
    "deepnote_to_be_reexecuted": false,
    "source_hash": "a5f057b4",
    "execution_start": 1631947560102,
    "execution_millis": 8,
    "output_cleared": false,
    "deepnote_cell_type": "code"
   },
   "source": "bankData.mean()",
   "execution_count": 16,
   "outputs": [
    {
     "output_type": "execute_result",
     "execution_count": 16,
     "data": {
      "text/plain": "age           41.170095\nbalance     1422.657819\nday           15.915284\nduration     263.961292\ncampaign       2.793630\npdays         39.766645\nprevious       0.542579\ndtype: float64"
     },
     "metadata": {}
    }
   ]
  },
  {
   "cell_type": "code",
   "metadata": {
    "cell_id": "00064-c03ae5c4-8f88-4960-9c38-41f0f6fe43eb",
    "deepnote_to_be_reexecuted": false,
    "source_hash": "be857de9",
    "execution_start": 1631372733726,
    "execution_millis": 16,
    "output_cleared": true,
    "deepnote_cell_type": "code"
   },
   "source": "bankData.std()",
   "execution_count": null,
   "outputs": []
  },
  {
   "cell_type": "code",
   "metadata": {
    "cell_id": "00065-734063b2-2c91-4813-9e17-7d7b54f7aa73",
    "deepnote_to_be_reexecuted": false,
    "source_hash": "1a2142",
    "execution_start": 1631372736720,
    "execution_millis": 18,
    "output_cleared": true,
    "deepnote_cell_type": "code"
   },
   "source": "bankData.median()",
   "execution_count": null,
   "outputs": []
  },
  {
   "cell_type": "markdown",
   "source": "### Apply function",
   "metadata": {
    "cell_id": "00066-e00b2bf6-861a-483a-957d-a9759ebf0c73",
    "deepnote_cell_type": "markdown"
   }
  },
  {
   "cell_type": "code",
   "metadata": {
    "cell_id": "00067-5fb086e7-edde-4338-904b-40f006045675",
    "deepnote_to_be_reexecuted": false,
    "source_hash": "2f4f8402",
    "execution_start": 1631947639458,
    "execution_millis": 16723,
    "output_cleared": false,
    "deepnote_cell_type": "code"
   },
   "source": "df = pd.DataFrame(np.array([[1,2,3],\n                           [4,5,6],\n                           [7,8,9]]))\ndf.apply(np.cumsum, axis =0)",
   "execution_count": 20,
   "outputs": [
    {
     "output_type": "execute_result",
     "execution_count": 20,
     "data": {
      "application/vnd.deepnote.dataframe.v2+json": {
       "row_count": 3,
       "column_count": 3,
       "columns": [
        {
         "name": 0,
         "dtype": "int64",
         "stats": {
          "unique_count": 3,
          "nan_count": 0,
          "min": "1",
          "max": "12",
          "histogram": [
           {
            "bin_start": 1,
            "bin_end": 2.1,
            "count": 1
           },
           {
            "bin_start": 2.1,
            "bin_end": 3.2,
            "count": 0
           },
           {
            "bin_start": 3.2,
            "bin_end": 4.300000000000001,
            "count": 0
           },
           {
            "bin_start": 4.300000000000001,
            "bin_end": 5.4,
            "count": 1
           },
           {
            "bin_start": 5.4,
            "bin_end": 6.5,
            "count": 0
           },
           {
            "bin_start": 6.5,
            "bin_end": 7.6000000000000005,
            "count": 0
           },
           {
            "bin_start": 7.6000000000000005,
            "bin_end": 8.700000000000001,
            "count": 0
           },
           {
            "bin_start": 8.700000000000001,
            "bin_end": 9.8,
            "count": 0
           },
           {
            "bin_start": 9.8,
            "bin_end": 10.9,
            "count": 0
           },
           {
            "bin_start": 10.9,
            "bin_end": 12,
            "count": 1
           }
          ]
         }
        },
        {
         "name": 1,
         "dtype": "int64",
         "stats": {
          "unique_count": 3,
          "nan_count": 0,
          "min": "2",
          "max": "15",
          "histogram": [
           {
            "bin_start": 2,
            "bin_end": 3.3,
            "count": 1
           },
           {
            "bin_start": 3.3,
            "bin_end": 4.6,
            "count": 0
           },
           {
            "bin_start": 4.6,
            "bin_end": 5.9,
            "count": 0
           },
           {
            "bin_start": 5.9,
            "bin_end": 7.2,
            "count": 1
           },
           {
            "bin_start": 7.2,
            "bin_end": 8.5,
            "count": 0
           },
           {
            "bin_start": 8.5,
            "bin_end": 9.8,
            "count": 0
           },
           {
            "bin_start": 9.8,
            "bin_end": 11.1,
            "count": 0
           },
           {
            "bin_start": 11.1,
            "bin_end": 12.4,
            "count": 0
           },
           {
            "bin_start": 12.4,
            "bin_end": 13.700000000000001,
            "count": 0
           },
           {
            "bin_start": 13.700000000000001,
            "bin_end": 15,
            "count": 1
           }
          ]
         }
        },
        {
         "name": 2,
         "dtype": "int64",
         "stats": {
          "unique_count": 3,
          "nan_count": 0,
          "min": "3",
          "max": "18",
          "histogram": [
           {
            "bin_start": 3,
            "bin_end": 4.5,
            "count": 1
           },
           {
            "bin_start": 4.5,
            "bin_end": 6,
            "count": 0
           },
           {
            "bin_start": 6,
            "bin_end": 7.5,
            "count": 0
           },
           {
            "bin_start": 7.5,
            "bin_end": 9,
            "count": 0
           },
           {
            "bin_start": 9,
            "bin_end": 10.5,
            "count": 1
           },
           {
            "bin_start": 10.5,
            "bin_end": 12,
            "count": 0
           },
           {
            "bin_start": 12,
            "bin_end": 13.5,
            "count": 0
           },
           {
            "bin_start": 13.5,
            "bin_end": 15,
            "count": 0
           },
           {
            "bin_start": 15,
            "bin_end": 16.5,
            "count": 0
           },
           {
            "bin_start": 16.5,
            "bin_end": 18,
            "count": 1
           }
          ]
         }
        },
        {
         "name": "_deepnote_index_column",
         "dtype": "int64"
        }
       ],
       "rows_top": [
        {
         "0": 1,
         "1": 2,
         "2": 3,
         "_deepnote_index_column": 0
        },
        {
         "0": 5,
         "1": 7,
         "2": 9,
         "_deepnote_index_column": 1
        },
        {
         "0": 12,
         "1": 15,
         "2": 18,
         "_deepnote_index_column": 2
        }
       ],
       "rows_bottom": null
      },
      "text/plain": "    0   1   2\n0   1   2   3\n1   5   7   9\n2  12  15  18",
      "text/html": "<div>\n<style scoped>\n    .dataframe tbody tr th:only-of-type {\n        vertical-align: middle;\n    }\n\n    .dataframe tbody tr th {\n        vertical-align: top;\n    }\n\n    .dataframe thead th {\n        text-align: right;\n    }\n</style>\n<table border=\"1\" class=\"dataframe\">\n  <thead>\n    <tr style=\"text-align: right;\">\n      <th></th>\n      <th>0</th>\n      <th>1</th>\n      <th>2</th>\n    </tr>\n  </thead>\n  <tbody>\n    <tr>\n      <th>0</th>\n      <td>1</td>\n      <td>2</td>\n      <td>3</td>\n    </tr>\n    <tr>\n      <th>1</th>\n      <td>5</td>\n      <td>7</td>\n      <td>9</td>\n    </tr>\n    <tr>\n      <th>2</th>\n      <td>12</td>\n      <td>15</td>\n      <td>18</td>\n    </tr>\n  </tbody>\n</table>\n</div>"
     },
     "metadata": {}
    }
   ]
  },
  {
   "cell_type": "markdown",
   "source": "#### Apply: scaling numeric columns",
   "metadata": {
    "cell_id": "00068-8b8a7ff5-aaa7-4d5e-8de3-09f9391da6e1",
    "deepnote_cell_type": "markdown"
   }
  },
  {
   "cell_type": "code",
   "metadata": {
    "cell_id": "00069-499b4b8f-7cda-419e-8bcf-2c9a2b336a2b",
    "deepnote_to_be_reexecuted": false,
    "source_hash": "c26872b3",
    "execution_start": 1631372806129,
    "execution_millis": 63,
    "output_cleared": true,
    "deepnote_cell_type": "code"
   },
   "source": "bankData.num = bankData._get_numeric_data()\n\nbankData.num.head()",
   "execution_count": null,
   "outputs": []
  },
  {
   "cell_type": "code",
   "metadata": {
    "cell_id": "00070-20625ce3-0afc-41cc-bc6b-f92ba74b3f83",
    "deepnote_to_be_reexecuted": false,
    "source_hash": "60c7e7ea",
    "execution_start": 1631372817465,
    "execution_millis": 71,
    "output_cleared": true,
    "deepnote_cell_type": "code"
   },
   "source": "bankData.num.columns\nbankData[bankData.num.columns] = bankData.num.apply(lambda x:x/x.max())\nbankData.head()",
   "execution_count": null,
   "outputs": []
  },
  {
   "cell_type": "markdown",
   "source": "### Concatenate",
   "metadata": {
    "cell_id": "00071-fb58e134-caab-4622-8af5-0db5e085ecbe",
    "deepnote_cell_type": "markdown"
   }
  },
  {
   "cell_type": "code",
   "metadata": {
    "cell_id": "00072-323f8e7a-6690-47a3-a6dc-fd6b05eacf90",
    "deepnote_to_be_reexecuted": false,
    "source_hash": "d70c9196",
    "execution_start": 1631372846545,
    "execution_millis": 22,
    "output_cleared": true,
    "deepnote_cell_type": "code"
   },
   "source": "pd.concat([bankData['age'],bankData['job']],axis = 1).head()",
   "execution_count": null,
   "outputs": []
  },
  {
   "cell_type": "markdown",
   "source": "### Join",
   "metadata": {
    "cell_id": "00073-2c07d37a-77c6-4bae-b4c2-a5f284dca793",
    "deepnote_cell_type": "markdown"
   }
  },
  {
   "cell_type": "code",
   "metadata": {
    "cell_id": "00074-877d746e-5402-4504-8e86-bb20c2b4bd41",
    "output_cleared": true,
    "deepnote_to_be_reexecuted": false,
    "source_hash": "6c97834f",
    "execution_start": 1631372870795,
    "execution_millis": 18,
    "deepnote_cell_type": "code"
   },
   "source": "left = pd.DataFrame({'key': ['A', 'B'],\n                     'lval': [1, 2]})\nright = pd.DataFrame({'key': ['A', 'B'],\n                      'rval': [4, 5]})\nprint(left)\nprint(right)",
   "execution_count": null,
   "outputs": []
  },
  {
   "cell_type": "code",
   "metadata": {
    "tags": [],
    "cell_id": "00077-d6dfe583-6f0a-457d-bf77-e2086c3efb29",
    "deepnote_to_be_reexecuted": false,
    "source_hash": "9e46efaf",
    "execution_start": 1631372874992,
    "execution_millis": 20,
    "output_cleared": true,
    "deepnote_cell_type": "code"
   },
   "source": "join_df = pd.merge(left,right,on='key')\njoin_df",
   "execution_count": null,
   "outputs": []
  },
  {
   "cell_type": "markdown",
   "source": "### groupby + aggregate",
   "metadata": {
    "cell_id": "00075-c97d9808-d058-47f3-829b-f1eaea58a660",
    "deepnote_cell_type": "markdown"
   }
  },
  {
   "cell_type": "code",
   "metadata": {
    "cell_id": "00076-34ea306a-68b8-4cc1-a0f9-42bb4e28f419",
    "deepnote_to_be_reexecuted": false,
    "source_hash": "3243bc23",
    "execution_start": 1631372887566,
    "execution_millis": 104,
    "output_cleared": true,
    "deepnote_cell_type": "code"
   },
   "source": "bankData.groupby('job').mean()",
   "execution_count": null,
   "outputs": []
  },
  {
   "cell_type": "code",
   "metadata": {
    "cell_id": "00077-094ef3e3-2b43-4efd-8155-65210bbf7daf",
    "deepnote_to_be_reexecuted": false,
    "source_hash": "608b4396",
    "execution_start": 1631372895401,
    "execution_millis": 50,
    "output_cleared": true,
    "deepnote_cell_type": "code"
   },
   "source": "bankData.groupby(['marital','education']).mean()",
   "execution_count": null,
   "outputs": []
  },
  {
   "cell_type": "markdown",
   "source": "### Reshaping: Melt",
   "metadata": {
    "cell_id": "00078-eb4d6f7d-2ad5-458a-a5a7-ccee31f49431",
    "deepnote_cell_type": "markdown"
   }
  },
  {
   "cell_type": "code",
   "metadata": {
    "cell_id": "00079-fec69e6d-c2b1-4301-a131-33a109f7f6e6",
    "deepnote_to_be_reexecuted": false,
    "source_hash": "74d00276",
    "execution_start": 1631372963489,
    "execution_millis": 29,
    "output_cleared": true,
    "deepnote_cell_type": "code"
   },
   "source": "cases = pd.read_csv('cases.csv')\ncases",
   "execution_count": null,
   "outputs": []
  },
  {
   "cell_type": "code",
   "metadata": {
    "tags": [],
    "cell_id": "00083-86893398-00c6-43f3-b3af-3d1081372ac4",
    "deepnote_to_be_reexecuted": false,
    "source_hash": "ea438bc3",
    "execution_start": 1631372972056,
    "execution_millis": 25,
    "output_cleared": true,
    "deepnote_cell_type": "code"
   },
   "source": "cases.melt(id_vars='country',\n           value_vars=cases.columns[2:4],\n           var_name = 'Year',\n           value_name = 'n')",
   "execution_count": null,
   "outputs": []
  },
  {
   "cell_type": "markdown",
   "source": "### Reshaping: Pivot",
   "metadata": {
    "cell_id": "00080-69378e53-0084-4990-895b-613d45d9b229",
    "deepnote_cell_type": "markdown"
   }
  },
  {
   "cell_type": "code",
   "metadata": {
    "cell_id": "00081-5acc25b0-a3fb-4e93-a6e6-09599326abb6",
    "deepnote_to_be_reexecuted": false,
    "source_hash": "54388e4e",
    "execution_start": 1631373008883,
    "execution_millis": 160,
    "output_cleared": true,
    "deepnote_cell_type": "code"
   },
   "source": "pollution = pd.read_csv('pollution.csv')\npollution",
   "execution_count": null,
   "outputs": []
  },
  {
   "cell_type": "code",
   "metadata": {
    "tags": [],
    "cell_id": "00086-f0af5404-d6bb-4ae4-b785-2610296da5e2",
    "deepnote_to_be_reexecuted": false,
    "source_hash": "84b32f20",
    "execution_start": 1631373014012,
    "execution_millis": 16,
    "output_cleared": true,
    "deepnote_cell_type": "code"
   },
   "source": "pollution.pivot(index='city',\n                columns='size',\n                values='amount')",
   "execution_count": null,
   "outputs": []
  },
  {
   "cell_type": "markdown",
   "source": "### Dummy variables",
   "metadata": {
    "cell_id": "00082-9fcfa7e0-eff1-4e70-b803-2109c53d8989",
    "deepnote_cell_type": "markdown"
   }
  },
  {
   "cell_type": "code",
   "metadata": {
    "cell_id": "00083-9afdf26a-ee3b-4de8-aaf7-4c1fa6867fb7",
    "deepnote_to_be_reexecuted": false,
    "source_hash": "55a4b0cb",
    "execution_start": 1631373098715,
    "execution_millis": 10,
    "output_cleared": true,
    "deepnote_cell_type": "code"
   },
   "source": "df = pd.DataFrame({'key': list('bbacab'), 'data1':range(6)})\ndf",
   "execution_count": null,
   "outputs": []
  },
  {
   "cell_type": "code",
   "metadata": {
    "tags": [],
    "cell_id": "00089-184051ca-c4fc-4061-be9f-1c746d778821",
    "deepnote_to_be_reexecuted": false,
    "source_hash": "959cfc08",
    "execution_start": 1631373131539,
    "execution_millis": 23,
    "output_cleared": true,
    "deepnote_cell_type": "code"
   },
   "source": "pd.get_dummies(df['key'])",
   "execution_count": null,
   "outputs": []
  },
  {
   "cell_type": "code",
   "metadata": {
    "tags": [],
    "cell_id": "00090-92cf88a2-9092-403e-aa2b-fb74adcb6298",
    "deepnote_to_be_reexecuted": false,
    "source_hash": "4da0a45e",
    "execution_start": 1631373162346,
    "execution_millis": 13,
    "output_cleared": true,
    "deepnote_cell_type": "code"
   },
   "source": "bankData.education",
   "execution_count": null,
   "outputs": []
  },
  {
   "cell_type": "code",
   "metadata": {
    "cell_id": "00085-85512a0f-f952-435d-af88-9402078c1034",
    "deepnote_to_be_reexecuted": false,
    "source_hash": "158728fb",
    "execution_start": 1631373167911,
    "execution_millis": 59,
    "output_cleared": true,
    "deepnote_cell_type": "code"
   },
   "source": "pd.get_dummies(bankData, columns=['education']).head()",
   "execution_count": null,
   "outputs": []
  },
  {
   "cell_type": "markdown",
   "source": "## In-Class Exercise\n\nDo the assignment. Open \"Exercise-Pandas.ipynb\"",
   "metadata": {
    "tags": [],
    "cell_id": "00092-10e1d180-f41f-4ebe-a60e-fe7e222e30de",
    "deepnote_cell_type": "markdown"
   }
  },
  {
   "cell_type": "markdown",
   "source": "<a style='text-decoration:none;line-height:16px;display:flex;color:#5B5B62;padding:10px;justify-content:end;' href='https://deepnote.com?utm_source=created-in-deepnote-cell&projectId=502b580f-b0e4-46dc-b16c-7611c93ee1aa' target=\"_blank\">\n<img alt='Created in deepnote.com' style='display:inline;max-height:16px;margin:0px;margin-right:7.5px;' src='data:image/svg+xml;base64,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' > </img>\nCreated in <span style='font-weight:600;margin-left:4px;'>Deepnote</span></a>",
   "metadata": {
    "tags": [],
    "created_in_deepnote_cell": true,
    "deepnote_cell_type": "markdown"
   }
  }
 ],
 "nbformat": 4,
 "nbformat_minor": 2,
 "metadata": {
  "kernelspec": {
   "display_name": "Python 3",
   "language": "python",
   "name": "python3"
  },
  "language_info": {
   "codemirror_mode": {
    "name": "ipython",
    "version": 3
   },
   "file_extension": ".py",
   "mimetype": "text/x-python",
   "name": "python",
   "nbconvert_exporter": "python",
   "pygments_lexer": "ipython3",
   "version": "3.6.5"
  },
  "deepnote_notebook_id": "3f90749f-e5e0-4c47-9647-04ea73f95ca5",
  "deepnote": {},
  "deepnote_execution_queue": []
 }
}