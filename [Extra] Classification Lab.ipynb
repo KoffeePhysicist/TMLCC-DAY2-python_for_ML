{
 "cells": [
  {
   "cell_type": "markdown",
   "source": "# Essential Scientific Libraries\n\nโดย ดร. อัญชลิสา แต้ตระกูล <br>\nภาควิชาวิศวกรรมคอมพิวเตอร์ คณะวิศวกรรมศาสตร์ มหาวิทยาลัยเทคโนโลยีพระจอมเกล้าธนบุรี <br>\nE-mail: unchalisa.tae@mail.kmutt.ac.th\n\nTA #1: ธนกฤต คล้ายแก้ว (เอ้)<br>\nTA #2: ธนกฤต ผังวิวัฒน์ (พั้นช์)",
   "metadata": {
    "tags": [],
    "cell_id": "00000-0459f35c-a09a-4195-95d7-72aa36b51c40",
    "deepnote_cell_type": "markdown"
   }
  },
  {
   "cell_type": "markdown",
   "source": "# Classification Lab",
   "metadata": {
    "cell_id": "00000-86972704-d254-47d6-80de-a97d4424b14f",
    "deepnote_cell_type": "markdown"
   }
  },
  {
   "cell_type": "markdown",
   "source": "### Part 1: Load  data\n\nImport \"bank-data.csv\"",
   "metadata": {
    "cell_id": "00001-0cc5cfc7-d6c8-4bcf-b790-fdac7322b708",
    "deepnote_cell_type": "markdown"
   }
  },
  {
   "cell_type": "code",
   "metadata": {
    "cell_id": "00002-bb7c2701-e5b9-4258-9b0e-22e1f553e91a",
    "deepnote_cell_type": "code"
   },
   "source": "import pandas as pd\nbankData = pd.read_csv('bank-data.csv', sep = ';')\nbankData.head()",
   "outputs": [],
   "execution_count": null
  },
  {
   "cell_type": "markdown",
   "source": "### Part 2: Preprocess data\n\nPreprocess the dataset as you have done before",
   "metadata": {
    "cell_id": "00003-bbc5e228-122e-43bd-99dc-6385f920168b",
    "deepnote_cell_type": "markdown"
   }
  },
  {
   "cell_type": "code",
   "metadata": {
    "cell_id": "00004-011fac36-4539-4673-b308-8c45cb6c6b39",
    "deepnote_cell_type": "code"
   },
   "source": "bankData.shape",
   "outputs": [],
   "execution_count": null
  },
  {
   "cell_type": "markdown",
   "source": "#### 2.1 Binary encoding\n\nUse LabelEncoder to encode the following columns:\n- y\n- default\n- housing\n- loan",
   "metadata": {
    "cell_id": "00005-f52940e5-319f-477c-9802-ed56eb2fddaf",
    "deepnote_cell_type": "markdown"
   }
  },
  {
   "cell_type": "code",
   "metadata": {
    "cell_id": "00006-d099027e-dc62-47c0-b0b9-f3e2f5d5762c",
    "deepnote_cell_type": "code"
   },
   "source": "from sklearn.preprocessing import LabelEncoder\nle = LabelEncoder()\n\n#example\nbankData['y'] = le.fit_transform(bankData['y'])\nbankData.head()",
   "outputs": [],
   "execution_count": null
  },
  {
   "cell_type": "code",
   "metadata": {
    "cell_id": "00007-903ef23f-3171-4d50-9bb5-3cc593b8234a",
    "deepnote_cell_type": "code"
   },
   "source": "#Encode the remaining columns\n\n\n\n\nbankData.head()",
   "outputs": [],
   "execution_count": null
  },
  {
   "cell_type": "markdown",
   "source": "#### 2.2 Convert categorical variables into dummy columns\n\n(1) Use pd.get_dummies to convert the following categorical variales into dummy columns\n- job\n- maritial\n- education\n- contact\n- month\n- poutcome\n\n(2) Drop columns that have been converted",
   "metadata": {
    "cell_id": "00008-279fa609-a742-4602-ba63-60159dfb2367",
    "deepnote_cell_type": "markdown"
   }
  },
  {
   "cell_type": "code",
   "metadata": {
    "cell_id": "00009-ce0ede82-8531-4c0d-bb5f-add49a029065",
    "deepnote_cell_type": "code"
   },
   "source": "#example\nbankData = pd.concat([bankData,pd.get_dummies(bankData['job'],prefix='job')],axis=1)\nbankData = bankData.drop(columns=['job'])\nbankData.head()",
   "outputs": [],
   "execution_count": null
  },
  {
   "cell_type": "code",
   "metadata": {
    "cell_id": "00010-d6c8fcda-3930-4983-91bc-74c04f85ae01",
    "deepnote_cell_type": "code"
   },
   "source": "#convert the remaining categorical variables\n\n\n\n\nbankData = bankData.drop(columns=['marital', 'education', 'contact', 'month', 'poutcome'])",
   "outputs": [],
   "execution_count": null
  },
  {
   "cell_type": "code",
   "metadata": {
    "cell_id": "00011-1acb3a5c-1094-4ff3-b20a-afe5661934a3",
    "deepnote_cell_type": "code"
   },
   "source": "bankData.info()",
   "outputs": [],
   "execution_count": null
  },
  {
   "cell_type": "markdown",
   "source": "#### 2.3 Train/Test separation\n\nPerform hold-out method\n- 60% training set\n- 40% testing set",
   "metadata": {
    "cell_id": "00012-9c00b177-b941-4dd8-9b52-ca861780e475",
    "deepnote_cell_type": "markdown"
   }
  },
  {
   "cell_type": "code",
   "metadata": {
    "cell_id": "00013-286ffaa0-ce24-4f36-ac7d-91ce4aff39b3",
    "deepnote_cell_type": "code"
   },
   "source": "bankData_train = bankData.sample(frac = 0.6)\nbankData_test = bankData.drop(bankData_train.index)\nprint(pd.crosstab(bankData_train['y'],columns = 'count'))\nprint(pd.crosstab(bankData_test['y'],columns = 'count'))",
   "outputs": [],
   "execution_count": null
  },
  {
   "cell_type": "markdown",
   "source": "##### X/y separation",
   "metadata": {
    "cell_id": "00014-724c7a38-968a-40c8-906c-7ca67681db33",
    "deepnote_cell_type": "markdown"
   }
  },
  {
   "cell_type": "code",
   "metadata": {
    "cell_id": "00015-1ee0f4a3-e0ea-4721-beec-8c14ea225597",
    "deepnote_cell_type": "code"
   },
   "source": "bankData_train_y = bankData_train['y']\nbankData_train_X = bankData_train.copy()\ndel bankData_train_X['y']\n\nbankData_test_y = bankData_test['y']\nbankData_test_X = bankData_test.copy()\ndel bankData_test_X['y']",
   "outputs": [],
   "execution_count": null
  },
  {
   "cell_type": "markdown",
   "source": "## Decision Tree\n\n### Part 3: Train a model",
   "metadata": {
    "cell_id": "00016-cce0f842-c467-408f-beaa-5651414e5508",
    "deepnote_cell_type": "markdown"
   }
  },
  {
   "cell_type": "code",
   "metadata": {
    "cell_id": "00017-70c1da03-8802-47ba-819e-be6e3051d9ab",
    "deepnote_cell_type": "code"
   },
   "source": "from sklearn import tree\nclf = tree.DecisionTreeClassifier(min_samples_leaf=30, max_depth=5)\nclf = clf.fit(bankData_train_X, bankData_train_y)\nprint(clf)",
   "outputs": [],
   "execution_count": null
  },
  {
   "cell_type": "markdown",
   "source": "##### Tree Visualization\n\nYou MUST first install 'graphviz' in order to run the following code.",
   "metadata": {
    "cell_id": "00018-27ae4fd9-6910-4a13-ae89-2a35d6d71f7a",
    "deepnote_cell_type": "markdown"
   }
  },
  {
   "cell_type": "code",
   "metadata": {
    "cell_id": "00019-ddedc3af-6a88-4278-acd0-b5bd80cea290",
    "deepnote_cell_type": "code"
   },
   "source": "import graphviz\ndot_data = tree.export_graphviz(clf, out_file=None, \n                              feature_names=bankData_train_X.columns,\n                              class_names=['0','1'],\n                              filled=True, rounded=True,\n                              special_characters=True, rotate=True)\ngraph = graphviz.Source(dot_data)\ngraph.render('dtree_render')",
   "outputs": [],
   "execution_count": null
  },
  {
   "cell_type": "markdown",
   "source": "##### Variable importance",
   "metadata": {
    "cell_id": "00020-95ad2318-0055-4335-a187-98c4638e0ad2",
    "deepnote_cell_type": "markdown"
   }
  },
  {
   "cell_type": "code",
   "metadata": {
    "cell_id": "00021-ebfc593a-6f64-4ff4-9c2e-9aceeeced867",
    "deepnote_cell_type": "code"
   },
   "source": "tree_feature = pd.DataFrame({'feature':bankData_train_X.columns,\n                             'Score':clf.feature_importances_})\n\ntree_feature.sort_values(by = 'Score', ascending=False)",
   "outputs": [],
   "execution_count": null
  },
  {
   "cell_type": "markdown",
   "source": "##### Prediction",
   "metadata": {
    "cell_id": "00022-abb08810-78de-4eda-b06d-4a07e3e91b5f",
    "deepnote_cell_type": "markdown"
   }
  },
  {
   "cell_type": "code",
   "metadata": {
    "cell_id": "00023-d3f2ea53-31cc-45d3-b15f-ae33436f4b7b",
    "deepnote_cell_type": "code"
   },
   "source": "clf.predict(bankData_test_X)",
   "outputs": [],
   "execution_count": null
  },
  {
   "cell_type": "code",
   "metadata": {
    "cell_id": "00024-385048bf-2c3a-4035-b41f-317fa72bd95a",
    "deepnote_cell_type": "code"
   },
   "source": "clf.predict_proba(bankData_test_X)",
   "outputs": [],
   "execution_count": null
  },
  {
   "cell_type": "markdown",
   "source": "### Part 4: Model Evaluation\n\nEvaluation metrics\n- confusion metrix\n- accuracy\n- precision, recall, f1-score",
   "metadata": {
    "cell_id": "00025-8de2cbc3-5deb-4318-8a9c-ee0fbdcaea8b",
    "deepnote_cell_type": "markdown"
   }
  },
  {
   "cell_type": "code",
   "metadata": {
    "cell_id": "00026-58ad65c3-8f4e-4b86-abc6-f96e663b19f5",
    "deepnote_cell_type": "code"
   },
   "source": "#confusion metrix\nres = clf.predict(bankData_test_X)\npd.crosstab(bankData_test_y, res)",
   "outputs": [],
   "execution_count": null
  },
  {
   "cell_type": "code",
   "metadata": {
    "cell_id": "00027-f8b16b42-c905-4d0c-82d9-998784437449",
    "deepnote_cell_type": "code"
   },
   "source": "from sklearn.metrics import classification_report\nfrom sklearn.metrics import accuracy_score\n\nprint(\"Accuracy:\\t %.3f\" %accuracy_score(bankData_test_y, res))\nprint(classification_report(bankData_test_y, res))",
   "outputs": [],
   "execution_count": null
  },
  {
   "cell_type": "markdown",
   "source": "### Part 5: Model tuning\n\n#### Note:\n\nAfter building the decision tree classifier, try answering the following questions.\n\n1. What is the Accuracy Score?\n2. If you change your preprosessing method, can you improve the model?\n3. If you change your parameters setting, can you improve the model?\n\n##### Pruning Parameters\n- max_leaf_nodes\n    - Reduce the number of leaf nodes\n- min_samples_leaf\n    - Restrict the size of sample leaf\n    - Minimum sample size in terminal nodes can be fixed to 30, 100, 300 or 5% of total\n- max_depth\n    - Reduce the depth of the tree to build a generalized tree\n    - Set the depth of the tree to 3, 5, 10 depending after verification on test data",
   "metadata": {
    "cell_id": "00028-fcb30442-203b-42ab-8ed6-803d4df053dd",
    "deepnote_cell_type": "markdown"
   }
  },
  {
   "cell_type": "code",
   "metadata": {
    "cell_id": "00029-b9fee70c-f40e-472a-acd8-f4261ebd9b18",
    "deepnote_cell_type": "code"
   },
   "source": "",
   "outputs": [],
   "execution_count": null
  },
  {
   "cell_type": "code",
   "metadata": {
    "cell_id": "00030-9fba1d4e-6209-4352-aa55-c6c9d6a3c03d",
    "deepnote_cell_type": "code"
   },
   "source": "",
   "outputs": [],
   "execution_count": null
  },
  {
   "cell_type": "code",
   "metadata": {
    "cell_id": "00031-69e916d4-ff18-42af-a859-b6c3cd0748f0",
    "deepnote_cell_type": "code"
   },
   "source": "",
   "outputs": [],
   "execution_count": null
  },
  {
   "cell_type": "code",
   "metadata": {
    "cell_id": "00032-6c7568f8-d625-4bcd-8380-49f4e283f172",
    "deepnote_cell_type": "code"
   },
   "source": "",
   "outputs": [],
   "execution_count": null
  },
  {
   "cell_type": "code",
   "metadata": {
    "cell_id": "00033-9a35b698-94cb-4d2e-83c4-5fd14e911633",
    "deepnote_cell_type": "code"
   },
   "source": "",
   "outputs": [],
   "execution_count": null
  },
  {
   "cell_type": "markdown",
   "source": "## Random Forest\n\n### Part 3: Train a model",
   "metadata": {
    "cell_id": "00034-08152b02-d59c-4dab-8cd8-df9af07ccc8f",
    "deepnote_cell_type": "markdown"
   }
  },
  {
   "cell_type": "code",
   "metadata": {
    "cell_id": "00035-e2c70b7d-c74b-4f25-81cd-1ca0c97fb61a",
    "deepnote_cell_type": "code"
   },
   "source": "from sklearn.ensemble import RandomForestClassifier\n\nclf_random = RandomForestClassifier(random_state=0)\nclf_random = clf_random.fit(bankData_train_X, bankData_train_y)\n\nprint(clf_random)",
   "outputs": [],
   "execution_count": null
  },
  {
   "cell_type": "markdown",
   "source": "##### Variable importance",
   "metadata": {
    "cell_id": "00036-7ab5876f-ccef-4c33-bd89-d5599cd4bb88",
    "deepnote_cell_type": "markdown"
   }
  },
  {
   "cell_type": "code",
   "metadata": {
    "cell_id": "00037-8ae3c181-c1ca-473c-8de0-455b9518c2f5",
    "deepnote_cell_type": "code"
   },
   "source": "",
   "outputs": [],
   "execution_count": null
  },
  {
   "cell_type": "markdown",
   "source": "### Part 4: Model Evaluation\n\n##### Prediction",
   "metadata": {
    "cell_id": "00038-032a71b0-84f3-41c1-8f25-6f28b2d2a869",
    "deepnote_cell_type": "markdown"
   }
  },
  {
   "cell_type": "code",
   "metadata": {
    "cell_id": "00039-3b2d8195-ddcd-4872-a57b-a08e125446f4",
    "deepnote_cell_type": "code"
   },
   "source": "",
   "outputs": [],
   "execution_count": null
  },
  {
   "cell_type": "markdown",
   "source": "Evaluation metrics\n- confusion metrix\n- accuracy\n- precision, recall, f1-score",
   "metadata": {
    "cell_id": "00040-d88e8996-197c-4d03-8a86-f70578f80abc",
    "deepnote_cell_type": "markdown"
   }
  },
  {
   "cell_type": "code",
   "metadata": {
    "cell_id": "00041-edba8eac-7cfb-4867-a503-2536cf63c230",
    "deepnote_cell_type": "code"
   },
   "source": "",
   "outputs": [],
   "execution_count": null
  },
  {
   "cell_type": "markdown",
   "source": "### Part 5: Model tuning\n\n#### Note:\n\nAfter building the classifier, try answering the following questions.\n\n1. What is the Accuracy Score?\n2. If you change your preprosessing method, can you improve the model?\n3. If you change your parameters setting, can you improve the model?\n\n##### Tuning Parameters\n- max_depth\n- max_features\n- max_leaf_nodes",
   "metadata": {
    "cell_id": "00042-bd427508-d743-4ee8-a257-596651e00667",
    "deepnote_cell_type": "markdown"
   }
  },
  {
   "cell_type": "code",
   "metadata": {
    "cell_id": "00043-1cb74ffd-1a5b-44d8-9eff-a8ab5abc937c",
    "deepnote_cell_type": "code"
   },
   "source": "",
   "outputs": [],
   "execution_count": null
  },
  {
   "cell_type": "code",
   "metadata": {
    "cell_id": "00044-c34d07fc-ea7f-46e3-927d-4882e0d99b84",
    "deepnote_cell_type": "code"
   },
   "source": "",
   "outputs": [],
   "execution_count": null
  },
  {
   "cell_type": "code",
   "metadata": {
    "cell_id": "00045-4a6f059c-8681-44a1-b97c-f371587e956f",
    "deepnote_cell_type": "code"
   },
   "source": "",
   "outputs": [],
   "execution_count": null
  },
  {
   "cell_type": "code",
   "metadata": {
    "cell_id": "00046-f213d593-cfb8-46f2-aeed-b2dc8f96ab6d",
    "deepnote_cell_type": "code"
   },
   "source": "",
   "outputs": [],
   "execution_count": null
  },
  {
   "cell_type": "code",
   "metadata": {
    "cell_id": "00047-d98f34bb-9811-4374-9b17-097aeab36c78",
    "deepnote_cell_type": "code"
   },
   "source": "",
   "outputs": [],
   "execution_count": null
  },
  {
   "cell_type": "markdown",
   "source": "## kNN",
   "metadata": {
    "cell_id": "00048-3ed3f7cf-c81e-4fca-a167-dfe447e3212d",
    "deepnote_cell_type": "markdown"
   }
  },
  {
   "cell_type": "markdown",
   "source": "### Part 3: Data processing\n\n#### 1. Distances",
   "metadata": {
    "cell_id": "00049-7060976d-0a58-4d0b-bcf3-0aa86c5537b3",
    "deepnote_cell_type": "markdown"
   }
  },
  {
   "cell_type": "code",
   "metadata": {
    "cell_id": "00050-ca29822f-c806-42e8-aa6e-9bd1cc3f71c6",
    "deepnote_cell_type": "code"
   },
   "source": "# Euclidean distance is suitable for most of numeric data\neuclidean_distances(bankData[0:3])",
   "outputs": [],
   "execution_count": null
  },
  {
   "cell_type": "code",
   "metadata": {
    "cell_id": "00051-afc7c0e6-c3b2-4feb-a048-e6c31c91694d",
    "deepnote_cell_type": "code"
   },
   "source": "# Manhattan distance is less sensitive to outlier\nfrom sklearn.metrics.pairwise import manhattan_distances\nmanhattan_distances(bankData[0:3])",
   "outputs": [],
   "execution_count": null
  },
  {
   "cell_type": "code",
   "metadata": {
    "cell_id": "00052-e81401c0-c3aa-43c3-b027-541c1f83218a",
    "deepnote_cell_type": "code"
   },
   "source": "# Distance with scaling data\nfrom sklearn.preprocessing import MinMaxScaler\nmms = MinMaxScaler()\n\nbankData_scaled = pd.DataFrame(\n                    mms.fit_transform(bankData),\n                    columns=bankData.columns)\n\neuclidean_distances(bankData_scaled[0:3])",
   "outputs": [],
   "execution_count": null
  },
  {
   "cell_type": "markdown",
   "source": "#### 2. Look-alike",
   "metadata": {
    "cell_id": "00053-13b85f21-dca3-4c0e-8389-b2afff18b2e0",
    "deepnote_cell_type": "markdown"
   }
  },
  {
   "cell_type": "code",
   "metadata": {
    "cell_id": "00054-7675fa2e-df97-4042-a958-0abc182a6770",
    "deepnote_cell_type": "code"
   },
   "source": "d = euclidean_distances(bankData_scaled,\n                        bankData_scaled[0:1])\n\nresult = bankData\nresult['d'] = d\nresult.sort_values(by='d')",
   "outputs": [],
   "execution_count": null
  },
  {
   "cell_type": "markdown",
   "source": "### Part 3: Train a model: kNN",
   "metadata": {
    "cell_id": "00055-eb56ca59-4442-4b88-bb75-d71032e6e554",
    "deepnote_cell_type": "markdown"
   }
  },
  {
   "cell_type": "code",
   "metadata": {
    "cell_id": "00056-0d96cc0f-b37b-45bb-974c-c36892c55abe",
    "deepnote_cell_type": "code"
   },
   "source": "from sklearn.neighbors import KNeighborsClassifier\nclf = KNeighborsClassifier(n_neighbors=5,\n                           metric='euclidean',\n                           n_jobs=-1)\nclf.fit(X_train,y_train)",
   "outputs": [],
   "execution_count": null
  },
  {
   "cell_type": "code",
   "metadata": {
    "cell_id": "00057-fbc054b6-a907-4c31-9615-087ea0325618",
    "deepnote_cell_type": "code"
   },
   "source": "res = clf.predict(X_test)\npd.crosstab(y_test, res)",
   "outputs": [],
   "execution_count": null
  },
  {
   "cell_type": "code",
   "metadata": {
    "cell_id": "00058-53585694-5027-4abe-9d1c-beda24d41328",
    "deepnote_cell_type": "code"
   },
   "source": "from sklearn.metrics import classification_report\nfrom sklearn.metrics import accuracy_score\n\nprint(\"Accuracy:\\t %.3f\" %accuracy_score(y_test, res))\nprint(classification_report(y_test, res))",
   "outputs": [],
   "execution_count": null
  },
  {
   "cell_type": "markdown",
   "source": "#### Weighted voting kNN",
   "metadata": {
    "cell_id": "00059-042f8c18-9c60-42c5-8957-c7ac07f5915d",
    "deepnote_cell_type": "markdown"
   }
  },
  {
   "cell_type": "code",
   "metadata": {
    "cell_id": "00060-5908fd95-0a44-46ed-a600-8bb9f6661d5b",
    "deepnote_cell_type": "code"
   },
   "source": "clf1 = KNeighborsClassifier(n_neighbors=5,\n                            metric='euclidean',\n                            n_jobs=-1,\n                            weights='distance')\nclf1.fit(X_train,y_train)",
   "outputs": [],
   "execution_count": null
  },
  {
   "cell_type": "code",
   "metadata": {
    "cell_id": "00061-b3224285-c84e-4e1d-b31d-778856d8a38d",
    "deepnote_cell_type": "code"
   },
   "source": "#test and evaluate\nres1 = clf1.predict(X_test)\npd.crosstab(y_test, res1)",
   "outputs": [],
   "execution_count": null
  },
  {
   "cell_type": "code",
   "metadata": {
    "cell_id": "00062-1d516853-bbed-4405-980d-ab1abc6601a5",
    "deepnote_cell_type": "code"
   },
   "source": "print(\"Accuracy:\\t %.3f\" %accuracy_score(y_test, res1))\nprint(classification_report(y_test, res1))",
   "outputs": [],
   "execution_count": null
  },
  {
   "cell_type": "markdown",
   "source": "<a style='text-decoration:none;line-height:16px;display:flex;color:#5B5B62;padding:10px;justify-content:end;' href='https://deepnote.com?utm_source=created-in-deepnote-cell&projectId=f820e82e-2881-4678-9c4d-8fe7d1290c83' target=\"_blank\">\n<img alt='Created in deepnote.com' style='display:inline;max-height:16px;margin:0px;margin-right:7.5px;' src='data:image/svg+xml;base64,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' > </img>\nCreated in <span style='font-weight:600;margin-left:4px;'>Deepnote</span></a>",
   "metadata": {
    "tags": [],
    "created_in_deepnote_cell": true,
    "deepnote_cell_type": "markdown"
   }
  }
 ],
 "nbformat": 4,
 "nbformat_minor": 2,
 "metadata": {
  "kernelspec": {
   "display_name": "Python 3",
   "language": "python",
   "name": "python3"
  },
  "language_info": {
   "codemirror_mode": {
    "name": "ipython",
    "version": 3
   },
   "file_extension": ".py",
   "mimetype": "text/x-python",
   "name": "python",
   "nbconvert_exporter": "python",
   "pygments_lexer": "ipython3",
   "version": "3.8.5"
  },
  "deepnote_notebook_id": "ec02705f-422f-4a13-b5b9-c351c1956800",
  "deepnote": {},
  "deepnote_execution_queue": []
 }
}