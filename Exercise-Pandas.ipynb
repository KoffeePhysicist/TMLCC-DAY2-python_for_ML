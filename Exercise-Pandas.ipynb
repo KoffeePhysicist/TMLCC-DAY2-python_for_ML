{
 "cells": [
  {
   "cell_type": "markdown",
   "source": "# Essential Scientific Libraries\n\nโดย ดร. อัญชลิสา แต้ตระกูล <br>\nภาควิชาวิศวกรรมคอมพิวเตอร์ คณะวิศวกรรมศาสตร์ มหาวิทยาลัยเทคโนโลยีพระจอมเกล้าธนบุรี <br>\nE-mail: unchalisa.tae@mail.kmutt.ac.th\n\nTA #1: ธนกฤต คล้ายแก้ว (เอ้)<br>\nTA #2: ธนกฤต ผังวิวัฒน์ (พั้นช์)",
   "metadata": {
    "tags": [],
    "cell_id": "00000-393686ad-8c3a-4b1d-b219-5f1321bb4db4",
    "deepnote_cell_type": "markdown"
   }
  },
  {
   "cell_type": "markdown",
   "source": "## Excercise Pandas",
   "metadata": {
    "tags": [],
    "cell_id": "00001-11815988-2252-4219-92c7-46f6ff547503",
    "deepnote_cell_type": "markdown"
   }
  },
  {
   "cell_type": "markdown",
   "source": "### Load dataset HR-Employee-Attrition.csv",
   "metadata": {
    "cell_id": "00000-76cf4c96-fc4b-4e67-9de4-e6191daef588",
    "deepnote_cell_type": "markdown"
   }
  },
  {
   "cell_type": "code",
   "metadata": {
    "cell_id": "00001-04eb5e33-c1e1-4a75-b06f-fd0b2da7c1cb",
    "deepnote_to_be_reexecuted": false,
    "source_hash": "25290c66",
    "execution_start": 1631373551842,
    "execution_millis": 243,
    "deepnote_cell_type": "code"
   },
   "source": "import pandas as pd\n\ndf = pd.read_csv('HR-Employee-Attrition.csv', header=0, sep='\\t')\ndf",
   "execution_count": null,
   "outputs": [
    {
     "output_type": "execute_result",
     "execution_count": 1,
     "data": {
      "application/vnd.deepnote.dataframe.v2+json": {
       "row_count": 1470,
       "column_count": 35,
       "columns": [
        {
         "name": "Age",
         "dtype": "int64",
         "stats": {
          "unique_count": 43,
          "nan_count": 0,
          "min": "18",
          "max": "60",
          "histogram": [
           {
            "bin_start": 18,
            "bin_end": 22.2,
            "count": 57
           },
           {
            "bin_start": 22.2,
            "bin_end": 26.4,
            "count": 105
           },
           {
            "bin_start": 26.4,
            "bin_end": 30.6,
            "count": 224
           },
           {
            "bin_start": 30.6,
            "bin_end": 34.8,
            "count": 265
           },
           {
            "bin_start": 34.8,
            "bin_end": 39,
            "count": 255
           },
           {
            "bin_start": 39,
            "bin_end": 43.2,
            "count": 217
           },
           {
            "bin_start": 43.2,
            "bin_end": 47.400000000000006,
            "count": 131
           },
           {
            "bin_start": 47.400000000000006,
            "bin_end": 51.6,
            "count": 92
           },
           {
            "bin_start": 51.6,
            "bin_end": 55.800000000000004,
            "count": 77
           },
           {
            "bin_start": 55.800000000000004,
            "bin_end": 60,
            "count": 47
           }
          ]
         }
        },
        {
         "name": "Attrition",
         "dtype": "object",
         "stats": {
          "unique_count": 2,
          "nan_count": 0,
          "categories": [
           {
            "name": "No",
            "count": 1233
           },
           {
            "name": "Yes",
            "count": 237
           }
          ]
         }
        },
        {
         "name": "BusinessTravel",
         "dtype": "object",
         "stats": {
          "unique_count": 3,
          "nan_count": 0,
          "categories": [
           {
            "name": "Travel_Rarely",
            "count": 1043
           },
           {
            "name": "Travel_Frequently",
            "count": 277
           },
           {
            "name": "Non-Travel",
            "count": 150
           }
          ]
         }
        },
        {
         "name": "DailyRate",
         "dtype": "int64",
         "stats": {
          "unique_count": 886,
          "nan_count": 0,
          "min": "102",
          "max": "1499",
          "histogram": [
           {
            "bin_start": 102,
            "bin_end": 241.7,
            "count": 147
           },
           {
            "bin_start": 241.7,
            "bin_end": 381.4,
            "count": 140
           },
           {
            "bin_start": 381.4,
            "bin_end": 521.0999999999999,
            "count": 137
           },
           {
            "bin_start": 521.0999999999999,
            "bin_end": 660.8,
            "count": 169
           },
           {
            "bin_start": 660.8,
            "bin_end": 800.5,
            "count": 140
           },
           {
            "bin_start": 800.5,
            "bin_end": 940.1999999999999,
            "count": 147
           },
           {
            "bin_start": 940.1999999999999,
            "bin_end": 1079.8999999999999,
            "count": 127
           },
           {
            "bin_start": 1079.8999999999999,
            "bin_end": 1219.6,
            "count": 162
           },
           {
            "bin_start": 1219.6,
            "bin_end": 1359.3,
            "count": 158
           },
           {
            "bin_start": 1359.3,
            "bin_end": 1499,
            "count": 143
           }
          ]
         }
        },
        {
         "name": "Department",
         "dtype": "object",
         "stats": {
          "unique_count": 3,
          "nan_count": 0,
          "categories": [
           {
            "name": "Research & Development",
            "count": 961
           },
           {
            "name": "Sales",
            "count": 446
           },
           {
            "name": "Human Resources",
            "count": 63
           }
          ]
         }
        },
        {
         "name": "DistanceFromHome",
         "dtype": "int64",
         "stats": {
          "unique_count": 29,
          "nan_count": 0,
          "min": "1",
          "max": "29",
          "histogram": [
           {
            "bin_start": 1,
            "bin_end": 3.8,
            "count": 503
           },
           {
            "bin_start": 3.8,
            "bin_end": 6.6,
            "count": 188
           },
           {
            "bin_start": 6.6,
            "bin_end": 9.399999999999999,
            "count": 249
           },
           {
            "bin_start": 9.399999999999999,
            "bin_end": 12.2,
            "count": 135
           },
           {
            "bin_start": 12.2,
            "bin_end": 15,
            "count": 40
           },
           {
            "bin_start": 15,
            "bin_end": 17.799999999999997,
            "count": 78
           },
           {
            "bin_start": 17.799999999999997,
            "bin_end": 20.599999999999998,
            "count": 73
           },
           {
            "bin_start": 20.599999999999998,
            "bin_end": 23.4,
            "count": 64
           },
           {
            "bin_start": 23.4,
            "bin_end": 26.2,
            "count": 78
           },
           {
            "bin_start": 26.2,
            "bin_end": 29,
            "count": 62
           }
          ]
         }
        },
        {
         "name": "Education",
         "dtype": "int64",
         "stats": {
          "unique_count": 5,
          "nan_count": 0,
          "min": "1",
          "max": "5",
          "histogram": [
           {
            "bin_start": 1,
            "bin_end": 1.4,
            "count": 170
           },
           {
            "bin_start": 1.4,
            "bin_end": 1.8,
            "count": 0
           },
           {
            "bin_start": 1.8,
            "bin_end": 2.2,
            "count": 282
           },
           {
            "bin_start": 2.2,
            "bin_end": 2.6,
            "count": 0
           },
           {
            "bin_start": 2.6,
            "bin_end": 3,
            "count": 0
           },
           {
            "bin_start": 3,
            "bin_end": 3.4000000000000004,
            "count": 572
           },
           {
            "bin_start": 3.4000000000000004,
            "bin_end": 3.8000000000000003,
            "count": 0
           },
           {
            "bin_start": 3.8000000000000003,
            "bin_end": 4.2,
            "count": 398
           },
           {
            "bin_start": 4.2,
            "bin_end": 4.6,
            "count": 0
           },
           {
            "bin_start": 4.6,
            "bin_end": 5,
            "count": 48
           }
          ]
         }
        },
        {
         "name": "EducationField",
         "dtype": "object",
         "stats": {
          "unique_count": 6,
          "nan_count": 0,
          "categories": [
           {
            "name": "Life Sciences",
            "count": 606
           },
           {
            "name": "Medical",
            "count": 464
           },
           {
            "name": "4 others",
            "count": 400
           }
          ]
         }
        },
        {
         "name": "EmployeeCount",
         "dtype": "int64",
         "stats": {
          "unique_count": 1,
          "nan_count": 0,
          "min": "1",
          "max": "1",
          "histogram": [
           {
            "bin_start": 0.5,
            "bin_end": 0.6,
            "count": 0
           },
           {
            "bin_start": 0.6,
            "bin_end": 0.7,
            "count": 0
           },
           {
            "bin_start": 0.7,
            "bin_end": 0.8,
            "count": 0
           },
           {
            "bin_start": 0.8,
            "bin_end": 0.9,
            "count": 0
           },
           {
            "bin_start": 0.9,
            "bin_end": 1,
            "count": 0
           },
           {
            "bin_start": 1,
            "bin_end": 1.1,
            "count": 1470
           },
           {
            "bin_start": 1.1,
            "bin_end": 1.2000000000000002,
            "count": 0
           },
           {
            "bin_start": 1.2000000000000002,
            "bin_end": 1.3,
            "count": 0
           },
           {
            "bin_start": 1.3,
            "bin_end": 1.4,
            "count": 0
           },
           {
            "bin_start": 1.4,
            "bin_end": 1.5,
            "count": 0
           }
          ]
         }
        },
        {
         "name": "EmployeeNumber",
         "dtype": "int64",
         "stats": {
          "unique_count": 1470,
          "nan_count": 0,
          "min": "1",
          "max": "2068",
          "histogram": [
           {
            "bin_start": 1,
            "bin_end": 207.7,
            "count": 155
           },
           {
            "bin_start": 207.7,
            "bin_end": 414.4,
            "count": 148
           },
           {
            "bin_start": 414.4,
            "bin_end": 621.0999999999999,
            "count": 160
           },
           {
            "bin_start": 621.0999999999999,
            "bin_end": 827.8,
            "count": 135
           },
           {
            "bin_start": 827.8,
            "bin_end": 1034.5,
            "count": 148
           },
           {
            "bin_start": 1034.5,
            "bin_end": 1241.1999999999998,
            "count": 141
           },
           {
            "bin_start": 1241.1999999999998,
            "bin_end": 1447.8999999999999,
            "count": 141
           },
           {
            "bin_start": 1447.8999999999999,
            "bin_end": 1654.6,
            "count": 148
           },
           {
            "bin_start": 1654.6,
            "bin_end": 1861.3,
            "count": 150
           },
           {
            "bin_start": 1861.3,
            "bin_end": 2068,
            "count": 144
           }
          ]
         }
        },
        {
         "name": "EnvironmentSatisfaction",
         "dtype": "int64",
         "stats": {
          "unique_count": 4,
          "nan_count": 0,
          "min": "1",
          "max": "4",
          "histogram": [
           {
            "bin_start": 1,
            "bin_end": 1.3,
            "count": 284
           },
           {
            "bin_start": 1.3,
            "bin_end": 1.6,
            "count": 0
           },
           {
            "bin_start": 1.6,
            "bin_end": 1.9,
            "count": 0
           },
           {
            "bin_start": 1.9,
            "bin_end": 2.2,
            "count": 287
           },
           {
            "bin_start": 2.2,
            "bin_end": 2.5,
            "count": 0
           },
           {
            "bin_start": 2.5,
            "bin_end": 2.8,
            "count": 0
           },
           {
            "bin_start": 2.8,
            "bin_end": 3.1,
            "count": 453
           },
           {
            "bin_start": 3.1,
            "bin_end": 3.4,
            "count": 0
           },
           {
            "bin_start": 3.4,
            "bin_end": 3.6999999999999997,
            "count": 0
           },
           {
            "bin_start": 3.6999999999999997,
            "bin_end": 4,
            "count": 446
           }
          ]
         }
        },
        {
         "name": "Gender",
         "dtype": "object",
         "stats": {
          "unique_count": 2,
          "nan_count": 0,
          "categories": [
           {
            "name": "Male",
            "count": 882
           },
           {
            "name": "Female",
            "count": 588
           }
          ]
         }
        },
        {
         "name": "HourlyRate",
         "dtype": "int64",
         "stats": {
          "unique_count": 71,
          "nan_count": 0,
          "min": "30",
          "max": "100",
          "histogram": [
           {
            "bin_start": 30,
            "bin_end": 37,
            "count": 125
           },
           {
            "bin_start": 37,
            "bin_end": 44,
            "count": 139
           },
           {
            "bin_start": 44,
            "bin_end": 51,
            "count": 145
           },
           {
            "bin_start": 51,
            "bin_end": 58,
            "count": 157
           },
           {
            "bin_start": 58,
            "bin_end": 65,
            "count": 139
           },
           {
            "bin_start": 65,
            "bin_end": 72,
            "count": 130
           },
           {
            "bin_start": 72,
            "bin_end": 79,
            "count": 152
           },
           {
            "bin_start": 79,
            "bin_end": 86,
            "count": 161
           },
           {
            "bin_start": 86,
            "bin_end": 93,
            "count": 146
           },
           {
            "bin_start": 93,
            "bin_end": 100,
            "count": 176
           }
          ]
         }
        },
        {
         "name": "JobInvolvement",
         "dtype": "int64",
         "stats": {
          "unique_count": 4,
          "nan_count": 0,
          "min": "1",
          "max": "4",
          "histogram": [
           {
            "bin_start": 1,
            "bin_end": 1.3,
            "count": 83
           },
           {
            "bin_start": 1.3,
            "bin_end": 1.6,
            "count": 0
           },
           {
            "bin_start": 1.6,
            "bin_end": 1.9,
            "count": 0
           },
           {
            "bin_start": 1.9,
            "bin_end": 2.2,
            "count": 375
           },
           {
            "bin_start": 2.2,
            "bin_end": 2.5,
            "count": 0
           },
           {
            "bin_start": 2.5,
            "bin_end": 2.8,
            "count": 0
           },
           {
            "bin_start": 2.8,
            "bin_end": 3.1,
            "count": 868
           },
           {
            "bin_start": 3.1,
            "bin_end": 3.4,
            "count": 0
           },
           {
            "bin_start": 3.4,
            "bin_end": 3.6999999999999997,
            "count": 0
           },
           {
            "bin_start": 3.6999999999999997,
            "bin_end": 4,
            "count": 144
           }
          ]
         }
        },
        {
         "name": "JobLevel",
         "dtype": "int64",
         "stats": {
          "unique_count": 5,
          "nan_count": 0,
          "min": "1",
          "max": "5",
          "histogram": [
           {
            "bin_start": 1,
            "bin_end": 1.4,
            "count": 543
           },
           {
            "bin_start": 1.4,
            "bin_end": 1.8,
            "count": 0
           },
           {
            "bin_start": 1.8,
            "bin_end": 2.2,
            "count": 534
           },
           {
            "bin_start": 2.2,
            "bin_end": 2.6,
            "count": 0
           },
           {
            "bin_start": 2.6,
            "bin_end": 3,
            "count": 0
           },
           {
            "bin_start": 3,
            "bin_end": 3.4000000000000004,
            "count": 218
           },
           {
            "bin_start": 3.4000000000000004,
            "bin_end": 3.8000000000000003,
            "count": 0
           },
           {
            "bin_start": 3.8000000000000003,
            "bin_end": 4.2,
            "count": 106
           },
           {
            "bin_start": 4.2,
            "bin_end": 4.6,
            "count": 0
           },
           {
            "bin_start": 4.6,
            "bin_end": 5,
            "count": 69
           }
          ]
         }
        },
        {
         "name": "JobRole",
         "dtype": "object",
         "stats": {
          "unique_count": 9,
          "nan_count": 0,
          "categories": [
           {
            "name": "Sales Executive",
            "count": 326
           },
           {
            "name": "Research Scientist",
            "count": 292
           },
           {
            "name": "7 others",
            "count": 852
           }
          ]
         }
        },
        {
         "name": "JobSatisfaction",
         "dtype": "int64",
         "stats": {
          "unique_count": 4,
          "nan_count": 0,
          "min": "1",
          "max": "4",
          "histogram": [
           {
            "bin_start": 1,
            "bin_end": 1.3,
            "count": 289
           },
           {
            "bin_start": 1.3,
            "bin_end": 1.6,
            "count": 0
           },
           {
            "bin_start": 1.6,
            "bin_end": 1.9,
            "count": 0
           },
           {
            "bin_start": 1.9,
            "bin_end": 2.2,
            "count": 280
           },
           {
            "bin_start": 2.2,
            "bin_end": 2.5,
            "count": 0
           },
           {
            "bin_start": 2.5,
            "bin_end": 2.8,
            "count": 0
           },
           {
            "bin_start": 2.8,
            "bin_end": 3.1,
            "count": 442
           },
           {
            "bin_start": 3.1,
            "bin_end": 3.4,
            "count": 0
           },
           {
            "bin_start": 3.4,
            "bin_end": 3.6999999999999997,
            "count": 0
           },
           {
            "bin_start": 3.6999999999999997,
            "bin_end": 4,
            "count": 459
           }
          ]
         }
        },
        {
         "name": "MaritalStatus",
         "dtype": "object",
         "stats": {
          "unique_count": 3,
          "nan_count": 0,
          "categories": [
           {
            "name": "Married",
            "count": 673
           },
           {
            "name": "Single",
            "count": 470
           },
           {
            "name": "Divorced",
            "count": 327
           }
          ]
         }
        },
        {
         "name": "MonthlyIncome",
         "dtype": "int64",
         "stats": {
          "unique_count": 1349,
          "nan_count": 0,
          "min": "1009",
          "max": "19999",
          "histogram": [
           {
            "bin_start": 1009,
            "bin_end": 2908,
            "count": 365
           },
           {
            "bin_start": 2908,
            "bin_end": 4807,
            "count": 349
           },
           {
            "bin_start": 4807,
            "bin_end": 6706,
            "count": 290
           },
           {
            "bin_start": 6706,
            "bin_end": 8605,
            "count": 109
           },
           {
            "bin_start": 8605,
            "bin_end": 10504,
            "count": 110
           },
           {
            "bin_start": 10504,
            "bin_end": 12403,
            "count": 56
           },
           {
            "bin_start": 12403,
            "bin_end": 14302,
            "count": 52
           },
           {
            "bin_start": 14302,
            "bin_end": 16201,
            "count": 18
           },
           {
            "bin_start": 16201,
            "bin_end": 18100,
            "count": 54
           },
           {
            "bin_start": 18100,
            "bin_end": 19999,
            "count": 67
           }
          ]
         }
        },
        {
         "name": "MonthlyRate",
         "dtype": "int64",
         "stats": {
          "unique_count": 1427,
          "nan_count": 0,
          "min": "2094",
          "max": "26999",
          "histogram": [
           {
            "bin_start": 2094,
            "bin_end": 4584.5,
            "count": 146
           },
           {
            "bin_start": 4584.5,
            "bin_end": 7075,
            "count": 160
           },
           {
            "bin_start": 7075,
            "bin_end": 9565.5,
            "count": 153
           },
           {
            "bin_start": 9565.5,
            "bin_end": 12056,
            "count": 147
           },
           {
            "bin_start": 12056,
            "bin_end": 14546.5,
            "count": 145
           },
           {
            "bin_start": 14546.5,
            "bin_end": 17037,
            "count": 145
           },
           {
            "bin_start": 17037,
            "bin_end": 19527.5,
            "count": 140
           },
           {
            "bin_start": 19527.5,
            "bin_end": 22018,
            "count": 156
           },
           {
            "bin_start": 22018,
            "bin_end": 24508.5,
            "count": 159
           },
           {
            "bin_start": 24508.5,
            "bin_end": 26999,
            "count": 119
           }
          ]
         }
        },
        {
         "name": "NumCompaniesWorked",
         "dtype": "int64",
         "stats": {
          "unique_count": 10,
          "nan_count": 0,
          "min": "0",
          "max": "9",
          "histogram": [
           {
            "bin_start": 0,
            "bin_end": 0.9,
            "count": 197
           },
           {
            "bin_start": 0.9,
            "bin_end": 1.8,
            "count": 521
           },
           {
            "bin_start": 1.8,
            "bin_end": 2.7,
            "count": 146
           },
           {
            "bin_start": 2.7,
            "bin_end": 3.6,
            "count": 159
           },
           {
            "bin_start": 3.6,
            "bin_end": 4.5,
            "count": 139
           },
           {
            "bin_start": 4.5,
            "bin_end": 5.4,
            "count": 63
           },
           {
            "bin_start": 5.4,
            "bin_end": 6.3,
            "count": 70
           },
           {
            "bin_start": 6.3,
            "bin_end": 7.2,
            "count": 74
           },
           {
            "bin_start": 7.2,
            "bin_end": 8.1,
            "count": 49
           },
           {
            "bin_start": 8.1,
            "bin_end": 9,
            "count": 52
           }
          ]
         }
        },
        {
         "name": "Over18",
         "dtype": "object",
         "stats": {
          "unique_count": 1,
          "nan_count": 0,
          "categories": [
           {
            "name": "Y",
            "count": 1470
           }
          ]
         }
        },
        {
         "name": "OverTime",
         "dtype": "object",
         "stats": {
          "unique_count": 2,
          "nan_count": 0,
          "categories": [
           {
            "name": "No",
            "count": 1054
           },
           {
            "name": "Yes",
            "count": 416
           }
          ]
         }
        },
        {
         "name": "PercentSalaryHike",
         "dtype": "int64",
         "stats": {
          "unique_count": 15,
          "nan_count": 0,
          "min": "11",
          "max": "25",
          "histogram": [
           {
            "bin_start": 11,
            "bin_end": 12.4,
            "count": 408
           },
           {
            "bin_start": 12.4,
            "bin_end": 13.8,
            "count": 209
           },
           {
            "bin_start": 13.8,
            "bin_end": 15.2,
            "count": 302
           },
           {
            "bin_start": 15.2,
            "bin_end": 16.6,
            "count": 78
           },
           {
            "bin_start": 16.6,
            "bin_end": 18,
            "count": 82
           },
           {
            "bin_start": 18,
            "bin_end": 19.4,
            "count": 165
           },
           {
            "bin_start": 19.4,
            "bin_end": 20.799999999999997,
            "count": 55
           },
           {
            "bin_start": 20.799999999999997,
            "bin_end": 22.2,
            "count": 104
           },
           {
            "bin_start": 22.2,
            "bin_end": 23.6,
            "count": 28
           },
           {
            "bin_start": 23.6,
            "bin_end": 25,
            "count": 39
           }
          ]
         }
        },
        {
         "name": "PerformanceRating",
         "dtype": "int64",
         "stats": {
          "unique_count": 2,
          "nan_count": 0,
          "min": "3",
          "max": "4",
          "histogram": [
           {
            "bin_start": 3,
            "bin_end": 3.1,
            "count": 1244
           },
           {
            "bin_start": 3.1,
            "bin_end": 3.2,
            "count": 0
           },
           {
            "bin_start": 3.2,
            "bin_end": 3.3,
            "count": 0
           },
           {
            "bin_start": 3.3,
            "bin_end": 3.4,
            "count": 0
           },
           {
            "bin_start": 3.4,
            "bin_end": 3.5,
            "count": 0
           },
           {
            "bin_start": 3.5,
            "bin_end": 3.6,
            "count": 0
           },
           {
            "bin_start": 3.6,
            "bin_end": 3.7,
            "count": 0
           },
           {
            "bin_start": 3.7,
            "bin_end": 3.8,
            "count": 0
           },
           {
            "bin_start": 3.8,
            "bin_end": 3.9,
            "count": 0
           },
           {
            "bin_start": 3.9,
            "bin_end": 4,
            "count": 226
           }
          ]
         }
        },
        {
         "name": "RelationshipSatisfaction",
         "dtype": "int64",
         "stats": {
          "unique_count": 4,
          "nan_count": 0,
          "min": "1",
          "max": "4",
          "histogram": [
           {
            "bin_start": 1,
            "bin_end": 1.3,
            "count": 276
           },
           {
            "bin_start": 1.3,
            "bin_end": 1.6,
            "count": 0
           },
           {
            "bin_start": 1.6,
            "bin_end": 1.9,
            "count": 0
           },
           {
            "bin_start": 1.9,
            "bin_end": 2.2,
            "count": 303
           },
           {
            "bin_start": 2.2,
            "bin_end": 2.5,
            "count": 0
           },
           {
            "bin_start": 2.5,
            "bin_end": 2.8,
            "count": 0
           },
           {
            "bin_start": 2.8,
            "bin_end": 3.1,
            "count": 459
           },
           {
            "bin_start": 3.1,
            "bin_end": 3.4,
            "count": 0
           },
           {
            "bin_start": 3.4,
            "bin_end": 3.6999999999999997,
            "count": 0
           },
           {
            "bin_start": 3.6999999999999997,
            "bin_end": 4,
            "count": 432
           }
          ]
         }
        },
        {
         "name": "StandardHours",
         "dtype": "int64",
         "stats": {
          "unique_count": 1,
          "nan_count": 0,
          "min": "80",
          "max": "80",
          "histogram": [
           {
            "bin_start": 79.5,
            "bin_end": 79.6,
            "count": 0
           },
           {
            "bin_start": 79.6,
            "bin_end": 79.7,
            "count": 0
           },
           {
            "bin_start": 79.7,
            "bin_end": 79.8,
            "count": 0
           },
           {
            "bin_start": 79.8,
            "bin_end": 79.9,
            "count": 0
           },
           {
            "bin_start": 79.9,
            "bin_end": 80,
            "count": 0
           },
           {
            "bin_start": 80,
            "bin_end": 80.1,
            "count": 1470
           },
           {
            "bin_start": 80.1,
            "bin_end": 80.2,
            "count": 0
           },
           {
            "bin_start": 80.2,
            "bin_end": 80.3,
            "count": 0
           },
           {
            "bin_start": 80.3,
            "bin_end": 80.4,
            "count": 0
           },
           {
            "bin_start": 80.4,
            "bin_end": 80.5,
            "count": 0
           }
          ]
         }
        },
        {
         "name": "StockOptionLevel",
         "dtype": "int64",
         "stats": {
          "unique_count": 4,
          "nan_count": 0,
          "min": "0",
          "max": "3",
          "histogram": [
           {
            "bin_start": 0,
            "bin_end": 0.3,
            "count": 631
           },
           {
            "bin_start": 0.3,
            "bin_end": 0.6,
            "count": 0
           },
           {
            "bin_start": 0.6,
            "bin_end": 0.8999999999999999,
            "count": 0
           },
           {
            "bin_start": 0.8999999999999999,
            "bin_end": 1.2,
            "count": 596
           },
           {
            "bin_start": 1.2,
            "bin_end": 1.5,
            "count": 0
           },
           {
            "bin_start": 1.5,
            "bin_end": 1.7999999999999998,
            "count": 0
           },
           {
            "bin_start": 1.7999999999999998,
            "bin_end": 2.1,
            "count": 158
           },
           {
            "bin_start": 2.1,
            "bin_end": 2.4,
            "count": 0
           },
           {
            "bin_start": 2.4,
            "bin_end": 2.6999999999999997,
            "count": 0
           },
           {
            "bin_start": 2.6999999999999997,
            "bin_end": 3,
            "count": 85
           }
          ]
         }
        },
        {
         "name": "TotalWorkingYears",
         "dtype": "int64",
         "stats": {
          "unique_count": 40,
          "nan_count": 0,
          "min": "0",
          "max": "40",
          "histogram": [
           {
            "bin_start": 0,
            "bin_end": 4,
            "count": 165
           },
           {
            "bin_start": 4,
            "bin_end": 8,
            "count": 357
           },
           {
            "bin_start": 8,
            "bin_end": 12,
            "count": 437
           },
           {
            "bin_start": 12,
            "bin_end": 16,
            "count": 155
           },
           {
            "bin_start": 16,
            "bin_end": 20,
            "count": 119
           },
           {
            "bin_start": 20,
            "bin_end": 24,
            "count": 107
           },
           {
            "bin_start": 24,
            "bin_end": 28,
            "count": 53
           },
           {
            "bin_start": 28,
            "bin_end": 32,
            "count": 40
           },
           {
            "bin_start": 32,
            "bin_end": 36,
            "count": 24
           },
           {
            "bin_start": 36,
            "bin_end": 40,
            "count": 13
           }
          ]
         }
        },
        {
         "name": "TrainingTimesLastYear",
         "dtype": "int64",
         "stats": {
          "unique_count": 7,
          "nan_count": 0,
          "min": "0",
          "max": "6",
          "histogram": [
           {
            "bin_start": 0,
            "bin_end": 0.6,
            "count": 54
           },
           {
            "bin_start": 0.6,
            "bin_end": 1.2,
            "count": 71
           },
           {
            "bin_start": 1.2,
            "bin_end": 1.7999999999999998,
            "count": 0
           },
           {
            "bin_start": 1.7999999999999998,
            "bin_end": 2.4,
            "count": 547
           },
           {
            "bin_start": 2.4,
            "bin_end": 3,
            "count": 0
           },
           {
            "bin_start": 3,
            "bin_end": 3.5999999999999996,
            "count": 491
           },
           {
            "bin_start": 3.5999999999999996,
            "bin_end": 4.2,
            "count": 123
           },
           {
            "bin_start": 4.2,
            "bin_end": 4.8,
            "count": 0
           },
           {
            "bin_start": 4.8,
            "bin_end": 5.3999999999999995,
            "count": 119
           },
           {
            "bin_start": 5.3999999999999995,
            "bin_end": 6,
            "count": 65
           }
          ]
         }
        },
        {
         "name": "WorkLifeBalance",
         "dtype": "int64",
         "stats": {
          "unique_count": 4,
          "nan_count": 0,
          "min": "1",
          "max": "4",
          "histogram": [
           {
            "bin_start": 1,
            "bin_end": 1.3,
            "count": 80
           },
           {
            "bin_start": 1.3,
            "bin_end": 1.6,
            "count": 0
           },
           {
            "bin_start": 1.6,
            "bin_end": 1.9,
            "count": 0
           },
           {
            "bin_start": 1.9,
            "bin_end": 2.2,
            "count": 344
           },
           {
            "bin_start": 2.2,
            "bin_end": 2.5,
            "count": 0
           },
           {
            "bin_start": 2.5,
            "bin_end": 2.8,
            "count": 0
           },
           {
            "bin_start": 2.8,
            "bin_end": 3.1,
            "count": 893
           },
           {
            "bin_start": 3.1,
            "bin_end": 3.4,
            "count": 0
           },
           {
            "bin_start": 3.4,
            "bin_end": 3.6999999999999997,
            "count": 0
           },
           {
            "bin_start": 3.6999999999999997,
            "bin_end": 4,
            "count": 153
           }
          ]
         }
        },
        {
         "name": "YearsAtCompany",
         "dtype": "int64",
         "stats": {
          "unique_count": 37,
          "nan_count": 0,
          "min": "0",
          "max": "40",
          "histogram": [
           {
            "bin_start": 0,
            "bin_end": 4,
            "count": 470
           },
           {
            "bin_start": 4,
            "bin_end": 8,
            "count": 472
           },
           {
            "bin_start": 8,
            "bin_end": 12,
            "count": 314
           },
           {
            "bin_start": 12,
            "bin_end": 16,
            "count": 76
           },
           {
            "bin_start": 16,
            "bin_end": 20,
            "count": 45
           },
           {
            "bin_start": 20,
            "bin_end": 24,
            "count": 58
           },
           {
            "bin_start": 24,
            "bin_end": 28,
            "count": 16
           },
           {
            "bin_start": 28,
            "bin_end": 32,
            "count": 6
           },
           {
            "bin_start": 32,
            "bin_end": 36,
            "count": 9
           },
           {
            "bin_start": 36,
            "bin_end": 40,
            "count": 4
           }
          ]
         }
        },
        {
         "name": "YearsInCurrentRole",
         "dtype": "int64",
         "stats": {
          "unique_count": 19,
          "nan_count": 0,
          "min": "0",
          "max": "18",
          "histogram": [
           {
            "bin_start": 0,
            "bin_end": 1.8,
            "count": 301
           },
           {
            "bin_start": 1.8,
            "bin_end": 3.6,
            "count": 507
           },
           {
            "bin_start": 3.6,
            "bin_end": 5.4,
            "count": 140
           },
           {
            "bin_start": 5.4,
            "bin_end": 7.2,
            "count": 259
           },
           {
            "bin_start": 7.2,
            "bin_end": 9,
            "count": 89
           },
           {
            "bin_start": 9,
            "bin_end": 10.8,
            "count": 96
           },
           {
            "bin_start": 10.8,
            "bin_end": 12.6,
            "count": 32
           },
           {
            "bin_start": 12.6,
            "bin_end": 14.4,
            "count": 25
           },
           {
            "bin_start": 14.4,
            "bin_end": 16.2,
            "count": 15
           },
           {
            "bin_start": 16.2,
            "bin_end": 18,
            "count": 6
           }
          ]
         }
        },
        {
         "name": "YearsSinceLastPromotion",
         "dtype": "int64",
         "stats": {
          "unique_count": 16,
          "nan_count": 0,
          "min": "0",
          "max": "15",
          "histogram": [
           {
            "bin_start": 0,
            "bin_end": 1.5,
            "count": 938
           },
           {
            "bin_start": 1.5,
            "bin_end": 3,
            "count": 159
           },
           {
            "bin_start": 3,
            "bin_end": 4.5,
            "count": 113
           },
           {
            "bin_start": 4.5,
            "bin_end": 6,
            "count": 45
           },
           {
            "bin_start": 6,
            "bin_end": 7.5,
            "count": 108
           },
           {
            "bin_start": 7.5,
            "bin_end": 9,
            "count": 18
           },
           {
            "bin_start": 9,
            "bin_end": 10.5,
            "count": 23
           },
           {
            "bin_start": 10.5,
            "bin_end": 12,
            "count": 24
           },
           {
            "bin_start": 12,
            "bin_end": 13.5,
            "count": 20
           },
           {
            "bin_start": 13.5,
            "bin_end": 15,
            "count": 22
           }
          ]
         }
        },
        {
         "name": "YearsWithCurrManager",
         "dtype": "int64",
         "stats": {
          "unique_count": 18,
          "nan_count": 0,
          "min": "0",
          "max": "17",
          "histogram": [
           {
            "bin_start": 0,
            "bin_end": 1.7,
            "count": 339
           },
           {
            "bin_start": 1.7,
            "bin_end": 3.4,
            "count": 486
           },
           {
            "bin_start": 3.4,
            "bin_end": 5.1,
            "count": 129
           },
           {
            "bin_start": 5.1,
            "bin_end": 6.8,
            "count": 29
           },
           {
            "bin_start": 6.8,
            "bin_end": 8.5,
            "count": 323
           },
           {
            "bin_start": 8.5,
            "bin_end": 10.2,
            "count": 91
           },
           {
            "bin_start": 10.2,
            "bin_end": 11.9,
            "count": 22
           },
           {
            "bin_start": 11.9,
            "bin_end": 13.6,
            "count": 32
           },
           {
            "bin_start": 13.6,
            "bin_end": 15.299999999999999,
            "count": 10
           },
           {
            "bin_start": 15.299999999999999,
            "bin_end": 17,
            "count": 9
           }
          ]
         }
        },
        {
         "name": "_deepnote_index_column",
         "dtype": "int64"
        }
       ],
       "rows_top": [
        {
         "Age": 41,
         "Attrition": "Yes",
         "BusinessTravel": "Travel_Rarely",
         "DailyRate": 1102,
         "Department": "Sales",
         "DistanceFromHome": 1,
         "Education": 2,
         "EducationField": "Life Sciences",
         "EmployeeCount": 1,
         "EmployeeNumber": 1,
         "EnvironmentSatisfaction": 2,
         "Gender": "Female",
         "HourlyRate": 94,
         "JobInvolvement": 3,
         "JobLevel": 2,
         "JobRole": "Sales Executive",
         "JobSatisfaction": 4,
         "MaritalStatus": "Single",
         "MonthlyIncome": 5993,
         "MonthlyRate": 19479,
         "NumCompaniesWorked": 8,
         "Over18": "Y",
         "OverTime": "Yes",
         "PercentSalaryHike": 11,
         "PerformanceRating": 3,
         "RelationshipSatisfaction": 1,
         "StandardHours": 80,
         "StockOptionLevel": 0,
         "TotalWorkingYears": 8,
         "TrainingTimesLastYear": 0,
         "WorkLifeBalance": 1,
         "YearsAtCompany": 6,
         "YearsInCurrentRole": 4,
         "YearsSinceLastPromotion": 0,
         "YearsWithCurrManager": 5,
         "_deepnote_index_column": 0
        },
        {
         "Age": 49,
         "Attrition": "No",
         "BusinessTravel": "Travel_Frequently",
         "DailyRate": 279,
         "Department": "Research & Development",
         "DistanceFromHome": 8,
         "Education": 1,
         "EducationField": "Life Sciences",
         "EmployeeCount": 1,
         "EmployeeNumber": 2,
         "EnvironmentSatisfaction": 3,
         "Gender": "Male",
         "HourlyRate": 61,
         "JobInvolvement": 2,
         "JobLevel": 2,
         "JobRole": "Research Scientist",
         "JobSatisfaction": 2,
         "MaritalStatus": "Married",
         "MonthlyIncome": 5130,
         "MonthlyRate": 24907,
         "NumCompaniesWorked": 1,
         "Over18": "Y",
         "OverTime": "No",
         "PercentSalaryHike": 23,
         "PerformanceRating": 4,
         "RelationshipSatisfaction": 4,
         "StandardHours": 80,
         "StockOptionLevel": 1,
         "TotalWorkingYears": 10,
         "TrainingTimesLastYear": 3,
         "WorkLifeBalance": 3,
         "YearsAtCompany": 10,
         "YearsInCurrentRole": 7,
         "YearsSinceLastPromotion": 1,
         "YearsWithCurrManager": 7,
         "_deepnote_index_column": 1
        },
        {
         "Age": 37,
         "Attrition": "Yes",
         "BusinessTravel": "Travel_Rarely",
         "DailyRate": 1373,
         "Department": "Research & Development",
         "DistanceFromHome": 2,
         "Education": 2,
         "EducationField": "Other",
         "EmployeeCount": 1,
         "EmployeeNumber": 4,
         "EnvironmentSatisfaction": 4,
         "Gender": "Male",
         "HourlyRate": 92,
         "JobInvolvement": 2,
         "JobLevel": 1,
         "JobRole": "Laboratory Technician",
         "JobSatisfaction": 3,
         "MaritalStatus": "Single",
         "MonthlyIncome": 2090,
         "MonthlyRate": 2396,
         "NumCompaniesWorked": 6,
         "Over18": "Y",
         "OverTime": "Yes",
         "PercentSalaryHike": 15,
         "PerformanceRating": 3,
         "RelationshipSatisfaction": 2,
         "StandardHours": 80,
         "StockOptionLevel": 0,
         "TotalWorkingYears": 7,
         "TrainingTimesLastYear": 3,
         "WorkLifeBalance": 3,
         "YearsAtCompany": 0,
         "YearsInCurrentRole": 0,
         "YearsSinceLastPromotion": 0,
         "YearsWithCurrManager": 0,
         "_deepnote_index_column": 2
        },
        {
         "Age": 33,
         "Attrition": "No",
         "BusinessTravel": "Travel_Frequently",
         "DailyRate": 1392,
         "Department": "Research & Development",
         "DistanceFromHome": 3,
         "Education": 4,
         "EducationField": "Life Sciences",
         "EmployeeCount": 1,
         "EmployeeNumber": 5,
         "EnvironmentSatisfaction": 4,
         "Gender": "Female",
         "HourlyRate": 56,
         "JobInvolvement": 3,
         "JobLevel": 1,
         "JobRole": "Research Scientist",
         "JobSatisfaction": 3,
         "MaritalStatus": "Married",
         "MonthlyIncome": 2909,
         "MonthlyRate": 23159,
         "NumCompaniesWorked": 1,
         "Over18": "Y",
         "OverTime": "Yes",
         "PercentSalaryHike": 11,
         "PerformanceRating": 3,
         "RelationshipSatisfaction": 3,
         "StandardHours": 80,
         "StockOptionLevel": 0,
         "TotalWorkingYears": 8,
         "TrainingTimesLastYear": 3,
         "WorkLifeBalance": 3,
         "YearsAtCompany": 8,
         "YearsInCurrentRole": 7,
         "YearsSinceLastPromotion": 3,
         "YearsWithCurrManager": 0,
         "_deepnote_index_column": 3
        },
        {
         "Age": 27,
         "Attrition": "No",
         "BusinessTravel": "Travel_Rarely",
         "DailyRate": 591,
         "Department": "Research & Development",
         "DistanceFromHome": 2,
         "Education": 1,
         "EducationField": "Medical",
         "EmployeeCount": 1,
         "EmployeeNumber": 7,
         "EnvironmentSatisfaction": 1,
         "Gender": "Male",
         "HourlyRate": 40,
         "JobInvolvement": 3,
         "JobLevel": 1,
         "JobRole": "Laboratory Technician",
         "JobSatisfaction": 2,
         "MaritalStatus": "Married",
         "MonthlyIncome": 3468,
         "MonthlyRate": 16632,
         "NumCompaniesWorked": 9,
         "Over18": "Y",
         "OverTime": "No",
         "PercentSalaryHike": 12,
         "PerformanceRating": 3,
         "RelationshipSatisfaction": 4,
         "StandardHours": 80,
         "StockOptionLevel": 1,
         "TotalWorkingYears": 6,
         "TrainingTimesLastYear": 3,
         "WorkLifeBalance": 3,
         "YearsAtCompany": 2,
         "YearsInCurrentRole": 2,
         "YearsSinceLastPromotion": 2,
         "YearsWithCurrManager": 2,
         "_deepnote_index_column": 4
        },
        {
         "Age": 32,
         "Attrition": "No",
         "BusinessTravel": "Travel_Frequently",
         "DailyRate": 1005,
         "Department": "Research & Development",
         "DistanceFromHome": 2,
         "Education": 2,
         "EducationField": "Life Sciences",
         "EmployeeCount": 1,
         "EmployeeNumber": 8,
         "EnvironmentSatisfaction": 4,
         "Gender": "Male",
         "HourlyRate": 79,
         "JobInvolvement": 3,
         "JobLevel": 1,
         "JobRole": "Laboratory Technician",
         "JobSatisfaction": 4,
         "MaritalStatus": "Single",
         "MonthlyIncome": 3068,
         "MonthlyRate": 11864,
         "NumCompaniesWorked": 0,
         "Over18": "Y",
         "OverTime": "No",
         "PercentSalaryHike": 13,
         "PerformanceRating": 3,
         "RelationshipSatisfaction": 3,
         "StandardHours": 80,
         "StockOptionLevel": 0,
         "TotalWorkingYears": 8,
         "TrainingTimesLastYear": 2,
         "WorkLifeBalance": 2,
         "YearsAtCompany": 7,
         "YearsInCurrentRole": 7,
         "YearsSinceLastPromotion": 3,
         "YearsWithCurrManager": 6,
         "_deepnote_index_column": 5
        },
        {
         "Age": 59,
         "Attrition": "No",
         "BusinessTravel": "Travel_Rarely",
         "DailyRate": 1324,
         "Department": "Research & Development",
         "DistanceFromHome": 3,
         "Education": 3,
         "EducationField": "Medical",
         "EmployeeCount": 1,
         "EmployeeNumber": 10,
         "EnvironmentSatisfaction": 3,
         "Gender": "Female",
         "HourlyRate": 81,
         "JobInvolvement": 4,
         "JobLevel": 1,
         "JobRole": "Laboratory Technician",
         "JobSatisfaction": 1,
         "MaritalStatus": "Married",
         "MonthlyIncome": 2670,
         "MonthlyRate": 9964,
         "NumCompaniesWorked": 4,
         "Over18": "Y",
         "OverTime": "Yes",
         "PercentSalaryHike": 20,
         "PerformanceRating": 4,
         "RelationshipSatisfaction": 1,
         "StandardHours": 80,
         "StockOptionLevel": 3,
         "TotalWorkingYears": 12,
         "TrainingTimesLastYear": 3,
         "WorkLifeBalance": 2,
         "YearsAtCompany": 1,
         "YearsInCurrentRole": 0,
         "YearsSinceLastPromotion": 0,
         "YearsWithCurrManager": 0,
         "_deepnote_index_column": 6
        },
        {
         "Age": 30,
         "Attrition": "No",
         "BusinessTravel": "Travel_Rarely",
         "DailyRate": 1358,
         "Department": "Research & Development",
         "DistanceFromHome": 24,
         "Education": 1,
         "EducationField": "Life Sciences",
         "EmployeeCount": 1,
         "EmployeeNumber": 11,
         "EnvironmentSatisfaction": 4,
         "Gender": "Male",
         "HourlyRate": 67,
         "JobInvolvement": 3,
         "JobLevel": 1,
         "JobRole": "Laboratory Technician",
         "JobSatisfaction": 3,
         "MaritalStatus": "Divorced",
         "MonthlyIncome": 2693,
         "MonthlyRate": 13335,
         "NumCompaniesWorked": 1,
         "Over18": "Y",
         "OverTime": "No",
         "PercentSalaryHike": 22,
         "PerformanceRating": 4,
         "RelationshipSatisfaction": 2,
         "StandardHours": 80,
         "StockOptionLevel": 1,
         "TotalWorkingYears": 1,
         "TrainingTimesLastYear": 2,
         "WorkLifeBalance": 3,
         "YearsAtCompany": 1,
         "YearsInCurrentRole": 0,
         "YearsSinceLastPromotion": 0,
         "YearsWithCurrManager": 0,
         "_deepnote_index_column": 7
        },
        {
         "Age": 38,
         "Attrition": "No",
         "BusinessTravel": "Travel_Frequently",
         "DailyRate": 216,
         "Department": "Research & Development",
         "DistanceFromHome": 23,
         "Education": 3,
         "EducationField": "Life Sciences",
         "EmployeeCount": 1,
         "EmployeeNumber": 12,
         "EnvironmentSatisfaction": 4,
         "Gender": "Male",
         "HourlyRate": 44,
         "JobInvolvement": 2,
         "JobLevel": 3,
         "JobRole": "Manufacturing Director",
         "JobSatisfaction": 3,
         "MaritalStatus": "Single",
         "MonthlyIncome": 9526,
         "MonthlyRate": 8787,
         "NumCompaniesWorked": 0,
         "Over18": "Y",
         "OverTime": "No",
         "PercentSalaryHike": 21,
         "PerformanceRating": 4,
         "RelationshipSatisfaction": 2,
         "StandardHours": 80,
         "StockOptionLevel": 0,
         "TotalWorkingYears": 10,
         "TrainingTimesLastYear": 2,
         "WorkLifeBalance": 3,
         "YearsAtCompany": 9,
         "YearsInCurrentRole": 7,
         "YearsSinceLastPromotion": 1,
         "YearsWithCurrManager": 8,
         "_deepnote_index_column": 8
        },
        {
         "Age": 36,
         "Attrition": "No",
         "BusinessTravel": "Travel_Rarely",
         "DailyRate": 1299,
         "Department": "Research & Development",
         "DistanceFromHome": 27,
         "Education": 3,
         "EducationField": "Medical",
         "EmployeeCount": 1,
         "EmployeeNumber": 13,
         "EnvironmentSatisfaction": 3,
         "Gender": "Male",
         "HourlyRate": 94,
         "JobInvolvement": 3,
         "JobLevel": 2,
         "JobRole": "Healthcare Representative",
         "JobSatisfaction": 3,
         "MaritalStatus": "Married",
         "MonthlyIncome": 5237,
         "MonthlyRate": 16577,
         "NumCompaniesWorked": 6,
         "Over18": "Y",
         "OverTime": "No",
         "PercentSalaryHike": 13,
         "PerformanceRating": 3,
         "RelationshipSatisfaction": 2,
         "StandardHours": 80,
         "StockOptionLevel": 2,
         "TotalWorkingYears": 17,
         "TrainingTimesLastYear": 3,
         "WorkLifeBalance": 2,
         "YearsAtCompany": 7,
         "YearsInCurrentRole": 7,
         "YearsSinceLastPromotion": 7,
         "YearsWithCurrManager": 7,
         "_deepnote_index_column": 9
        },
        {
         "Age": 35,
         "Attrition": "No",
         "BusinessTravel": "Travel_Rarely",
         "DailyRate": 809,
         "Department": "Research & Development",
         "DistanceFromHome": 16,
         "Education": 3,
         "EducationField": "Medical",
         "EmployeeCount": 1,
         "EmployeeNumber": 14,
         "EnvironmentSatisfaction": 1,
         "Gender": "Male",
         "HourlyRate": 84,
         "JobInvolvement": 4,
         "JobLevel": 1,
         "JobRole": "Laboratory Technician",
         "JobSatisfaction": 2,
         "MaritalStatus": "Married",
         "MonthlyIncome": 2426,
         "MonthlyRate": 16479,
         "NumCompaniesWorked": 0,
         "Over18": "Y",
         "OverTime": "No",
         "PercentSalaryHike": 13,
         "PerformanceRating": 3,
         "RelationshipSatisfaction": 3,
         "StandardHours": 80,
         "StockOptionLevel": 1,
         "TotalWorkingYears": 6,
         "TrainingTimesLastYear": 5,
         "WorkLifeBalance": 3,
         "YearsAtCompany": 5,
         "YearsInCurrentRole": 4,
         "YearsSinceLastPromotion": 0,
         "YearsWithCurrManager": 3,
         "_deepnote_index_column": 10
        },
        {
         "Age": 29,
         "Attrition": "No",
         "BusinessTravel": "Travel_Rarely",
         "DailyRate": 153,
         "Department": "Research & Development",
         "DistanceFromHome": 15,
         "Education": 2,
         "EducationField": "Life Sciences",
         "EmployeeCount": 1,
         "EmployeeNumber": 15,
         "EnvironmentSatisfaction": 4,
         "Gender": "Female",
         "HourlyRate": 49,
         "JobInvolvement": 2,
         "JobLevel": 2,
         "JobRole": "Laboratory Technician",
         "JobSatisfaction": 3,
         "MaritalStatus": "Single",
         "MonthlyIncome": 4193,
         "MonthlyRate": 12682,
         "NumCompaniesWorked": 0,
         "Over18": "Y",
         "OverTime": "Yes",
         "PercentSalaryHike": 12,
         "PerformanceRating": 3,
         "RelationshipSatisfaction": 4,
         "StandardHours": 80,
         "StockOptionLevel": 0,
         "TotalWorkingYears": 10,
         "TrainingTimesLastYear": 3,
         "WorkLifeBalance": 3,
         "YearsAtCompany": 9,
         "YearsInCurrentRole": 5,
         "YearsSinceLastPromotion": 0,
         "YearsWithCurrManager": 8,
         "_deepnote_index_column": 11
        },
        {
         "Age": 31,
         "Attrition": "No",
         "BusinessTravel": "Travel_Rarely",
         "DailyRate": 670,
         "Department": "Research & Development",
         "DistanceFromHome": 26,
         "Education": 1,
         "EducationField": "Life Sciences",
         "EmployeeCount": 1,
         "EmployeeNumber": 16,
         "EnvironmentSatisfaction": 1,
         "Gender": "Male",
         "HourlyRate": 31,
         "JobInvolvement": 3,
         "JobLevel": 1,
         "JobRole": "Research Scientist",
         "JobSatisfaction": 3,
         "MaritalStatus": "Divorced",
         "MonthlyIncome": 2911,
         "MonthlyRate": 15170,
         "NumCompaniesWorked": 1,
         "Over18": "Y",
         "OverTime": "No",
         "PercentSalaryHike": 17,
         "PerformanceRating": 3,
         "RelationshipSatisfaction": 4,
         "StandardHours": 80,
         "StockOptionLevel": 1,
         "TotalWorkingYears": 5,
         "TrainingTimesLastYear": 1,
         "WorkLifeBalance": 2,
         "YearsAtCompany": 5,
         "YearsInCurrentRole": 2,
         "YearsSinceLastPromotion": 4,
         "YearsWithCurrManager": 3,
         "_deepnote_index_column": 12
        },
        {
         "Age": 34,
         "Attrition": "No",
         "BusinessTravel": "Travel_Rarely",
         "DailyRate": 1346,
         "Department": "Research & Development",
         "DistanceFromHome": 19,
         "Education": 2,
         "EducationField": "Medical",
         "EmployeeCount": 1,
         "EmployeeNumber": 18,
         "EnvironmentSatisfaction": 2,
         "Gender": "Male",
         "HourlyRate": 93,
         "JobInvolvement": 3,
         "JobLevel": 1,
         "JobRole": "Laboratory Technician",
         "JobSatisfaction": 4,
         "MaritalStatus": "Divorced",
         "MonthlyIncome": 2661,
         "MonthlyRate": 8758,
         "NumCompaniesWorked": 0,
         "Over18": "Y",
         "OverTime": "No",
         "PercentSalaryHike": 11,
         "PerformanceRating": 3,
         "RelationshipSatisfaction": 3,
         "StandardHours": 80,
         "StockOptionLevel": 1,
         "TotalWorkingYears": 3,
         "TrainingTimesLastYear": 2,
         "WorkLifeBalance": 3,
         "YearsAtCompany": 2,
         "YearsInCurrentRole": 2,
         "YearsSinceLastPromotion": 1,
         "YearsWithCurrManager": 2,
         "_deepnote_index_column": 13
        }
       ],
       "rows_bottom": [
        {
         "Age": 35,
         "Attrition": "No",
         "BusinessTravel": "Travel_Frequently",
         "DailyRate": 1199,
         "Department": "Research & Development",
         "DistanceFromHome": 18,
         "Education": 4,
         "EducationField": "Life Sciences",
         "EmployeeCount": 1,
         "EmployeeNumber": 2049,
         "EnvironmentSatisfaction": 3,
         "Gender": "Male",
         "HourlyRate": 80,
         "JobInvolvement": 3,
         "JobLevel": 2,
         "JobRole": "Healthcare Representative",
         "JobSatisfaction": 3,
         "MaritalStatus": "Married",
         "MonthlyIncome": 5689,
         "MonthlyRate": 24594,
         "NumCompaniesWorked": 1,
         "Over18": "Y",
         "OverTime": "Yes",
         "PercentSalaryHike": 14,
         "PerformanceRating": 3,
         "RelationshipSatisfaction": 4,
         "StandardHours": 80,
         "StockOptionLevel": 2,
         "TotalWorkingYears": 10,
         "TrainingTimesLastYear": 2,
         "WorkLifeBalance": 4,
         "YearsAtCompany": 10,
         "YearsInCurrentRole": 2,
         "YearsSinceLastPromotion": 0,
         "YearsWithCurrManager": 2,
         "_deepnote_index_column": 1456
        },
        {
         "Age": 40,
         "Attrition": "No",
         "BusinessTravel": "Travel_Rarely",
         "DailyRate": 1194,
         "Department": "Research & Development",
         "DistanceFromHome": 2,
         "Education": 4,
         "EducationField": "Medical",
         "EmployeeCount": 1,
         "EmployeeNumber": 2051,
         "EnvironmentSatisfaction": 3,
         "Gender": "Female",
         "HourlyRate": 98,
         "JobInvolvement": 3,
         "JobLevel": 1,
         "JobRole": "Research Scientist",
         "JobSatisfaction": 3,
         "MaritalStatus": "Married",
         "MonthlyIncome": 2001,
         "MonthlyRate": 12549,
         "NumCompaniesWorked": 2,
         "Over18": "Y",
         "OverTime": "No",
         "PercentSalaryHike": 14,
         "PerformanceRating": 3,
         "RelationshipSatisfaction": 2,
         "StandardHours": 80,
         "StockOptionLevel": 3,
         "TotalWorkingYears": 20,
         "TrainingTimesLastYear": 2,
         "WorkLifeBalance": 3,
         "YearsAtCompany": 5,
         "YearsInCurrentRole": 3,
         "YearsSinceLastPromotion": 0,
         "YearsWithCurrManager": 2,
         "_deepnote_index_column": 1457
        },
        {
         "Age": 35,
         "Attrition": "No",
         "BusinessTravel": "Travel_Rarely",
         "DailyRate": 287,
         "Department": "Research & Development",
         "DistanceFromHome": 1,
         "Education": 4,
         "EducationField": "Life Sciences",
         "EmployeeCount": 1,
         "EmployeeNumber": 2052,
         "EnvironmentSatisfaction": 3,
         "Gender": "Female",
         "HourlyRate": 62,
         "JobInvolvement": 1,
         "JobLevel": 1,
         "JobRole": "Research Scientist",
         "JobSatisfaction": 4,
         "MaritalStatus": "Married",
         "MonthlyIncome": 2977,
         "MonthlyRate": 8952,
         "NumCompaniesWorked": 1,
         "Over18": "Y",
         "OverTime": "No",
         "PercentSalaryHike": 12,
         "PerformanceRating": 3,
         "RelationshipSatisfaction": 4,
         "StandardHours": 80,
         "StockOptionLevel": 1,
         "TotalWorkingYears": 4,
         "TrainingTimesLastYear": 5,
         "WorkLifeBalance": 3,
         "YearsAtCompany": 4,
         "YearsInCurrentRole": 3,
         "YearsSinceLastPromotion": 1,
         "YearsWithCurrManager": 1,
         "_deepnote_index_column": 1458
        },
        {
         "Age": 29,
         "Attrition": "No",
         "BusinessTravel": "Travel_Rarely",
         "DailyRate": 1378,
         "Department": "Research & Development",
         "DistanceFromHome": 13,
         "Education": 2,
         "EducationField": "Other",
         "EmployeeCount": 1,
         "EmployeeNumber": 2053,
         "EnvironmentSatisfaction": 4,
         "Gender": "Male",
         "HourlyRate": 46,
         "JobInvolvement": 2,
         "JobLevel": 2,
         "JobRole": "Laboratory Technician",
         "JobSatisfaction": 2,
         "MaritalStatus": "Married",
         "MonthlyIncome": 4025,
         "MonthlyRate": 23679,
         "NumCompaniesWorked": 4,
         "Over18": "Y",
         "OverTime": "Yes",
         "PercentSalaryHike": 13,
         "PerformanceRating": 3,
         "RelationshipSatisfaction": 1,
         "StandardHours": 80,
         "StockOptionLevel": 1,
         "TotalWorkingYears": 10,
         "TrainingTimesLastYear": 2,
         "WorkLifeBalance": 3,
         "YearsAtCompany": 4,
         "YearsInCurrentRole": 3,
         "YearsSinceLastPromotion": 0,
         "YearsWithCurrManager": 3,
         "_deepnote_index_column": 1459
        },
        {
         "Age": 29,
         "Attrition": "No",
         "BusinessTravel": "Travel_Rarely",
         "DailyRate": 468,
         "Department": "Research & Development",
         "DistanceFromHome": 28,
         "Education": 4,
         "EducationField": "Medical",
         "EmployeeCount": 1,
         "EmployeeNumber": 2054,
         "EnvironmentSatisfaction": 4,
         "Gender": "Female",
         "HourlyRate": 73,
         "JobInvolvement": 2,
         "JobLevel": 1,
         "JobRole": "Research Scientist",
         "JobSatisfaction": 1,
         "MaritalStatus": "Single",
         "MonthlyIncome": 3785,
         "MonthlyRate": 8489,
         "NumCompaniesWorked": 1,
         "Over18": "Y",
         "OverTime": "No",
         "PercentSalaryHike": 14,
         "PerformanceRating": 3,
         "RelationshipSatisfaction": 2,
         "StandardHours": 80,
         "StockOptionLevel": 0,
         "TotalWorkingYears": 5,
         "TrainingTimesLastYear": 3,
         "WorkLifeBalance": 1,
         "YearsAtCompany": 5,
         "YearsInCurrentRole": 4,
         "YearsSinceLastPromotion": 0,
         "YearsWithCurrManager": 4,
         "_deepnote_index_column": 1460
        },
        {
         "Age": 50,
         "Attrition": "Yes",
         "BusinessTravel": "Travel_Rarely",
         "DailyRate": 410,
         "Department": "Sales",
         "DistanceFromHome": 28,
         "Education": 3,
         "EducationField": "Marketing",
         "EmployeeCount": 1,
         "EmployeeNumber": 2055,
         "EnvironmentSatisfaction": 4,
         "Gender": "Male",
         "HourlyRate": 39,
         "JobInvolvement": 2,
         "JobLevel": 3,
         "JobRole": "Sales Executive",
         "JobSatisfaction": 1,
         "MaritalStatus": "Divorced",
         "MonthlyIncome": 10854,
         "MonthlyRate": 16586,
         "NumCompaniesWorked": 4,
         "Over18": "Y",
         "OverTime": "Yes",
         "PercentSalaryHike": 13,
         "PerformanceRating": 3,
         "RelationshipSatisfaction": 2,
         "StandardHours": 80,
         "StockOptionLevel": 1,
         "TotalWorkingYears": 20,
         "TrainingTimesLastYear": 3,
         "WorkLifeBalance": 3,
         "YearsAtCompany": 3,
         "YearsInCurrentRole": 2,
         "YearsSinceLastPromotion": 2,
         "YearsWithCurrManager": 0,
         "_deepnote_index_column": 1461
        },
        {
         "Age": 39,
         "Attrition": "No",
         "BusinessTravel": "Travel_Rarely",
         "DailyRate": 722,
         "Department": "Sales",
         "DistanceFromHome": 24,
         "Education": 1,
         "EducationField": "Marketing",
         "EmployeeCount": 1,
         "EmployeeNumber": 2056,
         "EnvironmentSatisfaction": 2,
         "Gender": "Female",
         "HourlyRate": 60,
         "JobInvolvement": 2,
         "JobLevel": 4,
         "JobRole": "Sales Executive",
         "JobSatisfaction": 4,
         "MaritalStatus": "Married",
         "MonthlyIncome": 12031,
         "MonthlyRate": 8828,
         "NumCompaniesWorked": 0,
         "Over18": "Y",
         "OverTime": "No",
         "PercentSalaryHike": 11,
         "PerformanceRating": 3,
         "RelationshipSatisfaction": 1,
         "StandardHours": 80,
         "StockOptionLevel": 1,
         "TotalWorkingYears": 21,
         "TrainingTimesLastYear": 2,
         "WorkLifeBalance": 2,
         "YearsAtCompany": 20,
         "YearsInCurrentRole": 9,
         "YearsSinceLastPromotion": 9,
         "YearsWithCurrManager": 6,
         "_deepnote_index_column": 1462
        },
        {
         "Age": 31,
         "Attrition": "No",
         "BusinessTravel": "Non-Travel",
         "DailyRate": 325,
         "Department": "Research & Development",
         "DistanceFromHome": 5,
         "Education": 3,
         "EducationField": "Medical",
         "EmployeeCount": 1,
         "EmployeeNumber": 2057,
         "EnvironmentSatisfaction": 2,
         "Gender": "Male",
         "HourlyRate": 74,
         "JobInvolvement": 3,
         "JobLevel": 2,
         "JobRole": "Manufacturing Director",
         "JobSatisfaction": 1,
         "MaritalStatus": "Single",
         "MonthlyIncome": 9936,
         "MonthlyRate": 3787,
         "NumCompaniesWorked": 0,
         "Over18": "Y",
         "OverTime": "No",
         "PercentSalaryHike": 19,
         "PerformanceRating": 3,
         "RelationshipSatisfaction": 2,
         "StandardHours": 80,
         "StockOptionLevel": 0,
         "TotalWorkingYears": 10,
         "TrainingTimesLastYear": 2,
         "WorkLifeBalance": 3,
         "YearsAtCompany": 9,
         "YearsInCurrentRole": 4,
         "YearsSinceLastPromotion": 1,
         "YearsWithCurrManager": 7,
         "_deepnote_index_column": 1463
        },
        {
         "Age": 26,
         "Attrition": "No",
         "BusinessTravel": "Travel_Rarely",
         "DailyRate": 1167,
         "Department": "Sales",
         "DistanceFromHome": 5,
         "Education": 3,
         "EducationField": "Other",
         "EmployeeCount": 1,
         "EmployeeNumber": 2060,
         "EnvironmentSatisfaction": 4,
         "Gender": "Female",
         "HourlyRate": 30,
         "JobInvolvement": 2,
         "JobLevel": 1,
         "JobRole": "Sales Representative",
         "JobSatisfaction": 3,
         "MaritalStatus": "Single",
         "MonthlyIncome": 2966,
         "MonthlyRate": 21378,
         "NumCompaniesWorked": 0,
         "Over18": "Y",
         "OverTime": "No",
         "PercentSalaryHike": 18,
         "PerformanceRating": 3,
         "RelationshipSatisfaction": 4,
         "StandardHours": 80,
         "StockOptionLevel": 0,
         "TotalWorkingYears": 5,
         "TrainingTimesLastYear": 2,
         "WorkLifeBalance": 3,
         "YearsAtCompany": 4,
         "YearsInCurrentRole": 2,
         "YearsSinceLastPromotion": 0,
         "YearsWithCurrManager": 0,
         "_deepnote_index_column": 1464
        },
        {
         "Age": 36,
         "Attrition": "No",
         "BusinessTravel": "Travel_Frequently",
         "DailyRate": 884,
         "Department": "Research & Development",
         "DistanceFromHome": 23,
         "Education": 2,
         "EducationField": "Medical",
         "EmployeeCount": 1,
         "EmployeeNumber": 2061,
         "EnvironmentSatisfaction": 3,
         "Gender": "Male",
         "HourlyRate": 41,
         "JobInvolvement": 4,
         "JobLevel": 2,
         "JobRole": "Laboratory Technician",
         "JobSatisfaction": 4,
         "MaritalStatus": "Married",
         "MonthlyIncome": 2571,
         "MonthlyRate": 12290,
         "NumCompaniesWorked": 4,
         "Over18": "Y",
         "OverTime": "No",
         "PercentSalaryHike": 17,
         "PerformanceRating": 3,
         "RelationshipSatisfaction": 3,
         "StandardHours": 80,
         "StockOptionLevel": 1,
         "TotalWorkingYears": 17,
         "TrainingTimesLastYear": 3,
         "WorkLifeBalance": 3,
         "YearsAtCompany": 5,
         "YearsInCurrentRole": 2,
         "YearsSinceLastPromotion": 0,
         "YearsWithCurrManager": 3,
         "_deepnote_index_column": 1465
        },
        {
         "Age": 39,
         "Attrition": "No",
         "BusinessTravel": "Travel_Rarely",
         "DailyRate": 613,
         "Department": "Research & Development",
         "DistanceFromHome": 6,
         "Education": 1,
         "EducationField": "Medical",
         "EmployeeCount": 1,
         "EmployeeNumber": 2062,
         "EnvironmentSatisfaction": 4,
         "Gender": "Male",
         "HourlyRate": 42,
         "JobInvolvement": 2,
         "JobLevel": 3,
         "JobRole": "Healthcare Representative",
         "JobSatisfaction": 1,
         "MaritalStatus": "Married",
         "MonthlyIncome": 9991,
         "MonthlyRate": 21457,
         "NumCompaniesWorked": 4,
         "Over18": "Y",
         "OverTime": "No",
         "PercentSalaryHike": 15,
         "PerformanceRating": 3,
         "RelationshipSatisfaction": 1,
         "StandardHours": 80,
         "StockOptionLevel": 1,
         "TotalWorkingYears": 9,
         "TrainingTimesLastYear": 5,
         "WorkLifeBalance": 3,
         "YearsAtCompany": 7,
         "YearsInCurrentRole": 7,
         "YearsSinceLastPromotion": 1,
         "YearsWithCurrManager": 7,
         "_deepnote_index_column": 1466
        },
        {
         "Age": 27,
         "Attrition": "No",
         "BusinessTravel": "Travel_Rarely",
         "DailyRate": 155,
         "Department": "Research & Development",
         "DistanceFromHome": 4,
         "Education": 3,
         "EducationField": "Life Sciences",
         "EmployeeCount": 1,
         "EmployeeNumber": 2064,
         "EnvironmentSatisfaction": 2,
         "Gender": "Male",
         "HourlyRate": 87,
         "JobInvolvement": 4,
         "JobLevel": 2,
         "JobRole": "Manufacturing Director",
         "JobSatisfaction": 2,
         "MaritalStatus": "Married",
         "MonthlyIncome": 6142,
         "MonthlyRate": 5174,
         "NumCompaniesWorked": 1,
         "Over18": "Y",
         "OverTime": "Yes",
         "PercentSalaryHike": 20,
         "PerformanceRating": 4,
         "RelationshipSatisfaction": 2,
         "StandardHours": 80,
         "StockOptionLevel": 1,
         "TotalWorkingYears": 6,
         "TrainingTimesLastYear": 0,
         "WorkLifeBalance": 3,
         "YearsAtCompany": 6,
         "YearsInCurrentRole": 2,
         "YearsSinceLastPromotion": 0,
         "YearsWithCurrManager": 3,
         "_deepnote_index_column": 1467
        },
        {
         "Age": 49,
         "Attrition": "No",
         "BusinessTravel": "Travel_Frequently",
         "DailyRate": 1023,
         "Department": "Sales",
         "DistanceFromHome": 2,
         "Education": 3,
         "EducationField": "Medical",
         "EmployeeCount": 1,
         "EmployeeNumber": 2065,
         "EnvironmentSatisfaction": 4,
         "Gender": "Male",
         "HourlyRate": 63,
         "JobInvolvement": 2,
         "JobLevel": 2,
         "JobRole": "Sales Executive",
         "JobSatisfaction": 2,
         "MaritalStatus": "Married",
         "MonthlyIncome": 5390,
         "MonthlyRate": 13243,
         "NumCompaniesWorked": 2,
         "Over18": "Y",
         "OverTime": "No",
         "PercentSalaryHike": 14,
         "PerformanceRating": 3,
         "RelationshipSatisfaction": 4,
         "StandardHours": 80,
         "StockOptionLevel": 0,
         "TotalWorkingYears": 17,
         "TrainingTimesLastYear": 3,
         "WorkLifeBalance": 2,
         "YearsAtCompany": 9,
         "YearsInCurrentRole": 6,
         "YearsSinceLastPromotion": 0,
         "YearsWithCurrManager": 8,
         "_deepnote_index_column": 1468
        },
        {
         "Age": 34,
         "Attrition": "No",
         "BusinessTravel": "Travel_Rarely",
         "DailyRate": 628,
         "Department": "Research & Development",
         "DistanceFromHome": 8,
         "Education": 3,
         "EducationField": "Medical",
         "EmployeeCount": 1,
         "EmployeeNumber": 2068,
         "EnvironmentSatisfaction": 2,
         "Gender": "Male",
         "HourlyRate": 82,
         "JobInvolvement": 4,
         "JobLevel": 2,
         "JobRole": "Laboratory Technician",
         "JobSatisfaction": 3,
         "MaritalStatus": "Married",
         "MonthlyIncome": 4404,
         "MonthlyRate": 10228,
         "NumCompaniesWorked": 2,
         "Over18": "Y",
         "OverTime": "No",
         "PercentSalaryHike": 12,
         "PerformanceRating": 3,
         "RelationshipSatisfaction": 1,
         "StandardHours": 80,
         "StockOptionLevel": 0,
         "TotalWorkingYears": 6,
         "TrainingTimesLastYear": 3,
         "WorkLifeBalance": 4,
         "YearsAtCompany": 4,
         "YearsInCurrentRole": 3,
         "YearsSinceLastPromotion": 1,
         "YearsWithCurrManager": 2,
         "_deepnote_index_column": 1469
        }
       ]
      },
      "text/plain": "      Age Attrition     BusinessTravel  DailyRate              Department  \\\n0      41       Yes      Travel_Rarely       1102                   Sales   \n1      49        No  Travel_Frequently        279  Research & Development   \n2      37       Yes      Travel_Rarely       1373  Research & Development   \n3      33        No  Travel_Frequently       1392  Research & Development   \n4      27        No      Travel_Rarely        591  Research & Development   \n...   ...       ...                ...        ...                     ...   \n1465   36        No  Travel_Frequently        884  Research & Development   \n1466   39        No      Travel_Rarely        613  Research & Development   \n1467   27        No      Travel_Rarely        155  Research & Development   \n1468   49        No  Travel_Frequently       1023                   Sales   \n1469   34        No      Travel_Rarely        628  Research & Development   \n\n      DistanceFromHome  Education EducationField  EmployeeCount  \\\n0                    1          2  Life Sciences              1   \n1                    8          1  Life Sciences              1   \n2                    2          2          Other              1   \n3                    3          4  Life Sciences              1   \n4                    2          1        Medical              1   \n...                ...        ...            ...            ...   \n1465                23          2        Medical              1   \n1466                 6          1        Medical              1   \n1467                 4          3  Life Sciences              1   \n1468                 2          3        Medical              1   \n1469                 8          3        Medical              1   \n\n      EmployeeNumber  ...  RelationshipSatisfaction StandardHours  \\\n0                  1  ...                         1            80   \n1                  2  ...                         4            80   \n2                  4  ...                         2            80   \n3                  5  ...                         3            80   \n4                  7  ...                         4            80   \n...              ...  ...                       ...           ...   \n1465            2061  ...                         3            80   \n1466            2062  ...                         1            80   \n1467            2064  ...                         2            80   \n1468            2065  ...                         4            80   \n1469            2068  ...                         1            80   \n\n      StockOptionLevel  TotalWorkingYears  TrainingTimesLastYear  \\\n0                    0                  8                      0   \n1                    1                 10                      3   \n2                    0                  7                      3   \n3                    0                  8                      3   \n4                    1                  6                      3   \n...                ...                ...                    ...   \n1465                 1                 17                      3   \n1466                 1                  9                      5   \n1467                 1                  6                      0   \n1468                 0                 17                      3   \n1469                 0                  6                      3   \n\n     WorkLifeBalance  YearsAtCompany YearsInCurrentRole  \\\n0                  1               6                  4   \n1                  3              10                  7   \n2                  3               0                  0   \n3                  3               8                  7   \n4                  3               2                  2   \n...              ...             ...                ...   \n1465               3               5                  2   \n1466               3               7                  7   \n1467               3               6                  2   \n1468               2               9                  6   \n1469               4               4                  3   \n\n      YearsSinceLastPromotion  YearsWithCurrManager  \n0                           0                     5  \n1                           1                     7  \n2                           0                     0  \n3                           3                     0  \n4                           2                     2  \n...                       ...                   ...  \n1465                        0                     3  \n1466                        1                     7  \n1467                        0                     3  \n1468                        0                     8  \n1469                        1                     2  \n\n[1470 rows x 35 columns]",
      "text/html": "<div>\n<style scoped>\n    .dataframe tbody tr th:only-of-type {\n        vertical-align: middle;\n    }\n\n    .dataframe tbody tr th {\n        vertical-align: top;\n    }\n\n    .dataframe thead th {\n        text-align: right;\n    }\n</style>\n<table border=\"1\" class=\"dataframe\">\n  <thead>\n    <tr style=\"text-align: right;\">\n      <th></th>\n      <th>Age</th>\n      <th>Attrition</th>\n      <th>BusinessTravel</th>\n      <th>DailyRate</th>\n      <th>Department</th>\n      <th>DistanceFromHome</th>\n      <th>Education</th>\n      <th>EducationField</th>\n      <th>EmployeeCount</th>\n      <th>EmployeeNumber</th>\n      <th>...</th>\n      <th>RelationshipSatisfaction</th>\n      <th>StandardHours</th>\n      <th>StockOptionLevel</th>\n      <th>TotalWorkingYears</th>\n      <th>TrainingTimesLastYear</th>\n      <th>WorkLifeBalance</th>\n      <th>YearsAtCompany</th>\n      <th>YearsInCurrentRole</th>\n      <th>YearsSinceLastPromotion</th>\n      <th>YearsWithCurrManager</th>\n    </tr>\n  </thead>\n  <tbody>\n    <tr>\n      <th>0</th>\n      <td>41</td>\n      <td>Yes</td>\n      <td>Travel_Rarely</td>\n      <td>1102</td>\n      <td>Sales</td>\n      <td>1</td>\n      <td>2</td>\n      <td>Life Sciences</td>\n      <td>1</td>\n      <td>1</td>\n      <td>...</td>\n      <td>1</td>\n      <td>80</td>\n      <td>0</td>\n      <td>8</td>\n      <td>0</td>\n      <td>1</td>\n      <td>6</td>\n      <td>4</td>\n      <td>0</td>\n      <td>5</td>\n    </tr>\n    <tr>\n      <th>1</th>\n      <td>49</td>\n      <td>No</td>\n      <td>Travel_Frequently</td>\n      <td>279</td>\n      <td>Research &amp; Development</td>\n      <td>8</td>\n      <td>1</td>\n      <td>Life Sciences</td>\n      <td>1</td>\n      <td>2</td>\n      <td>...</td>\n      <td>4</td>\n      <td>80</td>\n      <td>1</td>\n      <td>10</td>\n      <td>3</td>\n      <td>3</td>\n      <td>10</td>\n      <td>7</td>\n      <td>1</td>\n      <td>7</td>\n    </tr>\n    <tr>\n      <th>2</th>\n      <td>37</td>\n      <td>Yes</td>\n      <td>Travel_Rarely</td>\n      <td>1373</td>\n      <td>Research &amp; Development</td>\n      <td>2</td>\n      <td>2</td>\n      <td>Other</td>\n      <td>1</td>\n      <td>4</td>\n      <td>...</td>\n      <td>2</td>\n      <td>80</td>\n      <td>0</td>\n      <td>7</td>\n      <td>3</td>\n      <td>3</td>\n      <td>0</td>\n      <td>0</td>\n      <td>0</td>\n      <td>0</td>\n    </tr>\n    <tr>\n      <th>3</th>\n      <td>33</td>\n      <td>No</td>\n      <td>Travel_Frequently</td>\n      <td>1392</td>\n      <td>Research &amp; Development</td>\n      <td>3</td>\n      <td>4</td>\n      <td>Life Sciences</td>\n      <td>1</td>\n      <td>5</td>\n      <td>...</td>\n      <td>3</td>\n      <td>80</td>\n      <td>0</td>\n      <td>8</td>\n      <td>3</td>\n      <td>3</td>\n      <td>8</td>\n      <td>7</td>\n      <td>3</td>\n      <td>0</td>\n    </tr>\n    <tr>\n      <th>4</th>\n      <td>27</td>\n      <td>No</td>\n      <td>Travel_Rarely</td>\n      <td>591</td>\n      <td>Research &amp; Development</td>\n      <td>2</td>\n      <td>1</td>\n      <td>Medical</td>\n      <td>1</td>\n      <td>7</td>\n      <td>...</td>\n      <td>4</td>\n      <td>80</td>\n      <td>1</td>\n      <td>6</td>\n      <td>3</td>\n      <td>3</td>\n      <td>2</td>\n      <td>2</td>\n      <td>2</td>\n      <td>2</td>\n    </tr>\n    <tr>\n      <th>...</th>\n      <td>...</td>\n      <td>...</td>\n      <td>...</td>\n      <td>...</td>\n      <td>...</td>\n      <td>...</td>\n      <td>...</td>\n      <td>...</td>\n      <td>...</td>\n      <td>...</td>\n      <td>...</td>\n      <td>...</td>\n      <td>...</td>\n      <td>...</td>\n      <td>...</td>\n      <td>...</td>\n      <td>...</td>\n      <td>...</td>\n      <td>...</td>\n      <td>...</td>\n      <td>...</td>\n    </tr>\n    <tr>\n      <th>1465</th>\n      <td>36</td>\n      <td>No</td>\n      <td>Travel_Frequently</td>\n      <td>884</td>\n      <td>Research &amp; Development</td>\n      <td>23</td>\n      <td>2</td>\n      <td>Medical</td>\n      <td>1</td>\n      <td>2061</td>\n      <td>...</td>\n      <td>3</td>\n      <td>80</td>\n      <td>1</td>\n      <td>17</td>\n      <td>3</td>\n      <td>3</td>\n      <td>5</td>\n      <td>2</td>\n      <td>0</td>\n      <td>3</td>\n    </tr>\n    <tr>\n      <th>1466</th>\n      <td>39</td>\n      <td>No</td>\n      <td>Travel_Rarely</td>\n      <td>613</td>\n      <td>Research &amp; Development</td>\n      <td>6</td>\n      <td>1</td>\n      <td>Medical</td>\n      <td>1</td>\n      <td>2062</td>\n      <td>...</td>\n      <td>1</td>\n      <td>80</td>\n      <td>1</td>\n      <td>9</td>\n      <td>5</td>\n      <td>3</td>\n      <td>7</td>\n      <td>7</td>\n      <td>1</td>\n      <td>7</td>\n    </tr>\n    <tr>\n      <th>1467</th>\n      <td>27</td>\n      <td>No</td>\n      <td>Travel_Rarely</td>\n      <td>155</td>\n      <td>Research &amp; Development</td>\n      <td>4</td>\n      <td>3</td>\n      <td>Life Sciences</td>\n      <td>1</td>\n      <td>2064</td>\n      <td>...</td>\n      <td>2</td>\n      <td>80</td>\n      <td>1</td>\n      <td>6</td>\n      <td>0</td>\n      <td>3</td>\n      <td>6</td>\n      <td>2</td>\n      <td>0</td>\n      <td>3</td>\n    </tr>\n    <tr>\n      <th>1468</th>\n      <td>49</td>\n      <td>No</td>\n      <td>Travel_Frequently</td>\n      <td>1023</td>\n      <td>Sales</td>\n      <td>2</td>\n      <td>3</td>\n      <td>Medical</td>\n      <td>1</td>\n      <td>2065</td>\n      <td>...</td>\n      <td>4</td>\n      <td>80</td>\n      <td>0</td>\n      <td>17</td>\n      <td>3</td>\n      <td>2</td>\n      <td>9</td>\n      <td>6</td>\n      <td>0</td>\n      <td>8</td>\n    </tr>\n    <tr>\n      <th>1469</th>\n      <td>34</td>\n      <td>No</td>\n      <td>Travel_Rarely</td>\n      <td>628</td>\n      <td>Research &amp; Development</td>\n      <td>8</td>\n      <td>3</td>\n      <td>Medical</td>\n      <td>1</td>\n      <td>2068</td>\n      <td>...</td>\n      <td>1</td>\n      <td>80</td>\n      <td>0</td>\n      <td>6</td>\n      <td>3</td>\n      <td>4</td>\n      <td>4</td>\n      <td>3</td>\n      <td>1</td>\n      <td>2</td>\n    </tr>\n  </tbody>\n</table>\n<p>1470 rows × 35 columns</p>\n</div>"
     },
     "metadata": {}
    }
   ]
  },
  {
   "cell_type": "markdown",
   "source": "### How many record in this dataset?\n\n### How many columns and what are they?",
   "metadata": {
    "cell_id": "00002-cc9f05b6-786c-429b-87f1-f4ee606341d5",
    "deepnote_cell_type": "markdown"
   }
  },
  {
   "cell_type": "code",
   "metadata": {
    "collapsed": true,
    "cell_id": "00003-04d5c0e3-0d72-46f3-aec0-ca50f143f5fb",
    "deepnote_cell_type": "code"
   },
   "source": "",
   "execution_count": null,
   "outputs": []
  },
  {
   "cell_type": "markdown",
   "source": "### Which columns are category type?\n\nPlese be careful that some numeric type column may be categorical",
   "metadata": {
    "cell_id": "00004-da2691cc-60d5-4c5d-96eb-b4ebe73dc7a0",
    "deepnote_cell_type": "markdown"
   }
  },
  {
   "cell_type": "code",
   "metadata": {
    "collapsed": true,
    "cell_id": "00005-307a837d-bcc2-4811-aaf5-9bfe0718c56f",
    "deepnote_cell_type": "code"
   },
   "source": "",
   "execution_count": null,
   "outputs": []
  },
  {
   "cell_type": "markdown",
   "source": "### How many JobRole and what is it?\n\n### How many Department and what is it?\n\n### How many EducationField and what is it?\n",
   "metadata": {
    "cell_id": "00006-70e2b939-44f2-477c-a9af-e6b2c1acbe9a",
    "deepnote_cell_type": "markdown"
   }
  },
  {
   "cell_type": "code",
   "metadata": {
    "collapsed": true,
    "cell_id": "00007-34b937a8-8d69-4b44-aaca-9502f894abc3",
    "deepnote_cell_type": "code"
   },
   "source": "",
   "execution_count": null,
   "outputs": []
  },
  {
   "cell_type": "markdown",
   "source": "### What is the average age of people in this company?",
   "metadata": {
    "cell_id": "00008-93c8d819-c513-4a6b-b8e5-6d8fdf174804",
    "deepnote_cell_type": "markdown"
   }
  },
  {
   "cell_type": "code",
   "metadata": {
    "collapsed": true,
    "cell_id": "00009-7732c303-0668-400f-8e37-75aa997a477c",
    "deepnote_cell_type": "code"
   },
   "source": "",
   "execution_count": null,
   "outputs": []
  },
  {
   "cell_type": "markdown",
   "source": "### How many female in this company?\n\n### How many people have monthly income more than 10000?\n\n### How many people who travel frequently and is single?",
   "metadata": {
    "cell_id": "00010-16ff963e-bf42-457e-bf38-4910d2f7d195",
    "deepnote_cell_type": "markdown"
   }
  },
  {
   "cell_type": "code",
   "metadata": {
    "collapsed": true,
    "cell_id": "00011-cf1118a4-2726-4172-9346-5e899bdb71e7",
    "deepnote_cell_type": "code"
   },
   "source": "",
   "execution_count": null,
   "outputs": []
  },
  {
   "cell_type": "markdown",
   "source": "### What is the average age of people group by maritial status?\n\n### What is the median hourly rate of people group by Business Travel?\n\n### What is the average hourly rate of people group by job role?\n",
   "metadata": {
    "cell_id": "00012-61b52526-3c97-45c8-860c-5d4965e9646b",
    "deepnote_cell_type": "markdown"
   }
  },
  {
   "cell_type": "code",
   "metadata": {
    "collapsed": true,
    "cell_id": "00013-d3997c7a-8474-4d9b-94e2-6ff5340227ab",
    "deepnote_cell_type": "code"
   },
   "source": "\n",
   "execution_count": null,
   "outputs": []
  },
  {
   "cell_type": "markdown",
   "source": "### Which job role has more hourly rate than overall average?",
   "metadata": {
    "cell_id": "00014-083bd47f-83bb-4963-b376-c082f940e5e9",
    "deepnote_cell_type": "markdown"
   }
  },
  {
   "cell_type": "code",
   "metadata": {
    "collapsed": true,
    "cell_id": "00015-e973df5c-c3d6-4c09-80d7-4d5da0e813ee",
    "deepnote_cell_type": "code"
   },
   "source": "",
   "execution_count": null,
   "outputs": []
  },
  {
   "cell_type": "code",
   "metadata": {
    "collapsed": true,
    "cell_id": "00016-3469545b-2e64-4c96-8ced-c6515aac9fec",
    "deepnote_cell_type": "code"
   },
   "source": "",
   "execution_count": null,
   "outputs": []
  },
  {
   "cell_type": "markdown",
   "source": "<a style='text-decoration:none;line-height:16px;display:flex;color:#5B5B62;padding:10px;justify-content:end;' href='https://deepnote.com?utm_source=created-in-deepnote-cell&projectId=f820e82e-2881-4678-9c4d-8fe7d1290c83' target=\"_blank\">\n<img alt='Created in deepnote.com' style='display:inline;max-height:16px;margin:0px;margin-right:7.5px;' src='data:image/svg+xml;base64,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' > </img>\nCreated in <span style='font-weight:600;margin-left:4px;'>Deepnote</span></a>",
   "metadata": {
    "tags": [],
    "created_in_deepnote_cell": true,
    "deepnote_cell_type": "markdown"
   }
  }
 ],
 "nbformat": 4,
 "nbformat_minor": 1,
 "metadata": {
  "anaconda-cloud": {},
  "kernelspec": {
   "display_name": "Python 3",
   "language": "python",
   "name": "python3"
  },
  "language_info": {
   "codemirror_mode": {
    "name": "ipython",
    "version": 3
   },
   "file_extension": ".py",
   "mimetype": "text/x-python",
   "name": "python",
   "nbconvert_exporter": "python",
   "pygments_lexer": "ipython3",
   "version": "3.6.5"
  },
  "deepnote_notebook_id": "9b4f86d9-1e1b-45f7-8221-734b8647cb64",
  "deepnote": {},
  "deepnote_execution_queue": []
 }
}