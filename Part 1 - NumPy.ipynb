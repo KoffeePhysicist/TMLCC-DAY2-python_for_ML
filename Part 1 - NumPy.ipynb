{
 "cells": [
  {
   "cell_type": "markdown",
   "source": "# Essential Scientific Libraries\n\nโดย ดร. อัญชลิสา แต้ตระกูล <br>\nภาควิชาวิศวกรรมคอมพิวเตอร์ คณะวิศวกรรมศาสตร์ มหาวิทยาลัยเทคโนโลยีพระจอมเกล้าธนบุรี <br>\nE-mail: unchalisa.tae@mail.kmutt.ac.th\n\nTA #1: ธนกฤต คล้ายแก้ว (เอ้)<br>\nTA #2: ธนกฤต ผังวิวัฒน์ (พั้นช์)",
   "metadata": {
    "cell_id": "00001-d1eb34ec-be9c-4eb7-bad7-05ec57829ba3",
    "deepnote_cell_type": "markdown"
   }
  },
  {
   "cell_type": "markdown",
   "source": "# Part I: NumPy",
   "metadata": {
    "tags": [],
    "cell_id": "00001-3ace9ad5-7cb9-4bae-bcc2-20371e0053aa",
    "deepnote_cell_type": "markdown"
   }
  },
  {
   "cell_type": "markdown",
   "source": "## NumPy array",
   "metadata": {
    "cell_id": "00002-21911e2c-80f7-49da-af16-9fd3e05cbce5",
    "deepnote_cell_type": "markdown"
   }
  },
  {
   "cell_type": "code",
   "metadata": {
    "cell_id": "00003-1e380f0d-6ffa-4497-adc6-c9731f4ff990",
    "deepnote_to_be_reexecuted": false,
    "source_hash": "f63f5079",
    "execution_start": 1631366467981,
    "execution_millis": 24,
    "output_cleared": true,
    "deepnote_cell_type": "code"
   },
   "source": "import numpy as np\n\ncvalues = [20.1, 20.8, 21.9, 22.5, 22.7, \n           22.3, 21.8, 21.2, 20.9, 20.1]\n\nC = np.array(cvalues)\nprint(C)",
   "execution_count": null,
   "outputs": []
  },
  {
   "cell_type": "markdown",
   "source": "### Vector operation",
   "metadata": {
    "cell_id": "00004-0fef9974-6f29-4595-90b2-76a51327c1c9",
    "deepnote_cell_type": "markdown"
   }
  },
  {
   "cell_type": "code",
   "metadata": {
    "cell_id": "00005-1f522acb-c5f8-44b7-844e-7004eea88131",
    "deepnote_to_be_reexecuted": false,
    "source_hash": "4b0e41fa",
    "execution_start": 1631366475613,
    "execution_millis": 6,
    "output_cleared": true,
    "deepnote_cell_type": "code"
   },
   "source": "print( C*9/5 + 32)",
   "execution_count": null,
   "outputs": []
  },
  {
   "cell_type": "markdown",
   "source": "### Comparison to core Python",
   "metadata": {
    "cell_id": "00006-de9dc827-a736-438c-a827-61b9b938f33e",
    "deepnote_cell_type": "markdown"
   }
  },
  {
   "cell_type": "code",
   "metadata": {
    "cell_id": "00007-7f9ba3b6-ae5f-49b7-bc33-5ef43cd2b934",
    "deepnote_to_be_reexecuted": false,
    "source_hash": "825933e4",
    "execution_start": 1631366494399,
    "execution_millis": 4,
    "output_cleared": true,
    "deepnote_cell_type": "code"
   },
   "source": "fvalues = [ x*9/5 + 32 for x in cvalues]\nprint(fvalues)",
   "execution_count": null,
   "outputs": []
  },
  {
   "cell_type": "markdown",
   "source": "### numpy.ndarray",
   "metadata": {
    "cell_id": "00008-77228c57-4976-4d0d-a61c-35d68d5e7e20",
    "deepnote_cell_type": "markdown"
   }
  },
  {
   "cell_type": "code",
   "metadata": {
    "cell_id": "00009-114ee78e-9052-4e44-be6d-0b858c91d59b",
    "deepnote_to_be_reexecuted": false,
    "source_hash": "f677edb3",
    "execution_start": 1631366503671,
    "execution_millis": 8,
    "output_cleared": true,
    "deepnote_cell_type": "code"
   },
   "source": "type(C)",
   "execution_count": null,
   "outputs": []
  },
  {
   "cell_type": "markdown",
   "source": "### Graphical representation of  the values",
   "metadata": {
    "cell_id": "00010-b84a92dc-c698-46ae-b8ae-ab5571326180",
    "deepnote_cell_type": "markdown"
   }
  },
  {
   "cell_type": "code",
   "metadata": {
    "cell_id": "00011-2711a00b-dee8-433a-b075-b42e94839551",
    "deepnote_to_be_reexecuted": false,
    "source_hash": "612f5c08",
    "execution_start": 1631366511653,
    "execution_millis": 1348,
    "output_cleared": true,
    "deepnote_cell_type": "code"
   },
   "source": "import matplotlib.pyplot as plt\nplt.plot(C)\nplt.show()",
   "execution_count": null,
   "outputs": []
  },
  {
   "cell_type": "markdown",
   "source": "## Creating arrays \n\n### using arange",
   "metadata": {
    "cell_id": "00012-a9a4fdfb-46d5-46a0-931c-2079b2106725",
    "deepnote_cell_type": "markdown"
   }
  },
  {
   "cell_type": "code",
   "metadata": {
    "cell_id": "00013-74f77d98-7924-4260-9add-b2a1e54eebac",
    "deepnote_to_be_reexecuted": false,
    "source_hash": "d7d93553",
    "execution_start": 1631366584563,
    "execution_millis": 5,
    "output_cleared": true,
    "deepnote_cell_type": "code"
   },
   "source": "x = np.arange(10.4)\nprint(x)",
   "execution_count": null,
   "outputs": []
  },
  {
   "cell_type": "code",
   "metadata": {
    "cell_id": "00014-245b063f-1732-40c2-83b2-a09dc0f58a64",
    "deepnote_to_be_reexecuted": false,
    "source_hash": "6e7aaf4d",
    "execution_start": 1631366588960,
    "execution_millis": 6,
    "output_cleared": true,
    "deepnote_cell_type": "code"
   },
   "source": "x = np.arange(0.5, 10.4, 0.8)\nprint(x)",
   "execution_count": null,
   "outputs": []
  },
  {
   "cell_type": "code",
   "metadata": {
    "cell_id": "00015-133d4371-303d-4291-abde-76ea412c13f0",
    "deepnote_to_be_reexecuted": false,
    "source_hash": "512b8cdf",
    "execution_start": 1631366591019,
    "execution_millis": 8,
    "output_cleared": true,
    "deepnote_cell_type": "code"
   },
   "source": "x = np.arange(0.5, 10.4, 0.8, int)\nprint(x)",
   "execution_count": null,
   "outputs": []
  },
  {
   "cell_type": "markdown",
   "source": "### using linspace",
   "metadata": {
    "cell_id": "00016-3538e4b1-30c2-453f-bff9-d9e99e64cd57",
    "deepnote_cell_type": "markdown"
   }
  },
  {
   "cell_type": "code",
   "metadata": {
    "cell_id": "00017-cc56274b-6af7-4d83-bad2-49c51fe86a53",
    "deepnote_to_be_reexecuted": false,
    "source_hash": "4a3daa31",
    "execution_start": 1631366604045,
    "execution_millis": 0,
    "output_cleared": true,
    "deepnote_cell_type": "code"
   },
   "source": "print(np.linspace(1, 10, 7))\nsamples, spacing = np.linspace(1, 10, 20, endpoint=True, retstep=True)\nprint(samples)\nprint(spacing)",
   "execution_count": null,
   "outputs": []
  },
  {
   "cell_type": "markdown",
   "source": "### Creating ones and zeros arrays",
   "metadata": {
    "cell_id": "00018-f0494eb4-7ef6-4987-ba3c-6bfc9adbd63a",
    "deepnote_cell_type": "markdown"
   }
  },
  {
   "cell_type": "code",
   "metadata": {
    "cell_id": "00019-13daa77a-a5c2-49f9-9de2-08bc1d352eb2",
    "deepnote_to_be_reexecuted": false,
    "source_hash": "ac831456",
    "execution_start": 1631366607881,
    "execution_millis": 12,
    "output_cleared": true,
    "deepnote_cell_type": "code"
   },
   "source": "np.ones((3,2))",
   "execution_count": null,
   "outputs": []
  },
  {
   "cell_type": "code",
   "metadata": {
    "cell_id": "00020-99bdc92f-9253-489a-b859-f67ba7f30e94",
    "deepnote_to_be_reexecuted": false,
    "source_hash": "c59eb6de",
    "execution_start": 1631366611303,
    "execution_millis": 11,
    "output_cleared": true,
    "deepnote_cell_type": "code"
   },
   "source": "np.zeros((2,4))",
   "execution_count": null,
   "outputs": []
  },
  {
   "cell_type": "markdown",
   "source": "#### Challenge: Numerical ranges\nCreate a 1-D array of 50 evenly spaced elements between 3. and 10., inclusive.",
   "metadata": {
    "cell_id": "00021-e070a40a-cb85-4760-9f6e-911ae837dfca",
    "deepnote_cell_type": "markdown"
   }
  },
  {
   "cell_type": "code",
   "metadata": {
    "collapsed": true,
    "cell_id": "00022-f50c3c5c-c661-41d7-9fca-0432a4768fac",
    "deepnote_cell_type": "code"
   },
   "source": "# Work on your challenge here",
   "execution_count": null,
   "outputs": []
  },
  {
   "cell_type": "markdown",
   "source": "## N-dimensional Array\n\n### 1-D arrays",
   "metadata": {
    "cell_id": "00023-02c92782-db21-42e7-baed-61e66c0adbd8",
    "deepnote_cell_type": "markdown"
   }
  },
  {
   "cell_type": "code",
   "metadata": {
    "collapsed": true,
    "cell_id": "00024-6bb42a5c-60ea-4a6c-86cd-7a06c913c499",
    "deepnote_to_be_reexecuted": false,
    "source_hash": "81b96fb1",
    "execution_start": 1631366640083,
    "execution_millis": 2,
    "deepnote_cell_type": "code"
   },
   "source": "F = np.array([1,1,2,3,5,8,13,21])\nV = np.array([3.4, 6.9, 99.8, 12.8])",
   "execution_count": null,
   "outputs": []
  },
  {
   "cell_type": "code",
   "metadata": {
    "cell_id": "00025-937c58f1-8da7-44fa-a7f7-0583af118e02",
    "deepnote_to_be_reexecuted": false,
    "source_hash": "67010af7",
    "execution_start": 1631366644051,
    "execution_millis": 0,
    "output_cleared": true,
    "deepnote_cell_type": "code"
   },
   "source": "print(\"F: \", F)\nprint(\"V: \", V)",
   "execution_count": null,
   "outputs": []
  },
  {
   "cell_type": "code",
   "metadata": {
    "cell_id": "00026-59f37509-e8d7-482e-8b32-07c9c8fe1bd0",
    "deepnote_to_be_reexecuted": false,
    "source_hash": "2ece8482",
    "execution_start": 1631366646799,
    "execution_millis": 11,
    "output_cleared": true,
    "deepnote_cell_type": "code"
   },
   "source": "print(\"Type of F: \", F.dtype)\nprint(\"Type of V: \", V.dtype)",
   "execution_count": null,
   "outputs": []
  },
  {
   "cell_type": "code",
   "metadata": {
    "cell_id": "00027-b211175c-1835-4cd6-b3fd-e03f4b6cadf8",
    "deepnote_to_be_reexecuted": false,
    "source_hash": "9742cb10",
    "execution_start": 1631366649265,
    "execution_millis": 12,
    "output_cleared": true,
    "deepnote_cell_type": "code"
   },
   "source": "print(\"Dimension of F: \", np.ndim(F))\nprint(\"Dimension of V: \", np.ndim(V))",
   "execution_count": null,
   "outputs": []
  },
  {
   "cell_type": "markdown",
   "source": "### 2-D and multidimensional arrays",
   "metadata": {
    "cell_id": "00028-eed8e1fa-52c8-47d2-807b-28afe206433b",
    "deepnote_cell_type": "markdown"
   }
  },
  {
   "cell_type": "code",
   "metadata": {
    "cell_id": "00029-68a23dc4-80cf-47df-966c-374c86e4e86f",
    "deepnote_to_be_reexecuted": false,
    "source_hash": "7eb1d6a",
    "execution_start": 1631366657744,
    "execution_millis": 8,
    "output_cleared": true,
    "deepnote_cell_type": "code"
   },
   "source": "A = np.array([[3.4, 8.7, 9.9],\n              [1.1, -7.8, -0.7],\n              [4.1, 12.3, 4.8]])\nprint(A)\nprint(\"Number of Dimensions: \",A.ndim)\nprint(\"Dimensions: \", A.shape)",
   "execution_count": null,
   "outputs": []
  },
  {
   "cell_type": "code",
   "metadata": {
    "cell_id": "00030-6e336233-103e-4348-b442-20561b1784cb",
    "deepnote_to_be_reexecuted": false,
    "source_hash": "ecf33c41",
    "execution_start": 1631366660569,
    "execution_millis": 10,
    "output_cleared": true,
    "deepnote_cell_type": "code"
   },
   "source": "B = np.array([[[111,112],[121,122]],\n              [[211,212],[221,222]],\n              [[311,312],[321,322]]])\nprint(B)\nprint(\"Number of Dimensions: \",B.ndim)\nprint(\"Dimensions: \", B.shape)",
   "execution_count": null,
   "outputs": []
  },
  {
   "cell_type": "markdown",
   "source": "### Shape",
   "metadata": {
    "cell_id": "00031-76cc80ea-1505-40fa-8730-8adaf0360dcf",
    "deepnote_cell_type": "markdown"
   }
  },
  {
   "cell_type": "code",
   "metadata": {
    "cell_id": "00032-c7fa7b22-1ea9-4687-b83a-e6ef7ea6a18f",
    "deepnote_to_be_reexecuted": false,
    "source_hash": "743904fc",
    "execution_start": 1631366669088,
    "execution_millis": 8,
    "output_cleared": true,
    "deepnote_cell_type": "code"
   },
   "source": "x = np.array([[67, 63, 87],\n              [77, 69, 59],\n              [85, 87, 99],\n              [79, 72, 71],\n              [63, 89, 93],\n              [68, 92, 78]])\nprint(x)\nprint(\"Dimension of x:\", np.shape(x))",
   "execution_count": null,
   "outputs": []
  },
  {
   "cell_type": "code",
   "metadata": {
    "cell_id": "00033-cf61f625-5a14-44c9-88da-76ed7b0f68f2",
    "deepnote_to_be_reexecuted": false,
    "source_hash": "2b83c0e0",
    "execution_start": 1631366671928,
    "execution_millis": 8,
    "output_cleared": true,
    "deepnote_cell_type": "code"
   },
   "source": "# Equivalently\nprint(x.shape)",
   "execution_count": null,
   "outputs": []
  },
  {
   "cell_type": "markdown",
   "source": "### Changing shape",
   "metadata": {
    "cell_id": "00034-9c0cbac2-9371-490d-9f62-f1a99241f144",
    "deepnote_cell_type": "markdown"
   }
  },
  {
   "cell_type": "code",
   "metadata": {
    "collapsed": true,
    "cell_id": "00035-529eb305-3957-48dd-be4c-27003f29ec46",
    "deepnote_to_be_reexecuted": false,
    "source_hash": "567294c9",
    "execution_start": 1631366680371,
    "execution_millis": 1,
    "deepnote_cell_type": "code"
   },
   "source": "x.shape = (3,6)",
   "execution_count": null,
   "outputs": []
  },
  {
   "cell_type": "code",
   "metadata": {
    "cell_id": "00036-fbf30cfb-4f6b-4a90-9276-5204be783a5f",
    "deepnote_to_be_reexecuted": false,
    "source_hash": "19618a48",
    "execution_start": 1631366681523,
    "execution_millis": 6,
    "output_cleared": true,
    "deepnote_cell_type": "code"
   },
   "source": "print(x)",
   "execution_count": null,
   "outputs": []
  },
  {
   "cell_type": "markdown",
   "source": "### Indexing",
   "metadata": {
    "cell_id": "00037-17a7f1a6-2a66-4608-a80b-0d69aa9b7a4e",
    "deepnote_cell_type": "markdown"
   }
  },
  {
   "cell_type": "code",
   "metadata": {
    "cell_id": "00038-fd08b232-0182-482e-9572-43258188ab09",
    "deepnote_to_be_reexecuted": false,
    "source_hash": "e6fad9b8",
    "execution_start": 1631366690543,
    "execution_millis": 5,
    "output_cleared": true,
    "deepnote_cell_type": "code"
   },
   "source": "A = np.array([\n    [11,12,13,14,15],\n    [21,22,23,24,25],\n    [31,32,33,34,35],\n    [41,42,43,44,45],\n    [51,52,53,54,55]\n])\nprint(A[:3,2:])",
   "execution_count": null,
   "outputs": []
  },
  {
   "cell_type": "markdown",
   "source": "## Operations on NumPy array\n\n### Numerical operations",
   "metadata": {
    "cell_id": "00039-d2fee9f6-7720-4609-a524-b4a67f616b01",
    "deepnote_cell_type": "markdown"
   }
  },
  {
   "cell_type": "code",
   "metadata": {
    "cell_id": "00040-d1751dfa-aa2e-470b-8ad5-1d591809b5a3",
    "deepnote_to_be_reexecuted": false,
    "source_hash": "7b9e436",
    "execution_start": 1631366882567,
    "execution_millis": 7,
    "output_cleared": true,
    "deepnote_cell_type": "code"
   },
   "source": "lst = [1,2,5,10]\nv = np.array(lst)\nv = v + 2\nprint(v)",
   "execution_count": null,
   "outputs": []
  },
  {
   "cell_type": "code",
   "metadata": {
    "cell_id": "00041-6a586b98-cf51-4fbc-8a0a-ba832b721a7c",
    "deepnote_to_be_reexecuted": false,
    "source_hash": "8c19b0c8",
    "execution_start": 1631366884968,
    "execution_millis": 8,
    "output_cleared": true,
    "deepnote_cell_type": "code"
   },
   "source": "print(v * 2.2)",
   "execution_count": null,
   "outputs": []
  },
  {
   "cell_type": "code",
   "metadata": {
    "cell_id": "00042-af6d300d-d97e-4010-95e4-b5443023359b",
    "deepnote_to_be_reexecuted": false,
    "source_hash": "a5a5e953",
    "execution_start": 1631366885652,
    "execution_millis": 15,
    "output_cleared": true,
    "deepnote_cell_type": "code"
   },
   "source": "print(v - 1.38)",
   "execution_count": null,
   "outputs": []
  },
  {
   "cell_type": "code",
   "metadata": {
    "cell_id": "00043-1087179e-8955-488b-aed2-62406997d0d5",
    "deepnote_to_be_reexecuted": false,
    "source_hash": "b59fb251",
    "execution_start": 1631366886477,
    "execution_millis": 1,
    "output_cleared": true,
    "deepnote_cell_type": "code"
   },
   "source": "print(v ** 2)",
   "execution_count": null,
   "outputs": []
  },
  {
   "cell_type": "markdown",
   "source": "### Arithmetic operations with two arrays",
   "metadata": {
    "cell_id": "00044-2496e06a-325d-4220-b9d2-12860408c912",
    "deepnote_cell_type": "markdown"
   }
  },
  {
   "cell_type": "code",
   "metadata": {
    "cell_id": "00045-d2c6a4d4-f193-4d0c-9703-8772bd350032",
    "deepnote_to_be_reexecuted": false,
    "source_hash": "75ddbf53",
    "execution_start": 1631366893730,
    "execution_millis": 16,
    "output_cleared": true,
    "deepnote_cell_type": "code"
   },
   "source": "A = np.array([[11, 12, 13],\n              [21, 22, 23],\n              [31, 32, 33]])\nB = np.ones((3,3))\nprint(\"Adding to arrays:\")\nprint(A + B)",
   "execution_count": null,
   "outputs": []
  },
  {
   "cell_type": "code",
   "metadata": {
    "cell_id": "00046-a85cb375-3e51-4096-865e-215c247a1fcc",
    "deepnote_to_be_reexecuted": false,
    "source_hash": "556bba83",
    "execution_start": 1631366894803,
    "execution_millis": 4,
    "output_cleared": true,
    "deepnote_cell_type": "code"
   },
   "source": "print(\"\\nMultiplying two arrays:\")\nprint(A * (B + 1))",
   "execution_count": null,
   "outputs": []
  },
  {
   "cell_type": "markdown",
   "source": "### Matrix multiplication",
   "metadata": {
    "cell_id": "00047-f439cfb8-c208-4ea0-996c-7d18445e8786",
    "deepnote_cell_type": "markdown"
   }
  },
  {
   "cell_type": "code",
   "metadata": {
    "cell_id": "00048-e5e1926d-fb34-4a52-bf8b-72646c50c199",
    "deepnote_to_be_reexecuted": false,
    "source_hash": "71f0039b",
    "execution_start": 1631366902796,
    "execution_millis": 6,
    "output_cleared": true,
    "deepnote_cell_type": "code"
   },
   "source": "np.dot(A,B)",
   "execution_count": null,
   "outputs": []
  },
  {
   "cell_type": "markdown",
   "source": "### Dot product",
   "metadata": {
    "cell_id": "00049-0e5fec47-dab1-4a67-9289-52e702eb1bad",
    "deepnote_cell_type": "markdown"
   }
  },
  {
   "cell_type": "code",
   "metadata": {
    "cell_id": "00050-b120c52b-cc64-4494-a4f6-ba4eaea4aba7",
    "deepnote_to_be_reexecuted": false,
    "source_hash": "17df02c4",
    "execution_start": 1631366912354,
    "execution_millis": 7,
    "output_cleared": true,
    "deepnote_cell_type": "code"
   },
   "source": "# For 1-D arrays, dot product is computed as vector dot product\nx = np.array([3, -2])\ny = np.array([-4, 1])\nprint(np.dot(x,y))",
   "execution_count": null,
   "outputs": []
  },
  {
   "cell_type": "code",
   "metadata": {
    "cell_id": "00051-46320a51-8a2d-4bbc-bb87-aa8976bba82b",
    "deepnote_to_be_reexecuted": false,
    "source_hash": "f9d65274",
    "execution_start": 1631366915398,
    "execution_millis": 11,
    "output_cleared": true,
    "deepnote_cell_type": "code"
   },
   "source": "# For 2-D arrays, dot product is computed as matrix multiplication\nA = np.array([[1, 2, 3],\n              [3, 2, 1]])\nB = np.array([[2, 3],\n              [1, -1],\n              [1, 2]])\nprint(np.dot(A,B))",
   "execution_count": null,
   "outputs": []
  },
  {
   "cell_type": "markdown",
   "source": "Dot product is basically a projection/elemination of one dimension out.",
   "metadata": {
    "cell_id": "00052-daf95653-f8db-44f9-b31e-308cf880bd93",
    "deepnote_cell_type": "markdown"
   }
  },
  {
   "cell_type": "markdown",
   "source": "### Comparison operator",
   "metadata": {
    "cell_id": "00053-a8eb3138-c261-4fbc-836f-44d3d52dd99f",
    "deepnote_cell_type": "markdown"
   }
  },
  {
   "cell_type": "code",
   "metadata": {
    "cell_id": "00054-8b68524a-c4f1-498b-87b4-e844a8f6aacc",
    "deepnote_to_be_reexecuted": false,
    "source_hash": "d30342bb",
    "execution_start": 1631366923324,
    "execution_millis": 7,
    "output_cleared": true,
    "deepnote_cell_type": "code"
   },
   "source": "A = np.array([[11, 12, 13],\n              [21, 22, 23],\n              [31, 32, 33]])\nB = np.array([[11, 102, 13],\n              [201, 22, 203],\n              [31, 32, 303]])\nA == B",
   "execution_count": null,
   "outputs": []
  },
  {
   "cell_type": "markdown",
   "source": "### Compare two arrays",
   "metadata": {
    "cell_id": "00055-13679068-91f9-4a70-8730-9a5f566b4ef7",
    "deepnote_cell_type": "markdown"
   }
  },
  {
   "cell_type": "code",
   "metadata": {
    "cell_id": "00056-9b460d63-47fa-4534-8738-15cfc4ec3d8f",
    "deepnote_to_be_reexecuted": false,
    "source_hash": "586495da",
    "execution_start": 1631366930099,
    "execution_millis": 6,
    "output_cleared": true,
    "deepnote_cell_type": "code"
   },
   "source": "print(np.array_equal(A, B))",
   "execution_count": null,
   "outputs": []
  },
  {
   "cell_type": "code",
   "metadata": {
    "cell_id": "00057-927287f8-858b-4c0d-a273-4c66a605df59",
    "deepnote_to_be_reexecuted": false,
    "source_hash": "b2864c1c",
    "execution_start": 1631366931127,
    "execution_millis": 82,
    "output_cleared": true,
    "deepnote_cell_type": "code"
   },
   "source": "print(np.array_equal(A, A))",
   "execution_count": null,
   "outputs": []
  },
  {
   "cell_type": "markdown",
   "source": "### Broadcasting",
   "metadata": {
    "cell_id": "00058-763f761a-bb30-4aaa-8470-4637560b9e29",
    "deepnote_cell_type": "markdown"
   }
  },
  {
   "cell_type": "code",
   "metadata": {
    "cell_id": "00059-50a7b8e7-85af-426a-9f14-895553d4f530",
    "deepnote_to_be_reexecuted": false,
    "source_hash": "44a94a67",
    "execution_start": 1631366938880,
    "execution_millis": 7,
    "output_cleared": true,
    "deepnote_cell_type": "code"
   },
   "source": "B = np.array([1, 2, 3])\nprint(\"Multiplication with broadcasting: \")\nprint(A*B)",
   "execution_count": null,
   "outputs": []
  },
  {
   "cell_type": "code",
   "metadata": {
    "cell_id": "00060-d01966d5-86a2-4a26-95cf-a7797486b65a",
    "deepnote_to_be_reexecuted": false,
    "source_hash": "c9a6a7a4",
    "execution_start": 1631366939913,
    "execution_millis": 46,
    "output_cleared": true,
    "deepnote_cell_type": "code"
   },
   "source": "print(\"... and now addition with broadcasting: \")\nprint(A+B)",
   "execution_count": null,
   "outputs": []
  },
  {
   "cell_type": "markdown",
   "source": "### Concatenating arrays",
   "metadata": {
    "cell_id": "00061-9406a1d8-faf1-4123-9b24-ab5268d002ed",
    "deepnote_cell_type": "markdown"
   }
  },
  {
   "cell_type": "code",
   "metadata": {
    "cell_id": "00062-96fe831f-ff61-44da-b929-827553e9a171",
    "deepnote_to_be_reexecuted": false,
    "source_hash": "8f849c33",
    "execution_start": 1631366948221,
    "execution_millis": 72,
    "output_cleared": true,
    "deepnote_cell_type": "code"
   },
   "source": "x = np.array([11,22])\ny = np.array([18,7,6])\nz = np.array([1,3,5])\nc = np.concatenate((x,y,z))\nprint(c)",
   "execution_count": null,
   "outputs": []
  },
  {
   "cell_type": "markdown",
   "source": "### Vector operations\n\n#### Vector stacking",
   "metadata": {
    "cell_id": "00063-c4adf985-f348-4166-bb70-cb3038fb2a3b",
    "deepnote_cell_type": "markdown"
   }
  },
  {
   "cell_type": "code",
   "metadata": {
    "cell_id": "00064-eef7f151-7998-4eba-a629-8907fbc74595",
    "deepnote_to_be_reexecuted": false,
    "source_hash": "68e951be",
    "execution_start": 1631366958336,
    "execution_millis": 0,
    "output_cleared": true,
    "deepnote_cell_type": "code"
   },
   "source": "A = np.array([3, 4, 5])\nB = np.array([1, 9, 0])\nprint(np.row_stack((A, B)))",
   "execution_count": null,
   "outputs": []
  },
  {
   "cell_type": "code",
   "metadata": {
    "cell_id": "00065-c63b2511-98e8-43d2-858b-e924b16c3906",
    "deepnote_to_be_reexecuted": false,
    "source_hash": "18c14611",
    "execution_start": 1631366959460,
    "execution_millis": 8,
    "output_cleared": true,
    "deepnote_cell_type": "code"
   },
   "source": "print(np.column_stack((A, B)))",
   "execution_count": null,
   "outputs": []
  },
  {
   "cell_type": "code",
   "metadata": {
    "cell_id": "00066-582c4208-2f83-4c9e-9e7d-932db3d4fffe",
    "deepnote_to_be_reexecuted": false,
    "source_hash": "21b75e3c",
    "execution_start": 1631366960416,
    "execution_millis": 12,
    "output_cleared": true,
    "deepnote_cell_type": "code"
   },
   "source": "np.shape(A)",
   "execution_count": null,
   "outputs": []
  },
  {
   "cell_type": "markdown",
   "source": "#### Challenge: Vector stacking\nLet x be an array [1,2,3] and y be [4, 5, 6]. Create [[1, 4], [2, 5], [3, 6]].",
   "metadata": {
    "cell_id": "00067-d1bb686a-1dfc-4e75-a6ae-5293eb07fee2",
    "deepnote_cell_type": "markdown"
   }
  },
  {
   "cell_type": "code",
   "metadata": {
    "collapsed": true,
    "cell_id": "00068-8002d3dc-eb1a-40cb-8ae6-13c445226c6f",
    "deepnote_cell_type": "code"
   },
   "source": "# Work on the challenge here",
   "execution_count": null,
   "outputs": []
  },
  {
   "cell_type": "markdown",
   "source": "#### Vector addition and subtraction",
   "metadata": {
    "cell_id": "00069-6e3e9c83-b693-464d-8947-c0d5c100e833",
    "deepnote_cell_type": "markdown"
   }
  },
  {
   "cell_type": "code",
   "metadata": {
    "cell_id": "00070-d7c73aa9-c9fe-4647-9450-e387d2e5ea2c",
    "deepnote_to_be_reexecuted": false,
    "source_hash": "ba238077",
    "execution_start": 1631366970421,
    "execution_millis": 6,
    "output_cleared": true,
    "deepnote_cell_type": "code"
   },
   "source": "x = np.array([3,2])\ny = np.array([5,1])\nz = x + y\nz",
   "execution_count": null,
   "outputs": []
  },
  {
   "cell_type": "markdown",
   "source": "#### Dot product",
   "metadata": {
    "cell_id": "00071-702994a1-48e2-479b-97bf-bf34d8ca6e87",
    "deepnote_cell_type": "markdown"
   }
  },
  {
   "cell_type": "code",
   "metadata": {
    "cell_id": "00072-1659c358-a50c-4a9c-8fee-231fe55880b0",
    "deepnote_to_be_reexecuted": false,
    "source_hash": "82b4c89",
    "execution_start": 1631366979061,
    "execution_millis": 69,
    "output_cleared": true,
    "deepnote_cell_type": "code"
   },
   "source": "x = np.array([1, 2, 3])\ny = np.array([-7, 8, 9])\nnp.dot(x, y)",
   "execution_count": null,
   "outputs": []
  },
  {
   "cell_type": "markdown",
   "source": "## Working on data files\n\n### Reading and writing ",
   "metadata": {
    "cell_id": "00073-177a7d4a-6479-4bb6-9074-b1188b94d748",
    "deepnote_cell_type": "markdown"
   }
  },
  {
   "cell_type": "code",
   "metadata": {
    "cell_id": "00074-a21d8866-aba3-4cc2-b29f-4d8b688492a9",
    "deepnote_to_be_reexecuted": false,
    "source_hash": "b7215632",
    "execution_start": 1631366985589,
    "execution_millis": 122,
    "deepnote_cell_type": "code"
   },
   "source": "x = np.array([[1,2,3],\n              [4,5,6],\n              [7,8,9]], np.int32)\nnp.savetxt(\"test.txt\",x)",
   "execution_count": null,
   "outputs": []
  },
  {
   "cell_type": "markdown",
   "source": "### Save formatted output",
   "metadata": {
    "cell_id": "00075-e5e73edf-6463-4f9e-bd9a-32885012ec09",
    "deepnote_cell_type": "markdown"
   }
  },
  {
   "cell_type": "code",
   "metadata": {
    "collapsed": true,
    "cell_id": "00076-e8feecef-7233-4b5e-9193-499f37d94ad8",
    "deepnote_to_be_reexecuted": false,
    "source_hash": "9029790e",
    "execution_start": 1631367188420,
    "execution_millis": 6,
    "deepnote_cell_type": "code"
   },
   "source": "np.savetxt(\"test2.txt\",x,fmt=\"%2.3f\",delimiter=\",\")\nnp.savetxt(\"test3.txt\",x,fmt=\"%04d\",delimiter=\" :-) \")",
   "execution_count": null,
   "outputs": []
  },
  {
   "cell_type": "markdown",
   "source": "### Load textfiles with loadtxt",
   "metadata": {
    "cell_id": "00077-f968b64c-d64d-4c13-83e5-a6be78c25ad1",
    "deepnote_cell_type": "markdown"
   }
  },
  {
   "cell_type": "code",
   "metadata": {
    "cell_id": "00078-5d2338b8-c335-4a0f-bbe4-09eeb8da6fcf",
    "deepnote_to_be_reexecuted": false,
    "source_hash": "baffe109",
    "execution_start": 1631367216445,
    "execution_millis": 130,
    "output_cleared": true,
    "deepnote_cell_type": "code"
   },
   "source": "y = np.loadtxt(\"test.txt\")\nprint(y)",
   "execution_count": null,
   "outputs": []
  },
  {
   "cell_type": "code",
   "metadata": {
    "cell_id": "00079-d799c1f9-145c-4a7a-bee2-51d70371708c",
    "deepnote_to_be_reexecuted": false,
    "source_hash": "14c26df0",
    "execution_start": 1631367218002,
    "execution_millis": 13,
    "output_cleared": true,
    "deepnote_cell_type": "code"
   },
   "source": "y = np.loadtxt(\"test2.txt\", delimiter=\",\")\nprint(y)",
   "execution_count": null,
   "outputs": []
  },
  {
   "cell_type": "markdown",
   "source": "<a style='text-decoration:none;line-height:16px;display:flex;color:#5B5B62;padding:10px;justify-content:end;' href='https://deepnote.com?utm_source=created-in-deepnote-cell&projectId=502b580f-b0e4-46dc-b16c-7611c93ee1aa' target=\"_blank\">\n<img alt='Created in deepnote.com' style='display:inline;max-height:16px;margin:0px;margin-right:7.5px;' src='data:image/svg+xml;base64,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' > </img>\nCreated in <span style='font-weight:600;margin-left:4px;'>Deepnote</span></a>",
   "metadata": {
    "tags": [],
    "created_in_deepnote_cell": true,
    "deepnote_cell_type": "markdown"
   }
  }
 ],
 "nbformat": 4,
 "nbformat_minor": 2,
 "metadata": {
  "kernelspec": {
   "display_name": "Python 3",
   "language": "python",
   "name": "python3"
  },
  "language_info": {
   "codemirror_mode": {
    "name": "ipython",
    "version": 3
   },
   "file_extension": ".py",
   "mimetype": "text/x-python",
   "name": "python",
   "nbconvert_exporter": "python",
   "pygments_lexer": "ipython3",
   "version": "3.8.5"
  },
  "deepnote_notebook_id": "1c29a25f-011d-4719-b932-13139f6111e5",
  "deepnote": {},
  "deepnote_execution_queue": []
 }
}