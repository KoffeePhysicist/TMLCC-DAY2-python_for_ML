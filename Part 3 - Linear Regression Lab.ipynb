{
 "cells": [
  {
   "cell_type": "markdown",
   "source": "# Essential Scientific Libraries\n\nโดย ดร. อัญชลิสา แต้ตระกูล <br>\nภาควิชาวิศวกรรมคอมพิวเตอร์ คณะวิศวกรรมศาสตร์ มหาวิทยาลัยเทคโนโลยีพระจอมเกล้าธนบุรี <br>\nE-mail: unchalisa.tae@mail.kmutt.ac.th\n\nTA #1: ธนกฤต คล้ายแก้ว (เอ้)<br>\nTA #2: ธนกฤต ผังวิวัฒน์ (พั้นช์)",
   "metadata": {
    "cell_id": "00000-70063e9f-8438-4ea1-a88f-f348b60c1ff9",
    "deepnote_cell_type": "markdown"
   }
  },
  {
   "cell_type": "markdown",
   "source": "# Part 3: Linear Regression Lab",
   "metadata": {
    "tags": [],
    "cell_id": "00001-38a3953a-f406-4244-ac1e-30138cb36be2",
    "deepnote_cell_type": "markdown"
   }
  },
  {
   "cell_type": "markdown",
   "source": "### Part 1: Load  data\n\nImport \"mtcars.csv\"",
   "metadata": {
    "cell_id": "00001-cdb31613-e1d1-4f41-9935-c434a07f7ab4",
    "deepnote_cell_type": "markdown"
   }
  },
  {
   "cell_type": "code",
   "metadata": {
    "cell_id": "00002-089672da-b1ea-420c-b116-290cef7a621f",
    "deepnote_to_be_reexecuted": false,
    "source_hash": "9da4ef2b",
    "execution_start": 1631945109444,
    "execution_millis": 67,
    "output_cleared": false,
    "deepnote_cell_type": "code"
   },
   "source": "import pandas as pd\nmtcars = pd.read_csv('mtcars.csv', index_col=0)\nmtcars.head()",
   "execution_count": 1,
   "outputs": [
    {
     "output_type": "execute_result",
     "execution_count": 1,
     "data": {
      "application/vnd.deepnote.dataframe.v2+json": {
       "row_count": 5,
       "column_count": 11,
       "columns": [
        {
         "name": "mpg",
         "dtype": "float64",
         "stats": {
          "unique_count": 4,
          "nan_count": 0,
          "min": "18.7",
          "max": "22.8",
          "histogram": [
           {
            "bin_start": 18.7,
            "bin_end": 19.11,
            "count": 1
           },
           {
            "bin_start": 19.11,
            "bin_end": 19.52,
            "count": 0
           },
           {
            "bin_start": 19.52,
            "bin_end": 19.93,
            "count": 0
           },
           {
            "bin_start": 19.93,
            "bin_end": 20.34,
            "count": 0
           },
           {
            "bin_start": 20.34,
            "bin_end": 20.75,
            "count": 0
           },
           {
            "bin_start": 20.75,
            "bin_end": 21.16,
            "count": 2
           },
           {
            "bin_start": 21.16,
            "bin_end": 21.57,
            "count": 1
           },
           {
            "bin_start": 21.57,
            "bin_end": 21.98,
            "count": 0
           },
           {
            "bin_start": 21.98,
            "bin_end": 22.39,
            "count": 0
           },
           {
            "bin_start": 22.39,
            "bin_end": 22.8,
            "count": 1
           }
          ]
         }
        },
        {
         "name": "cyl",
         "dtype": "int64",
         "stats": {
          "unique_count": 3,
          "nan_count": 0,
          "min": "4",
          "max": "8",
          "histogram": [
           {
            "bin_start": 4,
            "bin_end": 4.4,
            "count": 1
           },
           {
            "bin_start": 4.4,
            "bin_end": 4.8,
            "count": 0
           },
           {
            "bin_start": 4.8,
            "bin_end": 5.2,
            "count": 0
           },
           {
            "bin_start": 5.2,
            "bin_end": 5.6,
            "count": 0
           },
           {
            "bin_start": 5.6,
            "bin_end": 6,
            "count": 0
           },
           {
            "bin_start": 6,
            "bin_end": 6.4,
            "count": 3
           },
           {
            "bin_start": 6.4,
            "bin_end": 6.800000000000001,
            "count": 0
           },
           {
            "bin_start": 6.800000000000001,
            "bin_end": 7.2,
            "count": 0
           },
           {
            "bin_start": 7.2,
            "bin_end": 7.6,
            "count": 0
           },
           {
            "bin_start": 7.6,
            "bin_end": 8,
            "count": 1
           }
          ]
         }
        },
        {
         "name": "disp",
         "dtype": "float64",
         "stats": {
          "unique_count": 4,
          "nan_count": 0,
          "min": "108.0",
          "max": "360.0",
          "histogram": [
           {
            "bin_start": 108,
            "bin_end": 133.2,
            "count": 1
           },
           {
            "bin_start": 133.2,
            "bin_end": 158.4,
            "count": 0
           },
           {
            "bin_start": 158.4,
            "bin_end": 183.6,
            "count": 2
           },
           {
            "bin_start": 183.6,
            "bin_end": 208.8,
            "count": 0
           },
           {
            "bin_start": 208.8,
            "bin_end": 234,
            "count": 0
           },
           {
            "bin_start": 234,
            "bin_end": 259.2,
            "count": 1
           },
           {
            "bin_start": 259.2,
            "bin_end": 284.4,
            "count": 0
           },
           {
            "bin_start": 284.4,
            "bin_end": 309.6,
            "count": 0
           },
           {
            "bin_start": 309.6,
            "bin_end": 334.79999999999995,
            "count": 0
           },
           {
            "bin_start": 334.79999999999995,
            "bin_end": 360,
            "count": 1
           }
          ]
         }
        },
        {
         "name": "hp",
         "dtype": "int64",
         "stats": {
          "unique_count": 3,
          "nan_count": 0,
          "min": "93",
          "max": "175",
          "histogram": [
           {
            "bin_start": 93,
            "bin_end": 101.2,
            "count": 1
           },
           {
            "bin_start": 101.2,
            "bin_end": 109.4,
            "count": 0
           },
           {
            "bin_start": 109.4,
            "bin_end": 117.6,
            "count": 3
           },
           {
            "bin_start": 117.6,
            "bin_end": 125.8,
            "count": 0
           },
           {
            "bin_start": 125.8,
            "bin_end": 134,
            "count": 0
           },
           {
            "bin_start": 134,
            "bin_end": 142.2,
            "count": 0
           },
           {
            "bin_start": 142.2,
            "bin_end": 150.39999999999998,
            "count": 0
           },
           {
            "bin_start": 150.39999999999998,
            "bin_end": 158.6,
            "count": 0
           },
           {
            "bin_start": 158.6,
            "bin_end": 166.8,
            "count": 0
           },
           {
            "bin_start": 166.8,
            "bin_end": 175,
            "count": 1
           }
          ]
         }
        },
        {
         "name": "drat",
         "dtype": "float64",
         "stats": {
          "unique_count": 4,
          "nan_count": 0,
          "min": "3.08",
          "max": "3.9",
          "histogram": [
           {
            "bin_start": 3.08,
            "bin_end": 3.162,
            "count": 2
           },
           {
            "bin_start": 3.162,
            "bin_end": 3.244,
            "count": 0
           },
           {
            "bin_start": 3.244,
            "bin_end": 3.326,
            "count": 0
           },
           {
            "bin_start": 3.326,
            "bin_end": 3.408,
            "count": 0
           },
           {
            "bin_start": 3.408,
            "bin_end": 3.49,
            "count": 0
           },
           {
            "bin_start": 3.49,
            "bin_end": 3.572,
            "count": 0
           },
           {
            "bin_start": 3.572,
            "bin_end": 3.654,
            "count": 0
           },
           {
            "bin_start": 3.654,
            "bin_end": 3.7359999999999998,
            "count": 0
           },
           {
            "bin_start": 3.7359999999999998,
            "bin_end": 3.818,
            "count": 0
           },
           {
            "bin_start": 3.818,
            "bin_end": 3.9,
            "count": 3
           }
          ]
         }
        },
        {
         "name": "wt",
         "dtype": "float64",
         "stats": {
          "unique_count": 5,
          "nan_count": 0,
          "min": "2.32",
          "max": "3.44",
          "histogram": [
           {
            "bin_start": 2.32,
            "bin_end": 2.432,
            "count": 1
           },
           {
            "bin_start": 2.432,
            "bin_end": 2.544,
            "count": 0
           },
           {
            "bin_start": 2.544,
            "bin_end": 2.6559999999999997,
            "count": 1
           },
           {
            "bin_start": 2.6559999999999997,
            "bin_end": 2.768,
            "count": 0
           },
           {
            "bin_start": 2.768,
            "bin_end": 2.88,
            "count": 1
           },
           {
            "bin_start": 2.88,
            "bin_end": 2.992,
            "count": 0
           },
           {
            "bin_start": 2.992,
            "bin_end": 3.104,
            "count": 0
           },
           {
            "bin_start": 3.104,
            "bin_end": 3.216,
            "count": 1
           },
           {
            "bin_start": 3.216,
            "bin_end": 3.3280000000000003,
            "count": 0
           },
           {
            "bin_start": 3.3280000000000003,
            "bin_end": 3.44,
            "count": 1
           }
          ]
         }
        },
        {
         "name": "qsec",
         "dtype": "float64",
         "stats": {
          "unique_count": 4,
          "nan_count": 0,
          "min": "16.46",
          "max": "19.44",
          "histogram": [
           {
            "bin_start": 16.46,
            "bin_end": 16.758000000000003,
            "count": 1
           },
           {
            "bin_start": 16.758000000000003,
            "bin_end": 17.056,
            "count": 2
           },
           {
            "bin_start": 17.056,
            "bin_end": 17.354,
            "count": 0
           },
           {
            "bin_start": 17.354,
            "bin_end": 17.652,
            "count": 0
           },
           {
            "bin_start": 17.652,
            "bin_end": 17.950000000000003,
            "count": 0
           },
           {
            "bin_start": 17.950000000000003,
            "bin_end": 18.248,
            "count": 0
           },
           {
            "bin_start": 18.248,
            "bin_end": 18.546,
            "count": 0
           },
           {
            "bin_start": 18.546,
            "bin_end": 18.844,
            "count": 1
           },
           {
            "bin_start": 18.844,
            "bin_end": 19.142000000000003,
            "count": 0
           },
           {
            "bin_start": 19.142000000000003,
            "bin_end": 19.44,
            "count": 1
           }
          ]
         }
        },
        {
         "name": "vs",
         "dtype": "int64",
         "stats": {
          "unique_count": 2,
          "nan_count": 0,
          "min": "0",
          "max": "1",
          "histogram": [
           {
            "bin_start": 0,
            "bin_end": 0.1,
            "count": 3
           },
           {
            "bin_start": 0.1,
            "bin_end": 0.2,
            "count": 0
           },
           {
            "bin_start": 0.2,
            "bin_end": 0.30000000000000004,
            "count": 0
           },
           {
            "bin_start": 0.30000000000000004,
            "bin_end": 0.4,
            "count": 0
           },
           {
            "bin_start": 0.4,
            "bin_end": 0.5,
            "count": 0
           },
           {
            "bin_start": 0.5,
            "bin_end": 0.6000000000000001,
            "count": 0
           },
           {
            "bin_start": 0.6000000000000001,
            "bin_end": 0.7000000000000001,
            "count": 0
           },
           {
            "bin_start": 0.7000000000000001,
            "bin_end": 0.8,
            "count": 0
           },
           {
            "bin_start": 0.8,
            "bin_end": 0.9,
            "count": 0
           },
           {
            "bin_start": 0.9,
            "bin_end": 1,
            "count": 2
           }
          ]
         }
        },
        {
         "name": "am",
         "dtype": "int64",
         "stats": {
          "unique_count": 2,
          "nan_count": 0,
          "min": "0",
          "max": "1",
          "histogram": [
           {
            "bin_start": 0,
            "bin_end": 0.1,
            "count": 2
           },
           {
            "bin_start": 0.1,
            "bin_end": 0.2,
            "count": 0
           },
           {
            "bin_start": 0.2,
            "bin_end": 0.30000000000000004,
            "count": 0
           },
           {
            "bin_start": 0.30000000000000004,
            "bin_end": 0.4,
            "count": 0
           },
           {
            "bin_start": 0.4,
            "bin_end": 0.5,
            "count": 0
           },
           {
            "bin_start": 0.5,
            "bin_end": 0.6000000000000001,
            "count": 0
           },
           {
            "bin_start": 0.6000000000000001,
            "bin_end": 0.7000000000000001,
            "count": 0
           },
           {
            "bin_start": 0.7000000000000001,
            "bin_end": 0.8,
            "count": 0
           },
           {
            "bin_start": 0.8,
            "bin_end": 0.9,
            "count": 0
           },
           {
            "bin_start": 0.9,
            "bin_end": 1,
            "count": 3
           }
          ]
         }
        },
        {
         "name": "gear",
         "dtype": "int64",
         "stats": {
          "unique_count": 2,
          "nan_count": 0,
          "min": "3",
          "max": "4",
          "histogram": [
           {
            "bin_start": 3,
            "bin_end": 3.1,
            "count": 2
           },
           {
            "bin_start": 3.1,
            "bin_end": 3.2,
            "count": 0
           },
           {
            "bin_start": 3.2,
            "bin_end": 3.3,
            "count": 0
           },
           {
            "bin_start": 3.3,
            "bin_end": 3.4,
            "count": 0
           },
           {
            "bin_start": 3.4,
            "bin_end": 3.5,
            "count": 0
           },
           {
            "bin_start": 3.5,
            "bin_end": 3.6,
            "count": 0
           },
           {
            "bin_start": 3.6,
            "bin_end": 3.7,
            "count": 0
           },
           {
            "bin_start": 3.7,
            "bin_end": 3.8,
            "count": 0
           },
           {
            "bin_start": 3.8,
            "bin_end": 3.9,
            "count": 0
           },
           {
            "bin_start": 3.9,
            "bin_end": 4,
            "count": 3
           }
          ]
         }
        },
        {
         "name": "carb",
         "dtype": "int64",
         "stats": {
          "unique_count": 3,
          "nan_count": 0,
          "min": "1",
          "max": "4",
          "histogram": [
           {
            "bin_start": 1,
            "bin_end": 1.3,
            "count": 2
           },
           {
            "bin_start": 1.3,
            "bin_end": 1.6,
            "count": 0
           },
           {
            "bin_start": 1.6,
            "bin_end": 1.9,
            "count": 0
           },
           {
            "bin_start": 1.9,
            "bin_end": 2.2,
            "count": 1
           },
           {
            "bin_start": 2.2,
            "bin_end": 2.5,
            "count": 0
           },
           {
            "bin_start": 2.5,
            "bin_end": 2.8,
            "count": 0
           },
           {
            "bin_start": 2.8,
            "bin_end": 3.1,
            "count": 0
           },
           {
            "bin_start": 3.1,
            "bin_end": 3.4,
            "count": 0
           },
           {
            "bin_start": 3.4,
            "bin_end": 3.6999999999999997,
            "count": 0
           },
           {
            "bin_start": 3.6999999999999997,
            "bin_end": 4,
            "count": 2
           }
          ]
         }
        },
        {
         "name": "_deepnote_index_column",
         "dtype": "object"
        }
       ],
       "rows_top": [
        {
         "mpg": 21,
         "cyl": 6,
         "disp": 160,
         "hp": 110,
         "drat": 3.9,
         "wt": 2.62,
         "qsec": 16.46,
         "vs": 0,
         "am": 1,
         "gear": 4,
         "carb": 4,
         "_deepnote_index_column": "Mazda RX4"
        },
        {
         "mpg": 21,
         "cyl": 6,
         "disp": 160,
         "hp": 110,
         "drat": 3.9,
         "wt": 2.875,
         "qsec": 17.02,
         "vs": 0,
         "am": 1,
         "gear": 4,
         "carb": 4,
         "_deepnote_index_column": "Mazda RX4 Wag"
        },
        {
         "mpg": 22.8,
         "cyl": 4,
         "disp": 108,
         "hp": 93,
         "drat": 3.85,
         "wt": 2.32,
         "qsec": 18.61,
         "vs": 1,
         "am": 1,
         "gear": 4,
         "carb": 1,
         "_deepnote_index_column": "Datsun 710"
        },
        {
         "mpg": 21.4,
         "cyl": 6,
         "disp": 258,
         "hp": 110,
         "drat": 3.08,
         "wt": 3.215,
         "qsec": 19.44,
         "vs": 1,
         "am": 0,
         "gear": 3,
         "carb": 1,
         "_deepnote_index_column": "Hornet 4 Drive"
        },
        {
         "mpg": 18.7,
         "cyl": 8,
         "disp": 360,
         "hp": 175,
         "drat": 3.15,
         "wt": 3.44,
         "qsec": 17.02,
         "vs": 0,
         "am": 0,
         "gear": 3,
         "carb": 2,
         "_deepnote_index_column": "Hornet Sportabout"
        }
       ],
       "rows_bottom": null
      },
      "text/plain": "                    mpg  cyl   disp   hp  drat     wt   qsec  vs  am  gear  \\\nmodel                                                                        \nMazda RX4          21.0    6  160.0  110  3.90  2.620  16.46   0   1     4   \nMazda RX4 Wag      21.0    6  160.0  110  3.90  2.875  17.02   0   1     4   \nDatsun 710         22.8    4  108.0   93  3.85  2.320  18.61   1   1     4   \nHornet 4 Drive     21.4    6  258.0  110  3.08  3.215  19.44   1   0     3   \nHornet Sportabout  18.7    8  360.0  175  3.15  3.440  17.02   0   0     3   \n\n                   carb  \nmodel                    \nMazda RX4             4  \nMazda RX4 Wag         4  \nDatsun 710            1  \nHornet 4 Drive        1  \nHornet Sportabout     2  ",
      "text/html": "<div>\n<style scoped>\n    .dataframe tbody tr th:only-of-type {\n        vertical-align: middle;\n    }\n\n    .dataframe tbody tr th {\n        vertical-align: top;\n    }\n\n    .dataframe thead th {\n        text-align: right;\n    }\n</style>\n<table border=\"1\" class=\"dataframe\">\n  <thead>\n    <tr style=\"text-align: right;\">\n      <th></th>\n      <th>mpg</th>\n      <th>cyl</th>\n      <th>disp</th>\n      <th>hp</th>\n      <th>drat</th>\n      <th>wt</th>\n      <th>qsec</th>\n      <th>vs</th>\n      <th>am</th>\n      <th>gear</th>\n      <th>carb</th>\n    </tr>\n    <tr>\n      <th>model</th>\n      <th></th>\n      <th></th>\n      <th></th>\n      <th></th>\n      <th></th>\n      <th></th>\n      <th></th>\n      <th></th>\n      <th></th>\n      <th></th>\n      <th></th>\n    </tr>\n  </thead>\n  <tbody>\n    <tr>\n      <th>Mazda RX4</th>\n      <td>21.0</td>\n      <td>6</td>\n      <td>160.0</td>\n      <td>110</td>\n      <td>3.90</td>\n      <td>2.620</td>\n      <td>16.46</td>\n      <td>0</td>\n      <td>1</td>\n      <td>4</td>\n      <td>4</td>\n    </tr>\n    <tr>\n      <th>Mazda RX4 Wag</th>\n      <td>21.0</td>\n      <td>6</td>\n      <td>160.0</td>\n      <td>110</td>\n      <td>3.90</td>\n      <td>2.875</td>\n      <td>17.02</td>\n      <td>0</td>\n      <td>1</td>\n      <td>4</td>\n      <td>4</td>\n    </tr>\n    <tr>\n      <th>Datsun 710</th>\n      <td>22.8</td>\n      <td>4</td>\n      <td>108.0</td>\n      <td>93</td>\n      <td>3.85</td>\n      <td>2.320</td>\n      <td>18.61</td>\n      <td>1</td>\n      <td>1</td>\n      <td>4</td>\n      <td>1</td>\n    </tr>\n    <tr>\n      <th>Hornet 4 Drive</th>\n      <td>21.4</td>\n      <td>6</td>\n      <td>258.0</td>\n      <td>110</td>\n      <td>3.08</td>\n      <td>3.215</td>\n      <td>19.44</td>\n      <td>1</td>\n      <td>0</td>\n      <td>3</td>\n      <td>1</td>\n    </tr>\n    <tr>\n      <th>Hornet Sportabout</th>\n      <td>18.7</td>\n      <td>8</td>\n      <td>360.0</td>\n      <td>175</td>\n      <td>3.15</td>\n      <td>3.440</td>\n      <td>17.02</td>\n      <td>0</td>\n      <td>0</td>\n      <td>3</td>\n      <td>2</td>\n    </tr>\n  </tbody>\n</table>\n</div>"
     },
     "metadata": {}
    }
   ]
  },
  {
   "cell_type": "code",
   "metadata": {
    "cell_id": "00003-9a4b510f-e548-46e5-94ee-e89988ed43d1",
    "deepnote_to_be_reexecuted": false,
    "source_hash": "ae909e84",
    "execution_start": 1631945112675,
    "execution_millis": 1,
    "output_cleared": false,
    "deepnote_cell_type": "code"
   },
   "source": "mtcars.info()",
   "execution_count": 2,
   "outputs": [
    {
     "name": "stdout",
     "text": "<class 'pandas.core.frame.DataFrame'>\nIndex: 32 entries, Mazda RX4 to Volvo 142E\nData columns (total 11 columns):\n #   Column  Non-Null Count  Dtype  \n---  ------  --------------  -----  \n 0   mpg     32 non-null     float64\n 1   cyl     32 non-null     int64  \n 2   disp    32 non-null     float64\n 3   hp      32 non-null     int64  \n 4   drat    32 non-null     float64\n 5   wt      32 non-null     float64\n 6   qsec    32 non-null     float64\n 7   vs      32 non-null     int64  \n 8   am      32 non-null     int64  \n 9   gear    32 non-null     int64  \n 10  carb    32 non-null     int64  \ndtypes: float64(5), int64(6)\nmemory usage: 3.0+ KB\n",
     "output_type": "stream"
    }
   ]
  },
  {
   "cell_type": "markdown",
   "source": "### Part 2: Preprocess data",
   "metadata": {
    "cell_id": "00004-eb077eb4-057c-4a6c-8f86-85ea13849620",
    "deepnote_cell_type": "markdown"
   }
  },
  {
   "cell_type": "markdown",
   "source": "#### 2.1 Pairwise correlation",
   "metadata": {
    "cell_id": "00005-a047a39d-aff3-4b42-b08c-64f2f9132cab",
    "deepnote_cell_type": "markdown"
   }
  },
  {
   "cell_type": "code",
   "metadata": {
    "cell_id": "00006-02714a6f-592a-4d0a-89b3-9322804715c4",
    "deepnote_to_be_reexecuted": false,
    "source_hash": "84dc9f47",
    "execution_start": 1631374461391,
    "execution_millis": 53,
    "output_cleared": true,
    "deepnote_cell_type": "code"
   },
   "source": "mtcars.corr()",
   "execution_count": null,
   "outputs": []
  },
  {
   "cell_type": "code",
   "metadata": {
    "cell_id": "00007-8c0c9cc5-a50a-4426-a2d7-b4400eca2da5",
    "deepnote_to_be_reexecuted": false,
    "source_hash": "7378be6e",
    "execution_start": 1631374463063,
    "execution_millis": 680,
    "output_cleared": true,
    "deepnote_cell_type": "code"
   },
   "source": "import matplotlib.pyplot as plt\n\nplt.scatter(mtcars.wt,mtcars.mpg)\nprint(mtcars.wt.corr(mtcars.mpg))",
   "execution_count": null,
   "outputs": []
  },
  {
   "cell_type": "code",
   "source": "_deepnote_run_altair(mtcars, \"\"\"{\"$schema\":\"https://vega.github.io/schema/vega-lite/v4.json\",\"mark\":{\"type\":\"point\",\"tooltip\":{\"content\":\"data\"}},\"height\":220,\"autosize\":{\"type\":\"fit\"},\"data\":{\"name\":\"placeholder\"},\"encoding\":{\"x\":{\"field\":\"mpg\",\"type\":\"quantitative\",\"sort\":null,\"scale\":{\"type\":\"linear\",\"zero\":false}},\"y\":{\"field\":\"wt\",\"type\":\"quantitative\",\"sort\":null,\"scale\":{\"type\":\"linear\",\"zero\":false}},\"color\":{\"field\":\"\",\"type\":\"nominal\",\"sort\":null,\"scale\":{\"type\":\"linear\",\"zero\":false}}}}\"\"\")",
   "metadata": {
    "cell_id": "00007-0042414c-c676-4791-8233-ef0ad18be97a",
    "deepnote_variable_name": "mtcars",
    "deepnote_visualization_spec": {
     "$schema": "https://vega.github.io/schema/vega-lite/v4.json",
     "mark": {
      "type": "point",
      "tooltip": {
       "content": "data"
      }
     },
     "height": 220,
     "autosize": {
      "type": "fit"
     },
     "data": {
      "name": "placeholder"
     },
     "encoding": {
      "x": {
       "field": "mpg",
       "type": "quantitative",
       "sort": null,
       "scale": {
        "type": "linear",
        "zero": false
       }
      },
      "y": {
       "field": "wt",
       "type": "quantitative",
       "sort": null,
       "scale": {
        "type": "linear",
        "zero": false
       }
      },
      "color": {
       "field": "",
       "type": "nominal",
       "sort": null,
       "scale": {
        "type": "linear",
        "zero": false
       }
      }
     }
    },
    "deepnote_to_be_reexecuted": false,
    "source_hash": "880aba7c",
    "execution_start": 1631374526318,
    "execution_millis": 95,
    "deepnote_cell_type": "visualization"
   },
   "execution_count": null,
   "outputs": [
    {
     "output_type": "error",
     "ename": "NameError",
     "evalue": "name 'mtcars' is not defined",
     "traceback": [
      "\u001b[0;31m---------------------------------------------------------------------------\u001b[0m",
      "\u001b[0;31mNameError\u001b[0m                                 Traceback (most recent call last)",
      "\u001b[0;32m/tmp/ipykernel_1073/4184198533.py\u001b[0m in \u001b[0;36m<module>\u001b[0;34m\u001b[0m\n\u001b[0;32m----> 1\u001b[0;31m \u001b[0m_deepnote_run_altair\u001b[0m\u001b[0;34m(\u001b[0m\u001b[0mmtcars\u001b[0m\u001b[0;34m,\u001b[0m \u001b[0;34m\"\"\"{\"$schema\":\"https://vega.github.io/schema/vega-lite/v4.json\",\"mark\":{\"type\":\"point\",\"tooltip\":{\"content\":\"data\"}},\"height\":220,\"autosize\":{\"type\":\"fit\"},\"data\":{\"name\":\"placeholder\"},\"encoding\":{\"x\":{\"field\":\"mpg\",\"type\":\"quantitative\",\"sort\":null,\"scale\":{\"type\":\"linear\",\"zero\":false}},\"y\":{\"field\":\"wt\",\"type\":\"quantitative\",\"sort\":null,\"scale\":{\"type\":\"linear\",\"zero\":false}},\"color\":{\"field\":\"\",\"type\":\"nominal\",\"sort\":null,\"scale\":{\"type\":\"linear\",\"zero\":false}}}}\"\"\"\u001b[0m\u001b[0;34m)\u001b[0m\u001b[0;34m\u001b[0m\u001b[0;34m\u001b[0m\u001b[0m\n\u001b[0m",
      "\u001b[0;31mNameError\u001b[0m: name 'mtcars' is not defined"
     ]
    }
   ]
  },
  {
   "cell_type": "code",
   "metadata": {
    "cell_id": "00008-7cba4e5e-b9d0-4987-90ba-f416ddbc7780",
    "deepnote_cell_type": "code"
   },
   "source": "# correlation between \"hp\" and \"disp\"\n",
   "execution_count": null,
   "outputs": []
  },
  {
   "cell_type": "code",
   "metadata": {
    "cell_id": "00009-ae84bc22-ad8d-4c21-93e1-2100d7a3358b",
    "deepnote_cell_type": "code"
   },
   "source": "# correlation between \"qsec\" and \"drat\"\n",
   "execution_count": null,
   "outputs": []
  },
  {
   "cell_type": "markdown",
   "source": "#### 2.2 Train/Test separation\n\nPerform hold-out method\n- 60% training set\n- 40% testing set",
   "metadata": {
    "cell_id": "00010-d9f7c662-e549-48b1-ab39-8803f8b26d6d",
    "deepnote_cell_type": "markdown"
   }
  },
  {
   "cell_type": "code",
   "metadata": {
    "cell_id": "00011-d01348ed-5bd9-472a-88fd-8203c99cb07f",
    "deepnote_cell_type": "code"
   },
   "source": "# The mtcars dataset is too small. No need the train/test separation.",
   "execution_count": null,
   "outputs": []
  },
  {
   "cell_type": "markdown",
   "source": "##### X/y separation",
   "metadata": {
    "cell_id": "00012-b8d1c7fb-9ab8-4087-a2f9-6d3d4893e7a6",
    "deepnote_cell_type": "markdown"
   }
  },
  {
   "cell_type": "code",
   "metadata": {
    "cell_id": "00013-3441bbaf-335e-498b-8f3e-1b43643d723a",
    "deepnote_to_be_reexecuted": false,
    "source_hash": "c2eb6e5d",
    "execution_start": 1631374467860,
    "execution_millis": 0,
    "deepnote_cell_type": "code"
   },
   "source": "y = mtcars['mpg']\nX = mtcars[['wt']]",
   "execution_count": null,
   "outputs": []
  },
  {
   "cell_type": "markdown",
   "source": "### Part 3: Train linear regression models\n\nUsing scikit-learn",
   "metadata": {
    "cell_id": "00014-0a5ce8f9-ff50-45eb-9a31-abca9f2c59ca",
    "deepnote_cell_type": "markdown"
   }
  },
  {
   "cell_type": "code",
   "metadata": {
    "scrolled": true,
    "cell_id": "00015-b3b7e18f-812e-4094-9c7d-531f5223c6dd",
    "deepnote_to_be_reexecuted": false,
    "source_hash": "2e236609",
    "execution_start": 1631374471000,
    "execution_millis": 202,
    "output_cleared": true,
    "deepnote_cell_type": "code"
   },
   "source": "# wt vs mpg\n\nfrom sklearn import linear_model as lm\n\nmodel = lm.LinearRegression()\nresults = model.fit(X,y)\n\nprint(model.intercept_, model.coef_)",
   "execution_count": null,
   "outputs": []
  },
  {
   "cell_type": "markdown",
   "source": "### Part 4: Model Evaluation",
   "metadata": {
    "cell_id": "00016-9f6f7582-f167-4ab5-a72d-a424ddebb405",
    "deepnote_cell_type": "markdown"
   }
  },
  {
   "cell_type": "code",
   "metadata": {
    "cell_id": "00017-6ff11baf-193e-40c7-89e6-e1d605afd690",
    "deepnote_to_be_reexecuted": false,
    "source_hash": "b24d42a0",
    "execution_start": 1631374474752,
    "execution_millis": 5,
    "deepnote_cell_type": "code"
   },
   "source": "y_pred = model.predict(X)\ny_error = y - y_pred",
   "execution_count": null,
   "outputs": []
  },
  {
   "cell_type": "code",
   "metadata": {
    "cell_id": "00018-86d07e4b-f356-47f7-b1b7-12b3677bc861",
    "deepnote_to_be_reexecuted": false,
    "source_hash": "304a300f",
    "execution_start": 1631374477394,
    "execution_millis": 215,
    "output_cleared": true,
    "deepnote_cell_type": "code"
   },
   "source": "plt.scatter(X,y)\nplt.plot(X,y_pred,color='red')",
   "execution_count": null,
   "outputs": []
  },
  {
   "cell_type": "code",
   "metadata": {
    "cell_id": "00019-2df6b98f-40eb-4ca7-bf79-27c6cfd069df",
    "deepnote_to_be_reexecuted": false,
    "source_hash": "16e7042b",
    "execution_start": 1631374479335,
    "execution_millis": 7,
    "output_cleared": true,
    "deepnote_cell_type": "code"
   },
   "source": "from sklearn.metrics import r2_score\n\nr2_score(y, y_pred)",
   "execution_count": null,
   "outputs": []
  },
  {
   "cell_type": "markdown",
   "source": "### Alternative training method (Part 3 & 4)",
   "metadata": {
    "cell_id": "00020-b720d0ff-58c6-4ec6-bfa7-d93656fd1f39",
    "deepnote_cell_type": "markdown"
   }
  },
  {
   "cell_type": "code",
   "metadata": {
    "cell_id": "00021-a05ce563-55d2-4ab3-a161-ecfdc4a14b5c",
    "deepnote_to_be_reexecuted": false,
    "source_hash": "2889374a",
    "execution_start": 1631374482050,
    "execution_millis": 14,
    "output_cleared": true,
    "deepnote_cell_type": "code"
   },
   "source": "import statsmodels.api as sm\n\nmodel2 = sm.OLS(y,X).fit()\nmodel2.summary()",
   "execution_count": null,
   "outputs": []
  },
  {
   "cell_type": "code",
   "metadata": {
    "cell_id": "00022-23bd1856-6b20-4e35-a486-18ff023f10c9",
    "deepnote_to_be_reexecuted": false,
    "source_hash": "a6e4f880",
    "execution_start": 1631374487124,
    "execution_millis": 20,
    "output_cleared": true,
    "deepnote_cell_type": "code"
   },
   "source": "Xc = sm.add_constant(X)\nmodel3 = sm.OLS(y,Xc).fit()\nmodel3.summary()",
   "execution_count": null,
   "outputs": []
  },
  {
   "cell_type": "markdown",
   "source": "## Simple linear regression lab\n\nTry building models with others parameters",
   "metadata": {
    "cell_id": "00023-eacac687-5c68-4007-92cd-a7e54e353b29",
    "deepnote_cell_type": "markdown"
   }
  },
  {
   "cell_type": "code",
   "metadata": {
    "cell_id": "00024-33b7e7a0-9675-4f37-afcf-1a0497832cad",
    "deepnote_cell_type": "code"
   },
   "source": "",
   "execution_count": null,
   "outputs": []
  },
  {
   "cell_type": "code",
   "metadata": {
    "cell_id": "00025-3bf32e9f-a404-428d-9ffa-9f3a02cfe8aa",
    "deepnote_cell_type": "code"
   },
   "source": "",
   "execution_count": null,
   "outputs": []
  },
  {
   "cell_type": "code",
   "metadata": {
    "cell_id": "00026-466ac532-48fb-48fd-b1df-a2dd75f01332",
    "deepnote_cell_type": "code"
   },
   "source": "",
   "execution_count": null,
   "outputs": []
  },
  {
   "cell_type": "code",
   "metadata": {
    "cell_id": "00027-6afe0acb-4588-4ae3-95f6-dd988dfb6256",
    "deepnote_cell_type": "code"
   },
   "source": "",
   "execution_count": null,
   "outputs": []
  },
  {
   "cell_type": "code",
   "metadata": {
    "cell_id": "00028-d4414a01-4ee3-40b3-8747-052f99a240cc",
    "deepnote_cell_type": "code"
   },
   "source": "",
   "execution_count": null,
   "outputs": []
  },
  {
   "cell_type": "markdown",
   "source": "## Multiple Linear Regression",
   "metadata": {
    "cell_id": "00029-0a2b3bc3-3b8e-4b63-ba99-d9e0a02b9f55",
    "deepnote_cell_type": "markdown"
   }
  },
  {
   "cell_type": "code",
   "metadata": {
    "cell_id": "00030-5606adf7-ba32-45e4-9500-6b026a21b70c",
    "deepnote_to_be_reexecuted": false,
    "source_hash": "76ccab15",
    "execution_start": 1631374491068,
    "execution_millis": 24,
    "output_cleared": true,
    "deepnote_cell_type": "code"
   },
   "source": "# Multiple regression additive model\nX1 = mtcars\nm_model = sm.OLS(y,X1[['wt','hp']]).fit()\nm_model.summary()",
   "execution_count": null,
   "outputs": []
  },
  {
   "cell_type": "code",
   "metadata": {
    "cell_id": "00031-ceedc7be-5642-4d66-8176-4afb4def54e4",
    "deepnote_to_be_reexecuted": false,
    "source_hash": "1b7b9feb",
    "execution_start": 1631374493815,
    "execution_millis": 11,
    "output_cleared": true,
    "deepnote_cell_type": "code"
   },
   "source": "# Adding interaction term\nX1['hp:wt'] = X1['hp']*X1['wt']\nX1.head()",
   "execution_count": null,
   "outputs": []
  },
  {
   "cell_type": "code",
   "metadata": {
    "cell_id": "00032-173d6f17-cca2-4c32-b438-5de1ab96541a",
    "deepnote_to_be_reexecuted": false,
    "source_hash": "9db266cb",
    "execution_start": 1631374495870,
    "execution_millis": 20,
    "output_cleared": true,
    "deepnote_cell_type": "code"
   },
   "source": "m_model2 = sm.OLS(y,X1[['wt','hp','hp:wt']]).fit()\nm_model2.summary()",
   "execution_count": null,
   "outputs": []
  },
  {
   "cell_type": "code",
   "metadata": {
    "cell_id": "00033-c87ac041-70f9-444f-9ceb-4a5969501fbf",
    "deepnote_cell_type": "code"
   },
   "source": "",
   "execution_count": null,
   "outputs": []
  },
  {
   "cell_type": "markdown",
   "source": "<a style='text-decoration:none;line-height:16px;display:flex;color:#5B5B62;padding:10px;justify-content:end;' href='https://deepnote.com?utm_source=created-in-deepnote-cell&projectId=502b580f-b0e4-46dc-b16c-7611c93ee1aa' target=\"_blank\">\n<img alt='Created in deepnote.com' style='display:inline;max-height:16px;margin:0px;margin-right:7.5px;' src='data:image/svg+xml;base64,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' > </img>\nCreated in <span style='font-weight:600;margin-left:4px;'>Deepnote</span></a>",
   "metadata": {
    "tags": [],
    "created_in_deepnote_cell": true,
    "deepnote_cell_type": "markdown"
   }
  }
 ],
 "nbformat": 4,
 "nbformat_minor": 2,
 "metadata": {
  "kernelspec": {
   "display_name": "Python 3",
   "language": "python",
   "name": "python3"
  },
  "language_info": {
   "codemirror_mode": {
    "name": "ipython",
    "version": 3
   },
   "file_extension": ".py",
   "mimetype": "text/x-python",
   "name": "python",
   "nbconvert_exporter": "python",
   "pygments_lexer": "ipython3",
   "version": "3.6.5"
  },
  "deepnote_notebook_id": "ad06d7bf-8582-4f9c-b77a-1896056e2286",
  "deepnote": {},
  "deepnote_execution_queue": []
 }
}